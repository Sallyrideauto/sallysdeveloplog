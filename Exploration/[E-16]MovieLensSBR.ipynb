{
 "cells": [
  {
   "cell_type": "markdown",
   "id": "496f5c36",
   "metadata": {},
   "source": [
    "# Exploration 16. 다음에 볼 영화 예측하기\n",
    "\n",
    "## 프로젝트_Movielens 영화 SBR\n",
    "* ```Movielens 1M Dataset```을 기반으로, ```Session based Recommendation``` 시스템을 제작\n",
    "* 해당 데이터셋에서는 ```UserID```가 ```SessionID``` 역할을 수행\n",
    "* ```Rating``` 정보의 가공 필요\n",
    "  * 직전에 봤던 영화가 마음에 들었는지 여부가 비슷한 영화를 고르는 것과 연관이 있을 수 있음\n",
    "  * ```Rating```이 낮은 데이터를 어떻게 처리할지도 고려 필요\n",
    "* ```Time``` 항목에는 ```UTC time```이 포함되어, 1970년 1월 1일부터 경과된 초 단위 시간이 기재되어 있음\n",
    "\n",
    "## 루브릭 평가 기준\n",
    "|평가문항|평가문항|\n",
    "|:-----|:-----|\n",
    "|1. Movielens 데이터셋을 session based recommendation 관점으로 전처리하는 과정이 체계적으로 진행되었다.|데이터셋의 면밀한 분석을 토대로 세션단위 정의 과정(길이분석, 시간분석)을 합리적으로 수행한 과정이 기술되었다.|\n",
    "|2. RNN 기반의 예측 모델이 정상적으로 구성되어 안정적으로 훈련이 진행되었다.|적절한 epoch만큼의 학습이 진행되는 과정에서 train loss가 안정적으로 감소하고, validation 단계에서의 Recall, MRR이 개선되는 것이 확인된다.|\n",
    "|3. 세션정의, 모델구조, 하이퍼파라미터 등을 변경해서 실험하여 Recall, MRR 등의 변화추이를 관찰하였다.|3가지 이상의 변화를 시도하고 그 실험결과를 체계적으로 분석하였다.|\n",
    "\n",
    "## Session based Recommendation\n",
    "* 유저들이 선택했던 아이템 순서를 고려해 학습한 추천 모델\n",
    "* 모델에 적용될 학습데이터는 각각 유저들이 일정 기간 동안 선택했던 아이템들을 순서대로 제공되어야 하며, 모델은 이러한 순서로 들어오는 데이터들을 받고 학습\n",
    "* 고려해야 할 사항\n",
    "  1. 학습 로그들을 실시간으로 처리하고 지속적으로 모델을 학습시킬 수 있어야 함\n",
    "  2. 지속적으로 학습되는 모델을 이용해서 빠르게 추천 결과들을 서비스에 제공 할 수 있어야 함\n",
    "  3. 각각의 단계에서의 컴퓨팅 자원을 효과적으로 사용하고 관리할 수 있어야 함"
   ]
  },
  {
   "cell_type": "markdown",
   "id": "7280971f",
   "metadata": {},
   "source": [
    "## Step 1. 데이터의 전처리\n",
    "* 데이터셋을 꼼꼼히 살펴보면서 항목별 기본 분석, session length, session time, cleaning 등의 작업을 진행\n",
    "* 특히, 이 데이터셋에서는 Session이 아닌 UserID 단위로 데이터가 생성되어 있으므로, 이를 Session 단위로 어떻게 해석할지에 주의"
   ]
  },
  {
   "cell_type": "code",
   "execution_count": 48,
   "id": "32db904c",
   "metadata": {},
   "outputs": [
    {
     "name": "stdout",
     "output_type": "stream",
     "text": [
      "1.3.3\n",
      "2.6.0\n"
     ]
    }
   ],
   "source": [
    "# Pandas와 Tensorflow의 라이브러리 버전 확인\n",
    "\n",
    "import datetime as dt\n",
    "from pathlib import Path\n",
    "import os\n",
    "\n",
    "import numpy as np\n",
    "import pandas as pd\n",
    "import warnings\n",
    "import pandas\n",
    "import tensorflow\n",
    "import time\n",
    "from datetime import datetime\n",
    "\n",
    "warnings.filterwarnings('ignore')\n",
    "\n",
    "print(pandas.__version__)\n",
    "print(tensorflow.__version__)"
   ]
  },
  {
   "cell_type": "markdown",
   "id": "bfa94e8f",
   "metadata": {},
   "source": [
    "* Cloud Shell을 이용한 실습 디렉토리 구성\n",
    "  1. 데이터 확인<br>\n",
    "     ```$ ls -l ~/data```<br>\n",
    "  2. 프로젝트 폴더 생성<br>\n",
    "     ```$ mkdir -p ~/aiffel/yoochoose```<br>\n",
    "  3. 프로젝트 폴더로 데이터 폴더 링크 연결<br>\n",
    "     ```$ ln -s ~/data/* ~/aiffel/yoochoose/data```<br>"
   ]
  },
  {
   "cell_type": "code",
   "execution_count": 49,
   "id": "5f49689e",
   "metadata": {},
   "outputs": [
    {
     "data": {
      "text/html": [
       "<div>\n",
       "<style scoped>\n",
       "    .dataframe tbody tr th:only-of-type {\n",
       "        vertical-align: middle;\n",
       "    }\n",
       "\n",
       "    .dataframe tbody tr th {\n",
       "        vertical-align: top;\n",
       "    }\n",
       "\n",
       "    .dataframe thead th {\n",
       "        text-align: right;\n",
       "    }\n",
       "</style>\n",
       "<table border=\"1\" class=\"dataframe\">\n",
       "  <thead>\n",
       "    <tr style=\"text-align: right;\">\n",
       "      <th></th>\n",
       "      <th>UserId</th>\n",
       "      <th>ItemId</th>\n",
       "      <th>Rating</th>\n",
       "      <th>Time</th>\n",
       "    </tr>\n",
       "  </thead>\n",
       "  <tbody>\n",
       "    <tr>\n",
       "      <th>31</th>\n",
       "      <td>1</td>\n",
       "      <td>3186</td>\n",
       "      <td>4</td>\n",
       "      <td>978300019</td>\n",
       "    </tr>\n",
       "    <tr>\n",
       "      <th>22</th>\n",
       "      <td>1</td>\n",
       "      <td>1270</td>\n",
       "      <td>5</td>\n",
       "      <td>978300055</td>\n",
       "    </tr>\n",
       "    <tr>\n",
       "      <th>27</th>\n",
       "      <td>1</td>\n",
       "      <td>1721</td>\n",
       "      <td>4</td>\n",
       "      <td>978300055</td>\n",
       "    </tr>\n",
       "    <tr>\n",
       "      <th>37</th>\n",
       "      <td>1</td>\n",
       "      <td>1022</td>\n",
       "      <td>5</td>\n",
       "      <td>978300055</td>\n",
       "    </tr>\n",
       "    <tr>\n",
       "      <th>24</th>\n",
       "      <td>1</td>\n",
       "      <td>2340</td>\n",
       "      <td>3</td>\n",
       "      <td>978300103</td>\n",
       "    </tr>\n",
       "    <tr>\n",
       "      <th>...</th>\n",
       "      <td>...</td>\n",
       "      <td>...</td>\n",
       "      <td>...</td>\n",
       "      <td>...</td>\n",
       "    </tr>\n",
       "    <tr>\n",
       "      <th>1000019</th>\n",
       "      <td>6040</td>\n",
       "      <td>2917</td>\n",
       "      <td>4</td>\n",
       "      <td>997454429</td>\n",
       "    </tr>\n",
       "    <tr>\n",
       "      <th>999988</th>\n",
       "      <td>6040</td>\n",
       "      <td>1921</td>\n",
       "      <td>4</td>\n",
       "      <td>997454464</td>\n",
       "    </tr>\n",
       "    <tr>\n",
       "      <th>1000172</th>\n",
       "      <td>6040</td>\n",
       "      <td>1784</td>\n",
       "      <td>3</td>\n",
       "      <td>997454464</td>\n",
       "    </tr>\n",
       "    <tr>\n",
       "      <th>1000167</th>\n",
       "      <td>6040</td>\n",
       "      <td>161</td>\n",
       "      <td>3</td>\n",
       "      <td>997454486</td>\n",
       "    </tr>\n",
       "    <tr>\n",
       "      <th>1000042</th>\n",
       "      <td>6040</td>\n",
       "      <td>1221</td>\n",
       "      <td>4</td>\n",
       "      <td>998315055</td>\n",
       "    </tr>\n",
       "  </tbody>\n",
       "</table>\n",
       "<p>1000209 rows × 4 columns</p>\n",
       "</div>"
      ],
      "text/plain": [
       "         UserId  ItemId  Rating       Time\n",
       "31            1    3186       4  978300019\n",
       "22            1    1270       5  978300055\n",
       "27            1    1721       4  978300055\n",
       "37            1    1022       5  978300055\n",
       "24            1    2340       3  978300103\n",
       "...         ...     ...     ...        ...\n",
       "1000019    6040    2917       4  997454429\n",
       "999988     6040    1921       4  997454464\n",
       "1000172    6040    1784       3  997454464\n",
       "1000167    6040     161       3  997454486\n",
       "1000042    6040    1221       4  998315055\n",
       "\n",
       "[1000209 rows x 4 columns]"
      ]
     },
     "execution_count": 49,
     "metadata": {},
     "output_type": "execute_result"
    }
   ],
   "source": [
    "data_path = Path(os.getenv('HOME')+'/aiffel/yoochoose/data/') \n",
    "train_path = data_path / 'ratings.dat'\n",
    "\n",
    "def load_data(data_path: Path, nrows=None):\n",
    "    data = pd.read_csv(data_path, sep='::', header=None, usecols=[0, 1, 2, 3], dtype={0: np.int32, 1: np.int32, 2: np.int32}, nrows=nrows)\n",
    "    data.columns = ['UserId', 'ItemId', 'Rating', 'Time']\n",
    "    return data\n",
    "\n",
    "data = load_data(train_path, None)\n",
    "data.sort_values(['UserId', 'Time'], inplace=True)  # data를 id와 시간 순서로 정렬해줍니다.\n",
    "data"
   ]
  },
  {
   "cell_type": "code",
   "execution_count": 50,
   "id": "a6869f15",
   "metadata": {},
   "outputs": [
    {
     "data": {
      "text/plain": [
       "UserId    int32\n",
       "ItemId    int32\n",
       "Rating    int32\n",
       "Time      int64\n",
       "dtype: object"
      ]
     },
     "execution_count": 50,
     "metadata": {},
     "output_type": "execute_result"
    }
   ],
   "source": [
    "# 데이터프레임의 타입 확인\n",
    "data.dtypes"
   ]
  },
  {
   "cell_type": "code",
   "execution_count": 51,
   "id": "3f1a3c95",
   "metadata": {},
   "outputs": [
    {
     "data": {
      "text/html": [
       "<div>\n",
       "<style scoped>\n",
       "    .dataframe tbody tr th:only-of-type {\n",
       "        vertical-align: middle;\n",
       "    }\n",
       "\n",
       "    .dataframe tbody tr th {\n",
       "        vertical-align: top;\n",
       "    }\n",
       "\n",
       "    .dataframe thead th {\n",
       "        text-align: right;\n",
       "    }\n",
       "</style>\n",
       "<table border=\"1\" class=\"dataframe\">\n",
       "  <thead>\n",
       "    <tr style=\"text-align: right;\">\n",
       "      <th></th>\n",
       "      <th>UserId</th>\n",
       "      <th>ItemId</th>\n",
       "      <th>Rating</th>\n",
       "      <th>Time</th>\n",
       "    </tr>\n",
       "  </thead>\n",
       "  <tbody>\n",
       "    <tr>\n",
       "      <th>31</th>\n",
       "      <td>1</td>\n",
       "      <td>3186</td>\n",
       "      <td>4</td>\n",
       "      <td>2000-12-31 22:00:19</td>\n",
       "    </tr>\n",
       "    <tr>\n",
       "      <th>22</th>\n",
       "      <td>1</td>\n",
       "      <td>1270</td>\n",
       "      <td>5</td>\n",
       "      <td>2000-12-31 22:00:55</td>\n",
       "    </tr>\n",
       "    <tr>\n",
       "      <th>27</th>\n",
       "      <td>1</td>\n",
       "      <td>1721</td>\n",
       "      <td>4</td>\n",
       "      <td>2000-12-31 22:00:55</td>\n",
       "    </tr>\n",
       "    <tr>\n",
       "      <th>37</th>\n",
       "      <td>1</td>\n",
       "      <td>1022</td>\n",
       "      <td>5</td>\n",
       "      <td>2000-12-31 22:00:55</td>\n",
       "    </tr>\n",
       "    <tr>\n",
       "      <th>24</th>\n",
       "      <td>1</td>\n",
       "      <td>2340</td>\n",
       "      <td>3</td>\n",
       "      <td>2000-12-31 22:01:43</td>\n",
       "    </tr>\n",
       "    <tr>\n",
       "      <th>...</th>\n",
       "      <td>...</td>\n",
       "      <td>...</td>\n",
       "      <td>...</td>\n",
       "      <td>...</td>\n",
       "    </tr>\n",
       "    <tr>\n",
       "      <th>1000019</th>\n",
       "      <td>6040</td>\n",
       "      <td>2917</td>\n",
       "      <td>4</td>\n",
       "      <td>2001-08-10 14:40:29</td>\n",
       "    </tr>\n",
       "    <tr>\n",
       "      <th>999988</th>\n",
       "      <td>6040</td>\n",
       "      <td>1921</td>\n",
       "      <td>4</td>\n",
       "      <td>2001-08-10 14:41:04</td>\n",
       "    </tr>\n",
       "    <tr>\n",
       "      <th>1000172</th>\n",
       "      <td>6040</td>\n",
       "      <td>1784</td>\n",
       "      <td>3</td>\n",
       "      <td>2001-08-10 14:41:04</td>\n",
       "    </tr>\n",
       "    <tr>\n",
       "      <th>1000167</th>\n",
       "      <td>6040</td>\n",
       "      <td>161</td>\n",
       "      <td>3</td>\n",
       "      <td>2001-08-10 14:41:26</td>\n",
       "    </tr>\n",
       "    <tr>\n",
       "      <th>1000042</th>\n",
       "      <td>6040</td>\n",
       "      <td>1221</td>\n",
       "      <td>4</td>\n",
       "      <td>2001-08-20 13:44:15</td>\n",
       "    </tr>\n",
       "  </tbody>\n",
       "</table>\n",
       "<p>1000209 rows × 4 columns</p>\n",
       "</div>"
      ],
      "text/plain": [
       "         UserId  ItemId  Rating                Time\n",
       "31            1    3186       4 2000-12-31 22:00:19\n",
       "22            1    1270       5 2000-12-31 22:00:55\n",
       "27            1    1721       4 2000-12-31 22:00:55\n",
       "37            1    1022       5 2000-12-31 22:00:55\n",
       "24            1    2340       3 2000-12-31 22:01:43\n",
       "...         ...     ...     ...                 ...\n",
       "1000019    6040    2917       4 2001-08-10 14:40:29\n",
       "999988     6040    1921       4 2001-08-10 14:41:04\n",
       "1000172    6040    1784       3 2001-08-10 14:41:04\n",
       "1000167    6040     161       3 2001-08-10 14:41:26\n",
       "1000042    6040    1221       4 2001-08-20 13:44:15\n",
       "\n",
       "[1000209 rows x 4 columns]"
      ]
     },
     "execution_count": 51,
     "metadata": {},
     "output_type": "execute_result"
    }
   ],
   "source": [
    "# Time 컬럼의 자료형 변환\n",
    "data['Time'] = pd.to_datetime(data['Time'], unit='s')\n",
    "data"
   ]
  },
  {
   "cell_type": "code",
   "execution_count": 52,
   "id": "918a2e63",
   "metadata": {},
   "outputs": [
    {
     "data": {
      "text/plain": [
       "(6040, 3706)"
      ]
     },
     "execution_count": 52,
     "metadata": {},
     "output_type": "execute_result"
    }
   ],
   "source": [
    "# 유저 수(세션 수)와 아이템 수 확인\n",
    "data['UserId'].nunique(), data['ItemId'].nunique()"
   ]
  },
  {
   "cell_type": "code",
   "execution_count": 53,
   "id": "135bdcd5",
   "metadata": {},
   "outputs": [
    {
     "data": {
      "text/plain": [
       "UserId\n",
       "1        53\n",
       "2       129\n",
       "3        51\n",
       "4        21\n",
       "5       198\n",
       "       ... \n",
       "6036    888\n",
       "6037    202\n",
       "6038     20\n",
       "6039    123\n",
       "6040    341\n",
       "Length: 6040, dtype: int64"
      ]
     },
     "execution_count": 53,
     "metadata": {},
     "output_type": "execute_result"
    }
   ],
   "source": [
    "# 각 세션이 대략 몇 개의 클릭 데이터를 가지는지 확인\n",
    "# session_length : UserId를 공유하는 데이터 row의 개수\n",
    "# UserId : 브라우저에서 웹서버로 접속할 때 항상 포함하게 되는 유저 구분자\n",
    "# 로그인하지 않았기 때문에 이 사용자가 누군지는 알 수 없어도, \n",
    "# 최소한 특정 사용자의 행동을 UserId 기준으로 모아서 분류 가능\n",
    "session_length = data.groupby('UserId').size()\n",
    "session_length"
   ]
  },
  {
   "cell_type": "code",
   "execution_count": 54,
   "id": "7fbf65d1",
   "metadata": {},
   "outputs": [
    {
     "data": {
      "text/plain": [
       "(96.0, 165.5975165562914)"
      ]
     },
     "execution_count": 54,
     "metadata": {},
     "output_type": "execute_result"
    }
   ],
   "source": [
    "session_length.median(), session_length.mean()"
   ]
  },
  {
   "cell_type": "markdown",
   "id": "9c0ba37f",
   "metadata": {},
   "source": [
    "각 세션의 길이는 보통 96에서 165 정도이다."
   ]
  },
  {
   "cell_type": "code",
   "execution_count": 55,
   "id": "ea90e630",
   "metadata": {},
   "outputs": [
    {
     "data": {
      "text/plain": [
       "(20, 2314)"
      ]
     },
     "execution_count": 55,
     "metadata": {},
     "output_type": "execute_result"
    }
   ],
   "source": [
    "session_length.min(), session_length.max()"
   ]
  },
  {
   "cell_type": "markdown",
   "id": "c67354e8",
   "metadata": {},
   "source": [
    "최소 세션 길이는 20이며, 최대 세션 길이는 2314이다."
   ]
  },
  {
   "cell_type": "code",
   "execution_count": 56,
   "id": "30238372",
   "metadata": {
    "scrolled": true
   },
   "outputs": [
    {
     "data": {
      "text/plain": [
       "906.659999999998"
      ]
     },
     "execution_count": 56,
     "metadata": {},
     "output_type": "execute_result"
    }
   ],
   "source": [
    "session_length.quantile(0.99)"
   ]
  },
  {
   "cell_type": "markdown",
   "id": "6d0a35c2",
   "metadata": {},
   "source": [
    "99.9% 세션은 길이가 약 906 이하이다."
   ]
  },
  {
   "cell_type": "code",
   "execution_count": 57,
   "id": "35c1d618",
   "metadata": {},
   "outputs": [
    {
     "data": {
      "text/html": [
       "<div>\n",
       "<style scoped>\n",
       "    .dataframe tbody tr th:only-of-type {\n",
       "        vertical-align: middle;\n",
       "    }\n",
       "\n",
       "    .dataframe tbody tr th {\n",
       "        vertical-align: top;\n",
       "    }\n",
       "\n",
       "    .dataframe thead th {\n",
       "        text-align: right;\n",
       "    }\n",
       "</style>\n",
       "<table border=\"1\" class=\"dataframe\">\n",
       "  <thead>\n",
       "    <tr style=\"text-align: right;\">\n",
       "      <th></th>\n",
       "      <th>UserId</th>\n",
       "      <th>ItemId</th>\n",
       "      <th>Rating</th>\n",
       "      <th>Time</th>\n",
       "    </tr>\n",
       "  </thead>\n",
       "  <tbody>\n",
       "    <tr>\n",
       "      <th>696969</th>\n",
       "      <td>4169</td>\n",
       "      <td>1268</td>\n",
       "      <td>5</td>\n",
       "      <td>2000-08-03 20:09:52</td>\n",
       "    </tr>\n",
       "    <tr>\n",
       "      <th>697168</th>\n",
       "      <td>4169</td>\n",
       "      <td>2617</td>\n",
       "      <td>4</td>\n",
       "      <td>2000-08-03 20:09:52</td>\n",
       "    </tr>\n",
       "    <tr>\n",
       "      <th>697185</th>\n",
       "      <td>4169</td>\n",
       "      <td>2628</td>\n",
       "      <td>4</td>\n",
       "      <td>2000-08-03 20:09:52</td>\n",
       "    </tr>\n",
       "    <tr>\n",
       "      <th>697219</th>\n",
       "      <td>4169</td>\n",
       "      <td>2653</td>\n",
       "      <td>4</td>\n",
       "      <td>2000-08-03 20:09:52</td>\n",
       "    </tr>\n",
       "    <tr>\n",
       "      <th>697275</th>\n",
       "      <td>4169</td>\n",
       "      <td>423</td>\n",
       "      <td>3</td>\n",
       "      <td>2000-08-03 20:09:52</td>\n",
       "    </tr>\n",
       "    <tr>\n",
       "      <th>...</th>\n",
       "      <td>...</td>\n",
       "      <td>...</td>\n",
       "      <td>...</td>\n",
       "      <td>...</td>\n",
       "    </tr>\n",
       "    <tr>\n",
       "      <th>697882</th>\n",
       "      <td>4169</td>\n",
       "      <td>3754</td>\n",
       "      <td>2</td>\n",
       "      <td>2002-06-15 20:52:27</td>\n",
       "    </tr>\n",
       "    <tr>\n",
       "      <th>695702</th>\n",
       "      <td>4169</td>\n",
       "      <td>1413</td>\n",
       "      <td>3</td>\n",
       "      <td>2002-06-15 21:03:51</td>\n",
       "    </tr>\n",
       "    <tr>\n",
       "      <th>697358</th>\n",
       "      <td>4169</td>\n",
       "      <td>494</td>\n",
       "      <td>4</td>\n",
       "      <td>2002-06-15 21:16:00</td>\n",
       "    </tr>\n",
       "    <tr>\n",
       "      <th>695945</th>\n",
       "      <td>4169</td>\n",
       "      <td>1804</td>\n",
       "      <td>2</td>\n",
       "      <td>2002-06-15 21:16:23</td>\n",
       "    </tr>\n",
       "    <tr>\n",
       "      <th>696446</th>\n",
       "      <td>4169</td>\n",
       "      <td>1548</td>\n",
       "      <td>3</td>\n",
       "      <td>2002-06-15 21:25:37</td>\n",
       "    </tr>\n",
       "  </tbody>\n",
       "</table>\n",
       "<p>2314 rows × 4 columns</p>\n",
       "</div>"
      ],
      "text/plain": [
       "        UserId  ItemId  Rating                Time\n",
       "696969    4169    1268       5 2000-08-03 20:09:52\n",
       "697168    4169    2617       4 2000-08-03 20:09:52\n",
       "697185    4169    2628       4 2000-08-03 20:09:52\n",
       "697219    4169    2653       4 2000-08-03 20:09:52\n",
       "697275    4169     423       3 2000-08-03 20:09:52\n",
       "...        ...     ...     ...                 ...\n",
       "697882    4169    3754       2 2002-06-15 20:52:27\n",
       "695702    4169    1413       3 2002-06-15 21:03:51\n",
       "697358    4169     494       4 2002-06-15 21:16:00\n",
       "695945    4169    1804       2 2002-06-15 21:16:23\n",
       "696446    4169    1548       3 2002-06-15 21:25:37\n",
       "\n",
       "[2314 rows x 4 columns]"
      ]
     },
     "execution_count": 57,
     "metadata": {},
     "output_type": "execute_result"
    }
   ],
   "source": [
    "# 최대 길이를 가진 UserId의 정보를 확인한다.\n",
    "long_session = session_length[session_length==2314].index[0]\n",
    "data[data['UserId']==long_session]"
   ]
  },
  {
   "cell_type": "markdown",
   "id": "097a828e",
   "metadata": {},
   "source": [
    "2000년 8월 3일부터 2002년 6월 15일까지 2년 여 동안 지속적으로 이용한 것을 확인할 수 있다."
   ]
  },
  {
   "cell_type": "code",
   "execution_count": 58,
   "id": "ce07246a",
   "metadata": {},
   "outputs": [
    {
     "data": {
      "text/plain": [
       "20     0.014238\n",
       "21     0.029305\n",
       "22     0.042053\n",
       "23     0.055464\n",
       "24     0.068874\n",
       "         ...   \n",
       "888    0.989073\n",
       "893    0.989404\n",
       "894    0.989570\n",
       "900    0.989735\n",
       "903    0.989901\n",
       "Length: 684, dtype: float64"
      ]
     },
     "execution_count": 58,
     "metadata": {},
     "output_type": "execute_result"
    }
   ],
   "source": [
    "# 세션 길이 기준 하위 99%까지의 분포 누적합을 시각화\n",
    "length_count = session_length.groupby(session_length).size()\n",
    "length_percent_cumsum = length_count.cumsum() / length_count.sum()\n",
    "length_percent_cumsum_99 = length_percent_cumsum[length_percent_cumsum < 0.99]\n",
    "\n",
    "length_percent_cumsum_99"
   ]
  },
  {
   "cell_type": "code",
   "execution_count": 59,
   "id": "a0bff444",
   "metadata": {},
   "outputs": [
    {
     "data": {
      "text/plain": [
       "(0.01423841059602649, 0.9899006622516556)"
      ]
     },
     "execution_count": 59,
     "metadata": {},
     "output_type": "execute_result"
    }
   ],
   "source": [
    "length_percent_cumsum_99.min(), length_percent_cumsum_99.max()"
   ]
  },
  {
   "cell_type": "code",
   "execution_count": 61,
   "id": "59a4aa32",
   "metadata": {
    "scrolled": true
   },
   "outputs": [
    {
     "data": {
      "image/png": "[encoded data removed]",
      "text/plain": [
       "<Figure size 864x720 with 1 Axes>"
      ]
     },
     "metadata": {
      "needs_background": "light"
     },
     "output_type": "display_data"
    }
   ],
   "source": [
    "import matplotlib.pyplot as plt\n",
    "\n",
    "plt.figure(figsize=(12, 10))\n",
    "plt.bar(x=length_percent_cumsum_99.index,\n",
    "        height=length_percent_cumsum_99, color='red')\n",
    "plt.xticks(length_percent_cumsum_99.index)\n",
    "plt.yticks(np.arange(0, 1.01, 0.05))\n",
    "plt.title('Cumsum Percentage Until 0.99', size=20)\n",
    "plt.show()"
   ]
  },
  {
   "cell_type": "code",
   "execution_count": 62,
   "id": "16c31510",
   "metadata": {
    "scrolled": true
   },
   "outputs": [
    {
     "name": "stdout",
     "output_type": "stream",
     "text": [
      "2000-04-25 23:05:32\n",
      "2003-02-28 17:49:50\n"
     ]
    }
   ],
   "source": [
    "# 데이터의 시간 관련 정보 확인\n",
    "oldest, latest = data['Time'].min(), data['Time'].max()\n",
    "print(oldest) \n",
    "print(latest)"
   ]
  },
  {
   "cell_type": "markdown",
   "id": "b7be6b4c",
   "metadata": {},
   "source": [
    "총 3년치의 데이터가 존재하며, 최근 1년치의 데이터를 사용하려고 한다."
   ]
  },
  {
   "cell_type": "code",
   "execution_count": 63,
   "id": "211517d4",
   "metadata": {},
   "outputs": [
    {
     "data": {
      "text/plain": [
       "pandas._libs.tslibs.timestamps.Timestamp"
      ]
     },
     "execution_count": 63,
     "metadata": {},
     "output_type": "execute_result"
    }
   ],
   "source": [
    "type(latest)"
   ]
  },
  {
   "cell_type": "code",
   "execution_count": 64,
   "id": "28c0ef71",
   "metadata": {
    "scrolled": true
   },
   "outputs": [],
   "source": [
    "# 날짜끼리의 차이를 구하기 위하여 datetime 라이브러리의 timedelta 객체를 사용\n",
    "# year_ago = latest - dt.timedelta(365)  # 최종 날짜로부터 1년 이전 날짜를 구한다.  \n",
    "# data = data[data['Time'] > year_ago]  # 방금 구한 날짜 이후의 데이터만 모은다. \n",
    "# data"
   ]
  },
  {
   "cell_type": "markdown",
   "id": "63e2e200",
   "metadata": {},
   "source": [
    "초반에는 1년치의 데이터만 추출해서 사용하려 하였으나, 데이터가 적어 결과값이 제대로 나오지 않아 3년치의 데이터를 그대로 사용"
   ]
  },
  {
   "cell_type": "code",
   "execution_count": 65,
   "id": "ad4e028e",
   "metadata": {},
   "outputs": [],
   "source": [
    "# short_session을 제거한 다음 unpopular item을 제거하면 다시 길이가 1인 session이 생길 수 있습니다.\n",
    "# 이를 위해 반복문을 통해 지속적으로 제거 합니다.\n",
    "def cleanse_recursive(data: pd.DataFrame, shortest, least_view) -> pd.DataFrame:\n",
    "    while True:\n",
    "        before_len = len(data)\n",
    "        data = cleanse_short_session(data, shortest)\n",
    "        data = cleanse_unpopular_item(data, least_view)\n",
    "        after_len = len(data)\n",
    "        if before_len == after_len:\n",
    "            break\n",
    "    return data\n",
    "\n",
    "\n",
    "def cleanse_short_session(data: pd.DataFrame, shortest):\n",
    "    session_len = data.groupby('UserId').size()\n",
    "    session_use = session_len[session_len >= shortest].index\n",
    "    data = data[data['UserId'].isin(session_use)]\n",
    "    return data\n",
    "\n",
    "\n",
    "def cleanse_unpopular_item(data: pd.DataFrame, least_view):\n",
    "    item_popular = data.groupby('ItemId').size()\n",
    "    item_use = item_popular[item_popular >= least_view].index\n",
    "    data = data[data['ItemId'].isin(item_use)]\n",
    "    return data"
   ]
  },
  {
   "cell_type": "code",
   "execution_count": 66,
   "id": "d16d4a41",
   "metadata": {},
   "outputs": [
    {
     "name": "stdout",
     "output_type": "stream",
     "text": [
      "165.5975165562914\n",
      "269.88909875876953\n"
     ]
    }
   ],
   "source": [
    "user_len = data.groupby('UserId').size()\n",
    "item_popular = data.groupby('ItemId').size()\n",
    "\n",
    "print(user_len.mean())\n",
    "print(item_popular.mean())"
   ]
  },
  {
   "cell_type": "markdown",
   "id": "f4e67497",
   "metadata": {},
   "source": [
    "user는 평균 165번의 영화를 시청했으며, item(영화)는 평균 269번 시청되었음을 알 수 있다."
   ]
  },
  {
   "cell_type": "code",
   "execution_count": 67,
   "id": "c044afca",
   "metadata": {},
   "outputs": [
    {
     "data": {
      "text/html": [
       "<div>\n",
       "<style scoped>\n",
       "    .dataframe tbody tr th:only-of-type {\n",
       "        vertical-align: middle;\n",
       "    }\n",
       "\n",
       "    .dataframe tbody tr th {\n",
       "        vertical-align: top;\n",
       "    }\n",
       "\n",
       "    .dataframe thead th {\n",
       "        text-align: right;\n",
       "    }\n",
       "</style>\n",
       "<table border=\"1\" class=\"dataframe\">\n",
       "  <thead>\n",
       "    <tr style=\"text-align: right;\">\n",
       "      <th></th>\n",
       "      <th>UserId</th>\n",
       "      <th>ItemId</th>\n",
       "      <th>Rating</th>\n",
       "      <th>Time</th>\n",
       "    </tr>\n",
       "  </thead>\n",
       "  <tbody>\n",
       "    <tr>\n",
       "      <th>31</th>\n",
       "      <td>1</td>\n",
       "      <td>3186</td>\n",
       "      <td>4</td>\n",
       "      <td>2000-12-31 22:00:19</td>\n",
       "    </tr>\n",
       "    <tr>\n",
       "      <th>22</th>\n",
       "      <td>1</td>\n",
       "      <td>1270</td>\n",
       "      <td>5</td>\n",
       "      <td>2000-12-31 22:00:55</td>\n",
       "    </tr>\n",
       "    <tr>\n",
       "      <th>27</th>\n",
       "      <td>1</td>\n",
       "      <td>1721</td>\n",
       "      <td>4</td>\n",
       "      <td>2000-12-31 22:00:55</td>\n",
       "    </tr>\n",
       "    <tr>\n",
       "      <th>37</th>\n",
       "      <td>1</td>\n",
       "      <td>1022</td>\n",
       "      <td>5</td>\n",
       "      <td>2000-12-31 22:00:55</td>\n",
       "    </tr>\n",
       "    <tr>\n",
       "      <th>24</th>\n",
       "      <td>1</td>\n",
       "      <td>2340</td>\n",
       "      <td>3</td>\n",
       "      <td>2000-12-31 22:01:43</td>\n",
       "    </tr>\n",
       "    <tr>\n",
       "      <th>...</th>\n",
       "      <td>...</td>\n",
       "      <td>...</td>\n",
       "      <td>...</td>\n",
       "      <td>...</td>\n",
       "    </tr>\n",
       "    <tr>\n",
       "      <th>1000019</th>\n",
       "      <td>6040</td>\n",
       "      <td>2917</td>\n",
       "      <td>4</td>\n",
       "      <td>2001-08-10 14:40:29</td>\n",
       "    </tr>\n",
       "    <tr>\n",
       "      <th>999988</th>\n",
       "      <td>6040</td>\n",
       "      <td>1921</td>\n",
       "      <td>4</td>\n",
       "      <td>2001-08-10 14:41:04</td>\n",
       "    </tr>\n",
       "    <tr>\n",
       "      <th>1000172</th>\n",
       "      <td>6040</td>\n",
       "      <td>1784</td>\n",
       "      <td>3</td>\n",
       "      <td>2001-08-10 14:41:04</td>\n",
       "    </tr>\n",
       "    <tr>\n",
       "      <th>1000167</th>\n",
       "      <td>6040</td>\n",
       "      <td>161</td>\n",
       "      <td>3</td>\n",
       "      <td>2001-08-10 14:41:26</td>\n",
       "    </tr>\n",
       "    <tr>\n",
       "      <th>1000042</th>\n",
       "      <td>6040</td>\n",
       "      <td>1221</td>\n",
       "      <td>4</td>\n",
       "      <td>2001-08-20 13:44:15</td>\n",
       "    </tr>\n",
       "  </tbody>\n",
       "</table>\n",
       "<p>1000095 rows × 4 columns</p>\n",
       "</div>"
      ],
      "text/plain": [
       "         UserId  ItemId  Rating                Time\n",
       "31            1    3186       4 2000-12-31 22:00:19\n",
       "22            1    1270       5 2000-12-31 22:00:55\n",
       "27            1    1721       4 2000-12-31 22:00:55\n",
       "37            1    1022       5 2000-12-31 22:00:55\n",
       "24            1    2340       3 2000-12-31 22:01:43\n",
       "...         ...     ...     ...                 ...\n",
       "1000019    6040    2917       4 2001-08-10 14:40:29\n",
       "999988     6040    1921       4 2001-08-10 14:41:04\n",
       "1000172    6040    1784       3 2001-08-10 14:41:04\n",
       "1000167    6040     161       3 2001-08-10 14:41:26\n",
       "1000042    6040    1221       4 2001-08-20 13:44:15\n",
       "\n",
       "[1000095 rows x 4 columns]"
      ]
     },
     "execution_count": 67,
     "metadata": {},
     "output_type": "execute_result"
    }
   ],
   "source": [
    "# 1번만 시청된 영화와 5번 이하 시청한 user의 데이터를 제거\n",
    "data = cleanse_recursive(data, shortest=5, least_view=2)\n",
    "data"
   ]
  },
  {
   "cell_type": "code",
   "execution_count": 68,
   "id": "7d9f50be",
   "metadata": {
    "scrolled": false
   },
   "outputs": [
    {
     "data": {
      "text/html": [
       "<div>\n",
       "<style scoped>\n",
       "    .dataframe tbody tr th:only-of-type {\n",
       "        vertical-align: middle;\n",
       "    }\n",
       "\n",
       "    .dataframe tbody tr th {\n",
       "        vertical-align: top;\n",
       "    }\n",
       "\n",
       "    .dataframe thead th {\n",
       "        text-align: right;\n",
       "    }\n",
       "</style>\n",
       "<table border=\"1\" class=\"dataframe\">\n",
       "  <thead>\n",
       "    <tr style=\"text-align: right;\">\n",
       "      <th></th>\n",
       "      <th>UserId</th>\n",
       "      <th>ItemId</th>\n",
       "      <th>Rating</th>\n",
       "      <th>Time</th>\n",
       "    </tr>\n",
       "  </thead>\n",
       "  <tbody>\n",
       "    <tr>\n",
       "      <th>1000138</th>\n",
       "      <td>6040</td>\n",
       "      <td>858</td>\n",
       "      <td>4</td>\n",
       "      <td>2000-04-25 23:05:32</td>\n",
       "    </tr>\n",
       "    <tr>\n",
       "      <th>999873</th>\n",
       "      <td>6040</td>\n",
       "      <td>593</td>\n",
       "      <td>5</td>\n",
       "      <td>2000-04-25 23:05:54</td>\n",
       "    </tr>\n",
       "    <tr>\n",
       "      <th>1000153</th>\n",
       "      <td>6040</td>\n",
       "      <td>2384</td>\n",
       "      <td>4</td>\n",
       "      <td>2000-04-25 23:05:54</td>\n",
       "    </tr>\n",
       "    <tr>\n",
       "      <th>1000007</th>\n",
       "      <td>6040</td>\n",
       "      <td>1961</td>\n",
       "      <td>4</td>\n",
       "      <td>2000-04-25 23:06:17</td>\n",
       "    </tr>\n",
       "    <tr>\n",
       "      <th>1000192</th>\n",
       "      <td>6040</td>\n",
       "      <td>2019</td>\n",
       "      <td>5</td>\n",
       "      <td>2000-04-25 23:06:17</td>\n",
       "    </tr>\n",
       "    <tr>\n",
       "      <th>...</th>\n",
       "      <td>...</td>\n",
       "      <td>...</td>\n",
       "      <td>...</td>\n",
       "      <td>...</td>\n",
       "    </tr>\n",
       "    <tr>\n",
       "      <th>825793</th>\n",
       "      <td>4958</td>\n",
       "      <td>2399</td>\n",
       "      <td>1</td>\n",
       "      <td>2003-02-28 17:45:38</td>\n",
       "    </tr>\n",
       "    <tr>\n",
       "      <th>825438</th>\n",
       "      <td>4958</td>\n",
       "      <td>1407</td>\n",
       "      <td>5</td>\n",
       "      <td>2003-02-28 17:47:23</td>\n",
       "    </tr>\n",
       "    <tr>\n",
       "      <th>825724</th>\n",
       "      <td>4958</td>\n",
       "      <td>3264</td>\n",
       "      <td>4</td>\n",
       "      <td>2003-02-28 17:49:08</td>\n",
       "    </tr>\n",
       "    <tr>\n",
       "      <th>825731</th>\n",
       "      <td>4958</td>\n",
       "      <td>2634</td>\n",
       "      <td>3</td>\n",
       "      <td>2003-02-28 17:49:08</td>\n",
       "    </tr>\n",
       "    <tr>\n",
       "      <th>825603</th>\n",
       "      <td>4958</td>\n",
       "      <td>1924</td>\n",
       "      <td>4</td>\n",
       "      <td>2003-02-28 17:49:50</td>\n",
       "    </tr>\n",
       "  </tbody>\n",
       "</table>\n",
       "<p>1000095 rows × 4 columns</p>\n",
       "</div>"
      ],
      "text/plain": [
       "         UserId  ItemId  Rating                Time\n",
       "1000138    6040     858       4 2000-04-25 23:05:32\n",
       "999873     6040     593       5 2000-04-25 23:05:54\n",
       "1000153    6040    2384       4 2000-04-25 23:05:54\n",
       "1000007    6040    1961       4 2000-04-25 23:06:17\n",
       "1000192    6040    2019       5 2000-04-25 23:06:17\n",
       "...         ...     ...     ...                 ...\n",
       "825793     4958    2399       1 2003-02-28 17:45:38\n",
       "825438     4958    1407       5 2003-02-28 17:47:23\n",
       "825724     4958    3264       4 2003-02-28 17:49:08\n",
       "825731     4958    2634       3 2003-02-28 17:49:08\n",
       "825603     4958    1924       4 2003-02-28 17:49:50\n",
       "\n",
       "[1000095 rows x 4 columns]"
      ]
     },
     "execution_count": 68,
     "metadata": {},
     "output_type": "execute_result"
    }
   ],
   "source": [
    "# 데이터를 시간 순으로 정렬\n",
    "data = data.sort_values(by=['Time'])\n",
    "data"
   ]
  },
  {
   "cell_type": "code",
   "execution_count": 69,
   "id": "8ed20b17",
   "metadata": {},
   "outputs": [],
   "source": [
    "# Train / Valid / Test split\n",
    "\n",
    "def split_by_date(data: pd.DataFrame, n_days: int):\n",
    "    final_time = data['Time'].max()\n",
    "    session_last_time = data.groupby('UserId')['Time'].max()\n",
    "    session_in_train = session_last_time[session_last_time < final_time - dt.timedelta(n_days)]\n",
    "    session_in_test = session_last_time[session_last_time >= final_time - dt.timedelta(n_days)]\n",
    "\n",
    "    before_date = data[data['UserId'].isin(session_in_train)]\n",
    "    after_date = data[data['UserId'].isin(session_in_test)]\n",
    "    after_date = after_date[after_date['ItemId'].isin(before_date['ItemId'])]\n",
    "    return before_date, after_date"
   ]
  },
  {
   "cell_type": "code",
   "execution_count": 70,
   "id": "8b95e1b0",
   "metadata": {},
   "outputs": [],
   "source": [
    "# 3년치 데이터 중에서 3개월은 valid 데이터로, 마지막 3개월은 test 데이터로 사용\n",
    "tr, test = split_by_date(data, n_days = 90)\n",
    "tr, val = split_by_date(tr, n_days = 90)"
   ]
  },
  {
   "cell_type": "code",
   "execution_count": 79,
   "id": "064cc2fd",
   "metadata": {},
   "outputs": [],
   "source": [
    "# data에 대한 정보를 살펴봅니다.\n",
    "def stats_info(data: pd.DataFrame, status: str):\n",
    "    print(f'* {status} Set Stats Info\\n'\n",
    "          f'\\t Events: {len(data)}\\n'\n",
    "          f'\\t Users: {data[\"UserId\"].nunique()}\\n'\n",
    "          f'\\t Items: {data[\"ItemId\"].nunique()}\\n'\n",
    "          f'\\t First Time : {data[\"Time\"].min()}\\n'\n",
    "          f'\\t Last Time : {data[\"Time\"].max()}\\n')"
   ]
  },
  {
   "cell_type": "code",
   "execution_count": 80,
   "id": "13f2e97f",
   "metadata": {},
   "outputs": [
    {
     "name": "stdout",
     "output_type": "stream",
     "text": [
      "* train Set Stats Info\n",
      "\t Events: 860659\n",
      "\t Users: 5701\n",
      "\t Items: 3588\n",
      "\t First Time : 2000-04-25 23:05:32\n",
      "\t Last Time : 2002-09-01 00:14:13\n",
      "\n",
      "* valid Set Stats Info\n",
      "\t Events: 41681\n",
      "\t Users: 106\n",
      "\t Items: 3046\n",
      "\t First Time : 2000-04-27 16:38:08\n",
      "\t Last Time : 2002-11-30 13:47:32\n",
      "\n",
      "* test Set Stats Info\n",
      "\t Events: 97747\n",
      "\t Users: 233\n",
      "\t Items: 3322\n",
      "\t First Time : 2000-05-01 11:15:13\n",
      "\t Last Time : 2003-02-28 17:49:50\n",
      "\n"
     ]
    }
   ],
   "source": [
    "stats_info(tr, 'train')\n",
    "stats_info(val, 'valid')\n",
    "stats_info(test, 'test')"
   ]
  },
  {
   "cell_type": "code",
   "execution_count": 81,
   "id": "4a940860",
   "metadata": {},
   "outputs": [],
   "source": [
    "# train set에 없는 아이템이 val, test기간에 생길 수 있으므로 train data를 기준으로 인덱싱합니다.\n",
    "id2idx = {item_id : index for index, item_id in enumerate(tr['ItemId'].unique())}\n",
    "\n",
    "def indexing(df, id2idx):\n",
    "    df['item_idx'] = df['ItemId'].map(lambda x: id2idx.get(x, -1))\n",
    "    # id2idx에 없는 아이템은 모르는 값(-1) 처리 해줍니다.\n",
    "    return df\n",
    "\n",
    "tr = indexing(tr, id2idx)\n",
    "val = indexing(val, id2idx)\n",
    "test = indexing(test, id2idx)"
   ]
  },
  {
   "cell_type": "code",
   "execution_count": 82,
   "id": "9d9cf8f7",
   "metadata": {},
   "outputs": [],
   "source": [
    "# 전처리가 끝난 데이터 저장\n",
    "save_path = data_path / 'processed'\n",
    "save_path.mkdir(parents=True, exist_ok=True)\n",
    "\n",
    "tr.to_pickle(save_path / 'train.pkl')\n",
    "val.to_pickle(save_path / 'valid.pkl')\n",
    "test.to_pickle(save_path / 'test.pkl')"
   ]
  },
  {
   "cell_type": "markdown",
   "id": "3475ccc7",
   "metadata": {},
   "source": [
    "## Step 2. 미니 배치의 구성\n",
    "* 실습 코드 내역을 참고하여 데이터셋과 미니 배치를 구성\n",
    "* Session-Parallel Mini-Batch의 개념에 따라, 학습 속도의 저하가 최소화될 수 있도록 구성\n",
    "* 단, 위 Step 1에서 Session 단위를 어떻게 정의했느냐에 따라서 Session-Parallel Mini-Batch이 굳이 필요하지 않을 수도 있음"
   ]
  },
  {
   "cell_type": "code",
   "execution_count": 83,
   "id": "44029263",
   "metadata": {},
   "outputs": [],
   "source": [
    "# 데이터가 주어지면 세션이 시작되는 인덱스를 담는 값과 세션을 새로 인덱싱한 값을 갖는 SessionDataset 클래스 생성\n",
    "\n",
    "class SessionDataset:\n",
    "    \"\"\"Credit to yhs-968/pyGRU4REC.\"\"\"\n",
    "\n",
    "    def __init__(self, data):\n",
    "        self.df = data\n",
    "        self.click_offsets = self.get_click_offsets()\n",
    "        self.session_idx = np.arange(self.df['UserId'].nunique())  # indexing to SessionId\n",
    "\n",
    "    def get_click_offsets(self):\n",
    "        \"\"\"\n",
    "        Return the indexes of the first click of each session IDs,\n",
    "        \"\"\"\n",
    "        offsets = np.zeros(self.df['UserId'].nunique() + 1, dtype=np.int32)\n",
    "        offsets[1:] = self.df.groupby('UserId').size().cumsum()\n",
    "        return offsets"
   ]
  },
  {
   "cell_type": "code",
   "execution_count": 84,
   "id": "39e6d752",
   "metadata": {
    "scrolled": true
   },
   "outputs": [
    {
     "data": {
      "text/html": [
       "<div>\n",
       "<style scoped>\n",
       "    .dataframe tbody tr th:only-of-type {\n",
       "        vertical-align: middle;\n",
       "    }\n",
       "\n",
       "    .dataframe tbody tr th {\n",
       "        vertical-align: top;\n",
       "    }\n",
       "\n",
       "    .dataframe thead th {\n",
       "        text-align: right;\n",
       "    }\n",
       "</style>\n",
       "<table border=\"1\" class=\"dataframe\">\n",
       "  <thead>\n",
       "    <tr style=\"text-align: right;\">\n",
       "      <th></th>\n",
       "      <th>UserId</th>\n",
       "      <th>ItemId</th>\n",
       "      <th>Rating</th>\n",
       "      <th>Time</th>\n",
       "      <th>item_idx</th>\n",
       "    </tr>\n",
       "  </thead>\n",
       "  <tbody>\n",
       "    <tr>\n",
       "      <th>1000138</th>\n",
       "      <td>6040</td>\n",
       "      <td>858</td>\n",
       "      <td>4</td>\n",
       "      <td>2000-04-25 23:05:32</td>\n",
       "      <td>0</td>\n",
       "    </tr>\n",
       "    <tr>\n",
       "      <th>999873</th>\n",
       "      <td>6040</td>\n",
       "      <td>593</td>\n",
       "      <td>5</td>\n",
       "      <td>2000-04-25 23:05:54</td>\n",
       "      <td>1</td>\n",
       "    </tr>\n",
       "    <tr>\n",
       "      <th>1000153</th>\n",
       "      <td>6040</td>\n",
       "      <td>2384</td>\n",
       "      <td>4</td>\n",
       "      <td>2000-04-25 23:05:54</td>\n",
       "      <td>2</td>\n",
       "    </tr>\n",
       "    <tr>\n",
       "      <th>1000007</th>\n",
       "      <td>6040</td>\n",
       "      <td>1961</td>\n",
       "      <td>4</td>\n",
       "      <td>2000-04-25 23:06:17</td>\n",
       "      <td>3</td>\n",
       "    </tr>\n",
       "    <tr>\n",
       "      <th>1000192</th>\n",
       "      <td>6040</td>\n",
       "      <td>2019</td>\n",
       "      <td>5</td>\n",
       "      <td>2000-04-25 23:06:17</td>\n",
       "      <td>4</td>\n",
       "    </tr>\n",
       "    <tr>\n",
       "      <th>999877</th>\n",
       "      <td>6040</td>\n",
       "      <td>1419</td>\n",
       "      <td>3</td>\n",
       "      <td>2000-04-25 23:07:36</td>\n",
       "      <td>5</td>\n",
       "    </tr>\n",
       "    <tr>\n",
       "      <th>999868</th>\n",
       "      <td>6040</td>\n",
       "      <td>573</td>\n",
       "      <td>4</td>\n",
       "      <td>2000-04-25 23:07:36</td>\n",
       "      <td>6</td>\n",
       "    </tr>\n",
       "    <tr>\n",
       "      <th>999980</th>\n",
       "      <td>6040</td>\n",
       "      <td>3505</td>\n",
       "      <td>4</td>\n",
       "      <td>2000-04-25 23:07:36</td>\n",
       "      <td>7</td>\n",
       "    </tr>\n",
       "    <tr>\n",
       "      <th>999967</th>\n",
       "      <td>6040</td>\n",
       "      <td>3111</td>\n",
       "      <td>5</td>\n",
       "      <td>2000-04-25 23:07:36</td>\n",
       "      <td>8</td>\n",
       "    </tr>\n",
       "    <tr>\n",
       "      <th>999920</th>\n",
       "      <td>6040</td>\n",
       "      <td>213</td>\n",
       "      <td>5</td>\n",
       "      <td>2000-04-25 23:07:36</td>\n",
       "      <td>9</td>\n",
       "    </tr>\n",
       "  </tbody>\n",
       "</table>\n",
       "</div>"
      ],
      "text/plain": [
       "         UserId  ItemId  Rating                Time  item_idx\n",
       "1000138    6040     858       4 2000-04-25 23:05:32         0\n",
       "999873     6040     593       5 2000-04-25 23:05:54         1\n",
       "1000153    6040    2384       4 2000-04-25 23:05:54         2\n",
       "1000007    6040    1961       4 2000-04-25 23:06:17         3\n",
       "1000192    6040    2019       5 2000-04-25 23:06:17         4\n",
       "999877     6040    1419       3 2000-04-25 23:07:36         5\n",
       "999868     6040     573       4 2000-04-25 23:07:36         6\n",
       "999980     6040    3505       4 2000-04-25 23:07:36         7\n",
       "999967     6040    3111       5 2000-04-25 23:07:36         8\n",
       "999920     6040     213       5 2000-04-25 23:07:36         9"
      ]
     },
     "execution_count": 84,
     "metadata": {},
     "output_type": "execute_result"
    }
   ],
   "source": [
    "# train데이터로 SessionDataset 객체를 만들고 인스턴스 변수들을 확인\n",
    "tr_dataset = SessionDataset(tr)\n",
    "tr_dataset.df.head(10)"
   ]
  },
  {
   "cell_type": "code",
   "execution_count": 85,
   "id": "1494987a",
   "metadata": {},
   "outputs": [
    {
     "data": {
      "text/plain": [
       "array([     0,     53,    182, ..., 860195, 860318, 860659], dtype=int32)"
      ]
     },
     "execution_count": 85,
     "metadata": {},
     "output_type": "execute_result"
    }
   ],
   "source": [
    "# click_offsets 변수는 각 세션이 시작된 인덱스를 담고 있음\n",
    "tr_dataset.click_offsets"
   ]
  },
  {
   "cell_type": "code",
   "execution_count": 86,
   "id": "8b9aa1d3",
   "metadata": {},
   "outputs": [
    {
     "data": {
      "text/plain": [
       "array([   0,    1,    2, ..., 5698, 5699, 5700])"
      ]
     },
     "execution_count": 86,
     "metadata": {},
     "output_type": "execute_result"
    }
   ],
   "source": [
    "# session_idx 변수는 각 세션을 인덱싱한 np.array\n",
    "tr_dataset.session_idx"
   ]
  },
  {
   "cell_type": "code",
   "execution_count": 87,
   "id": "0c2ddfcc",
   "metadata": {},
   "outputs": [],
   "source": [
    "# SessionDataset 객체를 받아서 Session-Parallel mini-batch를 만드는 SessionDataLoader 클래스 생성\n",
    "\n",
    "class SessionDataLoader:\n",
    "    \"\"\"Credit to yhs-968/pyGRU4REC.\"\"\"\n",
    "\n",
    "    def __init__(self, dataset: SessionDataset, batch_size=50):\n",
    "        self.dataset = dataset\n",
    "        self.batch_size = batch_size\n",
    "\n",
    "    def __iter__(self):\n",
    "        \"\"\" Returns the iterator for producing session-parallel training mini-batches.\n",
    "        Yields:\n",
    "            input (B,):  Item indices that will be encoded as one-hot vectors later.\n",
    "            target (B,): a Variable that stores the target item indices\n",
    "            masks: Numpy array indicating the positions of the sessions to be terminated\n",
    "        \"\"\"\n",
    "\n",
    "        start, end, mask, last_session, finished = self.initialize()  # initialize 메소드에서 확인해주세요.\n",
    "        \"\"\"\n",
    "        start : Index Where Session Start\n",
    "        end : Index Where Session End\n",
    "        mask : indicator for the sessions to be terminated\n",
    "        \"\"\"\n",
    "\n",
    "        while not finished:\n",
    "            min_len = (end - start).min() - 1  # Shortest Length Among Sessions\n",
    "            for i in range(min_len):\n",
    "                # Build inputs & targets\n",
    "                inp = self.dataset.df['item_idx'].values[start + i]\n",
    "                target = self.dataset.df['item_idx'].values[start + i + 1]\n",
    "                yield inp, target, mask\n",
    "\n",
    "            start, end, mask, last_session, finished = self.update_status(start, end, min_len, last_session, finished)\n",
    "\n",
    "    def initialize(self):\n",
    "        first_iters = np.arange(self.batch_size)    # 첫 배치에 사용할 세션 Index를 가져옵니다.\n",
    "        last_session = self.batch_size - 1    # 마지막으로 다루고 있는 세션 Index를 저장해둡니다.\n",
    "        start = self.dataset.click_offsets[self.dataset.session_idx[first_iters]]       # data 상에서 session이 시작된 위치를 가져옵니다.\n",
    "        end = self.dataset.click_offsets[self.dataset.session_idx[first_iters] + 1]  # session이 끝난 위치 바로 다음 위치를 가져옵니다.\n",
    "        mask = np.array([])   # session의 모든 아이템을 다 돌은 경우 mask에 추가해줄 것입니다.\n",
    "        finished = False         # data를 전부 돌았는지 기록하기 위한 변수입니다.\n",
    "        return start, end, mask, last_session, finished\n",
    "\n",
    "    def update_status(self, start: np.ndarray, end: np.ndarray, min_len: int, last_session: int, finished: bool):  \n",
    "        # 다음 배치 데이터를 생성하기 위해 상태를 update합니다.\n",
    "        \n",
    "        start += min_len   # __iter__에서 min_len 만큼 for문을 돌았으므로 start를 min_len 만큼 더해줍니다.\n",
    "        mask = np.arange(self.batch_size)[(end - start) == 1]  \n",
    "        # end는 다음 세션이 시작되는 위치인데 start와 한 칸 차이난다는 것은 session이 끝났다는 뜻입니다. mask에 기록해줍니다.\n",
    "\n",
    "        for i, idx in enumerate(mask, start=1):  # mask에 추가된 세션 개수만큼 새로운 세션을 돌것입니다.\n",
    "            new_session = last_session + i  \n",
    "            if new_session > self.dataset.session_idx[-1]:  # 만약 새로운 세션이 마지막 세션 index보다 크다면 모든 학습데이터를 돈 것입니다.\n",
    "                finished = True\n",
    "                break\n",
    "            # update the next starting/ending point\n",
    "            start[idx] = self.dataset.click_offsets[self.dataset.session_idx[new_session]]     # 종료된 세션 대신 새로운 세션의 시작점을 기록합니다.\n",
    "            end[idx] = self.dataset.click_offsets[self.dataset.session_idx[new_session] + 1]\n",
    "\n",
    "        last_session += len(mask)  # 마지막 세션의 위치를 기록해둡니다.\n",
    "        return start, end, mask, last_session, finished"
   ]
  },
  {
   "cell_type": "code",
   "execution_count": 88,
   "id": "48d4d306",
   "metadata": {},
   "outputs": [
    {
     "data": {
      "text/plain": [
       "<bound method NDFrame.head of          UserId  ItemId  Rating                Time  item_idx\n",
       "1000138    6040     858       4 2000-04-25 23:05:32         0\n",
       "999873     6040     593       5 2000-04-25 23:05:54         1\n",
       "1000153    6040    2384       4 2000-04-25 23:05:54         2\n",
       "1000007    6040    1961       4 2000-04-25 23:06:17         3\n",
       "1000192    6040    2019       5 2000-04-25 23:06:17         4\n",
       "...         ...     ...     ...                 ...       ...\n",
       "973442     5872    3826       3 2002-08-30 00:01:21      3335\n",
       "502949     3087    1584       1 2002-08-31 20:30:52       412\n",
       "503054     3087    1092       4 2002-08-31 20:38:06      1373\n",
       "502866     3087    1892       4 2002-08-31 20:38:06      1634\n",
       "22789       164    3916       5 2002-09-01 00:14:13      3474\n",
       "\n",
       "[860659 rows x 5 columns]>"
      ]
     },
     "execution_count": 88,
     "metadata": {},
     "output_type": "execute_result"
    }
   ],
   "source": [
    "tr_data_loader = SessionDataLoader(tr_dataset, batch_size=4)\n",
    "tr_dataset.df.head"
   ]
  },
  {
   "cell_type": "code",
   "execution_count": 89,
   "id": "a88ff9fe",
   "metadata": {},
   "outputs": [],
   "source": [
    "iter_ex = iter(tr_data_loader)"
   ]
  },
  {
   "cell_type": "code",
   "execution_count": 90,
   "id": "7073d020",
   "metadata": {},
   "outputs": [
    {
     "name": "stdout",
     "output_type": "stream",
     "text": [
      "Model Input Item Idx are : [  0  53 106 210]\n",
      "Label Item Idx are :       [  1  54 177 211]\n",
      "Previous Masked Input Idx are []\n"
     ]
    }
   ],
   "source": [
    "# input, output, mask의 대략적인 형태 확인\n",
    "inputs, labels, mask =  next(iter_ex)\n",
    "print(f'Model Input Item Idx are : {inputs}')\n",
    "print(f'Label Item Idx are : {\"\":5} {labels}')\n",
    "print(f'Previous Masked Input Idx are {mask}')"
   ]
  },
  {
   "cell_type": "markdown",
   "id": "2564ef46",
   "metadata": {},
   "source": [
    "## Step 3. 모델 구성\n",
    "* 다양한 모델 구조 시도"
   ]
  },
  {
   "cell_type": "code",
   "execution_count": 91,
   "id": "b36f305c",
   "metadata": {},
   "outputs": [],
   "source": [
    "# Evaluation Metric : 모델 성능 평가를 위한 지표 확인\n",
    "\n",
    "def mrr_k(pred, truth: int, k: int):\n",
    "    indexing = np.where(pred[:k] == truth)[0]\n",
    "    if len(indexing) > 0:\n",
    "        return 1 / (indexing[0] + 1)\n",
    "    else:\n",
    "        return 0\n",
    "\n",
    "def recall_k(pred, truth: int, k: int) -> int:\n",
    "    answer = truth in pred[:k]\n",
    "    return int(answer)"
   ]
  },
  {
   "cell_type": "code",
   "execution_count": 92,
   "id": "7aeffd23",
   "metadata": {},
   "outputs": [],
   "source": [
    "# Model Architecture\n",
    "import numpy as np\n",
    "import tensorflow as tf\n",
    "from tensorflow.keras.layers import Input, Dense, Dropout, GRU\n",
    "from tensorflow.keras.losses import categorical_crossentropy\n",
    "from tensorflow.keras.models import Model\n",
    "from tensorflow.keras.optimizers import Adam\n",
    "from tensorflow.keras.utils import to_categorical\n",
    "from tqdm import tqdm"
   ]
  },
  {
   "cell_type": "code",
   "execution_count": 93,
   "id": "f6f5e0c9",
   "metadata": {},
   "outputs": [],
   "source": [
    "def create_model(args):\n",
    "    inputs = Input(batch_shape=(args.batch_size, 1, args.num_items))\n",
    "    gru, _ = GRU(args.hsz, stateful=True, return_state=True, name='GRU')(inputs)\n",
    "    dropout = Dropout(args.drop_rate)(gru)\n",
    "    predictions = Dense(args.num_items, activation='softmax')(dropout)\n",
    "    model = Model(inputs=inputs, outputs=[predictions])\n",
    "    model.compile(loss=categorical_crossentropy, optimizer=Adam(args.lr), metrics=['accuracy'])\n",
    "    model.summary()\n",
    "    return model"
   ]
  },
  {
   "cell_type": "code",
   "execution_count": 94,
   "id": "13b1c20c",
   "metadata": {},
   "outputs": [],
   "source": [
    "# 모델에 사용할 hyper-parameter를 class형식으로 관리\n",
    "\n",
    "class Args:\n",
    "    def __init__(self, tr, val, test, batch_size, hsz, drop_rate, lr, epochs, k):\n",
    "        self.tr = tr\n",
    "        self.val = val\n",
    "        self.test = test\n",
    "        self.num_items = tr['ItemId'].nunique()\n",
    "        self.num_users = tr['UserId'].nunique()\n",
    "        self.batch_size = batch_size\n",
    "        self.hsz = hsz\n",
    "        self.drop_rate = drop_rate\n",
    "        self.lr = lr  # learning rate\n",
    "        self.epochs = epochs\n",
    "        self.k = k"
   ]
  },
  {
   "cell_type": "markdown",
   "id": "a3a3cde5",
   "metadata": {},
   "source": [
    "## Step 4. 모델 학습\n",
    "* 다양한 하이퍼파라미터를 변경해 보며 검증\n",
    "* 실습 코드에 언급되었던 Recall, MRR 등의 개념들도 함께 관리될 수 있도록 함"
   ]
  },
  {
   "cell_type": "code",
   "execution_count": 96,
   "id": "f986783c",
   "metadata": {},
   "outputs": [],
   "source": [
    "# train 셋으로 학습하면서 valid 셋으로 검증합니다.\n",
    "def train_model(model, args):\n",
    "    train_dataset = SessionDataset(args.tr)\n",
    "    train_loader = SessionDataLoader(train_dataset, batch_size=args.batch_size)\n",
    "\n",
    "    for epoch in range(1, args.epochs + 1):\n",
    "        total_step = len(args.tr) - args.tr['UserId'].nunique()\n",
    "        tr_loader = tqdm(train_loader, total=total_step // args.batch_size, desc='Train', mininterval=1)\n",
    "        for feat, target, mask in tr_loader:\n",
    "            reset_hidden_states(model, mask)  # 종료된 session은 hidden_state를 초기화합니다. 아래 메서드에서 확인해주세요.\n",
    "\n",
    "            input_ohe = to_categorical(feat, num_classes=args.num_items)\n",
    "            input_ohe = np.expand_dims(input_ohe, axis=1)\n",
    "            target_ohe = to_categorical(target, num_classes=args.num_items)\n",
    "\n",
    "            result = model.train_on_batch(input_ohe, target_ohe)\n",
    "            tr_loader.set_postfix(train_loss=result[0], accuracy = result[1])\n",
    "\n",
    "        val_recall, val_mrr = get_metrics(args.val, model, args, args.k)  # valid set에 대해 검증합니다.\n",
    "\n",
    "        print(f\"\\t - Recall@{args.k} epoch {epoch}: {val_recall:3f}\")\n",
    "        print(f\"\\t - MRR@{args.k}    epoch {epoch}: {val_mrr:3f}\\n\")\n",
    "\n",
    "\n",
    "def reset_hidden_states(model, mask):\n",
    "    gru_layer = model.get_layer(name='GRU')  # model에서 gru layer를 가져옵니다.\n",
    "    hidden_states = gru_layer.states[0].numpy()  # gru_layer의 parameter를 가져옵니다.\n",
    "    for elt in mask:  # mask된 인덱스 즉, 종료된 세션의 인덱스를 돌면서\n",
    "        hidden_states[elt, :] = 0  # parameter를 초기화 합니다.\n",
    "    gru_layer.reset_states(states=hidden_states)\n",
    "\n",
    "\n",
    "def get_metrics(data, model, args, k: int):  # valid셋과 test셋을 평가하는 코드입니다. \n",
    "                                             # train과 거의 같지만 mrr, recall을 구하는 라인이 있습니다.\n",
    "    dataset = SessionDataset(data)\n",
    "    loader = SessionDataLoader(dataset, batch_size=args.batch_size)\n",
    "    recall_list, mrr_list = [], []\n",
    "\n",
    "    total_step = len(data) - data['UserId'].nunique()\n",
    "    for inputs, label, mask in tqdm(loader, total=total_step // args.batch_size, desc='Evaluation', mininterval=1):\n",
    "        reset_hidden_states(model, mask)\n",
    "        input_ohe = to_categorical(inputs, num_classes=args.num_items)\n",
    "        input_ohe = np.expand_dims(input_ohe, axis=1)\n",
    "        pred = model.predict(input_ohe, batch_size=args.batch_size)\n",
    "        pred_arg = tf.argsort(pred, direction='DESCENDING') # softmax 값이 큰 순서대로 sorting 합니다.\n",
    "        length = len(inputs)\n",
    "        recall_list.extend([recall_k(pred_arg[i], label[i], k) for i in range(length)])\n",
    "        mrr_list.extend([mrr_k(pred_arg[i], label[i], k) for i in range(length)])\n",
    "\n",
    "    recall, mrr = np.mean(recall_list), np.mean(mrr_list)\n",
    "    return recall, mrr"
   ]
  },
  {
   "cell_type": "code",
   "execution_count": 97,
   "id": "6bb16ff7",
   "metadata": {},
   "outputs": [],
   "source": [
    "def test_model(model, args, test):\n",
    "    test_recall, test_mrr = get_metrics(test, model, args, 20)\n",
    "    print(f\"\\t - Recall@{args.k}: {test_recall:3f}\")\n",
    "    print(f\"\\t - MRR@{args.k}: {test_mrr:3f}\\n\")"
   ]
  },
  {
   "cell_type": "markdown",
   "id": "b00f401c",
   "metadata": {},
   "source": [
    "### 4-1. 1차 모델 학습\n",
    "* batch_size = 64\n",
    "* hsz = 50\n",
    "* drop_rate = 0.1\n",
    "* lr = 0.001"
   ]
  },
  {
   "cell_type": "code",
   "execution_count": 99,
   "id": "1d56146c",
   "metadata": {},
   "outputs": [
    {
     "name": "stdout",
     "output_type": "stream",
     "text": [
      "Model: \"model_2\"\n",
      "_________________________________________________________________\n",
      "Layer (type)                 Output Shape              Param #   \n",
      "=================================================================\n",
      "input_3 (InputLayer)         [(64, 1, 3588)]           0         \n",
      "_________________________________________________________________\n",
      "GRU (GRU)                    [(64, 50), (64, 50)]      546000    \n",
      "_________________________________________________________________\n",
      "dropout_2 (Dropout)          (64, 50)                  0         \n",
      "_________________________________________________________________\n",
      "dense_2 (Dense)              (64, 3588)                182988    \n",
      "=================================================================\n",
      "Total params: 728,988\n",
      "Trainable params: 728,988\n",
      "Non-trainable params: 0\n",
      "_________________________________________________________________\n"
     ]
    },
    {
     "name": "stderr",
     "output_type": "stream",
     "text": [
      "Train:  99%|█████████▉| 13193/13358 [02:43<00:02, 80.91it/s, accuracy=0, train_loss=6.83]     \n",
      "Evaluation:  54%|█████▍    | 350/649 [01:43<01:28,  3.38it/s]\n"
     ]
    },
    {
     "name": "stdout",
     "output_type": "stream",
     "text": [
      "\t - Recall@20 epoch 1: 0.194196\n",
      "\t - MRR@20    epoch 1: 0.044809\n",
      "\n"
     ]
    },
    {
     "name": "stderr",
     "output_type": "stream",
     "text": [
      "Train:  99%|█████████▉| 13193/13358 [02:37<00:01, 83.51it/s, accuracy=0, train_loss=6.54]     \n",
      "Evaluation:  54%|█████▍    | 350/649 [01:41<01:26,  3.45it/s]\n"
     ]
    },
    {
     "name": "stdout",
     "output_type": "stream",
     "text": [
      "\t - Recall@20 epoch 2: 0.240759\n",
      "\t - MRR@20    epoch 2: 0.055660\n",
      "\n"
     ]
    },
    {
     "name": "stderr",
     "output_type": "stream",
     "text": [
      "Train:  99%|█████████▉| 13193/13358 [02:29<00:01, 88.28it/s, accuracy=0, train_loss=6.63]     \n",
      "Evaluation:  54%|█████▍    | 350/649 [01:39<01:24,  3.52it/s]\n"
     ]
    },
    {
     "name": "stdout",
     "output_type": "stream",
     "text": [
      "\t - Recall@20 epoch 3: 0.252455\n",
      "\t - MRR@20    epoch 3: 0.060145\n",
      "\n"
     ]
    },
    {
     "name": "stderr",
     "output_type": "stream",
     "text": [
      "Train:  99%|█████████▉| 13193/13358 [02:27<00:01, 89.20it/s, accuracy=0.0156, train_loss=6.62]\n",
      "Evaluation:  54%|█████▍    | 350/649 [01:39<01:25,  3.52it/s]\n"
     ]
    },
    {
     "name": "stdout",
     "output_type": "stream",
     "text": [
      "\t - Recall@20 epoch 4: 0.258661\n",
      "\t - MRR@20    epoch 4: 0.063279\n",
      "\n"
     ]
    },
    {
     "name": "stderr",
     "output_type": "stream",
     "text": [
      "Train:  99%|█████████▉| 13193/13358 [02:28<00:01, 88.81it/s, accuracy=0.0312, train_loss=6.54]\n",
      "Evaluation:  54%|█████▍    | 350/649 [01:39<01:24,  3.52it/s]"
     ]
    },
    {
     "name": "stdout",
     "output_type": "stream",
     "text": [
      "\t - Recall@20 epoch 5: 0.258259\n",
      "\t - MRR@20    epoch 5: 0.064709\n",
      "\n"
     ]
    },
    {
     "name": "stderr",
     "output_type": "stream",
     "text": [
      "\n"
     ]
    }
   ],
   "source": [
    "args = Args(tr, val, test, batch_size=64, hsz=50, drop_rate=0.1, lr=0.001, epochs=5, k=20)\n",
    "model = create_model(args)\n",
    "train_model(model, args)"
   ]
  },
  {
   "cell_type": "markdown",
   "id": "427d6903",
   "metadata": {},
   "source": [
    "### 4-2. 2차 모델 학습\n",
    "* batch_size = 64\n",
    "* hsz = 50\n",
    "* drop_rate = 0.05\n",
    "* lr = 0.001"
   ]
  },
  {
   "cell_type": "code",
   "execution_count": 101,
   "id": "2d36fbf6",
   "metadata": {},
   "outputs": [
    {
     "name": "stdout",
     "output_type": "stream",
     "text": [
      "Model: \"model_3\"\n",
      "_________________________________________________________________\n",
      "Layer (type)                 Output Shape              Param #   \n",
      "=================================================================\n",
      "input_4 (InputLayer)         [(64, 1, 3588)]           0         \n",
      "_________________________________________________________________\n",
      "GRU (GRU)                    [(64, 50), (64, 50)]      546000    \n",
      "_________________________________________________________________\n",
      "dropout_3 (Dropout)          (64, 50)                  0         \n",
      "_________________________________________________________________\n",
      "dense_3 (Dense)              (64, 3588)                182988    \n",
      "=================================================================\n",
      "Total params: 728,988\n",
      "Trainable params: 728,988\n",
      "Non-trainable params: 0\n",
      "_________________________________________________________________\n"
     ]
    },
    {
     "name": "stderr",
     "output_type": "stream",
     "text": [
      "Train:  99%|█████████▉| 13193/13358 [02:29<00:01, 88.23it/s, accuracy=0, train_loss=6.96]     \n",
      "Evaluation:  54%|█████▍    | 350/649 [01:43<01:28,  3.38it/s]\n"
     ]
    },
    {
     "name": "stdout",
     "output_type": "stream",
     "text": [
      "\t - Recall@20 epoch 1: 0.194821\n",
      "\t - MRR@20    epoch 1: 0.044169\n",
      "\n"
     ]
    },
    {
     "name": "stderr",
     "output_type": "stream",
     "text": [
      "Train:  99%|█████████▉| 13193/13358 [02:28<00:01, 88.95it/s, accuracy=0, train_loss=6.63]     \n",
      "Evaluation:  54%|█████▍    | 350/649 [01:40<01:25,  3.49it/s]\n"
     ]
    },
    {
     "name": "stdout",
     "output_type": "stream",
     "text": [
      "\t - Recall@20 epoch 2: 0.238393\n",
      "\t - MRR@20    epoch 2: 0.055560\n",
      "\n"
     ]
    },
    {
     "name": "stderr",
     "output_type": "stream",
     "text": [
      "Train:  99%|█████████▉| 13193/13358 [02:28<00:01, 88.91it/s, accuracy=0, train_loss=6.52]     \n",
      "Evaluation:  54%|█████▍    | 350/649 [01:40<01:25,  3.50it/s]\n"
     ]
    },
    {
     "name": "stdout",
     "output_type": "stream",
     "text": [
      "\t - Recall@20 epoch 3: 0.254643\n",
      "\t - MRR@20    epoch 3: 0.059571\n",
      "\n"
     ]
    },
    {
     "name": "stderr",
     "output_type": "stream",
     "text": [
      "Train:  99%|█████████▉| 13193/13358 [02:28<00:01, 89.09it/s, accuracy=0.0156, train_loss=6.5] \n",
      "Evaluation:  54%|█████▍    | 350/649 [01:39<01:24,  3.52it/s]\n"
     ]
    },
    {
     "name": "stdout",
     "output_type": "stream",
     "text": [
      "\t - Recall@20 epoch 4: 0.259062\n",
      "\t - MRR@20    epoch 4: 0.061965\n",
      "\n"
     ]
    },
    {
     "name": "stderr",
     "output_type": "stream",
     "text": [
      "Train:  99%|█████████▉| 13193/13358 [02:27<00:01, 89.22it/s, accuracy=0.0156, train_loss=6.44]\n",
      "Evaluation:  54%|█████▍    | 350/649 [01:39<01:24,  3.53it/s]"
     ]
    },
    {
     "name": "stdout",
     "output_type": "stream",
     "text": [
      "\t - Recall@20 epoch 5: 0.258929\n",
      "\t - MRR@20    epoch 5: 0.063474\n",
      "\n"
     ]
    },
    {
     "name": "stderr",
     "output_type": "stream",
     "text": [
      "\n"
     ]
    }
   ],
   "source": [
    "args2 = Args(tr, val, test, batch_size=64, hsz=50, drop_rate=0.05, lr=0.001, epochs=5, k=20)\n",
    "model2 = create_model(args2)\n",
    "train_model(model2, args2)"
   ]
  },
  {
   "cell_type": "markdown",
   "id": "87cddad3",
   "metadata": {},
   "source": [
    "### 4-3. 3차 모델 학습\n",
    "* batch_size = 64\n",
    "* hsz = 50\n",
    "* drop_rate = 0.5\n",
    "* lr = 0.001"
   ]
  },
  {
   "cell_type": "code",
   "execution_count": 103,
   "id": "72f4e990",
   "metadata": {},
   "outputs": [
    {
     "name": "stdout",
     "output_type": "stream",
     "text": [
      "Model: \"model_4\"\n",
      "_________________________________________________________________\n",
      "Layer (type)                 Output Shape              Param #   \n",
      "=================================================================\n",
      "input_5 (InputLayer)         [(64, 1, 3588)]           0         \n",
      "_________________________________________________________________\n",
      "GRU (GRU)                    [(64, 50), (64, 50)]      546000    \n",
      "_________________________________________________________________\n",
      "dropout_4 (Dropout)          (64, 50)                  0         \n",
      "_________________________________________________________________\n",
      "dense_4 (Dense)              (64, 3588)                182988    \n",
      "=================================================================\n",
      "Total params: 728,988\n",
      "Trainable params: 728,988\n",
      "Non-trainable params: 0\n",
      "_________________________________________________________________\n"
     ]
    },
    {
     "name": "stderr",
     "output_type": "stream",
     "text": [
      "Train:  99%|█████████▉| 13193/13358 [02:32<00:01, 86.72it/s, accuracy=0, train_loss=7.21]     \n",
      "Evaluation:  54%|█████▍    | 350/649 [01:44<01:29,  3.34it/s]\n"
     ]
    },
    {
     "name": "stdout",
     "output_type": "stream",
     "text": [
      "\t - Recall@20 epoch 1: 0.162500\n",
      "\t - MRR@20    epoch 1: 0.037509\n",
      "\n"
     ]
    },
    {
     "name": "stderr",
     "output_type": "stream",
     "text": [
      "Train:  99%|█████████▉| 13193/13358 [02:29<00:01, 87.99it/s, accuracy=0, train_loss=6.89]     \n",
      "Evaluation:  54%|█████▍    | 350/649 [01:42<01:27,  3.42it/s]\n"
     ]
    },
    {
     "name": "stdout",
     "output_type": "stream",
     "text": [
      "\t - Recall@20 epoch 2: 0.221071\n",
      "\t - MRR@20    epoch 2: 0.052388\n",
      "\n"
     ]
    },
    {
     "name": "stderr",
     "output_type": "stream",
     "text": [
      "Train:  99%|█████████▉| 13193/13358 [02:29<00:01, 88.43it/s, accuracy=0, train_loss=6.95]     \n",
      "Evaluation:  54%|█████▍    | 350/649 [01:41<01:26,  3.46it/s]\n"
     ]
    },
    {
     "name": "stdout",
     "output_type": "stream",
     "text": [
      "\t - Recall@20 epoch 3: 0.237857\n",
      "\t - MRR@20    epoch 3: 0.056709\n",
      "\n"
     ]
    },
    {
     "name": "stderr",
     "output_type": "stream",
     "text": [
      "Train:  99%|█████████▉| 13193/13358 [02:27<00:01, 89.29it/s, accuracy=0, train_loss=6.64]     \n",
      "Evaluation:  54%|█████▍    | 350/649 [01:40<01:25,  3.48it/s]\n"
     ]
    },
    {
     "name": "stdout",
     "output_type": "stream",
     "text": [
      "\t - Recall@20 epoch 4: 0.245491\n",
      "\t - MRR@20    epoch 4: 0.058280\n",
      "\n"
     ]
    },
    {
     "name": "stderr",
     "output_type": "stream",
     "text": [
      "Train:  99%|█████████▉| 13193/13358 [02:29<00:01, 88.41it/s, accuracy=0, train_loss=6.75]     \n",
      "Evaluation:  54%|█████▍    | 350/649 [01:40<01:25,  3.49it/s]"
     ]
    },
    {
     "name": "stdout",
     "output_type": "stream",
     "text": [
      "\t - Recall@20 epoch 5: 0.250580\n",
      "\t - MRR@20    epoch 5: 0.059968\n",
      "\n"
     ]
    },
    {
     "name": "stderr",
     "output_type": "stream",
     "text": [
      "\n"
     ]
    }
   ],
   "source": [
    "args3 = Args(tr, val, test, batch_size=64, hsz=50, drop_rate=0.5, lr=0.001, epochs=5, k=20)\n",
    "model3 = create_model(args3)\n",
    "train_model(model3, args3)"
   ]
  },
  {
   "cell_type": "markdown",
   "id": "859837e3",
   "metadata": {},
   "source": [
    "### 4-4. 4차 모델 학습\n",
    "* batch_size = 128\n",
    "* hsz = 50\n",
    "* drop_rate = 0.1\n",
    "* lr = 0.001"
   ]
  },
  {
   "cell_type": "code",
   "execution_count": 105,
   "id": "59930d23",
   "metadata": {
    "scrolled": true
   },
   "outputs": [
    {
     "name": "stdout",
     "output_type": "stream",
     "text": [
      "Model: \"model_5\"\n",
      "_________________________________________________________________\n",
      "Layer (type)                 Output Shape              Param #   \n",
      "=================================================================\n",
      "input_6 (InputLayer)         [(128, 1, 3588)]          0         \n",
      "_________________________________________________________________\n",
      "GRU (GRU)                    [(128, 50), (128, 50)]    546000    \n",
      "_________________________________________________________________\n",
      "dropout_5 (Dropout)          (128, 50)                 0         \n",
      "_________________________________________________________________\n",
      "dense_5 (Dense)              (128, 3588)               182988    \n",
      "=================================================================\n",
      "Total params: 728,988\n",
      "Trainable params: 728,988\n",
      "Non-trainable params: 0\n",
      "_________________________________________________________________\n"
     ]
    },
    {
     "name": "stderr",
     "output_type": "stream",
     "text": [
      "Train:  98%|█████████▊| 6517/6679 [01:34<00:02, 68.62it/s, accuracy=0.00781, train_loss=6.96]\n",
      "Evaluation:   0%|          | 0/324 [00:00<?, ?it/s]\n"
     ]
    },
    {
     "ename": "IndexError",
     "evalue": "index 106 is out of bounds for axis 0 with size 106",
     "output_type": "error",
     "traceback": [
      "\u001b[0;31m---------------------------------------------------------------------------\u001b[0m",
      "\u001b[0;31mIndexError\u001b[0m                                Traceback (most recent call last)",
      "\u001b[0;32m/tmp/ipykernel_64675/2214033773.py\u001b[0m in \u001b[0;36m<module>\u001b[0;34m\u001b[0m\n\u001b[1;32m      1\u001b[0m \u001b[0margs4\u001b[0m \u001b[0;34m=\u001b[0m \u001b[0mArgs\u001b[0m\u001b[0;34m(\u001b[0m\u001b[0mtr\u001b[0m\u001b[0;34m,\u001b[0m \u001b[0mval\u001b[0m\u001b[0;34m,\u001b[0m \u001b[0mtest\u001b[0m\u001b[0;34m,\u001b[0m \u001b[0mbatch_size\u001b[0m\u001b[0;34m=\u001b[0m\u001b[0;36m128\u001b[0m\u001b[0;34m,\u001b[0m \u001b[0mhsz\u001b[0m\u001b[0;34m=\u001b[0m\u001b[0;36m50\u001b[0m\u001b[0;34m,\u001b[0m \u001b[0mdrop_rate\u001b[0m\u001b[0;34m=\u001b[0m\u001b[0;36m0.1\u001b[0m\u001b[0;34m,\u001b[0m \u001b[0mlr\u001b[0m\u001b[0;34m=\u001b[0m\u001b[0;36m0.001\u001b[0m\u001b[0;34m,\u001b[0m \u001b[0mepochs\u001b[0m\u001b[0;34m=\u001b[0m\u001b[0;36m5\u001b[0m\u001b[0;34m,\u001b[0m \u001b[0mk\u001b[0m\u001b[0;34m=\u001b[0m\u001b[0;36m20\u001b[0m\u001b[0;34m)\u001b[0m\u001b[0;34m\u001b[0m\u001b[0;34m\u001b[0m\u001b[0m\n\u001b[1;32m      2\u001b[0m \u001b[0mmodel4\u001b[0m \u001b[0;34m=\u001b[0m \u001b[0mcreate_model\u001b[0m\u001b[0;34m(\u001b[0m\u001b[0margs4\u001b[0m\u001b[0;34m)\u001b[0m\u001b[0;34m\u001b[0m\u001b[0;34m\u001b[0m\u001b[0m\n\u001b[0;32m----> 3\u001b[0;31m \u001b[0mtrain_model\u001b[0m\u001b[0;34m(\u001b[0m\u001b[0mmodel4\u001b[0m\u001b[0;34m,\u001b[0m \u001b[0margs4\u001b[0m\u001b[0;34m)\u001b[0m\u001b[0;34m\u001b[0m\u001b[0;34m\u001b[0m\u001b[0m\n\u001b[0m",
      "\u001b[0;32m/tmp/ipykernel_64675/639149622.py\u001b[0m in \u001b[0;36mtrain_model\u001b[0;34m(model, args)\u001b[0m\n\u001b[1;32m     17\u001b[0m             \u001b[0mtr_loader\u001b[0m\u001b[0;34m.\u001b[0m\u001b[0mset_postfix\u001b[0m\u001b[0;34m(\u001b[0m\u001b[0mtrain_loss\u001b[0m\u001b[0;34m=\u001b[0m\u001b[0mresult\u001b[0m\u001b[0;34m[\u001b[0m\u001b[0;36m0\u001b[0m\u001b[0;34m]\u001b[0m\u001b[0;34m,\u001b[0m \u001b[0maccuracy\u001b[0m \u001b[0;34m=\u001b[0m \u001b[0mresult\u001b[0m\u001b[0;34m[\u001b[0m\u001b[0;36m1\u001b[0m\u001b[0;34m]\u001b[0m\u001b[0;34m)\u001b[0m\u001b[0;34m\u001b[0m\u001b[0;34m\u001b[0m\u001b[0m\n\u001b[1;32m     18\u001b[0m \u001b[0;34m\u001b[0m\u001b[0m\n\u001b[0;32m---> 19\u001b[0;31m         \u001b[0mval_recall\u001b[0m\u001b[0;34m,\u001b[0m \u001b[0mval_mrr\u001b[0m \u001b[0;34m=\u001b[0m \u001b[0mget_metrics\u001b[0m\u001b[0;34m(\u001b[0m\u001b[0margs\u001b[0m\u001b[0;34m.\u001b[0m\u001b[0mval\u001b[0m\u001b[0;34m,\u001b[0m \u001b[0mmodel\u001b[0m\u001b[0;34m,\u001b[0m \u001b[0margs\u001b[0m\u001b[0;34m,\u001b[0m \u001b[0margs\u001b[0m\u001b[0;34m.\u001b[0m\u001b[0mk\u001b[0m\u001b[0;34m)\u001b[0m  \u001b[0;31m# valid set에 대해 검증합니다.\u001b[0m\u001b[0;34m\u001b[0m\u001b[0;34m\u001b[0m\u001b[0m\n\u001b[0m\u001b[1;32m     20\u001b[0m \u001b[0;34m\u001b[0m\u001b[0m\n\u001b[1;32m     21\u001b[0m         \u001b[0mprint\u001b[0m\u001b[0;34m(\u001b[0m\u001b[0;34mf\"\\t - Recall@{args.k} epoch {epoch}: {val_recall:3f}\"\u001b[0m\u001b[0;34m)\u001b[0m\u001b[0;34m\u001b[0m\u001b[0;34m\u001b[0m\u001b[0m\n",
      "\u001b[0;32m/tmp/ipykernel_64675/639149622.py\u001b[0m in \u001b[0;36mget_metrics\u001b[0;34m(data, model, args, k)\u001b[0m\n\u001b[1;32m     38\u001b[0m \u001b[0;34m\u001b[0m\u001b[0m\n\u001b[1;32m     39\u001b[0m     \u001b[0mtotal_step\u001b[0m \u001b[0;34m=\u001b[0m \u001b[0mlen\u001b[0m\u001b[0;34m(\u001b[0m\u001b[0mdata\u001b[0m\u001b[0;34m)\u001b[0m \u001b[0;34m-\u001b[0m \u001b[0mdata\u001b[0m\u001b[0;34m[\u001b[0m\u001b[0;34m'UserId'\u001b[0m\u001b[0;34m]\u001b[0m\u001b[0;34m.\u001b[0m\u001b[0mnunique\u001b[0m\u001b[0;34m(\u001b[0m\u001b[0;34m)\u001b[0m\u001b[0;34m\u001b[0m\u001b[0;34m\u001b[0m\u001b[0m\n\u001b[0;32m---> 40\u001b[0;31m     \u001b[0;32mfor\u001b[0m \u001b[0minputs\u001b[0m\u001b[0;34m,\u001b[0m \u001b[0mlabel\u001b[0m\u001b[0;34m,\u001b[0m \u001b[0mmask\u001b[0m \u001b[0;32min\u001b[0m \u001b[0mtqdm\u001b[0m\u001b[0;34m(\u001b[0m\u001b[0mloader\u001b[0m\u001b[0;34m,\u001b[0m \u001b[0mtotal\u001b[0m\u001b[0;34m=\u001b[0m\u001b[0mtotal_step\u001b[0m \u001b[0;34m//\u001b[0m \u001b[0margs\u001b[0m\u001b[0;34m.\u001b[0m\u001b[0mbatch_size\u001b[0m\u001b[0;34m,\u001b[0m \u001b[0mdesc\u001b[0m\u001b[0;34m=\u001b[0m\u001b[0;34m'Evaluation'\u001b[0m\u001b[0;34m,\u001b[0m \u001b[0mmininterval\u001b[0m\u001b[0;34m=\u001b[0m\u001b[0;36m1\u001b[0m\u001b[0;34m)\u001b[0m\u001b[0;34m:\u001b[0m\u001b[0;34m\u001b[0m\u001b[0;34m\u001b[0m\u001b[0m\n\u001b[0m\u001b[1;32m     41\u001b[0m         \u001b[0mreset_hidden_states\u001b[0m\u001b[0;34m(\u001b[0m\u001b[0mmodel\u001b[0m\u001b[0;34m,\u001b[0m \u001b[0mmask\u001b[0m\u001b[0;34m)\u001b[0m\u001b[0;34m\u001b[0m\u001b[0;34m\u001b[0m\u001b[0m\n\u001b[1;32m     42\u001b[0m         \u001b[0minput_ohe\u001b[0m \u001b[0;34m=\u001b[0m \u001b[0mto_categorical\u001b[0m\u001b[0;34m(\u001b[0m\u001b[0minputs\u001b[0m\u001b[0;34m,\u001b[0m \u001b[0mnum_classes\u001b[0m\u001b[0;34m=\u001b[0m\u001b[0margs\u001b[0m\u001b[0;34m.\u001b[0m\u001b[0mnum_items\u001b[0m\u001b[0;34m)\u001b[0m\u001b[0;34m\u001b[0m\u001b[0;34m\u001b[0m\u001b[0m\n",
      "\u001b[0;32m/opt/conda/lib/python3.9/site-packages/tqdm/std.py\u001b[0m in \u001b[0;36m__iter__\u001b[0;34m(self)\u001b[0m\n\u001b[1;32m   1178\u001b[0m \u001b[0;34m\u001b[0m\u001b[0m\n\u001b[1;32m   1179\u001b[0m         \u001b[0;32mtry\u001b[0m\u001b[0;34m:\u001b[0m\u001b[0;34m\u001b[0m\u001b[0;34m\u001b[0m\u001b[0m\n\u001b[0;32m-> 1180\u001b[0;31m             \u001b[0;32mfor\u001b[0m \u001b[0mobj\u001b[0m \u001b[0;32min\u001b[0m \u001b[0miterable\u001b[0m\u001b[0;34m:\u001b[0m\u001b[0;34m\u001b[0m\u001b[0;34m\u001b[0m\u001b[0m\n\u001b[0m\u001b[1;32m   1181\u001b[0m                 \u001b[0;32myield\u001b[0m \u001b[0mobj\u001b[0m\u001b[0;34m\u001b[0m\u001b[0;34m\u001b[0m\u001b[0m\n\u001b[1;32m   1182\u001b[0m                 \u001b[0;31m# Update and possibly print the progressbar.\u001b[0m\u001b[0;34m\u001b[0m\u001b[0;34m\u001b[0m\u001b[0m\n",
      "\u001b[0;32m/tmp/ipykernel_64675/1078607829.py\u001b[0m in \u001b[0;36m__iter__\u001b[0;34m(self)\u001b[0m\n\u001b[1;32m     16\u001b[0m         \"\"\"\n\u001b[1;32m     17\u001b[0m \u001b[0;34m\u001b[0m\u001b[0m\n\u001b[0;32m---> 18\u001b[0;31m         \u001b[0mstart\u001b[0m\u001b[0;34m,\u001b[0m \u001b[0mend\u001b[0m\u001b[0;34m,\u001b[0m \u001b[0mmask\u001b[0m\u001b[0;34m,\u001b[0m \u001b[0mlast_session\u001b[0m\u001b[0;34m,\u001b[0m \u001b[0mfinished\u001b[0m \u001b[0;34m=\u001b[0m \u001b[0mself\u001b[0m\u001b[0;34m.\u001b[0m\u001b[0minitialize\u001b[0m\u001b[0;34m(\u001b[0m\u001b[0;34m)\u001b[0m  \u001b[0;31m# initialize 메소드에서 확인해주세요.\u001b[0m\u001b[0;34m\u001b[0m\u001b[0;34m\u001b[0m\u001b[0m\n\u001b[0m\u001b[1;32m     19\u001b[0m         \"\"\"\n\u001b[1;32m     20\u001b[0m         \u001b[0mstart\u001b[0m \u001b[0;34m:\u001b[0m \u001b[0mIndex\u001b[0m \u001b[0mWhere\u001b[0m \u001b[0mSession\u001b[0m \u001b[0mStart\u001b[0m\u001b[0;34m\u001b[0m\u001b[0;34m\u001b[0m\u001b[0m\n",
      "\u001b[0;32m/tmp/ipykernel_64675/1078607829.py\u001b[0m in \u001b[0;36minitialize\u001b[0;34m(self)\u001b[0m\n\u001b[1;32m     36\u001b[0m         \u001b[0mfirst_iters\u001b[0m \u001b[0;34m=\u001b[0m \u001b[0mnp\u001b[0m\u001b[0;34m.\u001b[0m\u001b[0marange\u001b[0m\u001b[0;34m(\u001b[0m\u001b[0mself\u001b[0m\u001b[0;34m.\u001b[0m\u001b[0mbatch_size\u001b[0m\u001b[0;34m)\u001b[0m    \u001b[0;31m# 첫 배치에 사용할 세션 Index를 가져옵니다.\u001b[0m\u001b[0;34m\u001b[0m\u001b[0;34m\u001b[0m\u001b[0m\n\u001b[1;32m     37\u001b[0m         \u001b[0mlast_session\u001b[0m \u001b[0;34m=\u001b[0m \u001b[0mself\u001b[0m\u001b[0;34m.\u001b[0m\u001b[0mbatch_size\u001b[0m \u001b[0;34m-\u001b[0m \u001b[0;36m1\u001b[0m    \u001b[0;31m# 마지막으로 다루고 있는 세션 Index를 저장해둡니다.\u001b[0m\u001b[0;34m\u001b[0m\u001b[0;34m\u001b[0m\u001b[0m\n\u001b[0;32m---> 38\u001b[0;31m         \u001b[0mstart\u001b[0m \u001b[0;34m=\u001b[0m \u001b[0mself\u001b[0m\u001b[0;34m.\u001b[0m\u001b[0mdataset\u001b[0m\u001b[0;34m.\u001b[0m\u001b[0mclick_offsets\u001b[0m\u001b[0;34m[\u001b[0m\u001b[0mself\u001b[0m\u001b[0;34m.\u001b[0m\u001b[0mdataset\u001b[0m\u001b[0;34m.\u001b[0m\u001b[0msession_idx\u001b[0m\u001b[0;34m[\u001b[0m\u001b[0mfirst_iters\u001b[0m\u001b[0;34m]\u001b[0m\u001b[0;34m]\u001b[0m       \u001b[0;31m# data 상에서 session이 시작된 위치를 가져옵니다.\u001b[0m\u001b[0;34m\u001b[0m\u001b[0;34m\u001b[0m\u001b[0m\n\u001b[0m\u001b[1;32m     39\u001b[0m         \u001b[0mend\u001b[0m \u001b[0;34m=\u001b[0m \u001b[0mself\u001b[0m\u001b[0;34m.\u001b[0m\u001b[0mdataset\u001b[0m\u001b[0;34m.\u001b[0m\u001b[0mclick_offsets\u001b[0m\u001b[0;34m[\u001b[0m\u001b[0mself\u001b[0m\u001b[0;34m.\u001b[0m\u001b[0mdataset\u001b[0m\u001b[0;34m.\u001b[0m\u001b[0msession_idx\u001b[0m\u001b[0;34m[\u001b[0m\u001b[0mfirst_iters\u001b[0m\u001b[0;34m]\u001b[0m \u001b[0;34m+\u001b[0m \u001b[0;36m1\u001b[0m\u001b[0;34m]\u001b[0m  \u001b[0;31m# session이 끝난 위치 바로 다음 위치를 가져옵니다.\u001b[0m\u001b[0;34m\u001b[0m\u001b[0;34m\u001b[0m\u001b[0m\n\u001b[1;32m     40\u001b[0m         \u001b[0mmask\u001b[0m \u001b[0;34m=\u001b[0m \u001b[0mnp\u001b[0m\u001b[0;34m.\u001b[0m\u001b[0marray\u001b[0m\u001b[0;34m(\u001b[0m\u001b[0;34m[\u001b[0m\u001b[0;34m]\u001b[0m\u001b[0;34m)\u001b[0m   \u001b[0;31m# session의 모든 아이템을 다 돌은 경우 mask에 추가해줄 것입니다.\u001b[0m\u001b[0;34m\u001b[0m\u001b[0;34m\u001b[0m\u001b[0m\n",
      "\u001b[0;31mIndexError\u001b[0m: index 106 is out of bounds for axis 0 with size 106"
     ]
    }
   ],
   "source": [
    "args4 = Args(tr, val, test, batch_size=128, hsz=50, drop_rate=0.1, lr=0.001, epochs=5, k=20)\n",
    "model4 = create_model(args4)\n",
    "train_model(model4, args4)"
   ]
  },
  {
   "cell_type": "markdown",
   "id": "4f4aae95",
   "metadata": {},
   "source": [
    "배치 사이즈를 늘리게 되니 배열의 범위를 벗어났다는 오류가 발생함을 확인했다."
   ]
  },
  {
   "cell_type": "markdown",
   "id": "215315b8",
   "metadata": {},
   "source": [
    "### 4-5. 5차 모델 학습\n",
    "* batch_size = 32\n",
    "* hsz = 50\n",
    "* drop_rate = 0.1\n",
    "* lr = 0.001"
   ]
  },
  {
   "cell_type": "code",
   "execution_count": 106,
   "id": "819bc4ad",
   "metadata": {},
   "outputs": [
    {
     "name": "stdout",
     "output_type": "stream",
     "text": [
      "Model: \"model_6\"\n",
      "_________________________________________________________________\n",
      "Layer (type)                 Output Shape              Param #   \n",
      "=================================================================\n",
      "input_7 (InputLayer)         [(32, 1, 3588)]           0         \n",
      "_________________________________________________________________\n",
      "GRU (GRU)                    [(32, 50), (32, 50)]      546000    \n",
      "_________________________________________________________________\n",
      "dropout_6 (Dropout)          (32, 50)                  0         \n",
      "_________________________________________________________________\n",
      "dense_6 (Dense)              (32, 3588)                182988    \n",
      "=================================================================\n",
      "Total params: 728,988\n",
      "Trainable params: 728,988\n",
      "Non-trainable params: 0\n",
      "_________________________________________________________________\n"
     ]
    },
    {
     "name": "stderr",
     "output_type": "stream",
     "text": [
      "Train:  99%|█████████▉| 26551/26717 [04:23<00:01, 100.73it/s, accuracy=0, train_loss=7.15]     \n",
      "Evaluation:  77%|███████▋  | 999/1299 [02:39<00:47,  6.28it/s]\n"
     ]
    },
    {
     "name": "stdout",
     "output_type": "stream",
     "text": [
      "\t - Recall@20 epoch 1: 0.213933\n",
      "\t - MRR@20    epoch 1: 0.048864\n",
      "\n"
     ]
    },
    {
     "name": "stderr",
     "output_type": "stream",
     "text": [
      "Train:  99%|█████████▉| 26551/26717 [04:18<00:01, 102.77it/s, accuracy=0.0312, train_loss=7.02]\n",
      "Evaluation:  77%|███████▋  | 999/1299 [02:34<00:46,  6.48it/s]\n"
     ]
    },
    {
     "name": "stdout",
     "output_type": "stream",
     "text": [
      "\t - Recall@20 epoch 2: 0.240209\n",
      "\t - MRR@20    epoch 2: 0.057475\n",
      "\n"
     ]
    },
    {
     "name": "stderr",
     "output_type": "stream",
     "text": [
      "Train:  99%|█████████▉| 26551/26717 [04:18<00:01, 102.71it/s, accuracy=0, train_loss=6.98]     \n",
      "Evaluation:  77%|███████▋  | 999/1299 [02:33<00:46,  6.49it/s]\n"
     ]
    },
    {
     "name": "stdout",
     "output_type": "stream",
     "text": [
      "\t - Recall@20 epoch 3: 0.251908\n",
      "\t - MRR@20    epoch 3: 0.060518\n",
      "\n"
     ]
    },
    {
     "name": "stderr",
     "output_type": "stream",
     "text": [
      "Train:  99%|█████████▉| 26551/26717 [04:17<00:01, 103.03it/s, accuracy=0.0312, train_loss=6.81]\n",
      "Evaluation:  77%|███████▋  | 999/1299 [02:33<00:46,  6.51it/s]\n"
     ]
    },
    {
     "name": "stdout",
     "output_type": "stream",
     "text": [
      "\t - Recall@20 epoch 4: 0.254442\n",
      "\t - MRR@20    epoch 4: 0.062442\n",
      "\n"
     ]
    },
    {
     "name": "stderr",
     "output_type": "stream",
     "text": [
      "Train:  99%|█████████▉| 26551/26717 [04:18<00:01, 102.75it/s, accuracy=0.0312, train_loss=6.89]\n",
      "Evaluation:  77%|███████▋  | 999/1299 [02:33<00:46,  6.52it/s]"
     ]
    },
    {
     "name": "stdout",
     "output_type": "stream",
     "text": [
      "\t - Recall@20 epoch 5: 0.255599\n",
      "\t - MRR@20    epoch 5: 0.063575\n",
      "\n"
     ]
    },
    {
     "name": "stderr",
     "output_type": "stream",
     "text": [
      "\n"
     ]
    }
   ],
   "source": [
    "args5 = Args(tr, val, test, batch_size=32, hsz=50, drop_rate=0.1, lr=0.001, epochs=5, k=20)\n",
    "model5 = create_model(args5)\n",
    "train_model(model5, args5)"
   ]
  },
  {
   "cell_type": "markdown",
   "id": "ac042cae",
   "metadata": {},
   "source": [
    "## Step 5. 모델 테스트\n",
    "* 미리 구성한 테스트셋을 바탕으로 Recall, MRR 을 확인"
   ]
  },
  {
   "cell_type": "markdown",
   "id": "d4526d53",
   "metadata": {},
   "source": [
    "### 5-1. 1차 모델 테스트\n",
    "* batch_size = 64\n",
    "* hsz = 50\n",
    "* drop_rate = 0.1\n",
    "* lr = 0.001"
   ]
  },
  {
   "cell_type": "code",
   "execution_count": 100,
   "id": "96b7346e",
   "metadata": {
    "scrolled": false
   },
   "outputs": [
    {
     "name": "stderr",
     "output_type": "stream",
     "text": [
      "Evaluation:  80%|███████▉  | 1218/1523 [05:49<01:27,  3.48it/s]"
     ]
    },
    {
     "name": "stdout",
     "output_type": "stream",
     "text": [
      "\t - Recall@20: 0.234490\n",
      "\t - MRR@20: 0.057299\n",
      "\n"
     ]
    },
    {
     "name": "stderr",
     "output_type": "stream",
     "text": [
      "\n"
     ]
    }
   ],
   "source": [
    "test_model(model, args, test)"
   ]
  },
  {
   "cell_type": "markdown",
   "id": "8655ef57",
   "metadata": {},
   "source": [
    "### 5-2. 2차 모델 테스트\n",
    "* batch_size = 64\n",
    "* hsz = 50\n",
    "* drop_rate = 0.05\n",
    "* lr = 0.001"
   ]
  },
  {
   "cell_type": "code",
   "execution_count": 102,
   "id": "7f987019",
   "metadata": {},
   "outputs": [
    {
     "name": "stderr",
     "output_type": "stream",
     "text": [
      "Evaluation:  80%|███████▉  | 1218/1523 [05:49<01:27,  3.48it/s]"
     ]
    },
    {
     "name": "stdout",
     "output_type": "stream",
     "text": [
      "\t - Recall@20: 0.233759\n",
      "\t - MRR@20: 0.056788\n",
      "\n"
     ]
    },
    {
     "name": "stderr",
     "output_type": "stream",
     "text": [
      "\n"
     ]
    }
   ],
   "source": [
    "test_model(model2, args2, test)"
   ]
  },
  {
   "cell_type": "markdown",
   "id": "f7f8dbf7",
   "metadata": {},
   "source": [
    "### 5-3. 3차 모델 테스트\n",
    "* batch_size = 64\n",
    "* hsz = 50\n",
    "* drop_rate = 0.5\n",
    "* lr = 0.001"
   ]
  },
  {
   "cell_type": "code",
   "execution_count": 104,
   "id": "54b5ccab",
   "metadata": {
    "scrolled": true
   },
   "outputs": [
    {
     "name": "stderr",
     "output_type": "stream",
     "text": [
      "Evaluation:  80%|███████▉  | 1218/1523 [05:51<01:28,  3.46it/s]"
     ]
    },
    {
     "name": "stdout",
     "output_type": "stream",
     "text": [
      "\t - Recall@20: 0.226935\n",
      "\t - MRR@20: 0.053127\n",
      "\n"
     ]
    },
    {
     "name": "stderr",
     "output_type": "stream",
     "text": [
      "\n"
     ]
    }
   ],
   "source": [
    "test_model(model3, args3, test)"
   ]
  },
  {
   "cell_type": "markdown",
   "id": "1a89a6f3",
   "metadata": {},
   "source": [
    "### 5-4. 4차 모델 테스트\n",
    "* batch_size = 128\n",
    "* hsz = 50\n",
    "* drop_rate = 0.1\n",
    "* lr = 0.001<br>\n",
    "학습 과정에서 발생한 인덱스 오류로 인하여 테스트 진행이 불가능하였다."
   ]
  },
  {
   "cell_type": "markdown",
   "id": "1657c7a1",
   "metadata": {},
   "source": [
    "### 5-5. 5차 모델 테스트\n",
    "* batch_size = 32\n",
    "* hsz = 50\n",
    "* drop_rate = 0.1\n",
    "* lr = 0.001"
   ]
  },
  {
   "cell_type": "code",
   "execution_count": 107,
   "id": "8acf96c1",
   "metadata": {},
   "outputs": [
    {
     "name": "stderr",
     "output_type": "stream",
     "text": [
      "Evaluation:  90%|█████████ | 2757/3047 [07:13<00:45,  6.36it/s]"
     ]
    },
    {
     "name": "stdout",
     "output_type": "stream",
     "text": [
      "\t - Recall@20: 0.220484\n",
      "\t - MRR@20: 0.054498\n",
      "\n"
     ]
    },
    {
     "name": "stderr",
     "output_type": "stream",
     "text": [
      "\n"
     ]
    }
   ],
   "source": [
    "test_model(model5, args5, test)"
   ]
  },
  {
   "cell_type": "markdown",
   "id": "6d7642bf",
   "metadata": {},
   "source": [
    "배치 사이즈를 줄였을 때 성능이 향상되는 것을 확인할 수 있다."
   ]
  },
  {
   "cell_type": "markdown",
   "id": "b37cddba",
   "metadata": {},
   "source": [
    "## 회고\n",
    "* 배치 사이즈를 64 이상으로 늘리면 인덱스의 범위를 벗어났다는 오류가 발생하는데, 왜 이런 오류가 발생했는지에 대한 정확한 원인을 찾지 못했다. 다만 나름의 추측으로는 검증 데이터와 테스트 데이터의 비율을 적게 잡아서가 아닐까 생각한다.\n",
    "\n",
    "## 참고 링크\n",
    "* [[기고] 홈쇼핑모아에서 만드는 AI 기반 상품 추천 시스템](https://www.comworld.co.kr/news/articleView.html?idxno=50160)\n",
    "* [Pandas에서 숫자와 문자열을 datetime으로 변환하는 10가지 트릭](https://ichi.pro/ko/pandas-eseo-susjawa-munjayeol-eul-datetimeeulo-byeonhwanhaneun-10-gaji-teulig-143642570244669)\n",
    "* [넘파이(Numpy) 튜토리얼](https://teddylee777.github.io/python/numpy-tutorial)"
   ]
  }
 ],
 "metadata": {
  "kernelspec": {
   "display_name": "Python 3 (ipykernel)",
   "language": "python",
   "name": "python3"
  },
  "language_info": {
   "codemirror_mode": {
    "name": "ipython",
    "version": 3
   },
   "file_extension": ".py",
   "mimetype": "text/x-python",
   "name": "python",
   "nbconvert_exporter": "python",
   "pygments_lexer": "ipython3",
   "version": "3.9.7"
  }
 },
 "nbformat": 4,
 "nbformat_minor": 5
}
