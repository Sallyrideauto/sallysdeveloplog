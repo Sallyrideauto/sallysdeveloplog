{
 "cells": [
  {
   "cell_type": "markdown",
   "id": "63ed90c0",
   "metadata": {},
   "source": [
    "# Exploration 8. 뉴스 요약봇 만들기\n",
    "본 과제를 통해 뉴스 데이터셋에 대한 추상적, 추출적 요약 기법을 사용하여 뉴스 기사를 요약한다.\n",
    "\n",
    "## 루브릭 평가 기준\n",
    "1. Abstractive 모델 구성을 위한 텍스트 전처리 단계가 체계적으로 진행되었다.<br>\n",
    "   분석단계, 정제단계, 정규화와 불용어 제거, 데이터셋 분리, 인코딩 과정이 빠짐없이 체계적으로 진행되었다.<br>\n",
    "2. 텍스트 요약모델이 성공적으로 학습되었음을 확인하였다.<br>\n",
    "   모델학습이 안정적으로 수렴되었음을 그래프를 통해 확인하였으며, 실제 요약문과 유사한 요약문장을 얻을 수 있었다.<br>\n",
    "3. Extractive 요약을 시도해 보고 Abstractive 요약 결과과 함께 비교해 보았다.<br>\n",
    "   두 요약 결과를 문법완성도 측면과 핵심단어 포함 측면으로 나누어 비교분석 결과를 제시하였다.<br>\n",
    "   \n",
    "* * *\n",
    "\n",
    "## 패키지 로드 및 데이터 수집\n",
    "* 아래 링크에 있는 뉴스 기사 데이터인(news_summary_more.csv)를 이용한다.<br>\n",
    "[sunnysai12345/News_Summary](https://github.com/sunnysai12345/News_Summary)\n",
    "\n",
    "* * *\n",
    "\n",
    "## [NLTK(Natural Language Toolkit)](https://datascienceschool.net/03%20machine%20learning/03.01.01%20NLTK%20%EC%9E%90%EC%97%B0%EC%96%B4%20%EC%B2%98%EB%A6%AC%20%ED%8C%A8%ED%82%A4%EC%A7%80.html)\n",
    "* 교육용으로 개발된 자연어 처리 및 문서 분석용 파이썬 패키지\n",
    "* 다양한 기능 및 예제를 가지고 있으며 실무 및 연구에서도 많이 사용\n",
    "* 주요 기능\n",
    "  * 말뭉치\n",
    "    * 자연어 분석 작업을 위해 만든 샘플 문서 집합\n",
    "    * 단순히 소설, 신문 등의 문서를 모아놓은 것도 있지만 품사. 형태소, 등의 보조적 의미를 추가하고 쉬운 분석을 위해 구조적인 형태로 정리해 놓은 것을 포함\n",
    "    * 설치시에 제공되지 않고 download 명령으로 사용자가 다운로드 받아야 함\n",
    "  * 토큰 생성\n",
    "    * 긴 문자열을 분석을 위하여 작은 단위로 분할하는 것\n",
    "    * 토큰 생성(tokenizing) : 문자열을 토큰으로 나누는 작업\n",
    "    * 토큰 생성 함수(tokenizer) : 문자열을 토큰으로 분리하는 함수\n",
    "  * 형태소(morpheme) 분석\n",
    "    * 형태소(morpheme) : 언어학에서 일정한 의미가 있는 가장 작은 말의 단위\n",
    "    * 보통 자연어 처리에서는 토큰으로 형태소를 이용\n",
    "    * 단어로부터 어근, 접두사, 접미사, 품사 등 다양한 언어적 속성을 파악하고 이를 이용하여 형태소를 찾아내거나 처리하는 작업이 형태소 분석\n",
    "  * 품사(POS, part-of-speech) 태깅\n",
    "    * 품사(POS, part-of-speech) : 낱말을 문법적인 기능이나 형태, 뜻에 따라 구분한 것\n",
    "\n",
    "## [불용어(Stopword)](https://wikidocs.net/22530)\n",
    "* 갖고 있는 데이터에서 유의미한 단어 토큰만을 선별하기 위해서는 큰 의미가 없는 단어 토큰을 제거하는 작업이 필요\n",
    "* 큰 의미가 없다는 것은 자주 등장하지만 분석에서는 큰 도움이 되지 않은 단어들을 말하는데, 이러한 단어들을 불용어라고 함<br>\n",
    "  ex) I, my, me, over, 조사, 접미사 같은 단어들은 문장에서는 자주 등장하지만 실제 의미 분석을 하는데는 거의 기여하는 바가 없음\n",
    "* NLTK에서는 위와 같은 100여개 이상의 영어 단어들을 불용어로 패키지 내에서 미리 정의하고 있음\n",
    "* 개발자가 불용어를 직접 정의할 수도 있음"
   ]
  },
  {
   "cell_type": "code",
   "execution_count": 2,
   "id": "a41289df",
   "metadata": {},
   "outputs": [
    {
     "name": "stderr",
     "output_type": "stream",
     "text": [
      "[nltk_data] Downloading package stopwords to /aiffel/nltk_data...\n",
      "[nltk_data]   Package stopwords is already up-to-date!\n"
     ]
    },
    {
     "name": "stdout",
     "output_type": "stream",
     "text": [
      "=3\n"
     ]
    }
   ],
   "source": [
    "import nltk\n",
    "nltk.download('stopwords')\n",
    "\n",
    "import numpy as np\n",
    "import pandas as pd\n",
    "import os\n",
    "import re\n",
    "import matplotlib.pyplot as plt\n",
    "from nltk.corpus import stopwords\n",
    "from bs4 import BeautifulSoup \n",
    "from tensorflow.keras.preprocessing.text import Tokenizer \n",
    "from tensorflow.keras.preprocessing.sequence import pad_sequences\n",
    "import urllib.request\n",
    "import warnings\n",
    "warnings.filterwarnings(\"ignore\", category=UserWarning, module='bs4')\n",
    "\n",
    "print('=3')"
   ]
  },
  {
   "cell_type": "code",
   "execution_count": 3,
   "id": "68388c69",
   "metadata": {},
   "outputs": [],
   "source": [
    "import urllib.request\n",
    "urllib.request.urlretrieve(\"https://raw.githubusercontent.com/sunnysai12345/News_Summary/master/news_summary_more.csv\", filename=\"news_summary_more.csv\")\n",
    "data = pd.read_csv('news_summary_more.csv', encoding='iso-8859-1')"
   ]
  },
  {
   "cell_type": "code",
   "execution_count": 4,
   "id": "4a2186eb",
   "metadata": {},
   "outputs": [
    {
     "data": {
      "text/html": [
       "<div>\n",
       "<style scoped>\n",
       "    .dataframe tbody tr th:only-of-type {\n",
       "        vertical-align: middle;\n",
       "    }\n",
       "\n",
       "    .dataframe tbody tr th {\n",
       "        vertical-align: top;\n",
       "    }\n",
       "\n",
       "    .dataframe thead th {\n",
       "        text-align: right;\n",
       "    }\n",
       "</style>\n",
       "<table border=\"1\" class=\"dataframe\">\n",
       "  <thead>\n",
       "    <tr style=\"text-align: right;\">\n",
       "      <th></th>\n",
       "      <th>headlines</th>\n",
       "      <th>text</th>\n",
       "    </tr>\n",
       "  </thead>\n",
       "  <tbody>\n",
       "    <tr>\n",
       "      <th>85109</th>\n",
       "      <td>Door to remain in EU is open to Britain: Frenc...</td>\n",
       "      <td>At a joint news conference with British PM The...</td>\n",
       "    </tr>\n",
       "    <tr>\n",
       "      <th>73296</th>\n",
       "      <td>Islamic State releases video threatening the Pope</td>\n",
       "      <td>ISIS has released a new propaganda video showi...</td>\n",
       "    </tr>\n",
       "    <tr>\n",
       "      <th>5538</th>\n",
       "      <td>Nobody approached Sara for Simmba, she approac...</td>\n",
       "      <td>Filmmaker Rohit Shetty has said Sara Ali Khan ...</td>\n",
       "    </tr>\n",
       "    <tr>\n",
       "      <th>17121</th>\n",
       "      <td>21,000 Telangana voters aged between 100 and 2...</td>\n",
       "      <td>Congress has alleged the voters' list released...</td>\n",
       "    </tr>\n",
       "    <tr>\n",
       "      <th>83849</th>\n",
       "      <td>Remark on daughter Jhanvi's marriage misunders...</td>\n",
       "      <td>Sridevi has said that her earlier statement ab...</td>\n",
       "    </tr>\n",
       "    <tr>\n",
       "      <th>5263</th>\n",
       "      <td>SoftBank Vision Fund to invest over $1 bn in G...</td>\n",
       "      <td>Masayoshi Son-led Japanese conglomerate SoftBa...</td>\n",
       "    </tr>\n",
       "    <tr>\n",
       "      <th>20618</th>\n",
       "      <td>80 people held for protesting near Samsung pla...</td>\n",
       "      <td>At least 80 people were arrested on Tuesday fo...</td>\n",
       "    </tr>\n",
       "    <tr>\n",
       "      <th>24549</th>\n",
       "      <td>Release date of Amitabh, Taapsee starrer 'Badl...</td>\n",
       "      <td>The release date of Amitabh Bachchan and Taaps...</td>\n",
       "    </tr>\n",
       "    <tr>\n",
       "      <th>46311</th>\n",
       "      <td>Actress Sridevi passes away after cardiac arrest</td>\n",
       "      <td>Veteran Bollywood actress Sridevi passed away ...</td>\n",
       "    </tr>\n",
       "    <tr>\n",
       "      <th>81011</th>\n",
       "      <td>World's 1st laptop with wireless charging laun...</td>\n",
       "      <td>American technology company Dell has launched ...</td>\n",
       "    </tr>\n",
       "  </tbody>\n",
       "</table>\n",
       "</div>"
      ],
      "text/plain": [
       "                                               headlines  \\\n",
       "85109  Door to remain in EU is open to Britain: Frenc...   \n",
       "73296  Islamic State releases video threatening the Pope   \n",
       "5538   Nobody approached Sara for Simmba, she approac...   \n",
       "17121  21,000 Telangana voters aged between 100 and 2...   \n",
       "83849  Remark on daughter Jhanvi's marriage misunders...   \n",
       "5263   SoftBank Vision Fund to invest over $1 bn in G...   \n",
       "20618  80 people held for protesting near Samsung pla...   \n",
       "24549  Release date of Amitabh, Taapsee starrer 'Badl...   \n",
       "46311  Actress Sridevi passes away after cardiac arrest    \n",
       "81011  World's 1st laptop with wireless charging laun...   \n",
       "\n",
       "                                                    text  \n",
       "85109  At a joint news conference with British PM The...  \n",
       "73296  ISIS has released a new propaganda video showi...  \n",
       "5538   Filmmaker Rohit Shetty has said Sara Ali Khan ...  \n",
       "17121  Congress has alleged the voters' list released...  \n",
       "83849  Sridevi has said that her earlier statement ab...  \n",
       "5263   Masayoshi Son-led Japanese conglomerate SoftBa...  \n",
       "20618  At least 80 people were arrested on Tuesday fo...  \n",
       "24549  The release date of Amitabh Bachchan and Taaps...  \n",
       "46311  Veteran Bollywood actress Sridevi passed away ...  \n",
       "81011  American technology company Dell has launched ...  "
      ]
     },
     "execution_count": 4,
     "metadata": {},
     "output_type": "execute_result"
    }
   ],
   "source": [
    "data.sample(10)"
   ]
  },
  {
   "cell_type": "markdown",
   "id": "f4079366",
   "metadata": {},
   "source": [
    "* 이 데이터는 기사의 본문에 해당하는 text와 headlines 두 가지 열로 구성되어 있다.\n",
    "* 추상적 요약을 하는 경우에는 text를 본문, headlines를 이미 요약된 데이터로 삼아서 모델을 학습할 수 있다.\n",
    "* 추출적 요약을 하는 경우에는 오직 text 열만을 사용한다."
   ]
  },
  {
   "cell_type": "code",
   "execution_count": 5,
   "id": "78ad59c3",
   "metadata": {},
   "outputs": [
    {
     "data": {
      "text/html": [
       "<div>\n",
       "<style scoped>\n",
       "    .dataframe tbody tr th:only-of-type {\n",
       "        vertical-align: middle;\n",
       "    }\n",
       "\n",
       "    .dataframe tbody tr th {\n",
       "        vertical-align: top;\n",
       "    }\n",
       "\n",
       "    .dataframe thead th {\n",
       "        text-align: right;\n",
       "    }\n",
       "</style>\n",
       "<table border=\"1\" class=\"dataframe\">\n",
       "  <thead>\n",
       "    <tr style=\"text-align: right;\">\n",
       "      <th></th>\n",
       "      <th>headlines</th>\n",
       "      <th>text</th>\n",
       "    </tr>\n",
       "  </thead>\n",
       "  <tbody>\n",
       "    <tr>\n",
       "      <th>0</th>\n",
       "      <td>upGrad learner switches to career in ML &amp; Al w...</td>\n",
       "      <td>Saurav Kant, an alumnus of upGrad and IIIT-B's...</td>\n",
       "    </tr>\n",
       "    <tr>\n",
       "      <th>1</th>\n",
       "      <td>Delhi techie wins free food from Swiggy for on...</td>\n",
       "      <td>Kunal Shah's credit card bill payment platform...</td>\n",
       "    </tr>\n",
       "    <tr>\n",
       "      <th>2</th>\n",
       "      <td>New Zealand end Rohit Sharma-led India's 12-ma...</td>\n",
       "      <td>New Zealand defeated India by 8 wickets in the...</td>\n",
       "    </tr>\n",
       "    <tr>\n",
       "      <th>3</th>\n",
       "      <td>Aegon life iTerm insurance plan helps customer...</td>\n",
       "      <td>With Aegon Life iTerm Insurance plan, customer...</td>\n",
       "    </tr>\n",
       "    <tr>\n",
       "      <th>4</th>\n",
       "      <td>Have known Hirani for yrs, what if MeToo claim...</td>\n",
       "      <td>Speaking about the sexual harassment allegatio...</td>\n",
       "    </tr>\n",
       "  </tbody>\n",
       "</table>\n",
       "</div>"
      ],
      "text/plain": [
       "                                           headlines  \\\n",
       "0  upGrad learner switches to career in ML & Al w...   \n",
       "1  Delhi techie wins free food from Swiggy for on...   \n",
       "2  New Zealand end Rohit Sharma-led India's 12-ma...   \n",
       "3  Aegon life iTerm insurance plan helps customer...   \n",
       "4  Have known Hirani for yrs, what if MeToo claim...   \n",
       "\n",
       "                                                text  \n",
       "0  Saurav Kant, an alumnus of upGrad and IIIT-B's...  \n",
       "1  Kunal Shah's credit card bill payment platform...  \n",
       "2  New Zealand defeated India by 8 wickets in the...  \n",
       "3  With Aegon Life iTerm Insurance plan, customer...  \n",
       "4  Speaking about the sexual harassment allegatio...  "
      ]
     },
     "execution_count": 5,
     "metadata": {},
     "output_type": "execute_result"
    }
   ],
   "source": [
    "data.head()"
   ]
  },
  {
   "cell_type": "code",
   "execution_count": 6,
   "id": "4ec97927",
   "metadata": {},
   "outputs": [
    {
     "name": "stdout",
     "output_type": "stream",
     "text": [
      "전체 샘플수 :  98401\n"
     ]
    }
   ],
   "source": [
    "print('전체 샘플수 : ', (len(data)))"
   ]
  },
  {
   "cell_type": "markdown",
   "id": "787bf85f",
   "metadata": {},
   "source": [
    "* * *\n",
    "\n",
    "## 데이터 전처리하기(추상적 요약)\n",
    "* 어떤 전처리가 필요한지 선택하고, 선택한 전처리를 추가 사용하여 텍스트를 정규화 또는 정제한다.\n",
    "* 불용어 제거를 선택할 경우, 상대적으로 길이가 짧은 데이터에 대해서도 불용어를 제거하는 것이 좋을지 고민 해 본다.\n",
    "\n",
    "* * *\n",
    "\n",
    "## 중복 샘플과 NULL 값이 존재하는 샘플 제거"
   ]
  },
  {
   "cell_type": "code",
   "execution_count": 7,
   "id": "304618a7",
   "metadata": {},
   "outputs": [
    {
     "name": "stdout",
     "output_type": "stream",
     "text": [
      "text 열에서 중복을 배제한 유일한 샘플의 수 : 98360\n",
      "headlines 열에서 중복을 배제한 유일한 샘플의 수 : 98280\n"
     ]
    }
   ],
   "source": [
    "# 데이터의 중복 샘플 유무 확인\n",
    "\n",
    "print('text 열에서 중복을 배제한 유일한 샘플의 수 :', data['text'].nunique())\n",
    "print('headlines 열에서 중복을 배제한 유일한 샘플의 수 :', data['headlines'].nunique())"
   ]
  },
  {
   "cell_type": "code",
   "execution_count": 8,
   "id": "bda49563",
   "metadata": {},
   "outputs": [
    {
     "name": "stdout",
     "output_type": "stream",
     "text": [
      "전체 샘플수 : 98360\n"
     ]
    }
   ],
   "source": [
    "# 데이터프레임의 drop_duplicates()를 사용하여 중복 샘플을 제거 \n",
    "# inplace=True 를 설정하면 DataFrame 타입 값을 return 하지 않고 data 내부를 직접적으로 변경\n",
    "data.drop_duplicates(subset = ['text'], inplace=True)\n",
    "print('전체 샘플수 :', (len(data)))"
   ]
  },
  {
   "cell_type": "code",
   "execution_count": 9,
   "id": "e6840582",
   "metadata": {},
   "outputs": [
    {
     "name": "stdout",
     "output_type": "stream",
     "text": [
      "headlines    0\n",
      "text         0\n",
      "dtype: int64\n"
     ]
    }
   ],
   "source": [
    "# 데이터프레임에 Null 값이 있는지 확인\n",
    "print(data.isnull().sum())"
   ]
  },
  {
   "cell_type": "markdown",
   "id": "e150ad9e",
   "metadata": {},
   "source": [
    "## [텍스트 정규화(Text Normalization)와 불용어 제거](https://wikidocs.net/21693)\n",
    "* 정제 및 정규화의 목적 : \n",
    "  * 정제(cleaning) : 갖고 있는 말뭉치로부터 노이즈 데이터를 제거\n",
    "  * 정규화(normalization) : 표현 방법이 다른 단어들을 통합시켜서 같은 단어로 만들어 줌\n",
    "* 정제 작업은 토큰화 작업에 방해가 되는 부분들을 배제시키고 토큰화 작업을 수행하기 위해서 토큰화 작업보다 앞서 이루어지기도 하지만, 토큰화 작업 이후에도 여전히 남아있는 노이즈들을 제거하기 위해 지속적으로 이루어지기도 함"
   ]
  },
  {
   "cell_type": "code",
   "execution_count": 10,
   "id": "f1d56955",
   "metadata": {},
   "outputs": [
    {
     "name": "stdout",
     "output_type": "stream",
     "text": [
      "정규화 사전의 수:  120\n"
     ]
    }
   ],
   "source": [
    "# 텍스트 정규화를 위한 사전(dictionary) 구성\n",
    "# 출처 : https://stackoverflow.com/questions/19790188/expanding-english-language-contractions-in-python\n",
    "\n",
    "contractions = {\"ain't\": \"is not\", \"aren't\": \"are not\",\"can't\": \"cannot\", \"'cause\": \"because\", \"could've\": \"could have\", \"couldn't\": \"could not\",\n",
    "                           \"didn't\": \"did not\",  \"doesn't\": \"does not\", \"don't\": \"do not\", \"hadn't\": \"had not\", \"hasn't\": \"has not\", \"haven't\": \"have not\",\n",
    "                           \"he'd\": \"he would\",\"he'll\": \"he will\", \"he's\": \"he is\", \"how'd\": \"how did\", \"how'd'y\": \"how do you\", \"how'll\": \"how will\", \"how's\": \"how is\",\n",
    "                           \"I'd\": \"I would\", \"I'd've\": \"I would have\", \"I'll\": \"I will\", \"I'll've\": \"I will have\",\"I'm\": \"I am\", \"I've\": \"I have\", \"i'd\": \"i would\",\n",
    "                           \"i'd've\": \"i would have\", \"i'll\": \"i will\",  \"i'll've\": \"i will have\",\"i'm\": \"i am\", \"i've\": \"i have\", \"isn't\": \"is not\", \"it'd\": \"it would\",\n",
    "                           \"it'd've\": \"it would have\", \"it'll\": \"it will\", \"it'll've\": \"it will have\",\"it's\": \"it is\", \"let's\": \"let us\", \"ma'am\": \"madam\",\n",
    "                           \"mayn't\": \"may not\", \"might've\": \"might have\",\"mightn't\": \"might not\",\"mightn't've\": \"might not have\", \"must've\": \"must have\",\n",
    "                           \"mustn't\": \"must not\", \"mustn't've\": \"must not have\", \"needn't\": \"need not\", \"needn't've\": \"need not have\",\"o'clock\": \"of the clock\",\n",
    "                           \"oughtn't\": \"ought not\", \"oughtn't've\": \"ought not have\", \"shan't\": \"shall not\", \"sha'n't\": \"shall not\", \"shan't've\": \"shall not have\",\n",
    "                           \"she'd\": \"she would\", \"she'd've\": \"she would have\", \"she'll\": \"she will\", \"she'll've\": \"she will have\", \"she's\": \"she is\",\n",
    "                           \"should've\": \"should have\", \"shouldn't\": \"should not\", \"shouldn't've\": \"should not have\", \"so've\": \"so have\",\"so's\": \"so as\",\n",
    "                           \"this's\": \"this is\",\"that'd\": \"that would\", \"that'd've\": \"that would have\", \"that's\": \"that is\", \"there'd\": \"there would\",\n",
    "                           \"there'd've\": \"there would have\", \"there's\": \"there is\", \"here's\": \"here is\",\"they'd\": \"they would\", \"they'd've\": \"they would have\",\n",
    "                           \"they'll\": \"they will\", \"they'll've\": \"they will have\", \"they're\": \"they are\", \"they've\": \"they have\", \"to've\": \"to have\",\n",
    "                           \"wasn't\": \"was not\", \"we'd\": \"we would\", \"we'd've\": \"we would have\", \"we'll\": \"we will\", \"we'll've\": \"we will have\", \"we're\": \"we are\",\n",
    "                           \"we've\": \"we have\", \"weren't\": \"were not\", \"what'll\": \"what will\", \"what'll've\": \"what will have\", \"what're\": \"what are\",\n",
    "                           \"what's\": \"what is\", \"what've\": \"what have\", \"when's\": \"when is\", \"when've\": \"when have\", \"where'd\": \"where did\", \"where's\": \"where is\",\n",
    "                           \"where've\": \"where have\", \"who'll\": \"who will\", \"who'll've\": \"who will have\", \"who's\": \"who is\", \"who've\": \"who have\",\n",
    "                           \"why's\": \"why is\", \"why've\": \"why have\", \"will've\": \"will have\", \"won't\": \"will not\", \"won't've\": \"will not have\",\n",
    "                           \"would've\": \"would have\", \"wouldn't\": \"would not\", \"wouldn't've\": \"would not have\", \"y'all\": \"you all\",\n",
    "                           \"y'all'd\": \"you all would\",\"y'all'd've\": \"you all would have\",\"y'all're\": \"you all are\",\"y'all've\": \"you all have\",\n",
    "                           \"you'd\": \"you would\", \"you'd've\": \"you would have\", \"you'll\": \"you will\", \"you'll've\": \"you will have\",\n",
    "                           \"you're\": \"you are\", \"you've\": \"you have\"}\n",
    "\n",
    "print(\"정규화 사전의 수: \", len(contractions))"
   ]
  },
  {
   "cell_type": "code",
   "execution_count": 11,
   "id": "5649a30a",
   "metadata": {},
   "outputs": [
    {
     "name": "stdout",
     "output_type": "stream",
     "text": [
      "불용어 개수 : 179\n",
      "['i', 'me', 'my', 'myself', 'we', 'our', 'ours', 'ourselves', 'you', \"you're\", \"you've\", \"you'll\", \"you'd\", 'your', 'yours', 'yourself', 'yourselves', 'he', 'him', 'his', 'himself', 'she', \"she's\", 'her', 'hers', 'herself', 'it', \"it's\", 'its', 'itself', 'they', 'them', 'their', 'theirs', 'themselves', 'what', 'which', 'who', 'whom', 'this', 'that', \"that'll\", 'these', 'those', 'am', 'is', 'are', 'was', 'were', 'be', 'been', 'being', 'have', 'has', 'had', 'having', 'do', 'does', 'did', 'doing', 'a', 'an', 'the', 'and', 'but', 'if', 'or', 'because', 'as', 'until', 'while', 'of', 'at', 'by', 'for', 'with', 'about', 'against', 'between', 'into', 'through', 'during', 'before', 'after', 'above', 'below', 'to', 'from', 'up', 'down', 'in', 'out', 'on', 'off', 'over', 'under', 'again', 'further', 'then', 'once', 'here', 'there', 'when', 'where', 'why', 'how', 'all', 'any', 'both', 'each', 'few', 'more', 'most', 'other', 'some', 'such', 'no', 'nor', 'not', 'only', 'own', 'same', 'so', 'than', 'too', 'very', 's', 't', 'can', 'will', 'just', 'don', \"don't\", 'should', \"should've\", 'now', 'd', 'll', 'm', 'o', 're', 've', 'y', 'ain', 'aren', \"aren't\", 'couldn', \"couldn't\", 'didn', \"didn't\", 'doesn', \"doesn't\", 'hadn', \"hadn't\", 'hasn', \"hasn't\", 'haven', \"haven't\", 'isn', \"isn't\", 'ma', 'mightn', \"mightn't\", 'mustn', \"mustn't\", 'needn', \"needn't\", 'shan', \"shan't\", 'shouldn', \"shouldn't\", 'wasn', \"wasn't\", 'weren', \"weren't\", 'won', \"won't\", 'wouldn', \"wouldn't\"]\n"
     ]
    }
   ],
   "source": [
    "# NLTK에서 제공하는 불용어 리스트 참조\n",
    "print('불용어 개수 :', len(stopwords.words('english') ))\n",
    "print(stopwords.words('english'))"
   ]
  },
  {
   "cell_type": "code",
   "execution_count": 12,
   "id": "17cd67f1",
   "metadata": {},
   "outputs": [
    {
     "name": "stdout",
     "output_type": "stream",
     "text": [
      "=3\n"
     ]
    }
   ],
   "source": [
    "# 위의 불용어 리스트를 이용하여, 샘플에서 불용어를 제거\n",
    "# 뿐만 아니라 모든 영어 문자는 소문자로 만들고, 섞여 있는 html 태그를 제거함\n",
    "# 정규 표현식을 통해 각종 특수문자를 제거\n",
    "\n",
    "# 데이터 전처리 함수\n",
    "def preprocess_sentence(sentence, remove_stopwords=True):\n",
    "    sentence = sentence.lower() # 텍스트 소문자화\n",
    "    sentence = BeautifulSoup(sentence, \"lxml\").text # <br />, <a href = ...> 등의 html 태그 제거\n",
    "    sentence = re.sub(r'\\([^)]*\\)', '', sentence) # 괄호로 닫힌 문자열 (...) 제거 Ex) my husband (and myself!) for => my husband for\n",
    "    sentence = re.sub('\"','', sentence) # 쌍따옴표 \" 제거\n",
    "    sentence = ' '.join([contractions[t] if t in contractions else t for t in sentence.split(\" \")]) # 약어 정규화\n",
    "    sentence = re.sub(r\"'s\\b\",\"\", sentence) # 소유격 제거. Ex) roland's -> roland\n",
    "    sentence = re.sub(\"[^a-zA-Z]\", \" \", sentence) # 영어 외 문자(숫자, 특수문자 등) 공백으로 변환\n",
    "    sentence = re.sub('[m]{2,}', 'mm', sentence) # m이 3개 이상이면 2개로 변경. Ex) ummmmmmm yeah -> umm yeah\n",
    "    \n",
    "    # 불용어 제거 (Text)\n",
    "    if remove_stopwords:\n",
    "        tokens = ' '.join(word for word in sentence.split() if not word in stopwords.words('english') if len(word) > 1)\n",
    "    # 불용어 미제거 (Summary)\n",
    "    else:\n",
    "        tokens = ' '.join(word for word in sentence.split() if len(word) > 1)\n",
    "    return tokens\n",
    "print('=3')"
   ]
  },
  {
   "cell_type": "code",
   "execution_count": 13,
   "id": "f45e96b7",
   "metadata": {},
   "outputs": [
    {
     "name": "stdout",
     "output_type": "stream",
     "text": [
      "text:  everything bought great infact ordered twice third ordered wasfor mother father\n",
      "summary: great way to start the day\n"
     ]
    }
   ],
   "source": [
    "# 전처리 전, 후의 결과를 확인하기 위해서 임의의 text와 summary를 만들어 함수를 호출\n",
    "\n",
    "temp_text = 'Everything I bought was great, infact I ordered twice and the third ordered was<br />for my mother and father.'\n",
    "temp_summary = 'Great way to start (or finish) the day!!!'\n",
    "\n",
    "print(\"text: \", preprocess_sentence(temp_text))\n",
    "print(\"summary:\", preprocess_sentence(temp_summary, False))  # 불용어를 제거하지 않음"
   ]
  },
  {
   "cell_type": "code",
   "execution_count": 14,
   "id": "a9e00aab",
   "metadata": {},
   "outputs": [
    {
     "name": "stdout",
     "output_type": "stream",
     "text": [
      "text 전처리 후 결과:  ['saurav kant alumnus upgrad iiit pg program machine learning artificial intelligence sr systems engineer infosys almost years work experience program upgrad degree career support helped transition data scientist tech mahindra salary hike upgrad online power learning powered lakh careers', 'kunal shah credit card bill payment platform cred gave users chance win free food swiggy one year pranav kaushik delhi techie bagged reward spending cred coins users get one cred coin per rupee bill paid used avail rewards brands like ixigo bookmyshow ubereats cult fit', 'new zealand defeated india wickets fourth odi hamilton thursday win first match five match odi series india lost international match rohit sharma captaincy consecutive victories dating back march match witnessed india getting seventh lowest total odi cricket history', 'aegon life iterm insurance plan customers enjoy tax benefits premiums paid save taxes plan provides life cover age years also customers options insure critical illnesses disability accidental death benefit rider life cover age years', 'speaking sexual harassment allegations rajkumar hirani sonam kapoor said known hirani many years true metoo movement get derailed metoo movement always believe woman case need reserve judgment added hirani accused assistant worked sanju']\n"
     ]
    }
   ],
   "source": [
    "# 훈련 데이터 전체에 대한 전처리 수행\n",
    "# text의 경우에는 불용어를 제거하고, headlines의 경우에는 불용어를 제거하지 않을 것이므로 따로 호출해서 진행\n",
    "\n",
    "clean_text = []\n",
    "# 전체 text 데이터에 대한 전처리 : 10분 이상 시간이 걸릴 수 있습니다. \n",
    "for s in data['text']:\n",
    "    clean_text.append(preprocess_sentence(s))\n",
    "\n",
    "# text 전처리 후 결과 확인을 위해 상위 5개의 줄 출력\n",
    "print(\"text 전처리 후 결과: \", clean_text[:5])"
   ]
  },
  {
   "cell_type": "code",
   "execution_count": 15,
   "id": "54b6a473",
   "metadata": {},
   "outputs": [
    {
     "name": "stdout",
     "output_type": "stream",
     "text": [
      "headlines 전처리 후 결과:  ['upgrad learner switches to career in ml al with salary hike', 'delhi techie wins free food from swiggy for one year on cred', 'new zealand end rohit sharma led india match winning streak', 'aegon life iterm insurance plan helps customers save tax', 'have known hirani for yrs what if metoo claims are not true sonam']\n"
     ]
    }
   ],
   "source": [
    "clean_summary = []\n",
    "# 전체 headlines 데이터에 대한 전처리 : 5분 이상 시간이 걸릴 수 있습니다. \n",
    "for s in data['headlines']:\n",
    "    clean_summary.append(preprocess_sentence(s, False))\n",
    "    # 불용어 제거를 수행하지 않는다는 의미에서 두 번째 인자로 False를 삽입\n",
    "\n",
    "print(\"headlines 전처리 후 결과: \", clean_summary[:5])"
   ]
  },
  {
   "cell_type": "code",
   "execution_count": 16,
   "id": "2608a092",
   "metadata": {},
   "outputs": [
    {
     "name": "stdout",
     "output_type": "stream",
     "text": [
      "=3\n"
     ]
    }
   ],
   "source": [
    "# 텍스트 정제의 과정을 거친 후, 다시 한번 빈(empty) 샘플이 생겼는지 확인\n",
    "# 정제 전에는 데이터가 존재했지만, 정제 과정에서 문장의 모든 단어가 사라지는 경우가 있을 수 있기 때문\n",
    "# 빈(empty) 값을 가진 샘플들이 있다면, 모두 Null 값을 가진 샘플로 대체하여 데이터들을 데이터프레임에 저장\n",
    "\n",
    "data['text'] = clean_text\n",
    "data['headlines'] = clean_summary\n",
    "\n",
    "# 빈 값을 Null 값으로 변환\n",
    "data.replace('', np.nan, inplace=True)\n",
    "print('=3')"
   ]
  },
  {
   "cell_type": "code",
   "execution_count": 17,
   "id": "eaa09113",
   "metadata": {},
   "outputs": [
    {
     "data": {
      "text/plain": [
       "headlines    0\n",
       "text         0\n",
       "dtype: int64"
      ]
     },
     "execution_count": 17,
     "metadata": {},
     "output_type": "execute_result"
    }
   ],
   "source": [
    "# null값 존재여부 확인\n",
    "data.isnull().sum()"
   ]
  },
  {
   "cell_type": "markdown",
   "id": "69168690",
   "metadata": {},
   "source": [
    "* * *\n",
    "\n",
    "## 훈련 데이터와 테스트 데이터 나누기\n",
    "\n",
    "* 훈련에 사용할 샘플의 최대 길이 결정\n",
    "* Text와 Summary의 최소, 최대, 평균 길이를 구하고 길이 분포를 시각화"
   ]
  },
  {
   "cell_type": "code",
   "execution_count": 18,
   "id": "dbe9c4e3",
   "metadata": {},
   "outputs": [
    {
     "name": "stdout",
     "output_type": "stream",
     "text": [
      "텍스트의 최소 길이 : 1\n",
      "텍스트의 최대 길이 : 60\n",
      "텍스트의 평균 길이 : 35.09968483123221\n",
      "요약의 최소 길이 : 1\n",
      "요약의 최대 길이 : 16\n",
      "요약의 평균 길이 : 9.299532330215534\n"
     ]
    },
    {
     "data": {
      "image/png": "[encoded data removed]",
      "text/plain": [
       "<Figure size 432x288 with 2 Axes>"
      ]
     },
     "metadata": {
      "needs_background": "light"
     },
     "output_type": "display_data"
    },
    {
     "data": {
      "image/png": "[encoded data removed]",
      "text/plain": [
       "<Figure size 432x288 with 1 Axes>"
      ]
     },
     "metadata": {
      "needs_background": "light"
     },
     "output_type": "display_data"
    },
    {
     "data": {
      "image/png": "[encoded data removed]",
      "text/plain": [
       "<Figure size 432x288 with 1 Axes>"
      ]
     },
     "metadata": {
      "needs_background": "light"
     },
     "output_type": "display_data"
    }
   ],
   "source": [
    "# 길이 분포 출력\n",
    "import matplotlib.pyplot as plt\n",
    "\n",
    "text_len = [len(s.split()) for s in data['text']]\n",
    "summary_len = [len(s.split()) for s in data['headlines']]\n",
    "\n",
    "print('텍스트의 최소 길이 : {}'.format(np.min(text_len)))\n",
    "print('텍스트의 최대 길이 : {}'.format(np.max(text_len)))\n",
    "print('텍스트의 평균 길이 : {}'.format(np.mean(text_len)))\n",
    "print('요약의 최소 길이 : {}'.format(np.min(summary_len)))\n",
    "print('요약의 최대 길이 : {}'.format(np.max(summary_len)))\n",
    "print('요약의 평균 길이 : {}'.format(np.mean(summary_len)))\n",
    "\n",
    "plt.subplot(1,2,1)\n",
    "plt.boxplot(text_len)\n",
    "plt.title('text')\n",
    "plt.subplot(1,2,2)\n",
    "plt.boxplot(summary_len)\n",
    "plt.title('headlines')\n",
    "plt.tight_layout()\n",
    "plt.show()\n",
    "\n",
    "plt.title('text')\n",
    "plt.hist(text_len, bins = 40)\n",
    "plt.xlabel('length of samples')\n",
    "plt.ylabel('number of samples')\n",
    "plt.show()\n",
    "\n",
    "plt.title('headlines')\n",
    "plt.hist(summary_len, bins = 40)\n",
    "plt.xlabel('length of samples')\n",
    "plt.ylabel('number of samples')\n",
    "plt.show()"
   ]
  },
  {
   "cell_type": "markdown",
   "id": "be6833c3",
   "metadata": {},
   "source": [
    "각 그래프가 가지는 의미는 다음과 같다 : \n",
    "1. 실제 텍스트와 요약의 길이 분포\n",
    "2. 실제 텍스트 샘플 길이별 개수\n",
    "3. 요약본 샘플 길이별 개수"
   ]
  },
  {
   "cell_type": "code",
   "execution_count": 19,
   "id": "41db8c93",
   "metadata": {},
   "outputs": [
    {
     "name": "stdout",
     "output_type": "stream",
     "text": [
      "=3\n"
     ]
    }
   ],
   "source": [
    "# text의 최대 길이와 headlines의 적절한 최대 길이를 임의로 지정\n",
    "\n",
    "text_max_len = 60\n",
    "summary_max_len = 10\n",
    "print('=3')"
   ]
  },
  {
   "cell_type": "code",
   "execution_count": 20,
   "id": "53513a3a",
   "metadata": {},
   "outputs": [
    {
     "name": "stdout",
     "output_type": "stream",
     "text": [
      "=3\n"
     ]
    }
   ],
   "source": [
    "# 훈련 데이터와 샘플의 길이를 입력하면, 데이터의 몇 %가 해당하는지 계산하는 함수를 만든다.\n",
    "\n",
    "def below_threshold_len(max_len, nested_list):\n",
    "  cnt = 0\n",
    "  for s in nested_list:\n",
    "    if(len(s.split()) <= max_len):\n",
    "        cnt = cnt + 1\n",
    "  print('전체 샘플 중 길이가 %s 이하인 샘플의 비율: %s'%(max_len, (cnt / len(nested_list))))\n",
    "print('=3')"
   ]
  },
  {
   "cell_type": "code",
   "execution_count": 21,
   "id": "7cb8cbcf",
   "metadata": {},
   "outputs": [
    {
     "name": "stdout",
     "output_type": "stream",
     "text": [
      "전체 샘플 중 길이가 60 이하인 샘플의 비율: 1.0\n",
      "전체 샘플 중 길이가 10 이하인 샘플의 비율: 0.8162972753151687\n"
     ]
    }
   ],
   "source": [
    "# 직접 결정한 임의의 길이가 몇 %의 샘플까지 포함하는지 확인\n",
    "\n",
    "below_threshold_len(text_max_len, data['text'])\n",
    "below_threshold_len(summary_max_len,  data['headlines'])"
   ]
  },
  {
   "cell_type": "markdown",
   "id": "0b979e58",
   "metadata": {},
   "source": [
    "각각 60과 10으로 padding을 주었을 때 해당 길이보다 긴 샘플들은 내용이 잘리게 된다. headlines 열의 경우 약 20%의 샘플들의 내용이 손상될 것이라고 예상 가능하다. 따라서 정해진 길이보다 길면 제외하는 방법으로 데이터를 정제하도록 한다."
   ]
  },
  {
   "cell_type": "code",
   "execution_count": 22,
   "id": "26a396c8",
   "metadata": {},
   "outputs": [
    {
     "name": "stdout",
     "output_type": "stream",
     "text": [
      "전체 샘플수 : 80291\n"
     ]
    }
   ],
   "source": [
    "data = data[data['text'].apply(lambda x: len(x.split()) <= text_max_len)]\n",
    "data = data[data['headlines'].apply(lambda x: len(x.split()) <= summary_max_len)]\n",
    "print('전체 샘플수 :', (len(data)))"
   ]
  },
  {
   "cell_type": "markdown",
   "id": "d33da4cd",
   "metadata": {},
   "source": [
    "* * *\n",
    "\n",
    "## 어텐션 메커니즘을 사용한 seq2seq 사용하기 (추상적 요약)\n",
    "* [시퀀스-투-시퀀스(Sequence-to-Sequence, seq2seq)](https://wikidocs.net/24996)\n",
    "  * 입력된 시퀀스로부터 다른 도메인의 시퀀스를 출력하는 다양한 분야에서 사용되는 모델<br>\n",
    "    ex) 입력 시퀀스와 출력 시퀀스를 각각 질문과 대답으로 구성하면 챗봇으로 만들 수 있고, 입력 시퀀스와 출력 시퀀스를 각각 입력 문장과 번역 문장으로 만들면 번역기로 만들 수 있음<br>\n",
    "  * 크게 인코더와 디코더라는 두 개의 모듈로 구성<br>\n",
    "    <img src=\"https://wikidocs.net/images/page/24996/seq2seq%EB%AA%A8%EB%8D%B811.PNG\"><br>\n",
    "    * 인코더는 입력 문장의 모든 단어들을 순차적으로 입력받은 뒤에 마지막에 이 모든 단어 정보들을 압축해서 하나의 벡터로 만드는데 이를 컨텍스트 벡터(context vector)라고 함<br>\n",
    "    * 입력 문장의 정보가 하나의 컨텍스트 벡터로 모두 압축되면 인코더는 컨텍스트 벡터를 디코더로 전송<br>\n",
    "    * 디코더는 컨텍스트 벡터를 받아서 번역된 단어를 한 개씩 순차적으로 출력<br>\n",
    "    \n",
    "* * *\n",
    "\n",
    "## 시작 토큰과 종료 토큰 추가하기\n",
    "* 디코더는 시작 토큰을 입력받아 문장을 생성하기 시작하고, 종료 토큰을 예측한 순간에 문장 생성을 중단함\n",
    "* seq2seq 훈련을 위해서는 디코더의 입력과 레이블에 시작 토큰과 종료 토큰을 추가할 필요가 있음\n",
    "* 시작 토큰은 sostoken, 종료 토큰은 eostoken이라 임의로 명명하고 앞, 뒤로 추가\n",
    "* 디코더의 입력에 해당하면서 시작 토큰이 맨 앞에 있는 문장의 이름 : decoder_input\n",
    "* 디코더의 출력 또는 레이블에 해당되면서 종료 토큰이 맨 뒤에 붙는 문장의 이름 : decoder_target"
   ]
  },
  {
   "cell_type": "code",
   "execution_count": 23,
   "id": "bfe9854e",
   "metadata": {},
   "outputs": [
    {
     "data": {
      "text/html": [
       "<div>\n",
       "<style scoped>\n",
       "    .dataframe tbody tr th:only-of-type {\n",
       "        vertical-align: middle;\n",
       "    }\n",
       "\n",
       "    .dataframe tbody tr th {\n",
       "        vertical-align: top;\n",
       "    }\n",
       "\n",
       "    .dataframe thead th {\n",
       "        text-align: right;\n",
       "    }\n",
       "</style>\n",
       "<table border=\"1\" class=\"dataframe\">\n",
       "  <thead>\n",
       "    <tr style=\"text-align: right;\">\n",
       "      <th></th>\n",
       "      <th>headlines</th>\n",
       "      <th>text</th>\n",
       "      <th>decoder_input</th>\n",
       "      <th>decoder_target</th>\n",
       "    </tr>\n",
       "  </thead>\n",
       "  <tbody>\n",
       "    <tr>\n",
       "      <th>2</th>\n",
       "      <td>new zealand end rohit sharma led india match w...</td>\n",
       "      <td>new zealand defeated india wickets fourth odi ...</td>\n",
       "      <td>sostoken new zealand end rohit sharma led indi...</td>\n",
       "      <td>new zealand end rohit sharma led india match w...</td>\n",
       "    </tr>\n",
       "    <tr>\n",
       "      <th>3</th>\n",
       "      <td>aegon life iterm insurance plan helps customer...</td>\n",
       "      <td>aegon life iterm insurance plan customers enjo...</td>\n",
       "      <td>sostoken aegon life iterm insurance plan helps...</td>\n",
       "      <td>aegon life iterm insurance plan helps customer...</td>\n",
       "    </tr>\n",
       "    <tr>\n",
       "      <th>5</th>\n",
       "      <td>rahat fateh ali khan denies getting notice for...</td>\n",
       "      <td>pakistani singer rahat fateh ali khan denied r...</td>\n",
       "      <td>sostoken rahat fateh ali khan denies getting n...</td>\n",
       "      <td>rahat fateh ali khan denies getting notice for...</td>\n",
       "    </tr>\n",
       "    <tr>\n",
       "      <th>9</th>\n",
       "      <td>cong wins ramgarh bypoll in rajasthan takes to...</td>\n",
       "      <td>congress candidate shafia zubair ramgarh assem...</td>\n",
       "      <td>sostoken cong wins ramgarh bypoll in rajasthan...</td>\n",
       "      <td>cong wins ramgarh bypoll in rajasthan takes to...</td>\n",
       "    </tr>\n",
       "    <tr>\n",
       "      <th>10</th>\n",
       "      <td>up cousins fed human excreta for friendship wi...</td>\n",
       "      <td>two minor cousins uttar pradesh gorakhpur alle...</td>\n",
       "      <td>sostoken up cousins fed human excreta for frie...</td>\n",
       "      <td>up cousins fed human excreta for friendship wi...</td>\n",
       "    </tr>\n",
       "  </tbody>\n",
       "</table>\n",
       "</div>"
      ],
      "text/plain": [
       "                                            headlines  \\\n",
       "2   new zealand end rohit sharma led india match w...   \n",
       "3   aegon life iterm insurance plan helps customer...   \n",
       "5   rahat fateh ali khan denies getting notice for...   \n",
       "9   cong wins ramgarh bypoll in rajasthan takes to...   \n",
       "10  up cousins fed human excreta for friendship wi...   \n",
       "\n",
       "                                                 text  \\\n",
       "2   new zealand defeated india wickets fourth odi ...   \n",
       "3   aegon life iterm insurance plan customers enjo...   \n",
       "5   pakistani singer rahat fateh ali khan denied r...   \n",
       "9   congress candidate shafia zubair ramgarh assem...   \n",
       "10  two minor cousins uttar pradesh gorakhpur alle...   \n",
       "\n",
       "                                        decoder_input  \\\n",
       "2   sostoken new zealand end rohit sharma led indi...   \n",
       "3   sostoken aegon life iterm insurance plan helps...   \n",
       "5   sostoken rahat fateh ali khan denies getting n...   \n",
       "9   sostoken cong wins ramgarh bypoll in rajasthan...   \n",
       "10  sostoken up cousins fed human excreta for frie...   \n",
       "\n",
       "                                       decoder_target  \n",
       "2   new zealand end rohit sharma led india match w...  \n",
       "3   aegon life iterm insurance plan helps customer...  \n",
       "5   rahat fateh ali khan denies getting notice for...  \n",
       "9   cong wins ramgarh bypoll in rajasthan takes to...  \n",
       "10  up cousins fed human excreta for friendship wi...  "
      ]
     },
     "execution_count": 23,
     "metadata": {},
     "output_type": "execute_result"
    }
   ],
   "source": [
    "# 요약 데이터에는 시작 토큰과 종료 토큰을 추가한다.\n",
    "data['decoder_input'] = data['headlines'].apply(lambda x : 'sostoken '+ x)\n",
    "data['decoder_target'] = data['headlines'].apply(lambda x : x + ' eostoken')\n",
    "data.head()"
   ]
  },
  {
   "cell_type": "code",
   "execution_count": 24,
   "id": "e6a92ce9",
   "metadata": {},
   "outputs": [
    {
     "name": "stdout",
     "output_type": "stream",
     "text": [
      "=3\n"
     ]
    }
   ],
   "source": [
    "# 인코더의 입력, 디코더의 입력과 레이블을 각각 Numpy 타입으로 저장\n",
    "encoder_input = np.array(data['text']) # 인코더의 입력\n",
    "decoder_input = np.array(data['decoder_input']) # 디코더의 입력\n",
    "decoder_target = np.array(data['decoder_target']) # 디코더의 레이블\n",
    "print('=3')"
   ]
  },
  {
   "cell_type": "code",
   "execution_count": 25,
   "id": "63696d47",
   "metadata": {},
   "outputs": [
    {
     "name": "stdout",
     "output_type": "stream",
     "text": [
      "[47592 62103 73593 ... 69710 55515 62120]\n"
     ]
    }
   ],
   "source": [
    "# 훈련 데이터와 테스트 데이터 분리\n",
    "# encoder_input과 크기와 형태가 같은 순서가 섞인 정수 시퀀스 생성\n",
    "indices = np.arange(encoder_input.shape[0])\n",
    "np.random.shuffle(indices)\n",
    "print(indices)"
   ]
  },
  {
   "cell_type": "code",
   "execution_count": 26,
   "id": "4acca560",
   "metadata": {},
   "outputs": [
    {
     "name": "stdout",
     "output_type": "stream",
     "text": [
      "=3\n"
     ]
    }
   ],
   "source": [
    "# 정수 시퀀스를 이용해 다시 데이터의 샘플 순서를 정의\n",
    "encoder_input = encoder_input[indices]\n",
    "decoder_input = decoder_input[indices]\n",
    "decoder_target = decoder_target[indices]\n",
    "print('=3')"
   ]
  },
  {
   "cell_type": "code",
   "execution_count": 27,
   "id": "349d168f",
   "metadata": {},
   "outputs": [
    {
     "name": "stdout",
     "output_type": "stream",
     "text": [
      "테스트 데이터의 수 : 16058\n"
     ]
    }
   ],
   "source": [
    "# 섞인 데이터를 8:2의 비율로 훈련 데이터와 테스트 데이터로 분리\n",
    "# 전체 데이터의 크기에서 0.2를 곱해서 테스트 데이터의 크기를 정의\n",
    "n_of_val = int(len(encoder_input)*0.2)\n",
    "print('테스트 데이터의 수 :', n_of_val)"
   ]
  },
  {
   "cell_type": "code",
   "execution_count": 28,
   "id": "1d2889f9",
   "metadata": {},
   "outputs": [
    {
     "name": "stdout",
     "output_type": "stream",
     "text": [
      "훈련 데이터의 개수 : 64233\n",
      "훈련 레이블의 개수 : 64233\n",
      "테스트 데이터의 개수 : 16058\n",
      "테스트 레이블의 개수 : 16058\n"
     ]
    }
   ],
   "source": [
    "# 정의한 테스트 데이터의 개수를 이용해 전체 데이터를 양분\n",
    "# : 표시의 위치에 주의\n",
    "\n",
    "encoder_input_train = encoder_input[:-n_of_val]\n",
    "decoder_input_train = decoder_input[:-n_of_val]\n",
    "decoder_target_train = decoder_target[:-n_of_val]\n",
    "\n",
    "encoder_input_test = encoder_input[-n_of_val:]\n",
    "decoder_input_test = decoder_input[-n_of_val:]\n",
    "decoder_target_test = decoder_target[-n_of_val:]\n",
    "\n",
    "print('훈련 데이터의 개수 :', len(encoder_input_train))\n",
    "print('훈련 레이블의 개수 :', len(decoder_input_train))\n",
    "print('테스트 데이터의 개수 :', len(encoder_input_test))\n",
    "print('테스트 레이블의 개수 :', len(decoder_input_test))"
   ]
  },
  {
   "cell_type": "markdown",
   "id": "7abd202b",
   "metadata": {},
   "source": [
    "## 단어 집합(vocabulary) 만들기 및 정수 인코딩\n",
    "* 기계가 텍스트를 숫자로 처리할 수 있도록 훈련 데이터와 테스트 데이터의 단어들을 모두 정수로 변경하여야 함\n",
    "* 이를 위해서는 각 단어에 고유한 정수를 맵핑하는 작업이 필요하며, 이를 단어 집합(vocabulary) 을 만든다고 표현\n",
    "* Keras의 토크나이저를 이용하여 훈련 데이터에 대한 단어 집합 생성"
   ]
  },
  {
   "cell_type": "code",
   "execution_count": 29,
   "id": "c050283f",
   "metadata": {},
   "outputs": [
    {
     "name": "stdout",
     "output_type": "stream",
     "text": [
      "=3\n"
     ]
    }
   ],
   "source": [
    "src_tokenizer = Tokenizer() # 토크나이저 정의\n",
    "src_tokenizer.fit_on_texts(encoder_input_train) # 입력된 데이터로부터 단어 집합 생성\n",
    "print('=3')"
   ]
  },
  {
   "cell_type": "markdown",
   "id": "703cfa93",
   "metadata": {},
   "source": [
    "* 단어 집합이 생성되는 동시에 각 단어에 고유한 정수가 부여됨\n",
    "* 현재 생성된 단어 집합은 src_tokenizer.word_index에 저장되어 있는 상태\n",
    "* 그러나 이렇게 만든 단어 집합에 있는 모든 단어를 사용하는 것이 아니라, 빈도수가 낮은 단어들을 훈련 데이터에서 제외하고 진행"
   ]
  },
  {
   "cell_type": "code",
   "execution_count": 30,
   "id": "4a3bc04d",
   "metadata": {},
   "outputs": [
    {
     "name": "stdout",
     "output_type": "stream",
     "text": [
      "단어 집합(vocabulary)의 크기 : 64952\n",
      "등장 빈도가 6번 이하인 희귀 단어의 수: 44610\n",
      "단어 집합에서 희귀 단어를 제외시킬 경우의 단어 집합의 크기 20342\n",
      "단어 집합에서 희귀 단어의 비율: 68.68148786796404\n",
      "전체 등장 빈도에서 희귀 단어 등장 빈도 비율: 4.006241031505786\n"
     ]
    }
   ],
   "source": [
    "# 등장 빈도수가 7회 미만인 단어들이 이 데이터에서 얼만큼의 비중을 차지하는지 확인\n",
    "# src_tokenizer.word_counts.items()에는 단어와 각 단어의 등장 빈도수가 저장되어 있으며, \n",
    "# 이를 통해서 통계적인 정보 확인이 가능함\n",
    "\n",
    "threshold = 7\n",
    "total_cnt = len(src_tokenizer.word_index) # 단어의 수\n",
    "rare_cnt = 0 # 등장 빈도수가 threshold보다 작은 단어의 개수를 카운트\n",
    "total_freq = 0 # 훈련 데이터의 전체 단어 빈도수 총 합\n",
    "rare_freq = 0 # 등장 빈도수가 threshold보다 작은 단어의 등장 빈도수의 총 합\n",
    "\n",
    "# 단어와 빈도수의 쌍(pair)을 key와 value로 받는다.\n",
    "for key, value in src_tokenizer.word_counts.items():\n",
    "    total_freq = total_freq + value\n",
    "\n",
    "    # 단어의 등장 빈도수가 threshold보다 작으면\n",
    "    if(value < threshold):\n",
    "        rare_cnt = rare_cnt + 1\n",
    "        rare_freq = rare_freq + value\n",
    "\n",
    "print('단어 집합(vocabulary)의 크기 :', total_cnt)\n",
    "print('등장 빈도가 %s번 이하인 희귀 단어의 수: %s'%(threshold - 1, rare_cnt))\n",
    "print('단어 집합에서 희귀 단어를 제외시킬 경우의 단어 집합의 크기 %s'%(total_cnt - rare_cnt))\n",
    "print(\"단어 집합에서 희귀 단어의 비율:\", (rare_cnt / total_cnt)*100)\n",
    "print(\"전체 등장 빈도에서 희귀 단어 등장 빈도 비율:\", (rare_freq / total_freq)*100)"
   ]
  },
  {
   "cell_type": "code",
   "execution_count": 31,
   "id": "e76ee430",
   "metadata": {},
   "outputs": [
    {
     "name": "stdout",
     "output_type": "stream",
     "text": [
      "=3\n"
     ]
    }
   ],
   "source": [
    "# 등장 빈도가 6회 이하인 단어들은 정수 인코딩 과정에서 빼고, 훈련 데이터에서 제거\n",
    "# 단어 집합에서 희귀 단어를 제외시킬 경우의 단어 집합의 크기를 20,000으로 제한\n",
    "\n",
    "src_vocab = 20000\n",
    "src_tokenizer = Tokenizer(num_words=src_vocab) # 단어 집합의 크기를 20,000으로 제한\n",
    "src_tokenizer.fit_on_texts(encoder_input_train) # 단어 집합 재생성\n",
    "print('=3')"
   ]
  },
  {
   "cell_type": "code",
   "execution_count": 32,
   "id": "f0781a74",
   "metadata": {},
   "outputs": [
    {
     "name": "stdout",
     "output_type": "stream",
     "text": [
      "[[4131, 10, 406, 11314, 12456, 585, 10102, 4713, 5196, 472, 175, 13, 8293, 1800, 150, 4668, 1377, 2191, 7452, 4131, 13, 18981, 10672, 23, 1377, 3172, 4469, 14567, 7581, 829, 2685, 4378, 13951, 9615, 13952], [1161, 7, 51, 351, 20, 4470, 281, 3519, 321, 25, 198, 9, 73, 2365, 20, 9616, 78, 228, 81, 9616, 1658, 1161, 1690, 14, 2289, 18982, 1, 2269, 9389, 1065, 4], [5, 622, 435, 18983, 8294, 1846, 27, 124, 797, 802, 992, 2761, 2534, 1781, 261, 16, 1239, 3333, 8000, 5, 16, 119, 39, 33, 1524, 552, 16, 1356, 2534, 4, 802, 224, 726, 106, 1760, 180, 992]]\n"
     ]
    }
   ],
   "source": [
    "# texts_to_sequences()는 생성된 단어 집합에 기반하여 입력으로 주어진 텍스트 데이터의 단어들을 모두 정수로 변환하는 정수 인코딩을 수행\n",
    "# 현재 단어 집합의 크기를 20,000으로 제한했으므로, 20,000이 넘는 숫자들은 정수 인코딩 후 데이터에 존재하지 않음\n",
    "\n",
    "# 텍스트 시퀀스를 정수 시퀀스로 변환\n",
    "encoder_input_train = src_tokenizer.texts_to_sequences(encoder_input_train) \n",
    "encoder_input_test = src_tokenizer.texts_to_sequences(encoder_input_test)\n",
    "\n",
    "# 잘 진행되었는지 샘플 출력\n",
    "print(encoder_input_train[:3])"
   ]
  },
  {
   "cell_type": "code",
   "execution_count": 33,
   "id": "da696854",
   "metadata": {},
   "outputs": [
    {
     "name": "stdout",
     "output_type": "stream",
     "text": [
      "=3\n"
     ]
    }
   ],
   "source": [
    "# headlines 데이터에 대해서도 동일한 작업을 수행\n",
    "\n",
    "tar_tokenizer = Tokenizer()\n",
    "tar_tokenizer.fit_on_texts(decoder_input_train)\n",
    "print('=3')"
   ]
  },
  {
   "cell_type": "code",
   "execution_count": 34,
   "id": "fa388f6d",
   "metadata": {},
   "outputs": [
    {
     "name": "stdout",
     "output_type": "stream",
     "text": [
      "단어 집합(vocabulary)의 크기 : 28435\n",
      "등장 빈도가 5번 이하인 희귀 단어의 수: 18971\n",
      "단어 집합에서 희귀 단어를 제외시킬 경우의 단어 집합의 크기 9464\n",
      "단어 집합에서 희귀 단어의 비율: 66.71707402848602\n",
      "전체 등장 빈도에서 희귀 단어 등장 빈도 비율: 5.717729379920714\n"
     ]
    }
   ],
   "source": [
    "# tar_tokenizer.word_counts.items()에는 단어와 각 단어의 등장 빈도수가 저장되어 있음\n",
    "# 등장 빈도수가 6회 미만인 단어들이 차지하는 비중을 확인\n",
    "\n",
    "threshold = 6\n",
    "total_cnt = len(tar_tokenizer.word_index) # 단어의 수\n",
    "rare_cnt = 0 # 등장 빈도수가 threshold보다 작은 단어의 개수를 카운트\n",
    "total_freq = 0 # 훈련 데이터의 전체 단어 빈도수 총 합\n",
    "rare_freq = 0 # 등장 빈도수가 threshold보다 작은 단어의 등장 빈도수의 총 합\n",
    "\n",
    "# 단어와 빈도수의 쌍(pair)을 key와 value로 받는다.\n",
    "for key, value in tar_tokenizer.word_counts.items():\n",
    "    total_freq = total_freq + value\n",
    "\n",
    "    # 단어의 등장 빈도수가 threshold보다 작으면\n",
    "    if(value < threshold):\n",
    "        rare_cnt = rare_cnt + 1\n",
    "        rare_freq = rare_freq + value\n",
    "\n",
    "print('단어 집합(vocabulary)의 크기 :', total_cnt)\n",
    "print('등장 빈도가 %s번 이하인 희귀 단어의 수: %s'%(threshold - 1, rare_cnt))\n",
    "print('단어 집합에서 희귀 단어를 제외시킬 경우의 단어 집합의 크기 %s'%(total_cnt - rare_cnt))\n",
    "print(\"단어 집합에서 희귀 단어의 비율:\", (rare_cnt / total_cnt)*100)\n",
    "print(\"전체 등장 빈도에서 희귀 단어 등장 빈도 비율:\", (rare_freq / total_freq)*100)"
   ]
  },
  {
   "cell_type": "code",
   "execution_count": 35,
   "id": "7087e352",
   "metadata": {},
   "outputs": [
    {
     "name": "stdout",
     "output_type": "stream",
     "text": [
      "input\n",
      "input  [[1, 37, 298, 12, 8592, 2161, 286, 5714, 694, 66], [1, 62, 2254, 7, 525, 6043, 325, 28, 63, 58], [1, 103, 7, 484, 39, 10, 2027, 3923, 14, 1517], [1, 63, 5, 3353, 576, 614, 3, 254], [1, 27, 5412, 4346, 106, 242, 5132, 470, 21, 42, 461]]\n",
      "target\n",
      "decoder  [[37, 298, 12, 8592, 2161, 286, 5714, 694, 66, 2], [62, 2254, 7, 525, 6043, 325, 28, 63, 58, 2], [103, 7, 484, 39, 10, 2027, 3923, 14, 1517, 2], [63, 5, 3353, 576, 614, 3, 254, 2], [27, 5412, 4346, 106, 242, 5132, 470, 21, 42, 461, 2]]\n"
     ]
    }
   ],
   "source": [
    "# 어림잡아 9,000을 단어 집합의 크기로 제한\n",
    "\n",
    "tar_vocab = 9000\n",
    "tar_tokenizer = Tokenizer(num_words=tar_vocab) \n",
    "tar_tokenizer.fit_on_texts(decoder_input_train)\n",
    "tar_tokenizer.fit_on_texts(decoder_target_train)\n",
    "\n",
    "# 텍스트 시퀀스를 정수 시퀀스로 변환\n",
    "decoder_input_train = tar_tokenizer.texts_to_sequences(decoder_input_train) \n",
    "decoder_target_train = tar_tokenizer.texts_to_sequences(decoder_target_train)\n",
    "decoder_input_test = tar_tokenizer.texts_to_sequences(decoder_input_test)\n",
    "decoder_target_test = tar_tokenizer.texts_to_sequences(decoder_target_test)\n",
    "\n",
    "# 잘 변환되었는지 확인\n",
    "print('input')\n",
    "print('input ',decoder_input_train[:5])\n",
    "print('target')\n",
    "print('decoder ',decoder_target_train[:5])"
   ]
  },
  {
   "cell_type": "markdown",
   "id": "701c4169",
   "metadata": {},
   "source": [
    "decoder_input_train과 decoder_target_train에는 더 이상 숫자 9,000이 넘는 숫자들은 존재하지 않아 정상적으로 정수 인코딩 작업이 끝난 것을 확인할 수 있다. 그러나 패딩 단계에서 확인해야 할 부분이 있는데, 전체 데이터에서 빈도수가 낮은 단어가 삭제되었다는 것은 빈도수가 낮은 단어만으로 구성되었던 샘플들은 이제 빈 샘플이 되었을 가능성이 있음을 의미한다. 따라서 요약문에서 길이가 0이 된 샘플들의 인덱스를 받아 온 뒤, 훈련 데이터와 테스트 데이터에 대해서 요약문의 길이가 1인 경우의 인덱스를 각각 drop_train과 drop_test에 라는 변수에 저장해서 모두 삭제하도록 한다."
   ]
  },
  {
   "cell_type": "code",
   "execution_count": 36,
   "id": "bc8b99db",
   "metadata": {},
   "outputs": [
    {
     "name": "stdout",
     "output_type": "stream",
     "text": [
      "삭제할 훈련 데이터의 개수 : 0\n",
      "삭제할 테스트 데이터의 개수 : 0\n",
      "훈련 데이터의 개수 : 64233\n",
      "훈련 레이블의 개수 : 64233\n",
      "테스트 데이터의 개수 : 16058\n",
      "테스트 레이블의 개수 : 16058\n"
     ]
    }
   ],
   "source": [
    "drop_train = [index for index, sentence in enumerate(decoder_input_train) if len(sentence) == 1]\n",
    "drop_test = [index for index, sentence in enumerate(decoder_input_test) if len(sentence) == 1]\n",
    "\n",
    "print('삭제할 훈련 데이터의 개수 :', len(drop_train))\n",
    "print('삭제할 테스트 데이터의 개수 :', len(drop_test))\n",
    "\n",
    "encoder_input_train = [sentence for index, sentence in enumerate(encoder_input_train) if index not in drop_train]\n",
    "decoder_input_train = [sentence for index, sentence in enumerate(decoder_input_train) if index not in drop_train]\n",
    "decoder_target_train = [sentence for index, sentence in enumerate(decoder_target_train) if index not in drop_train]\n",
    "\n",
    "encoder_input_test = [sentence for index, sentence in enumerate(encoder_input_test) if index not in drop_test]\n",
    "decoder_input_test = [sentence for index, sentence in enumerate(decoder_input_test) if index not in drop_test]\n",
    "decoder_target_test = [sentence for index, sentence in enumerate(decoder_target_test) if index not in drop_test]\n",
    "\n",
    "print('훈련 데이터의 개수 :', len(encoder_input_train))\n",
    "print('훈련 레이블의 개수 :', len(decoder_input_train))\n",
    "print('테스트 데이터의 개수 :', len(encoder_input_test))\n",
    "print('테스트 레이블의 개수 :', len(decoder_input_test))"
   ]
  },
  {
   "cell_type": "markdown",
   "id": "1e92fbb5",
   "metadata": {},
   "source": [
    "## 패딩하기\n",
    "* 서로 다른 길이의 샘플들을 병렬 처리하기 위해 같은 길이로 맞춰 주는 패딩 작업이 필요\n",
    "* 전 단계에서 정해둔 최대 길이로 패딩\n",
    "* 최대 길이보다 짧은 데이터들은 뒤의 공간에 숫자 0을 삽입해 최대 길이로 길이를 맞춤"
   ]
  },
  {
   "cell_type": "code",
   "execution_count": 37,
   "id": "f008b44a",
   "metadata": {},
   "outputs": [
    {
     "name": "stdout",
     "output_type": "stream",
     "text": [
      "=3\n"
     ]
    }
   ],
   "source": [
    "encoder_input_train = pad_sequences(encoder_input_train, maxlen=text_max_len, padding='post')\n",
    "encoder_input_test = pad_sequences(encoder_input_test, maxlen=text_max_len, padding='post')\n",
    "decoder_input_train = pad_sequences(decoder_input_train, maxlen=summary_max_len, padding='post')\n",
    "decoder_target_train = pad_sequences(decoder_target_train, maxlen=summary_max_len, padding='post')\n",
    "decoder_input_test = pad_sequences(decoder_input_test, maxlen=summary_max_len, padding='post')\n",
    "decoder_target_test = pad_sequences(decoder_target_test, maxlen=summary_max_len, padding='post')\n",
    "print('=3')"
   ]
  },
  {
   "cell_type": "markdown",
   "id": "6f28683a",
   "metadata": {},
   "source": [
    "## 모델 설계하기\n",
    "먼저, 함수형 API를 이용해서 인코더를 설계한다."
   ]
  },
  {
   "cell_type": "code",
   "execution_count": 39,
   "id": "8a840bcf",
   "metadata": {},
   "outputs": [
    {
     "name": "stdout",
     "output_type": "stream",
     "text": [
      "WARNING:tensorflow:Layer lstm_3 will not use cuDNN kernels since it doesn't meet the criteria. It will use a generic GPU kernel as fallback when running on GPU.\n",
      "WARNING:tensorflow:Layer lstm_4 will not use cuDNN kernels since it doesn't meet the criteria. It will use a generic GPU kernel as fallback when running on GPU.\n",
      "WARNING:tensorflow:Layer lstm_5 will not use cuDNN kernels since it doesn't meet the criteria. It will use a generic GPU kernel as fallback when running on GPU.\n"
     ]
    }
   ],
   "source": [
    "from tensorflow.keras.layers import Input, LSTM, Embedding, Dense, Concatenate, TimeDistributed\n",
    "from tensorflow.keras.models import Model\n",
    "from tensorflow.keras.callbacks import EarlyStopping, ModelCheckpoint\n",
    "\n",
    "\n",
    "# 인코더 설계 시작\n",
    "embedding_dim = 128\n",
    "hidden_size = 256\n",
    "\n",
    "# 인코더\n",
    "encoder_inputs = Input(shape=(text_max_len,))\n",
    "\n",
    "# 인코더의 임베딩 층\n",
    "enc_emb = Embedding(src_vocab, embedding_dim)(encoder_inputs)\n",
    "\n",
    "# 인코더의 LSTM 1\n",
    "encoder_lstm1 = LSTM(hidden_size, return_sequences=True, return_state=True ,dropout = 0.4, recurrent_dropout = 0.4)\n",
    "encoder_output1, state_h1, state_c1 = encoder_lstm1(enc_emb)\n",
    "\n",
    "# 인코더의 LSTM 2\n",
    "encoder_lstm2 = LSTM(hidden_size, return_sequences=True, return_state=True, dropout=0.4, recurrent_dropout=0.4)\n",
    "encoder_output2, state_h2, state_c2 = encoder_lstm2(encoder_output1)\n",
    "\n",
    "# 인코더의 LSTM 3\n",
    "encoder_lstm3 = LSTM(hidden_size, return_state=True, return_sequences=True, dropout=0.4, recurrent_dropout=0.4)\n",
    "encoder_outputs, state_h, state_c= encoder_lstm3(encoder_output2)"
   ]
  },
  {
   "cell_type": "markdown",
   "id": "67cce631",
   "metadata": {},
   "source": [
    "* 임베딩 벡터의 차원은 128로 정의하고, hidden state의 크기를 256으로 정의\n",
    "* hidden state\n",
    "  * LSTM에서 얼만큼의 수용력(capacity)를 가질지를 정하는 파라미터\n",
    "  * LSTM의 용량의 크기나, LSTM에서의 뉴런의 개수에 해당\n",
    "* 인코더의 LSTM\n",
    "  * 총 3개의 층으로 구성해서 모델의 복잡도를 높임\n",
    "  * hidden state의 크기를 늘리는 것이 LSTM 층 1개의 용량을 늘린다면, 3개의 층을 사용하는 것은 모델의 용량을 늘림\n",
    "  * 3개의 층을 지나서 인코더로부터 나온 출력 벡터는 디코더로 전송\n",
    "  * dropout 뿐 아니라 recurrent dropout까지 사용\n",
    "* [dropout](https://modulabs.notion.site/7-3-5afa05876d8848608b4da53a732d683f)\n",
    "  <img src = \"https://img1.daumcdn.net/thumb/R1280x0/?scode=mtistory2&fname=https%3A%2F%2Fblog.kakaocdn.net%2Fdn%2Fm5YtD%2FbtrbwgszFXZ%2FxdUhkeyK2lmrQXYy7HioL0%2Fimg.png\"><br>\n",
    "  * 서로 연결된 연결망(layer)에서 0과 1 사이의 확률로 뉴런을 제거(drop)하는 기법<br>\n",
    "  * Drop-out Rate는 하이퍼파라미터이며, 0.5로 설정하는 것이 일반적<br>\n",
    "  * 특정한 데이터셋만을 과도하게 집중 학습함으로써 발생할 수 있는 과적합(Overfitting)을 방지하기 위해 사용됨<br>\n",
    "* recurrent dropout<br>\n",
    "  * 일반적인 dropout은 레이어의 weight를 랜덤으로 생략하여 모델의 과적합(overfitting)을 해결<br>\n",
    "  * recurrent dropout은 dropout을 레이어가 아닌 time step마다 해주는 방식으로, time step의 입력을 랜덤으로 생략<br>\n",
    "  * 일반적인 dropout와 같이 regularization을 해주는 효과가 있고, 과적합을 방지<br>\n",
    "  * recurrent dropout을 사용할 시 cuDNN을 사용할 수 없어서 recurrent dropout을 사용하지 않을 때보다 학습 시간이 오래 걸리기 때문에, 아래와 같은 경고문이 출력됨<br>\n",
    "    WARNING:tensorflow:Layer lstm_5 will not use cuDNN kernels since it doesn't meet the criteria. It will use a generic GPU kernel as fallback when running on GPU.\n"
   ]
  },
  {
   "cell_type": "code",
   "execution_count": 40,
   "id": "a22152d7",
   "metadata": {},
   "outputs": [
    {
     "name": "stdout",
     "output_type": "stream",
     "text": [
      "WARNING:tensorflow:Layer lstm_6 will not use cuDNN kernels since it doesn't meet the criteria. It will use a generic GPU kernel as fallback when running on GPU.\n",
      "Model: \"model\"\n",
      "__________________________________________________________________________________________________\n",
      "Layer (type)                    Output Shape         Param #     Connected to                     \n",
      "==================================================================================================\n",
      "input_2 (InputLayer)            [(None, 60)]         0                                            \n",
      "__________________________________________________________________________________________________\n",
      "embedding_1 (Embedding)         (None, 60, 128)      2560000     input_2[0][0]                    \n",
      "__________________________________________________________________________________________________\n",
      "lstm_3 (LSTM)                   [(None, 60, 256), (N 394240      embedding_1[0][0]                \n",
      "__________________________________________________________________________________________________\n",
      "input_3 (InputLayer)            [(None, None)]       0                                            \n",
      "__________________________________________________________________________________________________\n",
      "lstm_4 (LSTM)                   [(None, 60, 256), (N 525312      lstm_3[0][0]                     \n",
      "__________________________________________________________________________________________________\n",
      "embedding_2 (Embedding)         (None, None, 128)    1152000     input_3[0][0]                    \n",
      "__________________________________________________________________________________________________\n",
      "lstm_5 (LSTM)                   [(None, 60, 256), (N 525312      lstm_4[0][0]                     \n",
      "__________________________________________________________________________________________________\n",
      "lstm_6 (LSTM)                   [(None, None, 256),  394240      embedding_2[0][0]                \n",
      "                                                                 lstm_5[0][1]                     \n",
      "                                                                 lstm_5[0][2]                     \n",
      "__________________________________________________________________________________________________\n",
      "dense (Dense)                   (None, None, 9000)   2313000     lstm_6[0][0]                     \n",
      "==================================================================================================\n",
      "Total params: 7,864,104\n",
      "Trainable params: 7,864,104\n",
      "Non-trainable params: 0\n",
      "__________________________________________________________________________________________________\n"
     ]
    }
   ],
   "source": [
    "# 디코더의 임베딩 층과 LSTM을 설계하는 것은 인코더와 거의 동일하다.\n",
    "# 다만 차이점은, LSTM의 입력을 정의할 때 initial_state의 인자값으로 인코더의 hidden state와 cell state의 값의 삽입이 필요하다.\n",
    "\n",
    "# 디코더 설계\n",
    "decoder_inputs = Input(shape=(None,))\n",
    "\n",
    "# 디코더의 임베딩 층\n",
    "dec_emb_layer = Embedding(tar_vocab, embedding_dim)\n",
    "dec_emb = dec_emb_layer(decoder_inputs)\n",
    "\n",
    "# 디코더의 LSTM\n",
    "decoder_lstm = LSTM(hidden_size, return_sequences=True, return_state=True, dropout=0.4, recurrent_dropout=0.2)\n",
    "decoder_outputs, _, _ = decoder_lstm(dec_emb, initial_state=[state_h, state_c])\n",
    "\n",
    "# 디코더의 출력층\n",
    "# headlines의 단어장인 tar_vocab의 수많은 선택지 중 하나의 단어를 선택하는 다중 클래스 분류 문제를 풀어야 함\n",
    "# 그렇기 때문에 Dense의 인자로 tar_vocab을 주고, 활성화 함수로 소프트맥스 함수를 사용하고 있음\n",
    "decoder_softmax_layer = Dense(tar_vocab, activation='softmax')\n",
    "decoder_softmax_outputs = decoder_softmax_layer(decoder_outputs) \n",
    "\n",
    "\n",
    "# 모델 정의\n",
    "model = Model([encoder_inputs, decoder_inputs], decoder_softmax_outputs)\n",
    "model.summary()"
   ]
  },
  {
   "cell_type": "markdown",
   "id": "388d6370",
   "metadata": {},
   "source": [
    "## [어텐션 메커니즘 (Attention Mechanism)](https://wikidocs.net/22893)\n",
    "* RNN에 기반한 seq2seq 모델이 가지는 문제점\n",
    "  1. 하나의 고정된 크기의 벡터에 모든 정보를 압축하려고 하다 보니 정보 손실이 발생\n",
    "  2. RNN의 고질적인 문제인 기울기 소실(vanishing gradient) 문제가 존재\n",
    "* 이로 인해 기계 번역 분야에서는, 입력 문장이 길면 번역 품질이 떨어지는 현상이 발생하게 됨\n",
    "* 이 문제를 해결하기 위해 입력 시퀀스가 길어지면 출력 시퀀스의 정확도가 떨어지는 것을 보정 해 주는 어텐션(attention) 기법이 등장\n",
    "* 디코더에서 출력 단어를 예측하는 매 시점(time step)마다, 인코더에서의 전체 입력 문장을 다시 한 번 참고하는 것이 기본 아이디어\n",
    "* 단, 전체 입력 문장을 전부 다 동일한 비율로 참고하는 것이 아닌, 해당 시점에서 예측해야 할 단어와 연관이 있는 입력 단어 부분에 좀 더 집중(attention)"
   ]
  },
  {
   "cell_type": "code",
   "execution_count": 41,
   "id": "19103a1e",
   "metadata": {},
   "outputs": [
    {
     "name": "stdout",
     "output_type": "stream",
     "text": [
      "Model: \"model_1\"\n",
      "__________________________________________________________________________________________________\n",
      "Layer (type)                    Output Shape         Param #     Connected to                     \n",
      "==================================================================================================\n",
      "input_2 (InputLayer)            [(None, 60)]         0                                            \n",
      "__________________________________________________________________________________________________\n",
      "embedding_1 (Embedding)         (None, 60, 128)      2560000     input_2[0][0]                    \n",
      "__________________________________________________________________________________________________\n",
      "lstm_3 (LSTM)                   [(None, 60, 256), (N 394240      embedding_1[0][0]                \n",
      "__________________________________________________________________________________________________\n",
      "input_3 (InputLayer)            [(None, None)]       0                                            \n",
      "__________________________________________________________________________________________________\n",
      "lstm_4 (LSTM)                   [(None, 60, 256), (N 525312      lstm_3[0][0]                     \n",
      "__________________________________________________________________________________________________\n",
      "embedding_2 (Embedding)         (None, None, 128)    1152000     input_3[0][0]                    \n",
      "__________________________________________________________________________________________________\n",
      "lstm_5 (LSTM)                   [(None, 60, 256), (N 525312      lstm_4[0][0]                     \n",
      "__________________________________________________________________________________________________\n",
      "lstm_6 (LSTM)                   [(None, None, 256),  394240      embedding_2[0][0]                \n",
      "                                                                 lstm_5[0][1]                     \n",
      "                                                                 lstm_5[0][2]                     \n",
      "__________________________________________________________________________________________________\n",
      "attention_layer (AdditiveAttent (None, None, 256)    256         lstm_6[0][0]                     \n",
      "                                                                 lstm_5[0][0]                     \n",
      "__________________________________________________________________________________________________\n",
      "concat_layer (Concatenate)      (None, None, 512)    0           lstm_6[0][0]                     \n",
      "                                                                 attention_layer[0][0]            \n",
      "__________________________________________________________________________________________________\n",
      "dense_1 (Dense)                 (None, None, 9000)   4617000     concat_layer[0][0]               \n",
      "==================================================================================================\n",
      "Total params: 10,168,360\n",
      "Trainable params: 10,168,360\n",
      "Non-trainable params: 0\n",
      "__________________________________________________________________________________________________\n"
     ]
    }
   ],
   "source": [
    "# 어텐션 층을 생성하고, 위에서 설계한 디코더의 출력층 수정\n",
    "\n",
    "from tensorflow.keras.layers import AdditiveAttention\n",
    "\n",
    "# 어텐션 층(어텐션 함수)\n",
    "attn_layer = AdditiveAttention(name='attention_layer')\n",
    "\n",
    "# 인코더와 디코더의 모든 time step의 hidden state를 어텐션 층에 전달하고 결과를 리턴\n",
    "attn_out = attn_layer([decoder_outputs, encoder_outputs])\n",
    "\n",
    "\n",
    "# 어텐션의 결과와 디코더의 hidden state들을 연결\n",
    "decoder_concat_input = Concatenate(axis=-1, name='concat_layer')([decoder_outputs, attn_out])\n",
    "\n",
    "# 디코더의 출력층\n",
    "decoder_softmax_layer = Dense(tar_vocab, activation='softmax')\n",
    "decoder_softmax_outputs = decoder_softmax_layer(decoder_concat_input)\n",
    "\n",
    "# 모델 정의\n",
    "model = Model([encoder_inputs, decoder_inputs], decoder_softmax_outputs)\n",
    "model.summary()"
   ]
  },
  {
   "cell_type": "markdown",
   "id": "f07617e0",
   "metadata": {},
   "source": [
    "위의 코드는 인코더의 hidden state들과 디코더의 hidden state들을 어텐션 함수의 입력으로 사용하고, 어텐션 함수가 리턴한 값을 예측 시에 디코더의 hidden state와 함께 활용하는 형태로 작동하고 있다."
   ]
  },
  {
   "cell_type": "markdown",
   "id": "165343e7",
   "metadata": {},
   "source": [
    "* * *\n",
    "\n",
    "## 모델 훈련하기\n",
    "* 설계된 모델을 이용하여 훈련을 진행한다."
   ]
  },
  {
   "cell_type": "code",
   "execution_count": 42,
   "id": "8e9b41d1",
   "metadata": {},
   "outputs": [
    {
     "name": "stdout",
     "output_type": "stream",
     "text": [
      "Epoch 1/50\n",
      "251/251 [==============================] - 207s 789ms/step - loss: 6.2680 - val_loss: 5.8372\n",
      "Epoch 2/50\n",
      "251/251 [==============================] - 196s 779ms/step - loss: 5.7016 - val_loss: 5.4727\n",
      "Epoch 3/50\n",
      "251/251 [==============================] - 195s 777ms/step - loss: 5.3638 - val_loss: 5.2400\n",
      "Epoch 4/50\n",
      "251/251 [==============================] - 194s 771ms/step - loss: 5.0713 - val_loss: 4.9830\n",
      "Epoch 5/50\n",
      "251/251 [==============================] - 194s 772ms/step - loss: 4.8313 - val_loss: 4.8178\n",
      "Epoch 6/50\n",
      "251/251 [==============================] - 192s 766ms/step - loss: 4.6361 - val_loss: 4.6822\n",
      "Epoch 7/50\n",
      "251/251 [==============================] - 193s 768ms/step - loss: 4.4672 - val_loss: 4.5871\n",
      "Epoch 8/50\n",
      "251/251 [==============================] - 194s 774ms/step - loss: 4.3214 - val_loss: 4.5055\n",
      "Epoch 9/50\n",
      "251/251 [==============================] - 193s 768ms/step - loss: 4.1911 - val_loss: 4.4394\n",
      "Epoch 10/50\n",
      "251/251 [==============================] - 193s 767ms/step - loss: 4.0710 - val_loss: 4.3760\n",
      "Epoch 11/50\n",
      "251/251 [==============================] - 193s 770ms/step - loss: 3.9617 - val_loss: 4.3352\n",
      "Epoch 12/50\n",
      "251/251 [==============================] - 194s 771ms/step - loss: 3.8660 - val_loss: 4.3006\n",
      "Epoch 13/50\n",
      "251/251 [==============================] - 194s 773ms/step - loss: 3.7768 - val_loss: 4.2698\n",
      "Epoch 14/50\n",
      "251/251 [==============================] - 194s 771ms/step - loss: 3.6965 - val_loss: 4.2362\n",
      "Epoch 15/50\n",
      "251/251 [==============================] - 193s 767ms/step - loss: 3.6181 - val_loss: 4.2167\n",
      "Epoch 16/50\n",
      "251/251 [==============================] - 193s 767ms/step - loss: 3.5472 - val_loss: 4.1974\n",
      "Epoch 17/50\n",
      "251/251 [==============================] - 192s 764ms/step - loss: 3.4798 - val_loss: 4.1853\n",
      "Epoch 18/50\n",
      "251/251 [==============================] - 193s 767ms/step - loss: 3.4185 - val_loss: 4.1714\n",
      "Epoch 19/50\n",
      "251/251 [==============================] - 195s 776ms/step - loss: 3.3609 - val_loss: 4.1655\n",
      "Epoch 20/50\n",
      "251/251 [==============================] - 193s 770ms/step - loss: 3.3049 - val_loss: 4.1510\n",
      "Epoch 21/50\n",
      "251/251 [==============================] - 193s 770ms/step - loss: 3.2541 - val_loss: 4.1455\n",
      "Epoch 22/50\n",
      "251/251 [==============================] - 193s 770ms/step - loss: 3.2054 - val_loss: 4.1435\n",
      "Epoch 23/50\n",
      "251/251 [==============================] - 194s 772ms/step - loss: 3.1592 - val_loss: 4.1404\n",
      "Epoch 24/50\n",
      "251/251 [==============================] - 196s 781ms/step - loss: 3.1106 - val_loss: 4.1347\n",
      "Epoch 25/50\n",
      "251/251 [==============================] - 192s 766ms/step - loss: 3.0660 - val_loss: 4.1304\n",
      "Epoch 26/50\n",
      "251/251 [==============================] - 192s 766ms/step - loss: 3.0248 - val_loss: 4.1292\n",
      "Epoch 27/50\n",
      "251/251 [==============================] - 193s 770ms/step - loss: 2.9842 - val_loss: 4.1311\n",
      "Epoch 28/50\n",
      "251/251 [==============================] - 193s 768ms/step - loss: 2.9471 - val_loss: 4.1291\n",
      "Epoch 29/50\n",
      "251/251 [==============================] - 192s 765ms/step - loss: 2.9136 - val_loss: 4.1272\n",
      "Epoch 30/50\n",
      "251/251 [==============================] - 192s 767ms/step - loss: 2.8793 - val_loss: 4.1289\n",
      "Epoch 31/50\n",
      "251/251 [==============================] - 193s 768ms/step - loss: 2.8462 - val_loss: 4.1356\n",
      "Epoch 00031: early stopping\n"
     ]
    }
   ],
   "source": [
    "model.compile(optimizer='rmsprop', loss='sparse_categorical_crossentropy')\n",
    "es = EarlyStopping(monitor='val_loss', patience=2, verbose=1) # 조기 종료(EarlyStopping)\n",
    "# val_loss(검증 데이터의 손실)을 관찰하다가, \n",
    "# 검증 데이터의 손실이 줄어들지 않고 증가하는 현상이 2회(patience=2) 관측되면 학습을 멈추도록 설정\n",
    "# 즉, EarlyStopping이 작동하게 되면 아무리 epoch의 값이 크더라도 모델 훈련을 최적점에서 중단할 수 있음\n",
    "history = model.fit(x=[encoder_input_train, decoder_input_train], y=decoder_target_train, \\\n",
    "          validation_data=([encoder_input_test, decoder_input_test], decoder_target_test), \\\n",
    "          batch_size=256, callbacks=[es], epochs=50)"
   ]
  },
  {
   "cell_type": "code",
   "execution_count": 43,
   "id": "01c38816",
   "metadata": {},
   "outputs": [
    {
     "data": {
      "image/png": "[encoded data removed]",
      "text/plain": [
       "<Figure size 432x288 with 1 Axes>"
      ]
     },
     "metadata": {
      "needs_background": "light"
     },
     "output_type": "display_data"
    }
   ],
   "source": [
    "# 훈련 데이터와 검증 데이터의 손실이 감소하는 과정 시각화\n",
    "\n",
    "plt.plot(history.history['loss'], label='train')\n",
    "plt.plot(history.history['val_loss'], label='test')\n",
    "plt.legend()\n",
    "plt.show()"
   ]
  },
  {
   "cell_type": "markdown",
   "id": "c4ea7aa5",
   "metadata": {},
   "source": [
    "## 인퍼런스 모델 구현하기\n",
    "* 테스트 단계에서는 정수 인덱스 행렬로 존재하던 텍스트 데이터를 실제 데이터로 복원하는 작업이 필요\n",
    "* 아래 코드와 같이 필요한 3개의 사전을 준비"
   ]
  },
  {
   "cell_type": "code",
   "execution_count": 44,
   "id": "0076acbe",
   "metadata": {},
   "outputs": [
    {
     "name": "stdout",
     "output_type": "stream",
     "text": [
      "=3\n"
     ]
    }
   ],
   "source": [
    "src_index_to_word = src_tokenizer.index_word # 원문 단어 집합에서 정수 -> 단어를 얻음\n",
    "tar_word_to_index = tar_tokenizer.word_index # 요약 단어 집합에서 단어 -> 정수를 얻음\n",
    "tar_index_to_word = tar_tokenizer.index_word # 요약 단어 집합에서 정수 -> 단어를 얻음\n",
    "\n",
    "print('=3')"
   ]
  },
  {
   "cell_type": "markdown",
   "id": "a50d2b73",
   "metadata": {},
   "source": [
    "* 훈련 단계에서는 디코더의 입력부에 정답이 되는 문장 전체를 한꺼번에 넣고 디코더의 출력과 한번에 비교할 수 있기 때문에, 둘을 하나로 묶은 모델을 설계함\n",
    "* 반면 정답 문장이 없는 인퍼런스 단계에서는 생성할 문장의 길이만큼 디코더가 반복적으로 동작하기 때문에 별도의 모델 설계가 필요\n",
    "* 이때, 인코더와 디코더 모델을 분리해서 설계"
   ]
  },
  {
   "cell_type": "code",
   "execution_count": 45,
   "id": "df3f95a2",
   "metadata": {},
   "outputs": [
    {
     "name": "stdout",
     "output_type": "stream",
     "text": [
      "=3\n"
     ]
    }
   ],
   "source": [
    "# 인코더 설계\n",
    "encoder_model = Model(inputs=encoder_inputs, outputs=[encoder_outputs, state_h, state_c])\n",
    "\n",
    "# 이전 시점의 상태들을 저장하는 텐서\n",
    "decoder_state_input_h = Input(shape=(hidden_size,))\n",
    "decoder_state_input_c = Input(shape=(hidden_size,))\n",
    "\n",
    "dec_emb2 = dec_emb_layer(decoder_inputs)\n",
    "\n",
    "# 문장의 다음 단어를 예측하기 위해서 초기 상태(initial_state)를 이전 시점의 상태로 사용. 이는 뒤의 함수 decode_sequence()에 구현\n",
    "# 훈련 과정에서와 달리 LSTM의 리턴하는 은닉 상태와 셀 상태인 state_h와 state_c를 버리지 않음.\n",
    "decoder_outputs2, state_h2, state_c2 = decoder_lstm(dec_emb2, initial_state=[decoder_state_input_h, decoder_state_input_c])\n",
    "\n",
    "print('=3')"
   ]
  },
  {
   "cell_type": "code",
   "execution_count": 46,
   "id": "160b319b",
   "metadata": {},
   "outputs": [
    {
     "name": "stdout",
     "output_type": "stream",
     "text": [
      "=3\n"
     ]
    }
   ],
   "source": [
    "# 어텐션 메커니즘을 사용하는 출력층 설계\n",
    "\n",
    "# 어텐션 함수\n",
    "decoder_hidden_state_input = Input(shape=(text_max_len, hidden_size))\n",
    "attn_out_inf = attn_layer([decoder_outputs2, decoder_hidden_state_input])\n",
    "decoder_inf_concat = Concatenate(axis=-1, name='concat')([decoder_outputs2, attn_out_inf])\n",
    "\n",
    "# 디코더의 출력층\n",
    "decoder_outputs2 = decoder_softmax_layer(decoder_inf_concat) \n",
    "\n",
    "# 최종 디코더 모델\n",
    "decoder_model = Model(\n",
    "    [decoder_inputs] + [decoder_hidden_state_input,decoder_state_input_h, decoder_state_input_c],\n",
    "    [decoder_outputs2] + [state_h2, state_c2])\n",
    "\n",
    "print('=3')"
   ]
  },
  {
   "cell_type": "code",
   "execution_count": 47,
   "id": "b0d0dd7b",
   "metadata": {},
   "outputs": [
    {
     "name": "stdout",
     "output_type": "stream",
     "text": [
      "=3\n"
     ]
    }
   ],
   "source": [
    "# 인퍼런스 단계에서 단어 시퀀스를 완성하는 함수 생성\n",
    "\n",
    "def decode_sequence(input_seq):\n",
    "    # 입력으로부터 인코더의 상태를 얻음\n",
    "    e_out, e_h, e_c = encoder_model.predict(input_seq)\n",
    "\n",
    "     # <SOS>에 해당하는 토큰 생성\n",
    "    target_seq = np.zeros((1,1))\n",
    "    target_seq[0, 0] = tar_word_to_index['sostoken']\n",
    "\n",
    "    stop_condition = False\n",
    "    decoded_sentence = ''\n",
    "    while not stop_condition: # stop_condition이 True가 될 때까지 루프 반복\n",
    "\n",
    "        output_tokens, h, c = decoder_model.predict([target_seq] + [e_out, e_h, e_c])\n",
    "        sampled_token_index = np.argmax(output_tokens[0, -1, :])\n",
    "        sampled_token = tar_index_to_word[sampled_token_index]\n",
    "\n",
    "        if (sampled_token!='eostoken'):\n",
    "            decoded_sentence += ' '+sampled_token\n",
    "\n",
    "        #  <eos>에 도달하거나 최대 길이를 넘으면 중단.\n",
    "        if (sampled_token == 'eostoken'  or len(decoded_sentence.split()) >= (summary_max_len-1)):\n",
    "            stop_condition = True\n",
    "\n",
    "        # 길이가 1인 타겟 시퀀스를 업데이트\n",
    "        target_seq = np.zeros((1,1))\n",
    "        target_seq[0, 0] = sampled_token_index\n",
    "\n",
    "        # 상태를 업데이트 합니다.\n",
    "        e_h, e_c = h, c\n",
    "\n",
    "    return decoded_sentence\n",
    "print('=3')"
   ]
  },
  {
   "cell_type": "markdown",
   "id": "c5b9e378",
   "metadata": {},
   "source": [
    "## 모델 테스트하기\n",
    "* 주어진 정수 시퀀스를 텍스트 시퀀스로 변환하는 함수 생성\n",
    "  * text의 정수 시퀀스에서는 패딩을 위해 사용되는 숫자 0을 제외\n",
    "  * headlines의 정수 시퀀스에서는 숫자 0, 시작 토큰의 인덱스, 종료 토큰의 인덱스를 출력에서 제외"
   ]
  },
  {
   "cell_type": "code",
   "execution_count": 48,
   "id": "d5f1002f",
   "metadata": {},
   "outputs": [
    {
     "name": "stdout",
     "output_type": "stream",
     "text": [
      "=3\n"
     ]
    }
   ],
   "source": [
    "# 원문의 정수 시퀀스를 텍스트 시퀀스로 변환\n",
    "def seq2text(input_seq):\n",
    "    temp=''\n",
    "    for i in input_seq:\n",
    "        if (i!=0):\n",
    "            temp = temp + src_index_to_word[i]+' '\n",
    "    return temp\n",
    "\n",
    "# 요약문의 정수 시퀀스를 텍스트 시퀀스로 변환\n",
    "def seq2summary(input_seq):\n",
    "    temp=''\n",
    "    for i in input_seq:\n",
    "        if ((i!=0 and i!=tar_word_to_index['sostoken']) and i!=tar_word_to_index['eostoken']):\n",
    "            temp = temp + tar_index_to_word[i] + ' '\n",
    "    return temp\n",
    "\n",
    "print('=3')"
   ]
  },
  {
   "cell_type": "markdown",
   "id": "309d82fa",
   "metadata": {},
   "source": [
    "* * *\n",
    "\n",
    "## 실제 결과와 요약문 비교하기(추상적 요약)"
   ]
  },
  {
   "cell_type": "code",
   "execution_count": 49,
   "id": "3b7d35ae",
   "metadata": {},
   "outputs": [
    {
     "name": "stdout",
     "output_type": "stream",
     "text": [
      "원문 : talking sara ali khan making bollywood debut upcoming film kedarnath producer ronnie said sara absolute star told director abhishek kapoor came watch minutes film look like sara first film seemed like fifth film added ronnie \n",
      "실제 요약 : sara ali khan is star kedarnath producer \n",
      "예측 요약 :  saif ali khan debut film saif\n",
      "\n",
      "\n",
      "원문 : year old female trainee pilot india among three people killed mid air collision two training aircraft flight school florida us nisha reportedly enrolled dean international flight school september notably flight school involved total incidents since \n",
      "실제 요약 : indian among those killed in aircraft collision in us \n",
      "예측 요약 :  indian pilot killed in flight for trying to enter\n",
      "\n",
      "\n",
      "원문 : congress leader shashi tharoor wednesday pointed typo made tweet apologised people looked misspelt word dictionary tharoor misspelt tweet tuesday bet many would considered nominating word year person commented tharoor apology \n",
      "실제 요약 : tharoor makes apologises to people it in dictionary \n",
      "예측 요약 :  tharoor reacts to tharoor on shashi tharoor\n",
      "\n",
      "\n",
      "원문 : actress emma watson wore yellow gown inspired ball gown worn disney character event new york gown designed fashion house christian dior made sustainable eco age fabric emma seen portraying upcoming film beauty beast \n",
      "실제 요약 : emma watson wears inspired yellow gown to event \n",
      "예측 요약 :  david warner unveils own song at cannes fashion week\n",
      "\n",
      "\n",
      "원문 : us president donald trump told former fbi director james comey first national security adviser michael flynn serious judgment issues according memos maintained comey flynn fired february last year allegedly misleading officials russian contacts however trump asked let go investigation flynn according one memo \n",
      "실제 요약 : trump ex nsa ex fbi chief \n",
      "예측 요약 :  trump calls fbi director comey comey comey\n",
      "\n",
      "\n",
      "원문 : indian captain virat kohli equalled ms dhoni rahul dravid record consecutive odi victories indian captain dhoni led india nine straight victories november february dravid nine straight odis captain kohli led india nine successive odis july september \n",
      "실제 요약 : kohli equals most straight odi wins record as india captain \n",
      "예측 요약 :  kohli equals kohli record of most scores in india\n",
      "\n",
      "\n",
      "원문 : private lender axis bank reportedly emerged front runner buy snapdeal owned digital wallet startup freecharge report said bank currently conducting due diligence acquisition could valued crore may reported alibaba backed paytm signed non exclusive term sheet acquire freecharge \n",
      "실제 요약 : axis bank may buy online wallet firm freecharge for cr \n",
      "예측 요약 :  axis bank to buy freecharge for snapdeal reports\n",
      "\n",
      "\n",
      "원문 : man accused killing indian national another bar united states kansas charged hate crimes justice department announced friday indictment alleges adam committed crimes planning attempted kill one person created risk death others scene \n",
      "실제 요약 : man who killed indian charged with hate crimes \n",
      "예측 요약 :  man held for killing man in us\n",
      "\n",
      "\n",
      "원문 : submitting action plan combat pollution national green tribunal delhi government said exemptions odd even rule construction completely stopped pollution level reaches severe levels also said entry trucks delhi burning waste banned pollution causing industries shut \n",
      "실제 요약 : no under odd even rule delhi govt to ngt \n",
      "예측 요약 :  delhi pollution cannot be shut down ngt\n",
      "\n",
      "\n",
      "원문 : chinese tv programmes appeared earrings worn male actors reportedly chinese government view doctored images male actors also posted online reports earlier claimed chinese authorities banned tv stations featuring actors tattoos hip hop singers \n",
      "실제 요약 : china earrings of male actors reports \n",
      "예측 요약 :  china apologises for racist chinese\n",
      "\n",
      "\n",
      "원문 : bank employees federation india demanded sbi withdraw proposed plan levy charges transactions made mobile wallet would set bad precedent public sector banks said sbi going introduce new facility cash withdrawals atms using wallet would attract charge \n",
      "실제 요약 : withdraw plan to charge transactions on sbi wallet union \n",
      "예측 요약 :  sbi to issue payments bank of sbi\n",
      "\n",
      "\n",
      "원문 : american singer actress claims successfully made two clones pet dog died last year two time oscar winner claimed cells taken mouth stomach year old dog waiting get older see brown eyes seriousness said \n",
      "실제 요약 : oscar winning singer claims she cloned her dead dog twice \n",
      "예측 요약 :  toddler falls into moving dog during flight\n",
      "\n",
      "\n",
      "원문 : northern railways planning use whatsapp groups senior officials monitor cleanliness trains departments post status report daily basis separate whatsapp groups northern railways also get crore automatic coach washing plant capable washing coach train within eight minutes \n",
      "실제 요약 : railways to monitor train cleanliness using whatsapp groups \n",
      "예측 요약 :  govt to launch digital network for public\n",
      "\n",
      "\n",
      "원문 : first us uk based researchers developed artificial intelligence system successfully predicted laboratory simulated earthquakes ai employs machine learning finding patterns acoustic signal fault determine future earthquakes researchers aiming scale ai real earthquake detection possibly landslides \n",
      "실제 요약 : ai that can predict earthquakes being developed \n",
      "예측 요약 :  ai to detect world first ever technology\n",
      "\n",
      "\n",
      "원문 : infosys co founder narayana murthy said technologies like ai render people jobless future create opportunities giving example uk us japan said countries absorb technology reduced unemployment much ai important area computer sciences added \n",
      "실제 요약 : technology will not kill but create jobs narayana murthy \n",
      "예측 요약 :  we are not to build startups infosys murthy\n",
      "\n",
      "\n",
      "원문 : year old girl allegedly raped owner coaching institute several months district bihar girl would visit coaching institute computer training sent hospital medical examination several computers seized institute search nab accused underway \n",
      "실제 요약 : yr old raped by bihar coaching institute owner for months \n",
      "예측 요약 :  year old girl raped by neighbour in delhi\n",
      "\n",
      "\n",
      "원문 : sidelined aiadmk leader vk sasikala lodged bengaluru jail sought parole attend last rites husband natarajan passed away tuesday sasikala reportedly applied day parole number days granted depend jail authorities sasikala sentenced year disproportionate assets case \n",
      "실제 요약 : sasikala seeks parole to attend husband last rites \n",
      "예측 요약 :  sasikala gets life sentence for sasikala in sasikala\n",
      "\n",
      "\n",
      "원문 : actress kriti sanon said actors younger generation skipping veteran actor vinod khanna funeral added think present generation less attached actor rishi kapoor slammed younger generation actors skipped funeral many attended priyanka chopra party night \n",
      "실제 요약 : young stars khanna funeral was kriti \n",
      "예측 요약 :  never thought it is like vidya balan\n",
      "\n",
      "\n",
      "원문 : bihar government suspended six officials social welfare department negligence dereliction duty muzaffarpur shelter home rape case cbi investigating case medical reports confirmed girls lodged shelter home sexually abused \n",
      "실제 요약 : bihar govt officials suspended over shelter home rape case \n",
      "예측 요약 :  bihar shelter home suspended over rape charges\n",
      "\n",
      "\n",
      "원문 : facebook coo sheryl sandberg recently briefed uk home secretary amber counter terrorism efforts comes wake recent terror attacks uk government blamed facebook social media sites blocking terrorist content facebook hiring people review posts users flag promoting extremism \n",
      "실제 요약 : facebook uk govt about its counter terrorism efforts \n",
      "예측 요약 :  fb twitter ceo arrested for us security\n",
      "\n",
      "\n",
      "원문 : according app annie report china accounted nearly global app downloads across ios third party android apps consumer spending total number global app downloads billion india one top five markets downloads app annie added \n",
      "실제 요약 : china for about of global app in \n",
      "예측 요약 :  facebook to buy users in india most influential\n",
      "\n",
      "\n",
      "원문 : kareena kapoor talking step daughter sara ali khan bollywood debut said sure sara going rock industry beauty talent kareena added sure going talented genes looking sara make debut opposite sushant singh rajput kedarnath \n",
      "실제 요약 : sara will rock the industry with her beauty talent kareena \n",
      "예측 요약 :  kareena and kareena and sara and kareena\n",
      "\n",
      "\n",
      "원문 : air deccan chairman referred vijay mallya political football borrowed money upa power without naming claimed one party mallya allowed leave india blamed former taking adequate action parties politically find close comfort added \n",
      "실제 요약 : air calls mallya political football \n",
      "예측 요약 :  mallya to be fined for india extradition vijay mallya\n",
      "\n",
      "\n",
      "원문 : delhi high court upheld trial court order granting anticipatory bail congress leader sajjan kumar alleged murder three sikhs riots pm indira gandhi assassination court noted special investigation team challenging trial court order make ground bail cancellation \n",
      "실제 요약 : hc upholds bail order of cong leader accused in riots \n",
      "예측 요약 :  hc allows karti chidambaram to join bjp\n",
      "\n",
      "\n",
      "원문 : address concerns following reports massive layoffs cognizant president rajeev mehta written employees saying company done layoffs giant also denied speculations measures undertaken allow us continue hire local markets around world letter read \n",
      "실제 요약 : cognizant has not done any president writes to staff \n",
      "예측 요약 :  group denies reports of being employees\n",
      "\n",
      "\n",
      "원문 : us based physicist sophia processed images storm saturn pole taken nasa cassini probe first object reach saturn rings explained use blue storm eye saying skies would clear light would like earth golden hue represents pole facing depicting summer \n",
      "실제 요약 : physicist colour saturn images taken by nasa probe \n",
      "예측 요약 :  space station spacecraft first ever asteroid\n",
      "\n",
      "\n",
      "원문 : inmates south african prison given strip show three women prompting outrage across country high crime rates event took place youth month celebrations official programme designed aid rehabilitation prisoners prison reportedly houses country dangerous criminals including rapists murderers \n",
      "실제 요약 : strip show organised for inmates in south african prison \n",
      "예측 요약 :  inmates who died in jail for months jail\n",
      "\n",
      "\n",
      "원문 : us southwest airlines giving compensation travel vouchers worth passengers flight made emergency landing due engine explosion female passenger died result accident letter passengers airline expressed sincere apologies accident \n",
      "실제 요약 : airline gives compensation after plane engine explodes \n",
      "예측 요약 :  plane makes emergency landing after passengers in cockpit\n",
      "\n",
      "\n",
      "원문 : jacinda ardern named next prime minister new zealand two half months becoming leader labour party ardern new zealand third woman prime minister helen clark first time party without highest vote share formed government \n",
      "실제 요약 : named next new zealand pm \n",
      "예측 요약 :  uk pm appoints india first female prime minister\n",
      "\n",
      "\n",
      "원문 : indian contingent finished international boxing tournament three gold medals five silver medals five bronze medals sumit asian silver medallist defeated ecuador claim gold kg category himanshu sharma zareen two gold winners indian boxing contingent \n",
      "실제 요약 : indian boxers win gold silver bronze at int ship \n",
      "예측 요약 :  india wins silver at asian wrestling championships\n",
      "\n",
      "\n",
      "원문 : congress president rahul gandhi saturday performed aarti narmada puja madhya pradesh holding roadshow ahead upcoming state assembly elections rahul accompanied party leaders kamal nath jyotiraditya scindia also performed aarti assembly elections state scheduled take place november \n",
      "실제 요약 : rahul gandhi performs aarti during puja in mp \n",
      "예측 요약 :  rahul gandhi statue at temple rally in up\n",
      "\n",
      "\n",
      "원문 : price ml cup tea ml cup coffee trains increased per railway board circular standard tea served change prices rajdhani shatabdi food package prepaid \n",
      "실제 요약 : indian railways increases prices of tea coffee on trains \n",
      "예측 요약 :  world cup tickets sold for crore\n",
      "\n",
      "\n",
      "원문 : district administration gwalior madhya pradesh started scheme wherein person click picture someone defecating public send authorities win authorities also levy fine person caught defecating openly basically citizen campaign involve people monitoring official said \n",
      "실제 요약 : reward for each photo of open defecation in \n",
      "예측 요약 :  mp police to mp for drinking on rakshabandhan\n",
      "\n",
      "\n",
      "원문 : uk elections friday ended hung parliament pm theresa may lost parliamentary majority calling election strengthen although may conservative party lost majority emerged largest followed labour party conservative government remain office decided form new government \n",
      "실제 요약 : uk polls end in parliament theresa may loses majority \n",
      "예측 요약 :  uk pm theresa may uk parliament election\n",
      "\n",
      "\n",
      "원문 : union hrd minister prakash javadekar tuesday announced wifi services launched central universities starting july year universities connected national knowledge network information sharing universities selected du jnu aligarh muslim university hyderabad university hindu university among others \n",
      "실제 요약 : govt releases list of universities for free wifi from july \n",
      "예측 요약 :  railway launches free wi fi portal for women\n",
      "\n",
      "\n",
      "원문 : indian prime minister narendra modi met india medal winners recently concluded asian games delhi wednesday india sports minister olympic silver medalist rajyavardhan singh rathore tweeted leader firmly believes power sports pm modi presence huge players \n",
      "실제 요약 : pm narendra modi meets asian games medal winners in delhi \n",
      "예측 요약 :  pm modi to host india medal medal in india\n",
      "\n",
      "\n",
      "원문 : maharashtra chief minister devendra fadnavis said state already given consent bring fuel gst fadnavis added states given consent yet task force already working reducing fuel prices brought gst rates come said \n",
      "실제 요약 : maharashtra has given consent to bring fuel under gst cm \n",
      "예측 요약 :  will not be mandatory for electric vehicles maha cm\n",
      "\n",
      "\n",
      "원문 : rajya sabha mp mahendra prasad also called king mahendra declared movable assets worth crore immovable assets worth around crore election affidavit seven time mp owns two pharmaceutical companies motor vehicle insurance policy reportedly parliamentarian travelled visited countries \n",
      "실제 요약 : prasad considered richest mp with cr assets \n",
      "예측 요약 :  bjp mp stake in adani stake in fy\n",
      "\n",
      "\n",
      "원문 : former spice girl melanie brown ex nanny filed lawsuit alleging singer acted camera man film estranged husband stephen allegation comes melanie accused affair stephen baby however claimed never sex stephen without melanie instruction \n",
      "실제 요약 : spice girl filmed our says in lawsuit \n",
      "예측 요약 :  ford accuses husband of molestation\n",
      "\n",
      "\n",
      "원문 : pm narendra modi sunday dedicated eastern peripheral expressway india first green smart highway nation built cost crore km expressway powered solar energy provisions rainwater harvesting every metres earlier supreme court directed authorities open expressway may even without inauguration \n",
      "실제 요약 : pm modi dedicates first smart green highway to the nation \n",
      "예측 요약 :  pm modi inaugurates india expressway for expressway\n",
      "\n",
      "\n",
      "원문 : white house wednesday said cryptocurrencies market offers great hope also presents security risks concerns want make sure blockchain cryptocurrencies used support illicit behaviour ways cannot discover white house official said asked needed regulation said prepared say \n",
      "실제 요약 : cryptocurrencies offer hope but present risks white house \n",
      "예측 요약 :  patanjali is an regulate\n",
      "\n",
      "\n",
      "원문 : justin margaret couple new jersey found engagement ring nine years losing italy ring slipped margaret finger vacation nine years later couple returned italy stayed accommodation found stuck pavement \n",
      "실제 요약 : couple finds engagement ring yrs after losing it on holiday \n",
      "예측 요약 :  singer marries girlfriend in london\n",
      "\n",
      "\n",
      "원문 : flipkart co founder group ceo binny bansal interview recalled commerce startup got name said sachin said letters available less added spent hours domain names thought flipkart way cooler said \n",
      "실제 요약 : flipkart group ceo reveals how the startup got its name \n",
      "예측 요약 :  flipkart is not an investment ceo\n",
      "\n",
      "\n",
      "원문 : three us law firms initiated investigation infosys claims securities fraud unlawful business practices company one firms preparing class action lawsuit recover losses suffered infosys shareholders news comes day vishal sikka quit company md ceo \n",
      "실제 요약 : us law firms start probe against infosys on securities fraud \n",
      "예측 요약 :  us bank leaks details of data breach\n",
      "\n",
      "\n",
      "원문 : india play role north korean crisis helping leadership reclusive state understand seriousness threat posed nuclear programme senior us commander admiral harry harris said think india voice loud voice people pay attention harris added \n",
      "실제 요약 : india can help in korean crisis us commander \n",
      "예측 요약 :  us has not to north korea\n",
      "\n",
      "\n",
      "원문 : sebi barred seven entities including former promoters securities market five years insider trading case sebi directed entities illegal gains lakh alleged insider trading shares erstwhile bank rajasthan regulator conducted investigation movement shares may \n",
      "실제 요약 : sebi bans entities for years in insider trading case \n",
      "예측 요약 :  sebi imposes fine on sale of illegal\n",
      "\n",
      "\n",
      "원문 : akshaye khanna said terrible feeling artiste appreciation work love attention start slipping away added much say uncomfortable much attention essence every artiste works akshaye also said feeling insecurity prevalent acting actors dependent others \n",
      "실제 요약 : terrible for artiste when slips away akshaye \n",
      "예측 요약 :  was like family in my family twinkle khanna\n",
      "\n",
      "\n",
      "원문 : two associate vice presidents snapdeal innovation centre bengaluru balaji kota quit commerce major joined snapdeal february working amazon microsoft kota joined snapdeal august tesco hp past four months snapdeal seen several senior executives quit firm \n",
      "실제 요약 : two senior executives from snapdeal quit \n",
      "예측 요약 :  former bank ceo quits amid cash crunch\n",
      "\n",
      "\n",
      "원문 : around male technicians airport employees pushed kilogram aircraft runway airport indonesia authorities later said plane taken wrong turn landing tractor available move around following men pushed aircraft backwards direction terminal \n",
      "실제 요약 : men forced to push kilogram plane on airport runway \n",
      "예측 요약 :  plane makes emergency landing at airport in delhi\n",
      "\n",
      "\n",
      "원문 : hollywood actor leonardo dicaprio years old dating year old model per reports dicaprio earlier dating victoria secret model said older mother meanwhile dating year old godfather actor al \n",
      "실제 요약 : yr old leonardo dicaprio dating year old model report \n",
      "예측 요약 :  american actor reveals he was worth million\n",
      "\n",
      "\n"
     ]
    }
   ],
   "source": [
    "# 테스트 데이터 약 50개의 샘플에 대해서 실제 요약과 예측된 요약을 비교\n",
    "for i in range(50, 100):\n",
    "    print(\"원문 :\", seq2text(encoder_input_test[i]))\n",
    "    print(\"실제 요약 :\", seq2summary(decoder_input_test[i]))\n",
    "    print(\"예측 요약 :\", decode_sequence(encoder_input_test[i].reshape(1, text_max_len)))\n",
    "    print(\"\\n\")"
   ]
  },
  {
   "cell_type": "markdown",
   "id": "0ea7e1fa",
   "metadata": {},
   "source": [
    "* * *\n",
    "\n",
    "## Summa을 이용해서 추출적 요약해보기\n",
    "* 추상적 요약의 경우 다양한 문장의 표현력이 가능하지만, 추출적 요약에 비해 난이도가 높음\n",
    "* 반면 추출적 요약은 기존의 문장에서 문장을 꺼내오는 형태이기 때문에 요약의 정확도가 추상적 요약에 비해 높음"
   ]
  },
  {
   "cell_type": "code",
   "execution_count": 50,
   "id": "b50fcfd1",
   "metadata": {},
   "outputs": [],
   "source": [
    "import requests\n",
    "from summa.summarizer import summarize\n",
    "\n",
    "# 매트릭스 시놉시스 다운로드\n",
    "text = requests.get('http://rare-technologies.com/the_matrix_synopsis.txt').text"
   ]
  },
  {
   "cell_type": "code",
   "execution_count": 51,
   "id": "e70f1198",
   "metadata": {},
   "outputs": [
    {
     "name": "stdout",
     "output_type": "stream",
     "text": [
      "The screen is filled with green, cascading code which gives way to the title, The Matrix.\r\n",
      "\r\n",
      "A phone rings and text appears on the screen: \"Call trans opt: received. 2-19-98 13:24:18 REC: Log>\" As a conversation takes place between Trinity (Carrie-Anne Moss) and Cypher (Joe Pantoliano), two free humans, a table of random green numbers are being scanned and individual numbers selected, creating a series of digits not unlike an ordinary phone number, as if a code is being deciphered or a call is being traced.\r\n",
      "\r\n",
      "Trinity discusses some unknown person. Cypher taunts Trinity, suggesting she enjoys watching him. Trinity counters that \"Morpheus (Laurence Fishburne) says he may be 'the One',\" just as the sound of a number being selected alerts Trinity that someone may be tracing their call. She ends the call.\r\n",
      "\r\n",
      "Armed policemen move down a darkened, decrepit hallway in the Heart O' the City Hotel, their flashlight beam bouncing just ahead of them. They come to room 303, kick down the door and find a woman dressed in black, facing away from them. It's Trinity. She brings her hands up from the laptop she's working on at their command.\r\n",
      "\r\n",
      "Outside the hotel a car drives up and three agents appear in neatly pressed black suits. They are Agent Smith (Hugo Weaving), Agent Brown (Paul Goddard), and Agent Jones (Robert Taylor). Agent Smith and the presiding police lieutenant argue. Agent Smith admonishes the policeman that they were given specific orders to contact the agents first, for their\n"
     ]
    }
   ],
   "source": [
    "# 매트릭스 시놉시스가 문자열로 저장된 text의 일부분을 출력\n",
    "print(text[:1500])"
   ]
  },
  {
   "cell_type": "markdown",
   "id": "2dad2120",
   "metadata": {},
   "source": [
    "## summarize 사용하기\n",
    "* Summa의 summarize()의 인자로 사용되는 값들은 아래와 같다 : \n",
    "  * text (str) : 요약할 텍스트\n",
    "  * ratio (float, optional) : 요약문에서 원본에서 선택되는 문장 비율. 0~1 사이값\n",
    "  * words (int or None, optional) : 출력에 포함할 단어 수\n",
    "    만약, ratio와 함께 두 파라미터가 모두 제공되는 경우 ratio는 무시\n",
    "  * split (bool, optional) : True면 문장 list / False는 조인(join)된 문자열을 반환\n",
    "* Summa의 summarize는 문장 토큰화를 별도로 하지 않더라도 내부적으로 문장 토큰화를 수행하기 때문에, 문장 구분이 되어 있지 않은 원문을 바로 입력할 수 있음"
   ]
  },
  {
   "cell_type": "code",
   "execution_count": 53,
   "id": "1c6817c2",
   "metadata": {},
   "outputs": [
    {
     "name": "stdout",
     "output_type": "stream",
     "text": [
      "Summary:\n",
      "Morpheus, Trinity, Neo, Apoc, Switch, Mouse and Cypher are jacked into the Matrix.\n",
      "Trinity brings the helicopter down to the floor that Morpheus is on and Neo opens fire on the three Agents.\n"
     ]
    }
   ],
   "source": [
    "# 요약문으로 선택되는 문장의 개수를 줄임\n",
    "# 원문의 0.005%만을 출력하도록 설정\n",
    "print('Summary:')\n",
    "print(summarize(text, ratio=0.005))"
   ]
  },
  {
   "cell_type": "code",
   "execution_count": 54,
   "id": "e41ff086",
   "metadata": {},
   "outputs": [
    {
     "name": "stdout",
     "output_type": "stream",
     "text": [
      "Summary:\n",
      "['Morpheus, Trinity, Neo, Apoc, Switch, Mouse and Cypher are jacked into the Matrix.', 'Trinity brings the helicopter down to the floor that Morpheus is on and Neo opens fire on the three Agents.']\n"
     ]
    }
   ],
   "source": [
    "# 출력 결과를 리스트 형태로 얻기를 원할 경우, split 인자의 값을 True로 지정\n",
    "print('Summary:')\n",
    "print(summarize(text, ratio=0.005, split=True))"
   ]
  },
  {
   "cell_type": "code",
   "execution_count": 55,
   "id": "0301dcd4",
   "metadata": {},
   "outputs": [
    {
     "name": "stdout",
     "output_type": "stream",
     "text": [
      "Summary:\n",
      "Trinity takes Neo to Morpheus.\n",
      "Morpheus, Trinity, Neo, Apoc, Switch, Mouse and Cypher are jacked into the Matrix.\n",
      "Trinity brings the helicopter down to the floor that Morpheus is on and Neo opens fire on the three Agents.\n"
     ]
    }
   ],
   "source": [
    "# 단어의 수로 요약문의 크기 조절\n",
    "print('Summary:')\n",
    "print(summarize(text, words=50))"
   ]
  },
  {
   "cell_type": "markdown",
   "id": "4c8f6786",
   "metadata": {},
   "source": [
    "* * *\n",
    "\n",
    "## 마치며\n",
    "* 본 과제는 영문 데이터셋으로 진행하였지만, 네이버 뉴스의 요약봇처럼 한국어 데이터셋으로도 이번에 배운 방식을 시도 해 보고 싶다.\n",
    "* 추상적 요약 기법을 수행했을 경우 원래 내용과 관련이 없는 엉뚱한 결과물이 여러 개 출력되는 경우가 발생하는데, 이러한 오류를 줄이는 방법에 대한 연구가 추가적으로 필요하다고 느꼈다. 장기 의존성(long term dependencies) 문제를 줄이기 위한 어텐션 매커니즘이 등장했지만 성능적인 면에서 여전히 개선이 필요하다고 생각한다.\n",
    "* 따라서 아래와 같은 성능 개선 기법에 대해 추가적으로 학습 및 조사가 필요하다 : \n",
    "  * seq2seq와 어텐션의 조합을 좀 더 적합한 방향으로 수정하는 방법\n",
    "  * 빔 서치(beam search)\n",
    "  * 사전 훈련된 워드 임베딩(pre-trained word embedding)\n",
    "  * 인코더 - 디코더 자체의 구조를 새로이 변경한 하는 트랜스포머(Transformer)"
   ]
  }
 ],
 "metadata": {
  "kernelspec": {
   "display_name": "Python 3 (ipykernel)",
   "language": "python",
   "name": "python3"
  },
  "language_info": {
   "codemirror_mode": {
    "name": "ipython",
    "version": 3
   },
   "file_extension": ".py",
   "mimetype": "text/x-python",
   "name": "python",
   "nbconvert_exporter": "python",
   "pygments_lexer": "ipython3",
   "version": "3.9.7"
  }
 },
 "nbformat": 4,
 "nbformat_minor": 5
}
