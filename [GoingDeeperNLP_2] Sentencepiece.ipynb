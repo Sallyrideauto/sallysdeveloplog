{
 "cells": [
  {
   "cell_type": "markdown",
   "id": "0fbe96d1",
   "metadata": {},
   "source": [
    "# Going Deeper NLP Project 2. Sentencepiece 사용하기\n",
    "\n",
    "## 📍 About Project\n",
    "- 네이버 영화리뷰 감정 분석 코퍼스에 `SentencePiece` 적용시킨 모델 학습\n",
    "- 한국어로 된 `corpus`를 다루어야 하므로 주로 `KoNLPy`에서 제공하는 형태소 분석기를 이용해 텍스트를 전처리\n",
    "- `RNN` 모델을 분류기로 사용\n",
    "- 학습된 모델로 `sp_tokenize()` 메소드 구현\n",
    "- 구현된 토크나이저를 적용하여 네이버 영화리뷰 감정 분석 모델을 재학습\n",
    "- `KoNLPy` 형태소 분석기를 사용한 모델과 성능 비교\n",
    "- (보너스) `SentencePiece` 모델의 `model_type`, `vocab_size` 등을 변경해 가면서 성능 개선 여부 확인\n",
    "\n",
    "## 🎯 Rubric\n",
    "|평가문항|상세기준|\n",
    "|:-----|:-----|\n",
    "|1. SentencePiece를 이용하여 모델을 만들기까지의 과정이 정상적으로 진행되었는가?|코퍼스 분석, 전처리, SentencePiece 적용, 토크나이저 구현 및 동작이 빠짐없이 진행되었는가?|\n",
    "|2. SentencePiece를 통해 만든 Tokenizer가 자연어처리 모델과 결합하여 동작하는가?|SentencePiece 토크나이저가 적용된 Text Classifier 모델이 정상적으로 수렴하여 80% 이상의 test accuracy가 확인되었다.|\n",
    "|3. SentencePiece의 성능을 다각도로 비교분석하였는가?|SentencePiece 토크나이저를 활용했을 때의 성능을 다른 토크나이저 혹은 SentencePiece의 다른 옵션의 경우와 비교하여 분석을 체계적으로 진행하였다.|\n",
    "\n",
    "-----\n",
    "\n",
    "## 1. 데이터 전처리 & 분석\n",
    "- 프로젝트에 사용될 라이브러리 `import`\n",
    "- [링크](https://github.com/e9t/nsmc/)를 통해 네이버 영화 리뷰 데이터셋 다운로드\n",
    "- 데이터의 결측치와 중복 데이터 제거\n",
    "- 문장의 최장/최단/평균 길이를 구한 후 문장 길이 분포를 막대 그래프로 시각화\n",
    "- 데이터 정제 후 문장 길이 분포 역시 막대 그래프로 시각화"
   ]
  },
  {
   "cell_type": "code",
   "execution_count": 1,
   "id": "22030751",
   "metadata": {},
   "outputs": [
    {
     "name": "stdout",
     "output_type": "stream",
     "text": [
      "2.6.0\n",
      "1.22.2\n",
      "0.5.2\n"
     ]
    }
   ],
   "source": [
    "import os, sys\n",
    "import pandas as pd\n",
    "import sentencepiece as spm\n",
    "import urllib.request\n",
    "import csv\n",
    "import tensorflow as tf\n",
    "import numpy as np\n",
    "import matplotlib.pyplot as plt\n",
    "from matplotlib import cm\n",
    "import konlpy\n",
    "from konlpy.tag import Mecab\n",
    "import seaborn as sns\n",
    "from tensorflow import keras\n",
    "from sklearn.model_selection import train_test_split\n",
    "from tensorflow.keras.initializers import Constant\n",
    "from tensorflow.keras import Sequential\n",
    "from tensorflow.keras import layers\n",
    "from tensorflow.keras.optimizers import RMSprop\n",
    "import warnings\n",
    "\n",
    "warnings.filterwarnings(\"ignore\")\n",
    "%matplotlib inline\n",
    "\n",
    "mecab = Mecab()\n",
    "\n",
    "print(tf.__version__)\n",
    "print(np.__version__)\n",
    "# print(plt.__version__)\n",
    "print(konlpy.__version__)"
   ]
  },
  {
   "cell_type": "code",
   "execution_count": 2,
   "id": "3e01c44a",
   "metadata": {},
   "outputs": [
    {
     "data": {
      "text/plain": [
       "('ratings.txt', <http.client.HTTPMessage at 0x7fc58134c130>)"
      ]
     },
     "execution_count": 2,
     "metadata": {},
     "output_type": "execute_result"
    }
   ],
   "source": [
    "urllib.request.urlretrieve(\"https://raw.githubusercontent.com/e9t/nsmc/master/ratings.txt\", \n",
    "                           filename=\"ratings.txt\")"
   ]
  },
  {
   "cell_type": "code",
   "execution_count": 3,
   "id": "c16fff77",
   "metadata": {},
   "outputs": [
    {
     "data": {
      "text/html": [
       "<div>\n",
       "<style scoped>\n",
       "    .dataframe tbody tr th:only-of-type {\n",
       "        vertical-align: middle;\n",
       "    }\n",
       "\n",
       "    .dataframe tbody tr th {\n",
       "        vertical-align: top;\n",
       "    }\n",
       "\n",
       "    .dataframe thead th {\n",
       "        text-align: right;\n",
       "    }\n",
       "</style>\n",
       "<table border=\"1\" class=\"dataframe\">\n",
       "  <thead>\n",
       "    <tr style=\"text-align: right;\">\n",
       "      <th></th>\n",
       "      <th>id</th>\n",
       "      <th>document</th>\n",
       "      <th>label</th>\n",
       "    </tr>\n",
       "  </thead>\n",
       "  <tbody>\n",
       "    <tr>\n",
       "      <th>0</th>\n",
       "      <td>8112052</td>\n",
       "      <td>어릴때보고 지금다시봐도 재밌어요ㅋㅋ</td>\n",
       "      <td>1</td>\n",
       "    </tr>\n",
       "    <tr>\n",
       "      <th>1</th>\n",
       "      <td>8132799</td>\n",
       "      <td>디자인을 배우는 학생으로, 외국디자이너와 그들이 일군 전통을 통해 발전해가는 문화산...</td>\n",
       "      <td>1</td>\n",
       "    </tr>\n",
       "    <tr>\n",
       "      <th>2</th>\n",
       "      <td>4655635</td>\n",
       "      <td>폴리스스토리 시리즈는 1부터 뉴까지 버릴께 하나도 없음.. 최고.</td>\n",
       "      <td>1</td>\n",
       "    </tr>\n",
       "    <tr>\n",
       "      <th>3</th>\n",
       "      <td>9251303</td>\n",
       "      <td>와.. 연기가 진짜 개쩔구나.. 지루할거라고 생각했는데 몰입해서 봤다.. 그래 이런...</td>\n",
       "      <td>1</td>\n",
       "    </tr>\n",
       "    <tr>\n",
       "      <th>4</th>\n",
       "      <td>10067386</td>\n",
       "      <td>안개 자욱한 밤하늘에 떠 있는 초승달 같은 영화.</td>\n",
       "      <td>1</td>\n",
       "    </tr>\n",
       "  </tbody>\n",
       "</table>\n",
       "</div>"
      ],
      "text/plain": [
       "         id                                           document  label\n",
       "0   8112052                                어릴때보고 지금다시봐도 재밌어요ㅋㅋ      1\n",
       "1   8132799  디자인을 배우는 학생으로, 외국디자이너와 그들이 일군 전통을 통해 발전해가는 문화산...      1\n",
       "2   4655635               폴리스스토리 시리즈는 1부터 뉴까지 버릴께 하나도 없음.. 최고.      1\n",
       "3   9251303  와.. 연기가 진짜 개쩔구나.. 지루할거라고 생각했는데 몰입해서 봤다.. 그래 이런...      1\n",
       "4  10067386                        안개 자욱한 밤하늘에 떠 있는 초승달 같은 영화.      1"
      ]
     },
     "execution_count": 3,
     "metadata": {},
     "output_type": "execute_result"
    }
   ],
   "source": [
    "ratings_df = pd.read_table('ratings.txt')\n",
    "ratings_df.head()"
   ]
  },
  {
   "cell_type": "code",
   "execution_count": 4,
   "id": "86d34e35",
   "metadata": {},
   "outputs": [
    {
     "name": "stdout",
     "output_type": "stream",
     "text": [
      "리뷰 개수 : 200000\n"
     ]
    }
   ],
   "source": [
    "print('리뷰 개수 :', len(ratings_df)) # 리뷰 개수 출력"
   ]
  },
  {
   "cell_type": "code",
   "execution_count": 5,
   "id": "c25083ed",
   "metadata": {},
   "outputs": [
    {
     "name": "stdout",
     "output_type": "stream",
     "text": [
      "True\n",
      "<bound method NDFrame._add_numeric_operations.<locals>.sum of            id  document  label\n",
      "0       False     False  False\n",
      "1       False     False  False\n",
      "2       False     False  False\n",
      "3       False     False  False\n",
      "4       False     False  False\n",
      "...       ...       ...    ...\n",
      "199995  False     False  False\n",
      "199996  False     False  False\n",
      "199997  False     False  False\n",
      "199998  False     False  False\n",
      "199999  False     False  False\n",
      "\n",
      "[200000 rows x 3 columns]>\n"
     ]
    }
   ],
   "source": [
    "# 해당 데이터셋에 Null값이 존재하는지 확인\n",
    "print(ratings_df.isnull().values.any())\n",
    "print(ratings_df.isnull().sum)"
   ]
  },
  {
   "cell_type": "code",
   "execution_count": 6,
   "id": "3f4e0172",
   "metadata": {},
   "outputs": [
    {
     "name": "stdout",
     "output_type": "stream",
     "text": [
      "False\n",
      "<bound method NDFrame._add_numeric_operations.<locals>.sum of            id  document  label\n",
      "0       False     False  False\n",
      "1       False     False  False\n",
      "2       False     False  False\n",
      "3       False     False  False\n",
      "4       False     False  False\n",
      "...       ...       ...    ...\n",
      "199995  False     False  False\n",
      "199996  False     False  False\n",
      "199997  False     False  False\n",
      "199998  False     False  False\n",
      "199999  False     False  False\n",
      "\n",
      "[199992 rows x 3 columns]>\n"
     ]
    }
   ],
   "source": [
    "ratings_df = ratings_df.dropna(how = 'any') # Null 값이 존재하는 행 제거\n",
    "print(ratings_df.isnull().values.any()) # Null 값이 존재하는지 확인\n",
    "print(ratings_df.isnull().sum)"
   ]
  },
  {
   "cell_type": "code",
   "execution_count": 7,
   "id": "763a8953",
   "metadata": {},
   "outputs": [
    {
     "name": "stdout",
     "output_type": "stream",
     "text": [
      "결측치 제거 후 리뷰 개수 : 199992\n"
     ]
    }
   ],
   "source": [
    "print('결측치 제거 후 리뷰 개수 :', len(ratings_df))"
   ]
  },
  {
   "cell_type": "code",
   "execution_count": 8,
   "id": "904c997e",
   "metadata": {},
   "outputs": [
    {
     "name": "stdout",
     "output_type": "stream",
     "text": [
      "중복 제거 후 리뷰 개수 : 194543\n"
     ]
    }
   ],
   "source": [
    "cleaned_corpus = ratings_df.drop_duplicates(['document'])   \n",
    "print('중복 제거 후 리뷰 개수 :', len(cleaned_corpus))"
   ]
  },
  {
   "cell_type": "code",
   "execution_count": 9,
   "id": "63421179",
   "metadata": {},
   "outputs": [
    {
     "data": {
      "text/html": [
       "<div>\n",
       "<style scoped>\n",
       "    .dataframe tbody tr th:only-of-type {\n",
       "        vertical-align: middle;\n",
       "    }\n",
       "\n",
       "    .dataframe tbody tr th {\n",
       "        vertical-align: top;\n",
       "    }\n",
       "\n",
       "    .dataframe thead th {\n",
       "        text-align: right;\n",
       "    }\n",
       "</style>\n",
       "<table border=\"1\" class=\"dataframe\">\n",
       "  <thead>\n",
       "    <tr style=\"text-align: right;\">\n",
       "      <th></th>\n",
       "      <th>id</th>\n",
       "      <th>document</th>\n",
       "      <th>label</th>\n",
       "    </tr>\n",
       "  </thead>\n",
       "  <tbody>\n",
       "    <tr>\n",
       "      <th>0</th>\n",
       "      <td>8112052</td>\n",
       "      <td>어릴때보고 지금다시봐도 재밌어요ㅋㅋ</td>\n",
       "      <td>1</td>\n",
       "    </tr>\n",
       "    <tr>\n",
       "      <th>1</th>\n",
       "      <td>8132799</td>\n",
       "      <td>디자인을 배우는 학생으로, 외국디자이너와 그들이 일군 전통을 통해 발전해가는 문화산...</td>\n",
       "      <td>1</td>\n",
       "    </tr>\n",
       "    <tr>\n",
       "      <th>2</th>\n",
       "      <td>4655635</td>\n",
       "      <td>폴리스스토리 시리즈는 1부터 뉴까지 버릴께 하나도 없음.. 최고.</td>\n",
       "      <td>1</td>\n",
       "    </tr>\n",
       "    <tr>\n",
       "      <th>3</th>\n",
       "      <td>9251303</td>\n",
       "      <td>와.. 연기가 진짜 개쩔구나.. 지루할거라고 생각했는데 몰입해서 봤다.. 그래 이런...</td>\n",
       "      <td>1</td>\n",
       "    </tr>\n",
       "    <tr>\n",
       "      <th>4</th>\n",
       "      <td>10067386</td>\n",
       "      <td>안개 자욱한 밤하늘에 떠 있는 초승달 같은 영화.</td>\n",
       "      <td>1</td>\n",
       "    </tr>\n",
       "  </tbody>\n",
       "</table>\n",
       "</div>"
      ],
      "text/plain": [
       "         id                                           document  label\n",
       "0   8112052                                어릴때보고 지금다시봐도 재밌어요ㅋㅋ      1\n",
       "1   8132799  디자인을 배우는 학생으로, 외국디자이너와 그들이 일군 전통을 통해 발전해가는 문화산...      1\n",
       "2   4655635               폴리스스토리 시리즈는 1부터 뉴까지 버릴께 하나도 없음.. 최고.      1\n",
       "3   9251303  와.. 연기가 진짜 개쩔구나.. 지루할거라고 생각했는데 몰입해서 봤다.. 그래 이런...      1\n",
       "4  10067386                        안개 자욱한 밤하늘에 떠 있는 초승달 같은 영화.      1"
      ]
     },
     "execution_count": 9,
     "metadata": {},
     "output_type": "execute_result"
    }
   ],
   "source": [
    "cleaned_corpus.head()"
   ]
  },
  {
   "cell_type": "code",
   "execution_count": 10,
   "id": "a40857b0",
   "metadata": {},
   "outputs": [],
   "source": [
    "ratings_doc = cleaned_corpus['document']"
   ]
  },
  {
   "cell_type": "code",
   "execution_count": 11,
   "id": "bd33594e",
   "metadata": {},
   "outputs": [
    {
     "name": "stdout",
     "output_type": "stream",
     "text": [
      "문장의 최단 길이: 1\n",
      "문장의 최장 길이: 142\n",
      "문장의 평균 길이: 36\n"
     ]
    },
    {
     "data": {
      "image/png": "[encoded data removed]",
      "text/plain": [
       "<Figure size 720x432 with 1 Axes>"
      ]
     },
     "metadata": {
      "needs_background": "light"
     },
     "output_type": "display_data"
    }
   ],
   "source": [
    "min_len = 999\n",
    "max_len = 0\n",
    "sum_len = 0\n",
    "\n",
    "for sen in ratings_doc:\n",
    "    length = len(sen)\n",
    "    if min_len > length: min_len = length\n",
    "    if max_len < length: max_len = length\n",
    "    sum_len += length\n",
    "\n",
    "print(\"문장의 최단 길이:\", min_len)\n",
    "print(\"문장의 최장 길이:\", max_len)\n",
    "print(\"문장의 평균 길이:\", sum_len // len(ratings_doc))\n",
    "\n",
    "sentence_length = np.zeros((max_len), dtype=np.int)\n",
    "\n",
    "for sen in ratings_doc:\n",
    "    sentence_length[len(sen)-1] += 1\n",
    "\n",
    "plt.figure(figsize=(10,6))\n",
    "plt.bar(range(max_len), sentence_length, color = 'lightsteelblue', width=1.0)\n",
    "plt.title(\"Sentence Length Distribution\")\n",
    "plt.show()"
   ]
  },
  {
   "cell_type": "code",
   "execution_count": 12,
   "id": "181809e0",
   "metadata": {},
   "outputs": [
    {
     "name": "stdout",
     "output_type": "stream",
     "text": [
      "내가 남자라그런가 이거 겁나 긴장감있고 흥미진진하던데..ㄷㄷ 나만그런가워낙에 격투씬을 좋아해서.ㅋㅋㅋ 그냥 아무생각없이 집에서 스마트티비로 봐서 재밌었나봄 이거 뭔영화인지도 모르고 암살에 나온 이정재 있길래 걍봄 ㅋㅋ 하여튼 너무 재밌게 봤음\n",
      "줄리아 로버츠의 웃음은 정말 보는 사람을 기쁘게 해준다. 웃음 하나로 기쁨과 슬픔을 표현할 수 있는 배우..전통을 깨고 여성의 새로운 삶을 살으라고 영화는 보여주는 데 영화에서는 전통을 완전히 벗어나야 한다는 것만을 강조하는 것 같아 아쉽다.\n",
      "평점 왜 이렇게 낮아요??? 영화 대박인데...진짜....ㅋㅋㅋ 와.. 어떻게 이런상상을 해서 이런 영화를... 대박대박.. ㅠ 생각지못한 반전.. 처음엔 반신반의하면서 봤는데.. 최고내요...ㄷㄷㄷ 근데 금발 여주는 중반에 좀 짜증나긴했음ㅋ\n",
      "큰 기대 안하고 띄엄띄엄 보다가 집중해서 봤네요!! 저는 잘봤습니다. 액션도 뛰어나고 아슬아슬한 장면들을 극복해 가는게 나름 잼있었어요!! 마지막에 여자 박사가 살았는지 죽었는지가 안나와서 좀 아쉽네요..그래도 딸은 살렸으니 다행스럽다는 ㅎㅎ\n",
      "누군가는 잃고, 누군가는 벌고, 또 누군가는 죽는 게임. 그리고 끊임없이 반복되는 삶과 기억의 굴레. 하지만 시작할 때부터 영화는 이미 심각했고, 지루했다. 다 본 후 생각해보니 그럴 수밖에 없었겠다 싶다. 넓고 얕은 재미, 길고 깊은 여운.\n",
      "영화내용은 사실별거 없지만 보고나면 생각을 많이하게 되는 영화임. 재미있기도 하고, 결론은 무엇이냐 하면 빨갱이들이 아무것도 모르는 사람들 선동해서 비참한 결과를 낳게 한다는 내용임. 복수심에 불타는 이북출신들도 나오는데 다 역사적인 사실임.\n",
      "고등학교때 보고 지금에서 생각난 영화 참~그땐 눈물 콧물 흘리면서 봤는데짐 보면 나올라나.. 하긴 세월이 많이 흘렀지 아마 짐 시대하곤 스토리자체가 뻔하니깐 하지만 지금도 잊혀지지않는장면은 주인공이 공부하는장면과하늘도 갈라놓지 못한 그들의사랑\n",
      "오스카는 흔히 볼수있는 아들이자 장난끼 많은 오빠 그리고 항상 미안해하는 남편. 감정이 앞서서 문제를 만들수도 있지만 언제나 마음은 내 가족, 내 사랑인 그 한사람. 정말 거지같은 상황속에서도 사랑이라는 한 단어로 살아남으려는 자를 짖밟았다.\n",
      "올타쿠나커플때문에 다시 우결 보게됬어여제가 소은이같은 성격이라 너무공감되고 설레여~소은씨는 드센게 아니라 남자를 잘 맞춰주고 흡수하는 스펀지같은 여자에요^^그리고 재림씨 자기마음을 다 말해주는 재림씨 너무짱~~~정말 오빠,아빠, 애기같은 매력\n",
      "오히려 평점 조작같은데.. 감독이 충무로 미움 삿을수도 있다는 생각까지 든다...한국영화 별로 좋아하진않지만.. 이영화가 이렇게까지 평점낮을만큼 재미없진 않다. 이정도 평점의 다른 영화같지않은 영화들과 비교할때 이 평점은 이해가 되질 않는다.\n",
      "이루어 질수 없기에 더욱 너무나 애절하고 안타까운 야하기만 한게 아니라 너무나 아름다운 영상. 그리고 소녀를 사랑하는 마음을 이룰 수 없는 중국인 청년의 안타깝고 애절한 눈빛. 소녀와 여인의 경계에 있는 제인마치도 너무나 묘하게 잘 어울린다.\n",
      "구작보다 묵시록적이고 웅장해짐. 아스카의 심리묘사가얇아지고 당위성이 부족해지는등의 단점이 있음에도 불구하고 현세대최고의 애니메이션중 하나임. 특히 영상미는 TVA판을 압도하고도 남을정도. 사골이아닌 새로운 스토리가 추가됫는데 굉장히 만족스러움\n",
      "오카다 마사키는 풋풋한 멜로에 정말 잘어울리는듯하다. 뭔가 첫사랑같은 느낌? 설레는 느낌을 주는 배우. 일본 멜로의 잔잔함이 이 영화에서도 드러난다. 청소년의 학업과 사랑 사이에서의 갈등도 무각본인만큼 자연스레 연기하여서 더욱 공감하며 봤다.\n",
      "이병우 작곡가의 곡들이 담긴 영화를 볼 때마다 느끼지만,이렇게 공포영화 음악을 아름답고 절묘하게 만드는 작곡가는 잘 없는 것 같다.한국 공포영화의 특징은 배경과 어우러지는 음악적 요소인데,이 작곡가가 어떻게 보면 그 처음이라고 볼 수 있겠다.\n",
      "지금 알고 있는걸 그때도 알았더라면... 내 가슴이 말하는 것에 더 자주 귀 기울였으리라더 즐겁게 살고 덜 고민했으리라사랑에 더 열중하고 그 결말에 대해선 덜 걱정했으리라.. 설령 그것이 실패로 끝난다 해도.... 웅... 너무 늙어서 봤다~\n",
      "인종차별과 불평등은 미국만의 문제가 아니다. 영웅적인 지도자가 아니라 서로 도와주려는 사람들의 연대감이 역사를 바꾼다는 것을 매우 사실적으로 보여준 영화다. 새로 알게 된 사실은 FBI가 킴 목사의 일거수일투족을 샅샅이 감시하고 있었다는 것.\n",
      "난 남자고 저 딸의 아비라면 저 김윤진 역보다 더 한 것도 할 수 있고 그 어미니의 아들입장이라면 저보다 더 한 것도 할 수 있다.. 평만보면 다들 공자시구만ㅋㅋㅋ 과연 정말 저 둘의 배역 중 하나의 입장이 된다면 그렇게 냉정할 수 있을까..\n",
      "뻔하고 진부하지만 그로인해 더 편안하고 행복한 결말. 나에게 있어 한국영화를 다시보게 만든 영화. 30대인 지금. 영화의 개봉 당시 10년 전으로 돌아가서 나의 무지개를 찾고 싶다.ps : 여태 본 영화중에 카메라에 빛을 가장 잘 담은 작품.\n",
      "This movie wowed and shocked me! 대학시절 과학사를 들었어도 이렇게 포괄적이고 모든 분야를 넘나드는 이해력을 갖을 수는 없었는 데. 융합적 사고의 총체! 초등학교에서 부터 대학교에 이르기까지 교양필수로 강추. 초강추.\n",
      "그저그런 로맨틱 코미디가 아닙니다~로맨틱 코미디도 프랑스에서 만들면 이렇게 멋진 영화가 나오는 군요 ㅋㅋ 문화를 주도해 나갔던 유럽인들의 풍속사를 잘 재현해 내었네요~ 코디디는 기본이구요! 이놈의 망할 제목때문에 안 뜬 영화 같습니다. -_-\n",
      "윤재문보다 인구아재의 딸과 마누라가 더 얄밉더라 고기만두사왔는데 휙 지나치는장면, 그동안 깡패짓으로번돈 잘써놓고선 한번도 떳떳한적없었다고말하는 마눌년 송강호가 울먹이면서 당신은 이러면안되지 라고할땐 울컥했다범죄영화가아니라 가장영화 아버지영화다\n",
      "같은 영화를 본다고 해도 내가 느낀 내가 받은 영향은 분명다르다. 이런 영화는 항상 뭔가 열어놓았기에,. 한 번씩 다시 보면 지난날의 나 혹은 앞으로의 나를 볼 수 있기도 하다., 또한 모든 아픔의 극복은 스스로 할 수 있게 놔두는게 좋다.,\n",
      "난 중국영화를 좋아하지만 천녀유혼은 5번밖에 안봤다. 어릴때라 영화에 대해 무지해서 명절때 누나가 보는걸 따라봤다. 하지만 20대가 되고나서 그시절 왜 장국영, 왕조현이 넘사벽인지 이영화를 보고 느꼈다. 왕조현 장국영은 아시아최고라 생각한다.\n",
      "스크린 너머로 배려심이라곤 없는 감독을 만나 개고생하는 두 여배우의 고통이 느껴졌다. 예술의 완성도가 꼭 극단으로 몰아부쳐야 완성되는가. 레아세이두의 말대로 존중만 해줬어도 진짜 완벽한 작품이 나오지 않았을까. 배우들의 노고때문에 10점이다.\n",
      "정말 미친듯 웃을 수 있어요~ 몰랐던 역사적 사실도 알게되고~출연자분 스텝분들 고생 많으시겠어요제 8의 멤버 이윤상님 나오실 때마다 웃겨요연기력에 감탄도 하게되고그리고 역시 정말 장동민 최고!!!시즌2 2번째 촬영에 콩이 또 나와서 즐겁습니다\n",
      "범죄없는세상 외치면서 그런사람들이 더하네 칭찬은 고래도 춤추게 한다 성지고 고생했다 한마디면 되는걸 한번도 못놀아본 사람 처럼 클럽,술 마신거 가지고 좀그러네 그건 뒷풀이야 방식이 다른것 뿐이지 자라나는 새싹 밟지말고 자신부터 돌아보고 잘하자\n",
      "연출력이 상당히 돋보이는 작품이다. 할배가 할매를 질식사 시킬 줄은 꿈에도 예측 못했다. 정말로충격적인 장면이었다. 할매가 나중에 어떻게 인생이 마감 할까? 내가 짐작하는바가 있었는데 갑자기 자기손으로할매를 보내다니...씁씁하기 그지 없었다.\n",
      "상당히 오래만든 만화임에도 잘만들었고 철학적 잔인함 여러성적 표현 이것은 다분한 우리 인생을 묘사하고 있다 베르세르크야 말로 우리 무뎌진 머리를 환상속에 빠져들게 만든다 판타지의 최고봉 애니를 적당하게 봐왔지만 이보다 나은 애니는 첮기 힘들다\n",
      "처음엔 정신이 피폐해진것같아 불쾌했다. 막연히 걱정하지만 넘겨버릴법한 범죄상황을 실감나고 섬세하게 묘사한 감독이 대단하다... 박진감은 넘치지만 억지상황이 난무해 문단속의 중요성을 잊게 한 불사여인의 비현실 영화 '숨바꼭질'이 문득 생각난다.\n",
      "수작이라고 평가한다. 보는 내내 긴장감과 궁금증을 유발하는 내용이며, 공포감과 스릴도 공존한다. 배우들의 연기도 전혀 위화감 없이 흘러간다. 다만 후속편은 굉장히 유치해졌으므로, 후속편은 보지 않는 걸 추천한다. 전 작품의 질까지 떨어뜨린다.\n",
      "역시 토이스토리. 재미있고 감동적일 뿐 아니라 현재만을 생각하는 21세기에 사는 우리에게 향수를 느끼게 하고 가끔은 잠시 모든 일을 내려놓고 어렸을 때 가지고 놀았던 장난감들을 생각하며 추억에 젖는 것도 나쁘지 않겠다고 생각하게 하는 영화다.\n",
      "감독님! 상업영화로 평가받고 싶지 않으면 혼자 영원히 습작하세요~ 가족끼리 친구끼리 오순도순 화기애애한거 스스로도 상업성에어 자유로울수 없으면서 쿨한척 하지맙시다. 그런상처 두려우면 투자받지도 마시고 학생들 데리고 작품전같은거 하시면 됩니다.\n",
      "부모님...특히 시부모님이 홍보관가서 사기당했다고 하소연하시는 분들~~~이 영화 꼭 좀 보셨으면좋겠어요..저도반성많이했네요...ㅜㅜ...솔직히 사회나와서 가정도 꾸리고하다보면 자기부모한테 소홀해지는사람많자나요~너무어르신들만 탓할수없을거같아요.\n",
      "요즘들어 다시보니 참 좋은영화다.길용의오토바이 뒤에 타며 고향얘기하는 신은경.참 슬프고 그림같은장면.길용역의 한정현씨라는분은 여기서 주연으로 나오는데 참 역할과 잘어울린다는 생각이.그이후의 작품은 거의 무술단역이고 더 비중있는 모습봤음 아깝네\n",
      "이 영화보면서 재미업다는 사람들은 역사좀 알아라영화에서 왜5.16을등장시키고 최규식 왜거론하는지 알지도못하니 그러지.. 한 남자의 인생을통해서 그시대적 상황을 알수있고 또 제목처럼 한남자가 그런상황에 맞춰 어뜩해 살았는지.. 보는 내내짠햇다.\n",
      "선라이즈 보고 이어서 봤는데 몰입감은 선셋이 좀더 좋은거 같고 작품성은 선라이즈가 나은듯 렛미싱유~♪ 3편 평점보다가 내용을 좀 알아버려서 아쉬움이.. 평점 안보고 볼껄... 사랑을 추억하는 영화 설레임 연애 애틋함이 느껴지는 좋은 영화였다.\n",
      "최근 보기드문 가족영화인 것 같아요!!보수적인 나도 애들의 천진스러운 생각과 가족에 대한 애듯한 사랑의 표현들에 나도 모르게 눈가에 눈물이 주르르 흐르더라고요! 다셋 ,여섯번정도..,저는 시사회에 두번 봤는데 , 두번째는 아들하고 함께봤어요!\n",
      "외모가 부각되어, 단순히 외모가 흉해서 몬스터인 줄 알았다. 그녀는 몬스터가 되었다. 점점 살인을 정당화해가는 모습이 이미 몬스터가 되었단 증거가. 하지만, 그녀를 그렇게 만든 몬스터가 있지 않았다면, 그녀도 이런 삶을 보내진 않았을 것이다.\n",
      "정말 재미있어요!!! 정말로정말로!!레나정은 딸을 빼앗기고 서인철박사가 집사?한테 주고키웠더니 나중엔 알게되서 레나정이 엄마가되고 TNC그룹 장남이 레나정과 결혼하고 장남의 동생인 박재준과 레나저의 딸과 결혼하고? 복잡하지만 재미있어요!!~~\n",
      "한국 영화 보면서 일케 웃어본적 몇년만인거 같네요 ㅋㅋㅋ 뭐 사람들 클라라 벗는 거만 생각하고 봤다가 실망해서 평점 1 주고 햇더만 전 원래 클라라 누군지 잘 몰라서 그냥 영화만 봣는대 웃겨서 ㅋㅋㅋ 팬티 입고 축구장간거에서 빵 터졋다는 ㅋㅋ\n",
      "지금 이 10점은 시즌 1을 위한것에 불과하다. PD도 대단했고, 그때 출연했던 강호동, 이승기, 은지원, 김종민, MC몽, 김C 등 호흡이 척척 맞았다. 물론 지금 안 맞는건 아니지만서도 웬지 모르게 시즌 1이 무척이나 그리운건 나 뿐인가?\n",
      "Mary Hopkin 의 Voyage of the Moon 이 흐르며 새하얀 커피잔에 커피와 독약이 함께 녹는다. 흠 잡을 곳이 없는 멋진 드라마.. 흡사 히가시노게이고 소설의 마무리를 보는 것 같았다. 죽어가는 채령의 모습은 오래 기억될듯.\n",
      "타계하신 배우,윤인자 님께서 주연으로 열연을 보여주신 당시 우리 영화로는 보기드문 수작이라고 기억합니다.오래전, 극장에서 본 영화라서 기억은 가물 대지만 ,전편에 잔잔하게 흐르는 음악도 좋았었구요...윤인자 님의호연이 참,좋았다고 생각합니다.\n",
      "쑨원의 삶을통해 신해혁명의 의미를 되새기고, 중국의역사를 알기쉽게 전달해준 감명깊은 영화였다., 공산당이라고 까는사람들은 중국이 원래는 공산당이 아니었다는사실을알아야한다. 신해혁명은, 청나라에대항해 한족이 일으킨혁명이며 공산당과는전혀상관이없다\n",
      "6점대는 아닌거 같다..곽경택영화는 항상 부담스럽긴 한데.. 겉멋 보다는 툭툭 던지는 욕설 섞인 구수한 사투리의 강한남성영화인거 같다. 출현 배우의 능력을 최대한 끌어내는 감독. 취향은 아니지만 영상 음악 나무랄데 없고 항상 대작스멜이 난다.\n",
      "마고가 루와 그의 가족과 있을때 중간중간 보여줬던 묘한 표정들 .. 외로워보이기도 하고 체념하는듯해보이기도 했는데 결국 마고가 루를 떠났던건 채워지지않는 외로움이 있어서가 아닐까 싶어요. 하지만 새로운 사랑도 이 외로움을 채워주지못한것같아요.\n",
      "오랜만에 보는 서부극.소재도 독특하고 음악역시 특이하게 가스펠을 편곡해서 썼는데, 색다르네. 배역도 좋았고,개인적으로 제프 브리짓스의 가래낀 목소리싫어하는데,헤일리스테인벨트 보는 맛에 참을 수 있었네. 오랜만에 보는 코엔형제작품, 강추합니다.\n",
      "최민식씨가 소주 한잔 하면서 우는장면에서뭐랄까... 아이들을 지키고 싶어하는 선생님의 모습을. 우리 아버지의 모습을. 또 점점 나이가 들어가면서 약해져가는 내 모습을 보는것 같아. 같이 울고 같이 힘내게 되네요. 위로 받았습니다. 감사합니다.\n",
      "인간이 '목적하'에 복제 인간을 만들어 낸다면 현실 가능성 있는 얘기 같다. 복제인간 관점에서 해피엔딩을 바라고 만족감을 바란다면 비추나 힘없고 나약한 그들의 존엄성도 동등히 존중받아야 하는 영혼을 가진 존재란 걸 느끼며 괜찮게 본 영화였다.\n",
      "창업을 꿈꾸는가! 좋은 아이템이 있어 사업을 하려하는가!! 그렇다면 기를 쓰고 이 영활 보기바란다!! 그 멀고 험한 여정에 스승이 될것이요 지침서가 될것이다... 혹은 단념에 도움이 될지도... 참 오랜만에 박장대소하며 본 독립영활세~~~ ★\n",
      "초등학생때 우연히 엄마 가곡집에서 가사를 보고 비디오를 빌려 본 사운드 오브 뮤직은 고등학생때까지?일년에 두번씩 꼭 챙겨보는 인생영화가 되었다. 아름다운 노래소리와 연출들.. 영화의 모든 ost가 이렇게 좋을수 있을까? 볼때마다 소름이 돋는다\n",
      "아주 개만도 못한 인간찌질이들이 악플다네ㅋㅋ 난 잼있게봤는데...영화는 말그대로 그냥 재미있으면 그만인거지..ㅋㅋㅋㅋ 이영화 악플달고 ㅈㄹ 하는 개 만도 못한 인간 찌질이 막장 인생들아.....ㅋㅋ 그냥 목 메러가라 OO 버려라 그냥 ㅋㅋㅋㅋ\n",
      "이영화를 우연히 보게 되고난후 난 너무 아름다웠다. 제작년 추석 TV에서 틀어준 봄여름가을겨울을 우연히 술이 꺤 직후 보게 되었고 난 아름다운 충격에 휩쌓였다. 그런데 그것도 김기덕의 영화였다. 난 이제 알았다. 김기덕은 대단하다는 것을...\n",
      "I am that I am. WHO MADE MAN'S MOUTH? WHO MADE THE DEAF, THE MUTE, THE SEEING OR THE BLIND? DID NOT I? NOW GO! you shall DO MY WONDERS!\n",
      "이 영화를 몇 번이고 보면 볼수록, 하나의 문장이 머릿속에서 떠나질 않았다. 한국은 관객을 위한 영화가 없다. 제발 우리나라 영화가 같잖은 억지눈물샘만 자극하는 돈만 보는 거지같은 거 그만하고 이 영화의 반 정도만 되는 영화를 만들길 바란다.\n",
      "한국 애니메이션을 진심으로 응원합니다. 박신혜씨는 억양이며 말투가 너무 어색하던데 아마 본인도 그 어색함을 느꼈을 듯. 반대로 송창의씨는 정말 자연스럽더군요. 성우인줄 알았는데 영화정보를 보고 알았네요. 오랜만에 보는 한국적인 애니메이션영화.\n",
      "아무도 지킬 생각도 없는 번들어진 규범과 규칙 따위가 대체 무슨 소용이 있나. 다들 기품있고 우아한 척 하지만 기실은 상-놈들이랑 하등 다를 바 없던 우리의 잘나신 나으리들이여. 영화의 모든 것을 장악하고 통제해낸 위대한 르누아르에게 경배를!\n",
      "오랜만에 영화보고 울었다.자이언트가 어디서 무슨목적으로 지구에 왔는진 중요하지 않다. 자이언트는 올바른 길을 선택했고 슈퍼맨이 되었다. 결국 상황이 어떻든 내가 옳은 판단을 하면 되는거다. 이렇다 변명따위 필요없이 나는 내가 선택한대로 된다.\n",
      "영어 잘 못 하는 분들이나 Skype 이용 안 해본 사람한테는 재미 없을 겁니다. 하지만, 연출, 플롯, 영상 등 작품성으로 보면 아주 훌륭한 작품입니다. SNS를 이용하는 모두가 꼭 반드시 봐야 된다고 생각합니다. 친구들한테도 추천해주세요.\n",
      "이 영화에 나오는 잔인한 부분은 시각적으로 자극을 줄려고 만든 것이 아니라 영화가 전달하고자 하는 부분들을깊게 나타내기 위한 요소로 느껴져서 너무 좋앗습니다. 고통이 가지는 의미 전쟁의 참혹함.. 마지막 부분의 여운은 정말.... 최고네요ㅜㅜ\n",
      "잠수함이 부상할때 나오는 마초적인 음악은 정말 남자의 가슴을 흥분시킨다. 잠수함이라는 특수한 공간의 폐쇄성을 지극히 사실적으로 살린 수작 중의 수작!!! 아무리 헐리웃의 CG특수효과가 대단하다하지만 아날로그의 감성을 절대 이길 수는 없지...\n",
      "생각보다 재밌는데 왜 평점이 낮은지 이해가 안된다. 박하선의 연기가 일품이고....특히 여고생연기, 음치흉내내는것 등등 박하선의 매력에 푹~ 빠지게 만드는 그런 영화다....요즘 유머코드와 안맞아서 흥행실패한지는 모르겠지만....암튼 재밌음.\n",
      "브로드웨이에서 직접 보고 영화로 또 봤지만 역시 최고의 감동! 말이필요없네요!! 연출도 훌륭했고 영화는 또 영화만의 매력이 있고 황홀한 음악과 화려한 볼거리로 가득했던 The Phantom of the opera!! Phantastic!!!!\n",
      "신랄하게 주고받는 악담도 재치터지고 가끔씩 폐부를 찌르는 교훈이라고 해야하나 느낀점이라고해야하나 그런것도 감탄을 하게 만듦무엇보다 인물이 너무 생생해서 좋다대사하나하나에 그인물이 물씬 물씬 느껴진다굉장히 생동감있는- 색채가 화려한 대사들이었다\n",
      "28일후는 단순한 좀비영화가 아니라 인간의 본성이 무엇인지, 그리고 집단적 폭력과 비합리적인 권위가 얼마나 위험한 것인지(심지어 좀비보다도)를 보여주려고 한 영화다. 조지 로매오의 살아있는 시체들의 밤과 더불어 좀비 영화의 명작이라고 생각함.\n",
      "Com-아끼고 아껴보던.. 정말.. 명작.. 주옥같은 그 당시 노래와.. 소품들.. 그리고.. 기대치 않았던.. 신인배우들의 연기력... 깨알같던.. 까메오 출연과.. 실타래 풀리는 듯한 스토리가.. 회를 거듭할수록 기대하게 하는 명작 드라마\n",
      "1박2일 시즌1은 그야말로 레전드라 할 수 있겠다. 구성, 출연진, 패턴, 시간대, 조합 등등 모든것이 최고였고, 시청률 역시 40%는 그냥 쉽게쉽게 찍었었지...강호동, 이수근, 은지원, 김종민 참 대단했지...MC몽 병역연기사건이후 하락세\n",
      "인격의 다양한 면을 감각적으로 표현한 멋진 작품. 차안에서의 하가안과 고지위의 동행장면과 마지막에 겁쟁이를 한번더 추악하게 만든 장면 등에서 눈에 보이는 것 이상의 디테일한 세상을 가시적으로 전달하여 상황을 더 인상적이게 표현한 것이 좋았다.\n",
      "작품성, 현실성으로 승부해야 할 다큐무비였다. 한국에 수입되며 상어나오는 B급 여름 스릴러처럼 마케팅해 커플들이 껴안을생각으로 영화관 갔다가 뒤통수 맞으니 환불이나 요청하지. 조난에 대한 현실성은 10점을 줘도 아깝지 않은 안타까운 수작이다.\n",
      "무지한 사람들이 보기에는 덜떨어진 패러디물, 하지만 자세히 찾아보면 사회풍자와 멋드러지게 잘꾸며진 외면 내부에 숨겨진 추악한 부분을 들춰낸다는 깊은 메세지를 담은 영화. 무작정 3류코미디영화라고 생각한다고 본다면 그사람에겐 더이상해줄말이없다.\n",
      "뭐 역사를 다룬영화니 역사왜곡이느니 어쩌구하는 인간들많다 근데 영화는 영화일뿐이고전쟁중에서의 시점은 스파르타시점이니 그 시점에서의 페르시아가 그렇게보인다는 식으로 꾸민건데(적군이고 스파르타 입장이니) 그냥 영화로봐라 영화로 무슨 역사공부하냐?\n",
      "맨 마지막... 강렬했다. 특히 마지막 장면. 어째 슌지는 꼭 자살해서 죽을것 같더라니 ㅠㅠ 우리는 모두 각시탈이고 이 나라의 영웅이다. 우리나라 정말 만세다!! 이번 드라마로 많은 걸 생각한듯.. 교훈과 아쉬움과 뭉클함을 남기고 끝났구나ㅠㅠ\n",
      "장가위감독은 천재다. 대사도 많지 않으면서 관객에게 많은 생각을 하게해준다. 양조위, 장만옥의 연기 또한 일품이다.이 영화를 열번정도 보았는데 다시봐도 질리지 않는 영화로 내겐 고전이 되었다. 음악도 감미롭고, 카메라 워크도 좋았고, 영상미도\n",
      "개인적으로는 에밀리 브론떼의 폭풍의 언덕, 유진 오닐의 밤의로의 기로 같은 작품을 떠올리게 하는 김기덕 감독 식 시나리오의 작품. 이번 작품 또한 오래 오래 생각할 부분이 많을 것 같다. 각본도, 연기도 정말 좋다. 긴장을 놓지 못하고 봤다.\n",
      "독창적이고 종교적 색채(?)가 짙은 영화이지만、맨 프롬 어스와 같이 많은 것을 생각하게 해주는 영화입니다。종교에 대한 생각 자체가 신이 아닌 믿음으로 정의 된다면 상당히 얻어 갈 수 있는 교훈적인 영화이지요~참、좋은 시간이었습니다。강력추천！！\n",
      "이 영화를 단순히 스시에 대한 다큐라고 보지 않으셨으면 합니다ㅋ 일부 전문가들은 이 영화의 전개 등이 뻔하다고 생각 하지만. 이는 감독의 의도를 생각하지 못한 짧은 생각인것 같습니다. 자신의 삶을 이 영화를 거울 삼아 되돌아 보셨으면 합니다.\n",
      "토시오와 가야코가 나와서 무조건 죽이고 다니는, 별 스토리 없는 기존의 주온보다 오히려 더 좋았다. 탄탄한 스토리, 드라마성을 지닌... 새로운 주온으로 거듭날 가능성이 보인다. 좀 안타깝기도 하고 애처롭기도 했다. 꼬마애가 철권날릴때 멋있어\n",
      "난 이런 병맛 같은 영화가 좋다. 매력있는 캐릭터의 집합소이며 어디로 튈 지 모르는 인물들과 스토리에 빠져 들어감. 휘몰아치는 이야기 전개 아니라서 좋고 흔하디 흔한 악역과 갈등 뭐 이런 거 없어서 식상하지 않음. 웃긴데 뭔가 안 웃겨서 좋음\n",
      "톰행크스의 샤프하고차분한연기가 굿.아울러 영화시작과 끝부분에나오는<street of philadelpia>와 <philadelpia>음악은 화룡점정<나는당신의사상에 반대한다.하지만당신이 그사상때문에 탄압을 받는다면 나는당신의편에서서 싸울것이다\n",
      "90년대는 홍콩영화계에 전성기라고 해도 과언이 아닌 시절이죠 그시절에 최고의 여배우들 세명이 나왔던 영화 스토리는 약해도 이러한 영화에 스토리를 찾는 것이 어불성설이지만 진짜 대박이였던 영화 그영화를 다시 리마스터링으로 볼수가 있다니 놀랍네요\n",
      "연기도 스토리도 최괴입니다. 몰입도도 굉장해거 영화애서 눈을 뗄수 없었습니다. 이번 영화로 영국의 역사에도 관심이 생겼네요. 그리고 배우들 연기도 정말 굉장했습니다. 야망에 찬 삶보다는 역시 소박하지만 행복한게 최고라는 생각을 가지게 되었네요\n",
      "케이블tv 에서 우연히 잠깐보고 재미있어 1000원이나 주고 다운받아 보는 중인데, 무한도전이나 개그콘서트도 수준낮다 무시하고 안보는 저이지만 이건 대놓고 코메디인데도 대사들이 인간 본성을 솔직히 드러내 화통하고 재미있습니다. 꼭 한번 보세요\n",
      "극초반에는 다소 억지스러운 설정이다 싶었는데 중반이후부터는 완전 몰입해서 봤습니다. 원작 보다 훌륭한 완성도 그리고 이범수, 정려원의 열연, 열정에 박수 갈채를 보내드리고 싶었고 너무 극전개가 탄탄했고 재미있어서 눈을 뗄 수 없었던 것 같아요\n",
      "내인생 최고의 드라마 라는 수식어가 당연한 최고의 걸작이었다.드라마 끝난지가 5개월이 다 되어가는데도 계속 반복해서 보고있다..매번 흠뻑 빠져서..스토리도 감동이었고 최영장군의 이민호는 최고의 캐스팅이었다.요즘세상 보기드문 감동드라마 신의!!\n",
      "레미제라블을보고, 스위니토드는 생각보다 배우들급이 낮았구나 싶었는데 다시보니 진정한 걸작이다. 가위손 이후 팀버튼과 조니뎁의 시너지가 가장 잘 발현된 작품! 음울한 런던을 표현한 미술에, 손드하임의 탁월한 음악. 주제표현까지 완벽한 잔혹동화!\n",
      "참신하긴해. 헨젤과 그레텔 오누이 가 또 이젠 대한민국으로와갖고, 마녀사냥 접고 일찐 학생들 사냥해주었으면 좋겠다.헨젤과 그레텔이 마녀사냥 때 했던것처럼,,석궁과 총탄으로 일찐 학생들을 송송 벌집 내줬으면 좋겠구나.헨젤과그레텔-일찐학생 사냥꾼\n",
      "이뮤지컬영화에 왜 이렇게 빠졌는지 나도잘 모르겠다. 수도 없이 봐서 이제 내가 이영화를 총 몇번 봤는지 기억도 안난다. 40~50번 정도 본거 같다. 열정 그래 이영화를 보면 열정이 살아 난다. 삶이 힘들때마다 내게 열정을 불어넣어준 \"렌트\"\n",
      "누가 그랬다 20살의 남자는 임신을 보고도 섹스 하는 상상만하지만....자식을 키운 남자는 임산부가 아름답게 보인다고..영화에게 몇년전에 느낀거 보다 더 많은것이 느껴진다..보면 볼수록...나이가 들수록... 좋은 영화다. 현실속의 사랑이..\n",
      "개인적으로, 굉장한 걸작이란 생각이 든다. 여자가 강간을 당했다고 진술한 이유에 대해 논란이 많은데, '문화충격'으로 인한 심리적 여파와 영국인들의 텃세, 강압에 의해 어쩔 수 없이 거짓말한거라고 생각한다. 어찌되었든 최고의 걸작 중 하나..\n",
      "영화를 보면서 모든 화장을 마친 완벽한 여자의 모습과 화장을 지운 여자의 모습을 보는 것 같았다. 그만큼 반전의 느낌이 정말 강했다. 완벽하다고만 생각했는데 생각지도 못한 반전에 놀랐고 그 반전에 담겨있는 내용과 그 내용 풀이가 정말 좋았다.\n",
      "배우 이민호와 김희선의 어울리지 않을것 같은 어울림이 묘한 매력으로 다가오는 신의 ^^ 타임스립드라마의 최고봉이라 할 수 있답니다. 잔잔하게 애잔한 신의의 매력으로 풍덩 빠져보심이 어떨런지 ^^ 내인생 최고의 드라마였습니다. 적극 추천합니다.\n",
      "햇살님 평보고 너무 어이없어서 로그인하네요.역겨우면 영화를 보지 말지 그러셨어요.? 아니 애초부터 동성애에 대해 편견을 가지고 있는 분이라면 차라리 영화보지말지 굳이 감상평까지 친절하게 남겨주시네요ㅋ입장바꿔생각해봐요이렇게까지욕먹을껀아니라생각함\n",
      "사람들 절반이, 잘못알고있는데ㅋㅋ 진화촉진제 맞은 인간들이 바로 돌연변이 된게 아니라... 진화촉진제 맞은 인간들이ㅡ 후손남기고 극한환경에ㅡ 맞게끔 900년걸쳐서 진화한건데;;; 전자로 생각하면 진짜 평점 낮을수밖에ㅋ기자/평론가들 태반일거임ㅋ\n",
      "아시아권을넘어 세계적 예인(藝人)으로 살다간 \"그\" 가 가고 난 후에도 지금까지 난 그를 동시대 사람으로 늘 그리워하기에 혹시 내가 그의 흔적 무엇인가를 놓쳤을까봐 찾아보고 또 찾아본다. 그리고 지금 놓쳤던 그의 흔적 유성어를 지금 보고있다.\n",
      "이 영화 재미있게 본 분들은 이 영화 제작기 다큐인 \" Hearts of Darkness : A Filmmaker's Apocalypse\" 라는 다큐를 보세요. 또 다른 재미를 느끼실 수 있을 겁니다. 한글자막도 있으니 검색해서 찾아 보시길.\n",
      "다양성을 인정하지 못한다면, 이 불쾌한 영화가 싫을 수도 있다. 하지만 당신이 이 영화 속 인물들 때문에 역겨움을 느꼈다면, 아마 제작진의 의도는 거의 성공적으로 당신에게 먹힌것 일 거라고 생각한다.. 이 영화, 블랙코미디 영화라고 써있던데.\n",
      "단순히 겉모양만 흉내낸 것이 아닌 진짜 성찰이 있는 캐릭터들이 마치 톱니바퀴처럼 완벽하게 맞아 돌아간다. 다른 영화를 볼 때, '과연 내가 이런 영화를 만들 수 있을까?' 라는 생각을 하게 되는데 이 영화는 감히 그런 발상조차 할 수 없었다.\n",
      "님을 생각하면 너무 가슴 아프다... 일년 후 박사가 다시 왔을때... 님이 기뻐하며 안기는 그 모습만 생각하면 가슴이 아파 미치겠다...그리곤 다시 오지 않았지...인간의 잔인함... 님을 생각하면 가슴아프고...미안하고... 너무괴롭다..\n",
      "마지막까지 로맨틱한 사랑을 꿈꾸는 젊은 청춘들..허나 나같은 청춘의 마지막 기로에서도 아직까지 영원불멸 로맨틱을 꿈꾼다.. 이 영화는 점점 현실이 되어가서 실망을 안겨줄것 같다가도 그러나 영원불멸한 사랑은 꼭 존재한다는것을 가르쳐주었다 : )\n",
      "도심속에 꽉찬 머리속을 비우는 느낌이 좋다대사도 그리 많지 않고 잔잔하면서 서정적인 풍광작은집 외벽 이곳 저곳 벗겨진 페인트가 세월의 자연스러움을 보여준다이국적이지만 동양적 시각으로 앵글에 담겨진 하와이가너무나 아름답게 내눈을 편안하게 해준다\n",
      "사운드며 조승우의 보컬이 너무 좋았다.하지만 가장 좋았던겄은 별로 좋아하지 않았던신민아~♡그녀의 인생연기. 화면이(감독이 암흑기를 표현했겠지만)더 아름다웠을듯.좋아하는 감독님이 추억의 가요로 리머이크를 잘 해준다면 오백만 이상 자신해요~^^)\n"
     ]
    }
   ],
   "source": [
    "# 길이가 1개인 문장 확인\n",
    "\n",
    "def check_sentence_with_length(raw, length):\n",
    "    count = 0\n",
    "    \n",
    "    for sen in raw:\n",
    "        if len(sen) == length:\n",
    "            print(sen)\n",
    "            count += 1\n",
    "            if count > 100: return\n",
    "\n",
    "check_sentence_with_length(ratings_doc, 135)"
   ]
  },
  {
   "cell_type": "code",
   "execution_count": 13,
   "id": "0a4c3f53",
   "metadata": {},
   "outputs": [
    {
     "name": "stdout",
     "output_type": "stream",
     "text": [
      "Outlier Index: 2\n",
      "Outlier Index: 3\n",
      "Outlier Index: 4\n",
      "Outlier Index: 5\n",
      "Outlier Index: 6\n",
      "Outlier Index: 7\n",
      "Outlier Index: 8\n",
      "Outlier Index: 9\n",
      "Outlier Index: 10\n",
      "Outlier Index: 11\n",
      "Outlier Index: 12\n",
      "Outlier Index: 13\n",
      "Outlier Index: 14\n",
      "Outlier Index: 15\n",
      "Outlier Index: 16\n",
      "Outlier Index: 17\n",
      "Outlier Index: 18\n",
      "Outlier Index: 19\n",
      "Outlier Index: 20\n",
      "Outlier Index: 21\n",
      "Outlier Index: 22\n",
      "Outlier Index: 23\n",
      "Outlier Index: 24\n",
      "Outlier Index: 25\n",
      "Outlier Index: 26\n",
      "Outlier Index: 27\n",
      "Outlier Index: 28\n",
      "Outlier Index: 29\n",
      "Outlier Index: 30\n",
      "Outlier Index: 31\n",
      "Outlier Index: 32\n",
      "Outlier Index: 33\n",
      "Outlier Index: 34\n",
      "Outlier Index: 35\n",
      "Outlier Index: 36\n",
      "Outlier Index: 37\n",
      "Outlier Index: 38\n",
      "Outlier Index: 39\n",
      "Outlier Index: 40\n",
      "Outlier Index: 41\n",
      "Outlier Index: 42\n",
      "Outlier Index: 43\n",
      "Outlier Index: 44\n",
      "Outlier Index: 45\n",
      "Outlier Index: 46\n",
      "Outlier Index: 47\n",
      "Outlier Index: 48\n",
      "Outlier Index: 49\n",
      "Outlier Index: 50\n",
      "Outlier Index: 51\n",
      "Outlier Index: 52\n",
      "Outlier Index: 53\n",
      "Outlier Index: 54\n",
      "Outlier Index: 55\n",
      "Outlier Index: 56\n",
      "Outlier Index: 57\n",
      "Outlier Index: 58\n",
      "Outlier Index: 59\n",
      "Outlier Index: 60\n",
      "Outlier Index: 61\n",
      "Outlier Index: 62\n",
      "Outlier Index: 63\n",
      "Outlier Index: 64\n",
      "Outlier Index: 65\n",
      "Outlier Index: 66\n",
      "Outlier Index: 67\n",
      "Outlier Index: 68\n",
      "Outlier Index: 69\n",
      "Outlier Index: 70\n",
      "Outlier Index: 71\n",
      "Outlier Index: 72\n",
      "Outlier Index: 73\n",
      "Outlier Index: 74\n",
      "Outlier Index: 75\n",
      "Outlier Index: 76\n",
      "Outlier Index: 77\n",
      "Outlier Index: 78\n",
      "Outlier Index: 79\n",
      "Outlier Index: 80\n",
      "Outlier Index: 81\n",
      "Outlier Index: 82\n",
      "Outlier Index: 83\n",
      "Outlier Index: 84\n",
      "Outlier Index: 85\n",
      "Outlier Index: 86\n",
      "Outlier Index: 87\n",
      "Outlier Index: 88\n",
      "Outlier Index: 89\n",
      "Outlier Index: 90\n",
      "Outlier Index: 91\n",
      "Outlier Index: 92\n",
      "Outlier Index: 93\n",
      "Outlier Index: 94\n",
      "Outlier Index: 95\n",
      "Outlier Index: 96\n",
      "Outlier Index: 97\n",
      "Outlier Index: 98\n",
      "Outlier Index: 99\n",
      "Outlier Index: 100\n",
      "Outlier Index: 101\n",
      "Outlier Index: 102\n",
      "Outlier Index: 103\n",
      "Outlier Index: 104\n",
      "Outlier Index: 105\n",
      "Outlier Index: 106\n",
      "Outlier Index: 107\n",
      "Outlier Index: 108\n",
      "Outlier Index: 109\n",
      "Outlier Index: 110\n",
      "Outlier Index: 111\n",
      "Outlier Index: 112\n",
      "Outlier Index: 113\n",
      "Outlier Index: 114\n",
      "Outlier Index: 115\n",
      "Outlier Index: 116\n",
      "Outlier Index: 117\n",
      "Outlier Index: 118\n",
      "Outlier Index: 119\n",
      "Outlier Index: 120\n",
      "Outlier Index: 121\n",
      "Outlier Index: 122\n",
      "Outlier Index: 123\n",
      "Outlier Index: 124\n",
      "Outlier Index: 125\n",
      "Outlier Index: 126\n",
      "Outlier Index: 127\n",
      "Outlier Index: 128\n",
      "Outlier Index: 129\n",
      "Outlier Index: 130\n",
      "Outlier Index: 131\n",
      "Outlier Index: 132\n",
      "Outlier Index: 133\n",
      "Outlier Index: 134\n",
      "Outlier Index: 135\n",
      "Outlier Index: 136\n",
      "Outlier Index: 137\n",
      "Outlier Index: 138\n",
      "Outlier Index: 139\n",
      "Outlier Index: 140\n"
     ]
    }
   ],
   "source": [
    "for idx, _sum in enumerate(sentence_length):\n",
    "    # 문장의 수가 135를 초과하는 문장 길이를 추출합니다.\n",
    "    if _sum > 135:\n",
    "        print(\"Outlier Index:\", idx+1)"
   ]
  },
  {
   "cell_type": "code",
   "execution_count": 14,
   "id": "b2595042",
   "metadata": {},
   "outputs": [
    {
     "name": "stdout",
     "output_type": "stream",
     "text": [
      "굿\n",
      "핡\n",
      "휴\n",
      "시\n",
      "ㅋ\n",
      "ㅇ\n",
      "‥\n",
      "O\n",
      "갑\n",
      "ㅎ\n",
      ".\n",
      "올\n",
      "헷\n",
      "g\n",
      "♥\n",
      "짱\n",
      "ㅆ\n",
      "굳\n",
      "잼\n",
      "ㅁ\n",
      "?\n",
      "애\n",
      "흠\n",
      "!\n",
      "찜\n",
      "b\n",
      ",\n",
      "1\n",
      "9\n",
      "♬\n",
      "ㅗ\n",
      "ㄳ\n",
      "ㄴ\n",
      "호\n",
      "a\n",
      "d\n",
      "f\n",
      "음\n",
      "헐\n",
      "캬\n",
      "린\n",
      "업\n",
      "乃\n",
      "ㅠ\n",
      ";\n",
      "·\n",
      "k\n",
      "움\n",
      "ㄱ\n",
      "쩜\n",
      "-\n",
      "군\n",
      "ㅉ\n",
      "훗\n",
      "z\n",
      "쨩\n",
      "뿌\n",
      "♡\n",
      "하\n",
      "h\n",
      "ㅍ\n",
      "꽉\n",
      "토\n",
      "귯\n",
      "아\n",
      "오\n",
      "ㅣ\n",
      "봐\n",
      "웅\n",
      "네\n",
      "ㅂ\n",
      "꿈\n",
      "헉\n",
      "와\n",
      "뻑\n",
      "걍\n",
      "헝\n",
      "우\n",
      "즛\n",
      "풉\n",
      "4\n",
      "쀍\n",
      "ㄹ\n",
      "삼\n",
      "쒯\n",
      "즐\n",
      "함\n",
      "0\n",
      "진\n",
      "악\n",
      "풋\n",
      "쩝\n",
      "욜\n",
      "ㄷ\n",
      "흐\n",
      "싫\n",
      "ㅜ\n",
      "잏\n",
      "허\n",
      "엿\n",
      "쉣\n"
     ]
    }
   ],
   "source": [
    "check_sentence_with_length(ratings_doc, 1)"
   ]
  },
  {
   "cell_type": "code",
   "execution_count": 15,
   "id": "16ef1b1a",
   "metadata": {},
   "outputs": [
    {
     "name": "stdout",
     "output_type": "stream",
     "text": [
      "내용이너무좋아요.ㅎ\n",
      "뀰잼이다뀰잼이라구여\n",
      "13살이엇냐?...\n",
      "알파치노 연기때문에\n",
      "이물감. 시 같았다\n",
      "매력적인 영화...\n",
      "이거 재밌는데...\n",
      ".겁쟁이페달보고싶다\n",
      "한국 영화치고 좋다\n",
      "정말 멋진 결말!ㅎ\n",
      "너무 잘 봣어요..\n",
      "도라에몽 최고~!!\n",
      "정말 재밋내요..굿\n",
      "너무끔찍하네요ㅜㅜㅜ\n",
      "유지태 너무 멌있다\n",
      "진짜..쩔지..ㅜㅜ\n",
      "개꿀재밋다뿌잉최고임\n",
      "박보영 나와서 추천\n",
      "그냥 재밌습니다^^\n",
      "카이키는차캤습니다.\n",
      "이거왜청불임????\n",
      "소재가 새로웠던..\n",
      "이거완전 추전!~~\n",
      "1236547890\n",
      "평점이왜이래....\n",
      "조용하고 잔잔한영화\n",
      "왜안 저스티스리그요\n",
      "영화의매력에빠졌어요\n",
      "피터팬너무좋아요ㅠㅠ\n",
      "엄청재밌어요정의성굳\n",
      "계속 울었다..ㅜㅜ\n",
      "재밋다 그외는 없고\n",
      "재미나요~귀여워요~\n",
      "내가본한국최고의애니\n",
      "인간은 자유의 노예\n",
      "만세!!!!짱재밌음\n",
      "아날로그적 감성..\n",
      "완전 재밌다 ㅋㅋㅋ\n",
      "유덕화아저씨잘생겼다\n",
      "통일호 화장실 강추\n",
      "구르재매맴잼잼잼잼젬\n",
      "아직까지도 여운이.\n",
      "스크림보다 재밌네!\n",
      "좋았다.(열자..)\n",
      "지극히 붉은 영화.\n",
      "이거죠~이거!!!!\n",
      "여운이너무많이남아요\n",
      "스티브잡스가생각나요\n",
      "제시카 알바 좋아요\n",
      "정말 잘 만든 사극\n",
      "나쁘지많은않은...\n",
      "재밌네 이거 ㅋㅋㅋ\n",
      "난 너무 재밌엇음~\n",
      "보.고.싶.다.!!\n",
      "즐겁게 볼수있었던!\n",
      "Very good!\n",
      "여자 걸그룹이 이쁨\n",
      "7.32 라니 ㅋㅋ\n",
      "전편 다보고싶다..\n",
      "좋다~~ 사랑스러운\n",
      "진짜감동이다감동이야\n",
      "나는 재미있게 봤다\n",
      "애니의새로운 개척점\n",
      "감동이 있는 이야기\n",
      "재미있게 봤어요^^\n",
      "가나다라마바사아자차\n",
      "좋아요정말좋아요정말\n",
      "엄청재밌어요꼭보세요\n",
      "정말 잘 만들어졌음\n",
      "넝쿨째굴러온당신짱!\n",
      "야하지만 좀 재밌다\n",
      "정말대단한거같다는ㅋ\n",
      "굿굿굿굿굯굿굿굿귯귯\n",
      "이것도 꽤 명작이지\n",
      "최고의 영화중 한편\n",
      "잔잔한 멋이 있네요\n",
      "겁나재밌었음!!!!\n",
      "내인생최고의액션영화\n",
      "감동의 물결....\n",
      "볼만함~재밋음~굿굿\n",
      "정말재밌게잘봤습니다\n",
      "장근석존잘박신혜존예\n",
      "솔직히 재밌다 ㅋㅋ\n",
      "늘 감동이었네요..\n",
      "배울점이많은영화ㅋㅋ\n",
      "일주일만에 다봣다.\n",
      "재미있게 본 영화~\n",
      "멋지고 감동적이다.\n",
      "너무 좋은 영화예요\n",
      "이영아 넘 이뻐^^\n",
      "붉은매다시보고싶다.\n",
      "웨스턴무비의 교과서\n",
      "가슴이 시리네요..\n",
      "말이 필요없네요..\n",
      "정말 잘 만든 영화\n",
      "잼있다ㅎㅎ다시봐야지\n",
      "감동스토리.....\n",
      "느낄수 있는 영화!\n",
      "완전 재미있게 봤다\n",
      "잼이잇어용꼭보새용잼\n",
      "좋은데 왠지 슬프다\n"
     ]
    }
   ],
   "source": [
    "check_sentence_with_length(ratings_doc, 10)"
   ]
  },
  {
   "cell_type": "code",
   "execution_count": 16,
   "id": "5b454b69",
   "metadata": {},
   "outputs": [
    {
     "name": "stdout",
     "output_type": "stream",
     "text": [
      "Data Size: 194543\n",
      "문장의 최단 길이: 1\n",
      "문장의 최장 길이: 142\n",
      "문장의 평균 길이: 36\n"
     ]
    },
    {
     "data": {
      "image/png": "[encoded data removed]",
      "text/plain": [
       "<Figure size 720x432 with 1 Axes>"
      ]
     },
     "metadata": {
      "needs_background": "light"
     },
     "output_type": "display_data"
    }
   ],
   "source": [
    "min_len = 999\n",
    "max_len = 0\n",
    "sum_len = 0\n",
    "\n",
    "cleaned_corpus = list(set(ratings_doc))  # set를 사용해서 중복을 제거합니다.\n",
    "print(\"Data Size:\", len(cleaned_corpus))\n",
    "\n",
    "for sen in cleaned_corpus:\n",
    "    length = len(sen)\n",
    "    if min_len > length: min_len = length\n",
    "    if max_len < length: max_len = length\n",
    "    sum_len += length\n",
    "\n",
    "print(\"문장의 최단 길이:\", min_len)\n",
    "print(\"문장의 최장 길이:\", max_len)\n",
    "print(\"문장의 평균 길이:\", sum_len // len(cleaned_corpus))\n",
    "\n",
    "sentence_length = np.zeros((max_len), dtype=np.int)\n",
    "\n",
    "for sen in cleaned_corpus:   # 중복이 제거된 코퍼스 기준\n",
    "    sentence_length[len(sen)-1] += 1\n",
    "\n",
    "plt.figure(figsize=(10,6))\n",
    "plt.bar(range(max_len), sentence_length, color = 'lightsteelblue', width=1.0)\n",
    "plt.title(\"Sentence Length Distribution\")\n",
    "plt.show()"
   ]
  },
  {
   "cell_type": "code",
   "execution_count": 17,
   "id": "7606bd27",
   "metadata": {},
   "outputs": [],
   "source": [
    "# 최적의 max_len 찾기\n",
    "\n",
    "def below_threshold_len(max_len, nested_list):\n",
    "    cnt = 0\n",
    "    for s in nested_list:\n",
    "        if(len(s) <= max_len):\n",
    "            cnt = cnt + 1\n",
    "    print('전체 샘플 중 길이가 %s 이하인 샘플의 비율: %s'%(max_len, (cnt / len(nested_list))*100))"
   ]
  },
  {
   "cell_type": "code",
   "execution_count": 18,
   "id": "74b18d08",
   "metadata": {},
   "outputs": [
    {
     "name": "stdout",
     "output_type": "stream",
     "text": [
      "전체 샘플 중 길이가 36 이하인 샘플의 비율: 66.08616090016089\n",
      "전체 샘플 중 길이가 140 이하인 샘플의 비율: 99.99948597482305\n",
      "전체 샘플 중 길이가 70 이하인 샘플의 비율: 88.66523082300571\n",
      "전체 샘플 중 길이가 100 이하인 샘플의 비율: 94.05529882853662\n",
      "전체 샘플 중 길이가 60 이하인 샘플의 비율: 85.86739178484962\n",
      "전체 샘플 중 길이가 11 이하인 샘플의 비율: 10.632610785276263\n"
     ]
    }
   ],
   "source": [
    "below_threshold_len(36, ratings_doc)  # 평균\n",
    "below_threshold_len(140, ratings_doc)  # 최장 \n",
    "below_threshold_len(70, ratings_doc)  # 중앙값\n",
    "below_threshold_len(100, ratings_doc)  \n",
    "below_threshold_len(60, ratings_doc)\n",
    "below_threshold_len(11, ratings_doc) "
   ]
  },
  {
   "cell_type": "code",
   "execution_count": 19,
   "id": "9cd2ce61",
   "metadata": {},
   "outputs": [
    {
     "name": "stdout",
     "output_type": "stream",
     "text": [
      "Data Size: 182732\n",
      "문장의 최단 길이: 11\n",
      "문장의 최장 길이: 100\n",
      "문장의 평균 길이: 38\n"
     ]
    },
    {
     "data": {
      "image/png": "[encoded data removed]",
      "text/plain": [
       "<Figure size 720x432 with 1 Axes>"
      ]
     },
     "metadata": {
      "needs_background": "light"
     },
     "output_type": "display_data"
    }
   ],
   "source": [
    "max_len = 100\n",
    "min_len = 11\n",
    "\n",
    "# 길이 조건에 맞는 문장만 선택합니다.\n",
    "filtered_corpus = [s for s in cleaned_corpus if (len(s) < max_len)]\n",
    "\n",
    "# 분포도를 다시 그려봅니다.\n",
    "sentence_length = np.zeros((max_len), dtype=np.int)\n",
    "\n",
    "for sen in filtered_corpus:\n",
    "    sentence_length[len(sen)-1] += 1\n",
    "\n",
    "print(\"Data Size:\", len(filtered_corpus))\n",
    "\n",
    "print(\"문장의 최단 길이:\", min_len)\n",
    "print(\"문장의 최장 길이:\", max_len)\n",
    "print(\"문장의 평균 길이:\", sum_len // len(filtered_corpus))\n",
    "\n",
    "plt.figure(figsize=(10,6))\n",
    "plt.bar(range(max_len), sentence_length, color = 'lightsteelblue', width=1.0)\n",
    "plt.title(\"Sentence Length Distribution\")\n",
    "plt.show()"
   ]
  },
  {
   "cell_type": "code",
   "execution_count": 20,
   "id": "12d776b4",
   "metadata": {},
   "outputs": [
    {
     "data": {
      "text/plain": [
       "array([ 124,  460,  793, 1222, 1469, 1882, 2187, 2270, 2440, 3379, 4459,\n",
       "       5711, 5970, 5848, 5518, 5265, 5005, 4947, 4806, 4626, 4542, 4436,\n",
       "       4264, 4129, 4073, 3973, 3865, 3809, 3743, 3665, 3561, 3566, 3353,\n",
       "       3339, 3036, 2831, 2736, 2736, 2775, 2856, 2486, 2486, 2495, 2625,\n",
       "       2599, 2257, 1660, 1311, 1079,  968,  893,  844,  799,  789,  765,\n",
       "        678,  686,  654,  658,  648,  614,  554,  600,  555,  544,  554,\n",
       "        528,  528,  473,  493,  443,  477,  469,  443,  403,  437,  422,\n",
       "        388,  398,  365,  372,  398,  380,  381,  326,  350,  327,  308,\n",
       "        333,  332,  260,  286,  300,  281,  291,  255,  261,  271,  283,\n",
       "          0])"
      ]
     },
     "execution_count": 20,
     "metadata": {},
     "output_type": "execute_result"
    }
   ],
   "source": [
    "sentence_length"
   ]
  },
  {
   "cell_type": "code",
   "execution_count": 21,
   "id": "43bd1359",
   "metadata": {},
   "outputs": [
    {
     "name": "stdout",
     "output_type": "stream",
     "text": [
      "전처리 전 데이터 개수 : 199992\n",
      "전처리 후 데이터 개수 : 182732\n",
      "전처리 후 남은 데이터 양(%) 91.36965478619145\n"
     ]
    }
   ],
   "source": [
    "print('전처리 전 데이터 개수 :', len(ratings_df))\n",
    "print('전처리 후 데이터 개수 :', len(filtered_corpus))\n",
    "print('전처리 후 남은 데이터 양(%)', (len(filtered_corpus)/len(ratings_df))*100)"
   ]
  },
  {
   "cell_type": "markdown",
   "id": "4de77d6a",
   "metadata": {},
   "source": [
    "-----\n",
    "\n",
    "## 2. 공백 기반 토큰화\n",
    "- 정제된 데이터를 공백 기반으로 토큰화하여 `list`에 저장\n",
    "- `tokenize()` 함수를 사용해 단어 사전과 `Tensor` 데이터를 얻은 후, 단어 사전의 크기 확인\n",
    "- 공백 기반 토큰화의 문제점\n",
    "  - 불필요하게 큰 단어 사전을 가지게 되어, 연산량 증가로 이어짐"
   ]
  },
  {
   "cell_type": "code",
   "execution_count": 22,
   "id": "fb2e7f81",
   "metadata": {},
   "outputs": [],
   "source": [
    "# 정제된 데이터를 공백 기반으로 토큰화\n",
    "\n",
    "def tokenize(corpus):  # corpus: Tokenized Sentence's List\n",
    "    tokenizer = tf.keras.preprocessing.text.Tokenizer(filters='')\n",
    "    tokenizer.fit_on_texts(corpus)\n",
    "\n",
    "    tensor = tokenizer.texts_to_sequences(corpus)\n",
    "\n",
    "    tensor = tf.keras.preprocessing.sequence.pad_sequences(tensor, padding='post')\n",
    "\n",
    "    return tensor, tokenizer"
   ]
  },
  {
   "cell_type": "code",
   "execution_count": 23,
   "id": "ec0149bf",
   "metadata": {},
   "outputs": [],
   "source": [
    "# 정제된 데이터를 공백 기반으로 토큰화하여 저장\n",
    "split_corpus = []\n",
    "\n",
    "for kor in filtered_corpus:\n",
    "    split_corpus.append(kor.split())"
   ]
  },
  {
   "cell_type": "code",
   "execution_count": 24,
   "id": "38716160",
   "metadata": {},
   "outputs": [
    {
     "name": "stdout",
     "output_type": "stream",
     "text": [
      "Split Vocab Size: 367047\n"
     ]
    }
   ],
   "source": [
    "split_tensor, split_tokenizer = tokenize(split_corpus)\n",
    "\n",
    "print(\"Split Vocab Size:\", len(split_tokenizer.index_word))"
   ]
  },
  {
   "cell_type": "code",
   "execution_count": 25,
   "id": "50046239",
   "metadata": {},
   "outputs": [
    {
     "name": "stdout",
     "output_type": "stream",
     "text": [
      "0 : 영화\n",
      "1 : 너무\n",
      "2 : 정말\n",
      "3 : 진짜\n",
      "4 : 이\n",
      "5 : 영화.\n",
      "6 : 왜\n",
      "7 : 이런\n",
      "8 : 그냥\n",
      "9 : 더\n",
      "10 : 수\n",
      "11 : 영화를\n"
     ]
    }
   ],
   "source": [
    "for idx, word in enumerate(split_tokenizer.word_index):\n",
    "    print(idx, \":\", word)\n",
    "\n",
    "    if idx > 10: break"
   ]
  },
  {
   "cell_type": "markdown",
   "id": "7450ddb9",
   "metadata": {},
   "source": [
    "-----\n",
    "\n",
    "## 3. 형태소 기반 토큰화\n",
    "- `KoNLPy`의 `MeCab` 클래스를 이용하여 형태소 기반으로 토큰화\n",
    "- 위의 공백 기반 토큰화 결과에 비해 단어 수가 현저히 줄어든 것을 확인할 수 있음\n",
    "  - 이는 연산량의 감소로 이어져 더 빠른 학습을 가능하게 함\n",
    "  - 모델이 튜닝해야 하는 매개변수(`Parameter`) 수 역시 감소하여 효율적인 학습 가능\n",
    "- 두 가지 방법을 이용한 `Decoding`\n",
    "  1. `tokenizer.sequences_to_texts()` 함수\n",
    "  2. `tokenizer.index_word`"
   ]
  },
  {
   "cell_type": "code",
   "execution_count": 26,
   "id": "f4bb3d2a",
   "metadata": {},
   "outputs": [],
   "source": [
    "# 위에서 사용한 코드를 활용해 MeCab 단어 사전을 만들어보세요. \n",
    "# Hint : mecab.morphs()를 사용해서 형태소분석을 합니다.\n",
    "def mecab_split(sentence):\n",
    "    return mecab.morphs(sentence)\n",
    "\n",
    "mecab_corpus = []\n",
    "\n",
    "for kor in filtered_corpus:\n",
    "    mecab_corpus.append(mecab_split(kor))"
   ]
  },
  {
   "cell_type": "code",
   "execution_count": 27,
   "id": "3a6e1604",
   "metadata": {},
   "outputs": [
    {
     "name": "stdout",
     "output_type": "stream",
     "text": [
      "MeCab Vocab Size: 54293\n"
     ]
    }
   ],
   "source": [
    "mecab_tensor, mecab_tokenizer = tokenize(mecab_corpus)\n",
    "\n",
    "print(\"MeCab Vocab Size:\", len(mecab_tokenizer.index_word))"
   ]
  },
  {
   "cell_type": "code",
   "execution_count": 28,
   "id": "0024ccaf",
   "metadata": {},
   "outputs": [
    {
     "name": "stdout",
     "output_type": "stream",
     "text": [
      "내 살 다 살 다 수술 자국 보이 는 여자 출연 하 는 영화 는 처음 보 네 ㅋㅋ\n"
     ]
    }
   ],
   "source": [
    "# Case 1 : tokenizer.sequences_to_texts()\n",
    "\n",
    "texts = mecab_tokenizer.sequences_to_texts([mecab_tensor[100]])\n",
    "print(texts[0])"
   ]
  },
  {
   "cell_type": "code",
   "execution_count": 29,
   "id": "c908d608",
   "metadata": {},
   "outputs": [
    {
     "name": "stdout",
     "output_type": "stream",
     "text": [
      "내 살 다 살 다 수술 자국 보이 는 여자 출연 하 는 영화 는 처음 보 네 ㅋㅋ \n"
     ]
    }
   ],
   "source": [
    "# Case 2 : tokenizer.index_word\n",
    "\n",
    "sentence = \"\"\n",
    "\n",
    "for w in mecab_tensor[100]:\n",
    "    if w == 0: continue\n",
    "    sentence += mecab_tokenizer.index_word[w] + \" \"\n",
    "\n",
    "print(sentence)"
   ]
  },
  {
   "cell_type": "markdown",
   "id": "852232f3",
   "metadata": {},
   "source": [
    "-----\n",
    "\n",
    "## 4. Sentencepiece 사용하기\n",
    "- 우선, 학습 데이터를 불러온 뒤 결측치와 중복을 제거하는 정제 작업 수행\n",
    "- `Google Sentencepiece`\n",
    "  - 구글이 `BPE` 알고리즘과 `Unigram Language Model Tokenizer`를 구현하여 `github`에 공개한 패키지\n",
    "  - 사전 토큰화 작업(`pretokenization`) 없이 전처리를 하지 않은 데이터(`raw data`)에 바로 분리 토크나이저를 사용할 수 있어 어떤 언어에도 적용 가능한 점을 살려서 구현\n",
    "  - 사전 토큰화 작업 없이 단어 분리 토큰화를 수행하므로 언어에 종속되지 않음\n",
    "- 유니그램(`Unigram`)\n",
    "    - 가장 단순한 언어 모델\n",
    "    - 각 단어가 서로 독립(`independent`)적이라고 가정\n",
    "    - 단어의 시퀀스를 고려하기보다 단어의 `set`을 상정한다는 쪽이 더 정확한 표현\n",
    "    → 각 단어의 등장 순서가 바뀌어도 개별 단어 확룔의 곱은 변하지 않음을 의미\n",
    "- `BPE(Byte Pair Encoding)`\n",
    "    - 1994년 제안된 데이터 압축 알고리즘으로, 후에 자연어 처리의 서브워드 분리(`subword segmentation`) 알고리즘으로 응용되고 있음\n",
    "    - 기본적으로 연속적으로 가장 많이 등장한 글자의 쌍을 찾아서 하나의 글자로 병합하는 방식을 수행\n",
    "    - 글자 단위에서 점차적으로 단어 집합을 만들어 내는 `bottom up` 접근 방식을 사용\n",
    "        - 훈련 데이터에 있는 단어들을 모든 글자 또는 유니코드 단위로 단어 집합 생성\n",
    "        - 가장 많이 등장하는 유니그램을 하나의 유니그램으로 통합"
   ]
  },
  {
   "cell_type": "code",
   "execution_count": 30,
   "id": "50cfc00a",
   "metadata": {},
   "outputs": [],
   "source": [
    "urllib.request.urlretrieve(\"https://raw.githubusercontent.com/e9t/nsmc/master/ratings_train.txt\", filename=\"ratings_train.txt\")\n",
    "train_data = pd.read_table('ratings_train.txt')"
   ]
  },
  {
   "cell_type": "code",
   "execution_count": 31,
   "id": "9b0998c6",
   "metadata": {},
   "outputs": [
    {
     "name": "stdout",
     "output_type": "stream",
     "text": [
      "id          0\n",
      "document    5\n",
      "label       0\n",
      "dtype: int64\n"
     ]
    }
   ],
   "source": [
    "print(train_data.isnull().sum())"
   ]
  },
  {
   "cell_type": "code",
   "execution_count": 32,
   "id": "771c3f3a",
   "metadata": {},
   "outputs": [
    {
     "name": "stdout",
     "output_type": "stream",
     "text": [
      "False\n",
      "결측치 제거 후 훈련 데이터 개수 : 149995\n"
     ]
    }
   ],
   "source": [
    "train_data = train_data.dropna(how = 'any') # Null 값이 존재하는 행 제거\n",
    "print(train_data.isnull().values.any()) # Null 값이 존재하는지 확인\n",
    "print('결측치 제거 후 훈련 데이터 개수 :', len(train_data))"
   ]
  },
  {
   "cell_type": "code",
   "execution_count": 33,
   "id": "003e6628",
   "metadata": {},
   "outputs": [
    {
     "name": "stdout",
     "output_type": "stream",
     "text": [
      "중복 제거 후 훈련 데이터 개수 : 146182\n"
     ]
    }
   ],
   "source": [
    "train_data = train_data.drop_duplicates(['document'])   \n",
    "print('중복 제거 후 훈련 데이터 개수 :', len(train_data))"
   ]
  },
  {
   "cell_type": "code",
   "execution_count": 34,
   "id": "888427d9",
   "metadata": {},
   "outputs": [
    {
     "name": "stderr",
     "output_type": "stream",
     "text": [
      "sentencepiece_trainer.cc(177) LOG(INFO) Running command: --input=ratings_doc.txt --model_prefix=naver_4k --vocab_size=4000\n",
      "sentencepiece_trainer.cc(77) LOG(INFO) Starts training with : \n",
      "trainer_spec {\n",
      "  input: ratings_doc.txt\n",
      "  input_format: \n",
      "  model_prefix: naver_4k\n",
      "  model_type: UNIGRAM\n",
      "  vocab_size: 4000\n",
      "  self_test_sample_size: 0\n",
      "  character_coverage: 0.9995\n",
      "  input_sentence_size: 0\n",
      "  shuffle_input_sentence: 1\n",
      "  seed_sentencepiece_size: 1000000\n",
      "  shrinking_factor: 0.75\n",
      "  max_sentence_length: 4192\n",
      "  num_threads: 16\n",
      "  num_sub_iterations: 2\n",
      "  max_sentencepiece_length: 16\n",
      "  split_by_unicode_script: 1\n",
      "  split_by_number: 1\n",
      "  split_by_whitespace: 1\n",
      "  split_digits: 0\n",
      "  treat_whitespace_as_suffix: 0\n",
      "  allow_whitespace_only_pieces: 0\n",
      "  required_chars: \n",
      "  byte_fallback: 0\n",
      "  vocabulary_output_piece_score: 1\n",
      "  train_extremely_large_corpus: 0\n",
      "  hard_vocab_limit: 1\n",
      "  use_all_vocab: 0\n",
      "  unk_id: 0\n",
      "  bos_id: 1\n",
      "  eos_id: 2\n",
      "  pad_id: -1\n",
      "  unk_piece: <unk>\n",
      "  bos_piece: <s>\n",
      "  eos_piece: </s>\n",
      "  pad_piece: <pad>\n",
      "  unk_surface:  ⁇ \n",
      "}\n",
      "normalizer_spec {\n",
      "  name: nmt_nfkc\n",
      "  add_dummy_prefix: 1\n",
      "  remove_extra_whitespaces: 1\n",
      "  escape_whitespaces: 1\n",
      "  normalization_rule_tsv: \n",
      "}\n",
      "denormalizer_spec {}\n",
      "trainer_interface.cc(329) LOG(INFO) SentenceIterator is not specified. Using MultiFileSentenceIterator.\n",
      "trainer_interface.cc(178) LOG(INFO) Loading corpus: ratings_doc.txt\n",
      "trainer_interface.cc(385) LOG(INFO) Loaded all 146182 sentences\n",
      "trainer_interface.cc(400) LOG(INFO) Adding meta_piece: <unk>\n",
      "trainer_interface.cc(400) LOG(INFO) Adding meta_piece: <s>\n",
      "trainer_interface.cc(400) LOG(INFO) Adding meta_piece: </s>\n",
      "trainer_interface.cc(405) LOG(INFO) Normalizing sentences...\n",
      "trainer_interface.cc(466) LOG(INFO) all chars count=5406067\n",
      "trainer_interface.cc(477) LOG(INFO) Done: 99.95% characters are covered.\n",
      "trainer_interface.cc(487) LOG(INFO) Alphabet size=1713\n",
      "trainer_interface.cc(488) LOG(INFO) Final character coverage=0.9995\n",
      "trainer_interface.cc(520) LOG(INFO) Done! preprocessed 146182 sentences.\n",
      "unigram_model_trainer.cc(139) LOG(INFO) Making suffix array...\n",
      "unigram_model_trainer.cc(143) LOG(INFO) Extracting frequent sub strings...\n",
      "unigram_model_trainer.cc(194) LOG(INFO) Initialized 309136 seed sentencepieces\n",
      "trainer_interface.cc(526) LOG(INFO) Tokenizing input sentences with whitespace: 146182\n",
      "trainer_interface.cc(537) LOG(INFO) Done! 357582\n",
      "unigram_model_trainer.cc(489) LOG(INFO) Using 357582 sentences for EM training\n",
      "unigram_model_trainer.cc(505) LOG(INFO) EM sub_iter=0 size=157917 obj=15.4579 num_tokens=843023 num_tokens/piece=5.33839\n",
      "unigram_model_trainer.cc(505) LOG(INFO) EM sub_iter=1 size=146134 obj=14.3908 num_tokens=848363 num_tokens/piece=5.80538\n",
      "unigram_model_trainer.cc(505) LOG(INFO) EM sub_iter=0 size=109537 obj=14.4882 num_tokens=883798 num_tokens/piece=8.06849\n",
      "unigram_model_trainer.cc(505) LOG(INFO) EM sub_iter=1 size=109358 obj=14.4325 num_tokens=884575 num_tokens/piece=8.0888\n",
      "unigram_model_trainer.cc(505) LOG(INFO) EM sub_iter=0 size=82016 obj=14.6691 num_tokens=928636 num_tokens/piece=11.3226\n",
      "unigram_model_trainer.cc(505) LOG(INFO) EM sub_iter=1 size=82005 obj=14.6077 num_tokens=928817 num_tokens/piece=11.3263\n",
      "unigram_model_trainer.cc(505) LOG(INFO) EM sub_iter=0 size=61503 obj=14.8672 num_tokens=970692 num_tokens/piece=15.7828\n",
      "unigram_model_trainer.cc(505) LOG(INFO) EM sub_iter=1 size=61503 obj=14.8064 num_tokens=970740 num_tokens/piece=15.7836\n",
      "unigram_model_trainer.cc(505) LOG(INFO) EM sub_iter=0 size=46127 obj=15.0969 num_tokens=1015648 num_tokens/piece=22.0185\n",
      "unigram_model_trainer.cc(505) LOG(INFO) EM sub_iter=1 size=46127 obj=15.0325 num_tokens=1015642 num_tokens/piece=22.0184\n",
      "unigram_model_trainer.cc(505) LOG(INFO) EM sub_iter=0 size=34595 obj=15.3567 num_tokens=1061923 num_tokens/piece=30.6959\n",
      "unigram_model_trainer.cc(505) LOG(INFO) EM sub_iter=1 size=34595 obj=15.2902 num_tokens=1061981 num_tokens/piece=30.6975\n",
      "unigram_model_trainer.cc(505) LOG(INFO) EM sub_iter=0 size=25946 obj=15.6483 num_tokens=1109853 num_tokens/piece=42.7755\n",
      "unigram_model_trainer.cc(505) LOG(INFO) EM sub_iter=1 size=25946 obj=15.5758 num_tokens=1109868 num_tokens/piece=42.7761\n",
      "unigram_model_trainer.cc(505) LOG(INFO) EM sub_iter=0 size=19459 obj=15.9618 num_tokens=1160104 num_tokens/piece=59.6179\n",
      "unigram_model_trainer.cc(505) LOG(INFO) EM sub_iter=1 size=19459 obj=15.8815 num_tokens=1160123 num_tokens/piece=59.6188\n",
      "unigram_model_trainer.cc(505) LOG(INFO) EM sub_iter=0 size=14594 obj=16.3054 num_tokens=1213488 num_tokens/piece=83.1498\n",
      "unigram_model_trainer.cc(505) LOG(INFO) EM sub_iter=1 size=14594 obj=16.2137 num_tokens=1213495 num_tokens/piece=83.1503\n",
      "unigram_model_trainer.cc(505) LOG(INFO) EM sub_iter=0 size=10945 obj=16.6811 num_tokens=1270865 num_tokens/piece=116.114\n",
      "unigram_model_trainer.cc(505) LOG(INFO) EM sub_iter=1 size=10945 obj=16.57 num_tokens=1270879 num_tokens/piece=116.115\n",
      "unigram_model_trainer.cc(505) LOG(INFO) EM sub_iter=0 size=8208 obj=17.0953 num_tokens=1332116 num_tokens/piece=162.295\n",
      "unigram_model_trainer.cc(505) LOG(INFO) EM sub_iter=1 size=8208 obj=16.9796 num_tokens=1332393 num_tokens/piece=162.329\n",
      "unigram_model_trainer.cc(505) LOG(INFO) EM sub_iter=0 size=6156 obj=17.5749 num_tokens=1400001 num_tokens/piece=227.421\n",
      "unigram_model_trainer.cc(505) LOG(INFO) EM sub_iter=1 size=6156 obj=17.441 num_tokens=1400505 num_tokens/piece=227.502\n",
      "unigram_model_trainer.cc(505) LOG(INFO) EM sub_iter=0 size=4617 obj=18.1115 num_tokens=1476426 num_tokens/piece=319.78\n",
      "unigram_model_trainer.cc(505) LOG(INFO) EM sub_iter=1 size=4617 obj=17.9355 num_tokens=1476501 num_tokens/piece=319.797\n",
      "unigram_model_trainer.cc(505) LOG(INFO) EM sub_iter=0 size=4400 obj=18.0608 num_tokens=1491345 num_tokens/piece=338.942\n",
      "unigram_model_trainer.cc(505) LOG(INFO) EM sub_iter=1 size=4400 obj=18.0295 num_tokens=1491677 num_tokens/piece=339.017\n",
      "trainer_interface.cc(615) LOG(INFO) Saving model: naver_4k.model\n",
      "trainer_interface.cc(626) LOG(INFO) Saving vocabs: naver_4k.vocab\n",
      "sentencepiece_trainer.cc(177) LOG(INFO) Running command: --input=ratings_doc.txt --model_prefix=naver_8k --vocab_size=8000\n",
      "sentencepiece_trainer.cc(77) LOG(INFO) Starts training with : \n",
      "trainer_spec {\n",
      "  input: ratings_doc.txt\n",
      "  input_format: \n",
      "  model_prefix: naver_8k\n",
      "  model_type: UNIGRAM\n",
      "  vocab_size: 8000\n",
      "  self_test_sample_size: 0\n",
      "  character_coverage: 0.9995\n",
      "  input_sentence_size: 0\n",
      "  shuffle_input_sentence: 1\n",
      "  seed_sentencepiece_size: 1000000\n",
      "  shrinking_factor: 0.75\n",
      "  max_sentence_length: 4192\n",
      "  num_threads: 16\n",
      "  num_sub_iterations: 2\n",
      "  max_sentencepiece_length: 16\n",
      "  split_by_unicode_script: 1\n",
      "  split_by_number: 1\n",
      "  split_by_whitespace: 1\n",
      "  split_digits: 0\n",
      "  treat_whitespace_as_suffix: 0\n",
      "  allow_whitespace_only_pieces: 0\n",
      "  required_chars: \n",
      "  byte_fallback: 0\n",
      "  vocabulary_output_piece_score: 1\n",
      "  train_extremely_large_corpus: 0\n",
      "  hard_vocab_limit: 1\n",
      "  use_all_vocab: 0\n",
      "  unk_id: 0\n",
      "  bos_id: 1\n",
      "  eos_id: 2\n",
      "  pad_id: -1\n",
      "  unk_piece: <unk>\n",
      "  bos_piece: <s>\n",
      "  eos_piece: </s>\n",
      "  pad_piece: <pad>\n",
      "  unk_surface:  ⁇ \n",
      "}\n",
      "normalizer_spec {\n",
      "  name: nmt_nfkc\n",
      "  add_dummy_prefix: 1\n",
      "  remove_extra_whitespaces: 1\n",
      "  escape_whitespaces: 1\n",
      "  normalization_rule_tsv: \n",
      "}\n",
      "denormalizer_spec {}\n",
      "trainer_interface.cc(329) LOG(INFO) SentenceIterator is not specified. Using MultiFileSentenceIterator.\n",
      "trainer_interface.cc(178) LOG(INFO) Loading corpus: ratings_doc.txt\n",
      "trainer_interface.cc(385) LOG(INFO) Loaded all 146182 sentences\n",
      "trainer_interface.cc(400) LOG(INFO) Adding meta_piece: <unk>\n",
      "trainer_interface.cc(400) LOG(INFO) Adding meta_piece: <s>\n",
      "trainer_interface.cc(400) LOG(INFO) Adding meta_piece: </s>\n",
      "trainer_interface.cc(405) LOG(INFO) Normalizing sentences...\n",
      "trainer_interface.cc(466) LOG(INFO) all chars count=5406067\n",
      "trainer_interface.cc(477) LOG(INFO) Done: 99.95% characters are covered.\n",
      "trainer_interface.cc(487) LOG(INFO) Alphabet size=1713\n",
      "trainer_interface.cc(488) LOG(INFO) Final character coverage=0.9995\n",
      "trainer_interface.cc(520) LOG(INFO) Done! preprocessed 146182 sentences.\n",
      "unigram_model_trainer.cc(139) LOG(INFO) Making suffix array...\n",
      "unigram_model_trainer.cc(143) LOG(INFO) Extracting frequent sub strings...\n",
      "unigram_model_trainer.cc(194) LOG(INFO) Initialized 309136 seed sentencepieces\n",
      "trainer_interface.cc(526) LOG(INFO) Tokenizing input sentences with whitespace: 146182\n",
      "trainer_interface.cc(537) LOG(INFO) Done! 357582\n",
      "unigram_model_trainer.cc(489) LOG(INFO) Using 357582 sentences for EM training\n",
      "unigram_model_trainer.cc(505) LOG(INFO) EM sub_iter=0 size=157917 obj=15.4579 num_tokens=843023 num_tokens/piece=5.33839\n",
      "unigram_model_trainer.cc(505) LOG(INFO) EM sub_iter=1 size=146134 obj=14.3908 num_tokens=848363 num_tokens/piece=5.80538\n",
      "unigram_model_trainer.cc(505) LOG(INFO) EM sub_iter=0 size=109537 obj=14.4882 num_tokens=883798 num_tokens/piece=8.06849\n",
      "unigram_model_trainer.cc(505) LOG(INFO) EM sub_iter=1 size=109358 obj=14.4325 num_tokens=884575 num_tokens/piece=8.0888\n",
      "unigram_model_trainer.cc(505) LOG(INFO) EM sub_iter=0 size=82016 obj=14.6691 num_tokens=928636 num_tokens/piece=11.3226\n",
      "unigram_model_trainer.cc(505) LOG(INFO) EM sub_iter=1 size=82005 obj=14.6077 num_tokens=928817 num_tokens/piece=11.3263\n",
      "unigram_model_trainer.cc(505) LOG(INFO) EM sub_iter=0 size=61503 obj=14.8672 num_tokens=970692 num_tokens/piece=15.7828\n",
      "unigram_model_trainer.cc(505) LOG(INFO) EM sub_iter=1 size=61503 obj=14.8064 num_tokens=970740 num_tokens/piece=15.7836\n",
      "unigram_model_trainer.cc(505) LOG(INFO) EM sub_iter=0 size=46127 obj=15.0969 num_tokens=1015648 num_tokens/piece=22.0185\n",
      "unigram_model_trainer.cc(505) LOG(INFO) EM sub_iter=1 size=46127 obj=15.0325 num_tokens=1015642 num_tokens/piece=22.0184\n",
      "unigram_model_trainer.cc(505) LOG(INFO) EM sub_iter=0 size=34595 obj=15.3567 num_tokens=1061923 num_tokens/piece=30.6959\n",
      "unigram_model_trainer.cc(505) LOG(INFO) EM sub_iter=1 size=34595 obj=15.2902 num_tokens=1061981 num_tokens/piece=30.6975\n",
      "unigram_model_trainer.cc(505) LOG(INFO) EM sub_iter=0 size=25946 obj=15.6483 num_tokens=1109853 num_tokens/piece=42.7755\n",
      "unigram_model_trainer.cc(505) LOG(INFO) EM sub_iter=1 size=25946 obj=15.5758 num_tokens=1109868 num_tokens/piece=42.7761\n",
      "unigram_model_trainer.cc(505) LOG(INFO) EM sub_iter=0 size=19459 obj=15.9618 num_tokens=1160104 num_tokens/piece=59.6179\n",
      "unigram_model_trainer.cc(505) LOG(INFO) EM sub_iter=1 size=19459 obj=15.8815 num_tokens=1160123 num_tokens/piece=59.6188\n",
      "unigram_model_trainer.cc(505) LOG(INFO) EM sub_iter=0 size=14594 obj=16.3054 num_tokens=1213488 num_tokens/piece=83.1498\n",
      "unigram_model_trainer.cc(505) LOG(INFO) EM sub_iter=1 size=14594 obj=16.2137 num_tokens=1213495 num_tokens/piece=83.1503\n",
      "unigram_model_trainer.cc(505) LOG(INFO) EM sub_iter=0 size=10945 obj=16.6811 num_tokens=1270865 num_tokens/piece=116.114\n",
      "unigram_model_trainer.cc(505) LOG(INFO) EM sub_iter=1 size=10945 obj=16.57 num_tokens=1270879 num_tokens/piece=116.115\n",
      "unigram_model_trainer.cc(505) LOG(INFO) EM sub_iter=0 size=8800 obj=16.9566 num_tokens=1316173 num_tokens/piece=149.565\n",
      "unigram_model_trainer.cc(505) LOG(INFO) EM sub_iter=1 size=8800 obj=16.8726 num_tokens=1316333 num_tokens/piece=149.583\n",
      "trainer_interface.cc(615) LOG(INFO) Saving model: naver_8k.model\n",
      "trainer_interface.cc(626) LOG(INFO) Saving vocabs: naver_8k.vocab\n",
      "sentencepiece_trainer.cc(177) LOG(INFO) Running command: --input=ratings_doc.txt --model_prefix=naver_16k --vocab_size=16000\n",
      "sentencepiece_trainer.cc(77) LOG(INFO) Starts training with : \n",
      "trainer_spec {\n",
      "  input: ratings_doc.txt\n",
      "  input_format: \n",
      "  model_prefix: naver_16k\n",
      "  model_type: UNIGRAM\n",
      "  vocab_size: 16000\n",
      "  self_test_sample_size: 0\n",
      "  character_coverage: 0.9995\n",
      "  input_sentence_size: 0\n",
      "  shuffle_input_sentence: 1\n",
      "  seed_sentencepiece_size: 1000000\n",
      "  shrinking_factor: 0.75\n",
      "  max_sentence_length: 4192\n",
      "  num_threads: 16\n",
      "  num_sub_iterations: 2\n",
      "  max_sentencepiece_length: 16\n",
      "  split_by_unicode_script: 1\n",
      "  split_by_number: 1\n",
      "  split_by_whitespace: 1\n",
      "  split_digits: 0\n",
      "  treat_whitespace_as_suffix: 0\n",
      "  allow_whitespace_only_pieces: 0\n",
      "  required_chars: \n",
      "  byte_fallback: 0\n",
      "  vocabulary_output_piece_score: 1\n",
      "  train_extremely_large_corpus: 0\n",
      "  hard_vocab_limit: 1\n",
      "  use_all_vocab: 0\n",
      "  unk_id: 0\n",
      "  bos_id: 1\n",
      "  eos_id: 2\n",
      "  pad_id: -1\n",
      "  unk_piece: <unk>\n",
      "  bos_piece: <s>\n",
      "  eos_piece: </s>\n",
      "  pad_piece: <pad>\n",
      "  unk_surface:  ⁇ \n",
      "}\n",
      "normalizer_spec {\n",
      "  name: nmt_nfkc\n",
      "  add_dummy_prefix: 1\n",
      "  remove_extra_whitespaces: 1\n",
      "  escape_whitespaces: 1\n",
      "  normalization_rule_tsv: \n",
      "}\n",
      "denormalizer_spec {}\n",
      "trainer_interface.cc(329) LOG(INFO) SentenceIterator is not specified. Using MultiFileSentenceIterator.\n",
      "trainer_interface.cc(178) LOG(INFO) Loading corpus: ratings_doc.txt\n",
      "trainer_interface.cc(385) LOG(INFO) Loaded all 146182 sentences\n",
      "trainer_interface.cc(400) LOG(INFO) Adding meta_piece: <unk>\n",
      "trainer_interface.cc(400) LOG(INFO) Adding meta_piece: <s>\n",
      "trainer_interface.cc(400) LOG(INFO) Adding meta_piece: </s>\n",
      "trainer_interface.cc(405) LOG(INFO) Normalizing sentences...\n",
      "trainer_interface.cc(466) LOG(INFO) all chars count=5406067\n",
      "trainer_interface.cc(477) LOG(INFO) Done: 99.95% characters are covered.\n",
      "trainer_interface.cc(487) LOG(INFO) Alphabet size=1713\n",
      "trainer_interface.cc(488) LOG(INFO) Final character coverage=0.9995\n",
      "trainer_interface.cc(520) LOG(INFO) Done! preprocessed 146182 sentences.\n",
      "unigram_model_trainer.cc(139) LOG(INFO) Making suffix array...\n",
      "unigram_model_trainer.cc(143) LOG(INFO) Extracting frequent sub strings...\n",
      "unigram_model_trainer.cc(194) LOG(INFO) Initialized 309136 seed sentencepieces\n",
      "trainer_interface.cc(526) LOG(INFO) Tokenizing input sentences with whitespace: 146182\n",
      "trainer_interface.cc(537) LOG(INFO) Done! 357582\n",
      "unigram_model_trainer.cc(489) LOG(INFO) Using 357582 sentences for EM training\n",
      "unigram_model_trainer.cc(505) LOG(INFO) EM sub_iter=0 size=157917 obj=15.4579 num_tokens=843023 num_tokens/piece=5.33839\n",
      "unigram_model_trainer.cc(505) LOG(INFO) EM sub_iter=1 size=146134 obj=14.3908 num_tokens=848363 num_tokens/piece=5.80538\n",
      "unigram_model_trainer.cc(505) LOG(INFO) EM sub_iter=0 size=109537 obj=14.4882 num_tokens=883798 num_tokens/piece=8.06849\n",
      "unigram_model_trainer.cc(505) LOG(INFO) EM sub_iter=1 size=109358 obj=14.4325 num_tokens=884575 num_tokens/piece=8.0888\n",
      "unigram_model_trainer.cc(505) LOG(INFO) EM sub_iter=0 size=82016 obj=14.6691 num_tokens=928636 num_tokens/piece=11.3226\n",
      "unigram_model_trainer.cc(505) LOG(INFO) EM sub_iter=1 size=82005 obj=14.6077 num_tokens=928817 num_tokens/piece=11.3263\n",
      "unigram_model_trainer.cc(505) LOG(INFO) EM sub_iter=0 size=61503 obj=14.8672 num_tokens=970692 num_tokens/piece=15.7828\n",
      "unigram_model_trainer.cc(505) LOG(INFO) EM sub_iter=1 size=61503 obj=14.8064 num_tokens=970740 num_tokens/piece=15.7836\n",
      "unigram_model_trainer.cc(505) LOG(INFO) EM sub_iter=0 size=46127 obj=15.0969 num_tokens=1015648 num_tokens/piece=22.0185\n",
      "unigram_model_trainer.cc(505) LOG(INFO) EM sub_iter=1 size=46127 obj=15.0325 num_tokens=1015642 num_tokens/piece=22.0184\n",
      "unigram_model_trainer.cc(505) LOG(INFO) EM sub_iter=0 size=34595 obj=15.3567 num_tokens=1061923 num_tokens/piece=30.6959\n",
      "unigram_model_trainer.cc(505) LOG(INFO) EM sub_iter=1 size=34595 obj=15.2902 num_tokens=1061981 num_tokens/piece=30.6975\n",
      "unigram_model_trainer.cc(505) LOG(INFO) EM sub_iter=0 size=25946 obj=15.6483 num_tokens=1109853 num_tokens/piece=42.7755\n",
      "unigram_model_trainer.cc(505) LOG(INFO) EM sub_iter=1 size=25946 obj=15.5758 num_tokens=1109868 num_tokens/piece=42.7761\n",
      "unigram_model_trainer.cc(505) LOG(INFO) EM sub_iter=0 size=19459 obj=15.9618 num_tokens=1160104 num_tokens/piece=59.6179\n",
      "unigram_model_trainer.cc(505) LOG(INFO) EM sub_iter=1 size=19459 obj=15.8815 num_tokens=1160123 num_tokens/piece=59.6188\n",
      "unigram_model_trainer.cc(505) LOG(INFO) EM sub_iter=0 size=17600 obj=16.0206 num_tokens=1178367 num_tokens/piece=66.9527\n",
      "unigram_model_trainer.cc(505) LOG(INFO) EM sub_iter=1 size=17600 obj=15.9916 num_tokens=1178370 num_tokens/piece=66.9528\n",
      "trainer_interface.cc(615) LOG(INFO) Saving model: naver_16k.model\n",
      "trainer_interface.cc(626) LOG(INFO) Saving vocabs: naver_16k.vocab\n",
      "sentencepiece_trainer.cc(177) LOG(INFO) Running command: --input=ratings_doc.txt --model_prefix=naver_bpe_4k --model_type=bpe --vocab_size=4000\n",
      "sentencepiece_trainer.cc(77) LOG(INFO) Starts training with : \n",
      "trainer_spec {\n",
      "  input: ratings_doc.txt\n",
      "  input_format: \n",
      "  model_prefix: naver_bpe_4k\n",
      "  model_type: BPE\n",
      "  vocab_size: 4000\n",
      "  self_test_sample_size: 0\n",
      "  character_coverage: 0.9995\n",
      "  input_sentence_size: 0\n",
      "  shuffle_input_sentence: 1\n",
      "  seed_sentencepiece_size: 1000000\n",
      "  shrinking_factor: 0.75\n",
      "  max_sentence_length: 4192\n",
      "  num_threads: 16\n",
      "  num_sub_iterations: 2\n",
      "  max_sentencepiece_length: 16\n",
      "  split_by_unicode_script: 1\n",
      "  split_by_number: 1\n",
      "  split_by_whitespace: 1\n",
      "  split_digits: 0\n",
      "  treat_whitespace_as_suffix: 0\n",
      "  allow_whitespace_only_pieces: 0\n",
      "  required_chars: \n",
      "  byte_fallback: 0\n",
      "  vocabulary_output_piece_score: 1\n",
      "  train_extremely_large_corpus: 0\n",
      "  hard_vocab_limit: 1\n",
      "  use_all_vocab: 0\n",
      "  unk_id: 0\n",
      "  bos_id: 1\n",
      "  eos_id: 2\n",
      "  pad_id: -1\n",
      "  unk_piece: <unk>\n",
      "  bos_piece: <s>\n",
      "  eos_piece: </s>\n",
      "  pad_piece: <pad>\n",
      "  unk_surface:  ⁇ \n",
      "}\n",
      "normalizer_spec {\n",
      "  name: nmt_nfkc\n",
      "  add_dummy_prefix: 1\n",
      "  remove_extra_whitespaces: 1\n",
      "  escape_whitespaces: 1\n",
      "  normalization_rule_tsv: \n",
      "}\n",
      "denormalizer_spec {}\n",
      "trainer_interface.cc(329) LOG(INFO) SentenceIterator is not specified. Using MultiFileSentenceIterator.\n",
      "trainer_interface.cc(178) LOG(INFO) Loading corpus: ratings_doc.txt\n",
      "trainer_interface.cc(385) LOG(INFO) Loaded all 146182 sentences\n",
      "trainer_interface.cc(400) LOG(INFO) Adding meta_piece: <unk>\n",
      "trainer_interface.cc(400) LOG(INFO) Adding meta_piece: <s>\n",
      "trainer_interface.cc(400) LOG(INFO) Adding meta_piece: </s>\n",
      "trainer_interface.cc(405) LOG(INFO) Normalizing sentences...\n",
      "trainer_interface.cc(466) LOG(INFO) all chars count=5406067\n",
      "trainer_interface.cc(477) LOG(INFO) Done: 99.95% characters are covered.\n",
      "trainer_interface.cc(487) LOG(INFO) Alphabet size=1713\n",
      "trainer_interface.cc(488) LOG(INFO) Final character coverage=0.9995\n",
      "trainer_interface.cc(520) LOG(INFO) Done! preprocessed 146182 sentences.\n",
      "trainer_interface.cc(526) LOG(INFO) Tokenizing input sentences with whitespace: 146182\n",
      "trainer_interface.cc(537) LOG(INFO) Done! 357582\n",
      "bpe_model_trainer.cc(167) LOG(INFO) Updating active symbols. max_freq=72742 min_freq=87\n",
      "bpe_model_trainer.cc(258) LOG(INFO) Added: freq=10884 size=20 all=110818 active=10498 piece=▁어\n",
      "bpe_model_trainer.cc(258) LOG(INFO) Added: freq=8844 size=40 all=115393 active=15073 piece=▁1\n",
      "bpe_model_trainer.cc(258) LOG(INFO) Added: freq=6278 size=60 all=118875 active=18555 piece=▁생\n",
      "bpe_model_trainer.cc(258) LOG(INFO) Added: freq=5263 size=80 all=122847 active=22527 piece=드라마\n",
      "bpe_model_trainer.cc(258) LOG(INFO) Added: freq=4206 size=100 all=126583 active=26263 piece=▁볼\n",
      "bpe_model_trainer.cc(167) LOG(INFO) Updating active symbols. max_freq=4156 min_freq=72\n",
      "bpe_model_trainer.cc(258) LOG(INFO) Added: freq=3567 size=120 all=129508 active=9170 piece=▁공\n",
      "bpe_model_trainer.cc(258) LOG(INFO) Added: freq=3205 size=140 all=132091 active=11753 piece=▁좀\n",
      "bpe_model_trainer.cc(258) LOG(INFO) Added: freq=2828 size=160 all=134402 active=14064 piece=보고\n",
      "bpe_model_trainer.cc(258) LOG(INFO) Added: freq=2643 size=180 all=136825 active=16487 piece=입니다\n",
      "bpe_model_trainer.cc(258) LOG(INFO) Added: freq=2370 size=200 all=139402 active=19064 piece=▁난\n",
      "bpe_model_trainer.cc(167) LOG(INFO) Updating active symbols. max_freq=2357 min_freq=64\n",
      "bpe_model_trainer.cc(258) LOG(INFO) Added: freq=2217 size=220 all=141623 active=9091 piece=ᄒᄒ\n",
      "bpe_model_trainer.cc(258) LOG(INFO) Added: freq=2036 size=240 all=144902 active=12370 piece=▁하는\n",
      "bpe_model_trainer.cc(258) LOG(INFO) Added: freq=1903 size=260 all=147643 active=15111 piece=부터\n",
      "bpe_model_trainer.cc(258) LOG(INFO) Added: freq=1797 size=280 all=150255 active=17723 piece=▁화\n",
      "bpe_model_trainer.cc(258) LOG(INFO) Added: freq=1685 size=300 all=151676 active=19144 piece=정도\n",
      "bpe_model_trainer.cc(167) LOG(INFO) Updating active symbols. max_freq=1682 min_freq=58\n",
      "bpe_model_trainer.cc(258) LOG(INFO) Added: freq=1568 size=320 all=153694 active=9364 piece=▁그런\n",
      "bpe_model_trainer.cc(258) LOG(INFO) Added: freq=1443 size=340 all=155925 active=11594 piece=드는\n",
      "bpe_model_trainer.cc(258) LOG(INFO) Added: freq=1398 size=360 all=158126 active=13795 piece=▁무슨\n",
      "bpe_model_trainer.cc(258) LOG(INFO) Added: freq=1323 size=380 all=160163 active=15832 piece=▁누\n",
      "bpe_model_trainer.cc(258) LOG(INFO) Added: freq=1249 size=400 all=162538 active=18207 piece=▁절\n",
      "bpe_model_trainer.cc(167) LOG(INFO) Updating active symbols. max_freq=1248 min_freq=53\n",
      "bpe_model_trainer.cc(258) LOG(INFO) Added: freq=1217 size=420 all=164059 active=9606 piece=솔직\n",
      "bpe_model_trainer.cc(258) LOG(INFO) Added: freq=1169 size=440 all=165887 active=11434 piece=▁계\n",
      "bpe_model_trainer.cc(258) LOG(INFO) Added: freq=1105 size=460 all=167805 active=13352 piece=▁많은\n",
      "bpe_model_trainer.cc(258) LOG(INFO) Added: freq=1075 size=480 all=169677 active=15224 piece=▁돌\n",
      "bpe_model_trainer.cc(258) LOG(INFO) Added: freq=1023 size=500 all=171474 active=17021 piece=▁수준\n",
      "bpe_model_trainer.cc(167) LOG(INFO) Updating active symbols. max_freq=1020 min_freq=49\n",
      "bpe_model_trainer.cc(258) LOG(INFO) Added: freq=974 size=520 all=173139 active=10188 piece=▁이제\n",
      "bpe_model_trainer.cc(258) LOG(INFO) Added: freq=933 size=540 all=174619 active=11668 piece=▁캐릭터\n",
      "bpe_model_trainer.cc(258) LOG(INFO) Added: freq=903 size=560 all=176563 active=13612 piece=▁독\n",
      "bpe_model_trainer.cc(258) LOG(INFO) Added: freq=880 size=580 all=178516 active=15565 piece=▁먹\n",
      "bpe_model_trainer.cc(258) LOG(INFO) Added: freq=856 size=600 all=180766 active=17815 piece=▁엉\n",
      "bpe_model_trainer.cc(167) LOG(INFO) Updating active symbols. max_freq=855 min_freq=46\n",
      "bpe_model_trainer.cc(258) LOG(INFO) Added: freq=830 size=620 all=183016 active=11274 piece=▁등\n",
      "bpe_model_trainer.cc(258) LOG(INFO) Added: freq=802 size=640 all=184652 active=12910 piece=봤는데\n",
      "bpe_model_trainer.cc(258) LOG(INFO) Added: freq=776 size=660 all=186618 active=14876 piece=기에\n",
      "bpe_model_trainer.cc(258) LOG(INFO) Added: freq=755 size=680 all=188395 active=16653 piece=▁긴장감\n",
      "bpe_model_trainer.cc(258) LOG(INFO) Added: freq=736 size=700 all=190250 active=18508 piece=▁앞\n",
      "bpe_model_trainer.cc(167) LOG(INFO) Updating active symbols. max_freq=736 min_freq=42\n",
      "bpe_model_trainer.cc(258) LOG(INFO) Added: freq=709 size=720 all=191613 active=10831 piece=이란\n",
      "bpe_model_trainer.cc(258) LOG(INFO) Added: freq=686 size=740 all=193166 active=12384 piece=▁시작\n",
      "bpe_model_trainer.cc(258) LOG(INFO) Added: freq=663 size=760 all=194686 active=13904 piece=▁나와\n",
      "bpe_model_trainer.cc(258) LOG(INFO) Added: freq=648 size=780 all=195770 active=14988 piece=▁된\n",
      "bpe_model_trainer.cc(258) LOG(INFO) Added: freq=634 size=800 all=197193 active=16411 piece=▁작가\n",
      "bpe_model_trainer.cc(167) LOG(INFO) Updating active symbols. max_freq=633 min_freq=40\n",
      "bpe_model_trainer.cc(258) LOG(INFO) Added: freq=618 size=820 all=198652 active=11244 piece=학교\n",
      "bpe_model_trainer.cc(258) LOG(INFO) Added: freq=605 size=840 all=199671 active=12263 piece=해야\n",
      "bpe_model_trainer.cc(258) LOG(INFO) Added: freq=593 size=860 all=201239 active=13831 piece=▁판\n",
      "bpe_model_trainer.cc(258) LOG(INFO) Added: freq=579 size=880 all=202403 active=14995 piece=▁멋진\n",
      "bpe_model_trainer.cc(258) LOG(INFO) Added: freq=565 size=900 all=203420 active=16012 piece=▁관객\n",
      "bpe_model_trainer.cc(167) LOG(INFO) Updating active symbols. max_freq=563 min_freq=38\n",
      "bpe_model_trainer.cc(258) LOG(INFO) Added: freq=553 size=920 all=204698 active=11403 piece=▁어색\n",
      "bpe_model_trainer.cc(258) LOG(INFO) Added: freq=543 size=940 all=205738 active=12443 piece=ᄃᄃ\n",
      "bpe_model_trainer.cc(258) LOG(INFO) Added: freq=531 size=960 all=207012 active=13717 piece=▁잡\n",
      "bpe_model_trainer.cc(258) LOG(INFO) Added: freq=521 size=980 all=207932 active=14637 piece=▁범\n",
      "bpe_model_trainer.cc(258) LOG(INFO) Added: freq=512 size=1000 all=208825 active=15530 piece=그냥\n",
      "bpe_model_trainer.cc(167) LOG(INFO) Updating active symbols. max_freq=512 min_freq=37\n",
      "bpe_model_trainer.cc(258) LOG(INFO) Added: freq=504 size=1020 all=210551 active=11988 piece=▁아무리\n",
      "bpe_model_trainer.cc(258) LOG(INFO) Added: freq=495 size=1040 all=211740 active=13177 piece=▁안되는\n",
      "bpe_model_trainer.cc(258) LOG(INFO) Added: freq=479 size=1060 all=213102 active=14539 piece=▁꽤\n",
      "bpe_model_trainer.cc(258) LOG(INFO) Added: freq=469 size=1080 all=214347 active=15784 piece=한영화\n",
      "bpe_model_trainer.cc(258) LOG(INFO) Added: freq=458 size=1100 all=215709 active=17146 piece=▁하나도\n",
      "bpe_model_trainer.cc(167) LOG(INFO) Updating active symbols. max_freq=455 min_freq=35\n",
      "bpe_model_trainer.cc(258) LOG(INFO) Added: freq=444 size=1120 all=216538 active=11604 piece=▁모르겠다\n",
      "bpe_model_trainer.cc(258) LOG(INFO) Added: freq=436 size=1140 all=217604 active=12670 piece=▁말도\n",
      "bpe_model_trainer.cc(258) LOG(INFO) Added: freq=426 size=1160 all=218952 active=14018 piece=▁상상\n",
      "bpe_model_trainer.cc(258) LOG(INFO) Added: freq=417 size=1180 all=220344 active=15410 piece=▁왕\n",
      "bpe_model_trainer.cc(258) LOG(INFO) Added: freq=407 size=1200 all=221836 active=16902 piece=▁!\n",
      "bpe_model_trainer.cc(167) LOG(INFO) Updating active symbols. max_freq=407 min_freq=34\n",
      "bpe_model_trainer.cc(258) LOG(INFO) Added: freq=400 size=1220 all=222725 active=11972 piece=▁실화\n",
      "bpe_model_trainer.cc(258) LOG(INFO) Added: freq=391 size=1240 all=224287 active=13534 piece=라서\n",
      "bpe_model_trainer.cc(258) LOG(INFO) Added: freq=384 size=1260 all=225690 active=14937 piece=▁장르\n",
      "bpe_model_trainer.cc(258) LOG(INFO) Added: freq=379 size=1280 all=226587 active=15833 piece=▁네이버\n",
      "bpe_model_trainer.cc(258) LOG(INFO) Added: freq=371 size=1300 all=227922 active=17168 piece=▁귀엽\n",
      "bpe_model_trainer.cc(167) LOG(INFO) Updating active symbols. max_freq=371 min_freq=32\n",
      "bpe_model_trainer.cc(258) LOG(INFO) Added: freq=363 size=1320 all=229260 active=12696 piece=▁영화관에서\n",
      "bpe_model_trainer.cc(258) LOG(INFO) Added: freq=358 size=1340 all=230270 active=13706 piece=적이다\n",
      "bpe_model_trainer.cc(258) LOG(INFO) Added: freq=353 size=1360 all=231511 active=14947 piece=▁아님\n",
      "bpe_model_trainer.cc(258) LOG(INFO) Added: freq=348 size=1380 all=232447 active=15883 piece=거야\n",
      "bpe_model_trainer.cc(258) LOG(INFO) Added: freq=343 size=1400 all=233275 active=16711 piece=▁틀\n",
      "bpe_model_trainer.cc(167) LOG(INFO) Updating active symbols. max_freq=343 min_freq=31\n",
      "bpe_model_trainer.cc(258) LOG(INFO) Added: freq=338 size=1420 all=234442 active=12786 piece=er\n",
      "bpe_model_trainer.cc(258) LOG(INFO) Added: freq=332 size=1440 all=235519 active=13863 piece=▁항\n",
      "bpe_model_trainer.cc(258) LOG(INFO) Added: freq=324 size=1460 all=236682 active=15026 piece=▁뭐야\n",
      "bpe_model_trainer.cc(258) LOG(INFO) Added: freq=319 size=1480 all=238079 active=16423 piece=▁어른\n",
      "bpe_model_trainer.cc(258) LOG(INFO) Added: freq=313 size=1500 all=239320 active=17664 piece=저히\n",
      "bpe_model_trainer.cc(167) LOG(INFO) Updating active symbols. max_freq=312 min_freq=30\n",
      "bpe_model_trainer.cc(258) LOG(INFO) Added: freq=308 size=1520 all=240314 active=12942 piece=▁장면이\n",
      "bpe_model_trainer.cc(258) LOG(INFO) Added: freq=303 size=1540 all=241061 active=13689 piece=이트\n",
      "bpe_model_trainer.cc(258) LOG(INFO) Added: freq=299 size=1560 all=242181 active=14809 piece=????\n",
      "bpe_model_trainer.cc(258) LOG(INFO) Added: freq=293 size=1580 all=242967 active=15595 piece=▁밀\n",
      "bpe_model_trainer.cc(258) LOG(INFO) Added: freq=290 size=1600 all=243845 active=16473 piece=▁시청률\n",
      "bpe_model_trainer.cc(167) LOG(INFO) Updating active symbols. max_freq=290 min_freq=29\n",
      "bpe_model_trainer.cc(258) LOG(INFO) Added: freq=287 size=1620 all=244646 active=12957 piece=▁훌륭한\n",
      "bpe_model_trainer.cc(258) LOG(INFO) Added: freq=283 size=1640 all=245370 active=13681 piece=▁감성\n",
      "bpe_model_trainer.cc(258) LOG(INFO) Added: freq=279 size=1660 all=246330 active=14641 piece=▁써\n",
      "bpe_model_trainer.cc(258) LOG(INFO) Added: freq=274 size=1680 all=247602 active=15913 piece=▁것은\n",
      "bpe_model_trainer.cc(258) LOG(INFO) Added: freq=269 size=1700 all=248550 active=16861 piece=으며\n",
      "bpe_model_trainer.cc(167) LOG(INFO) Updating active symbols. max_freq=269 min_freq=28\n",
      "bpe_model_trainer.cc(258) LOG(INFO) Added: freq=266 size=1720 all=249646 active=13441 piece=▁좋네요\n",
      "bpe_model_trainer.cc(258) LOG(INFO) Added: freq=262 size=1740 all=250780 active=14575 piece=▁아닌가\n",
      "bpe_model_trainer.cc(258) LOG(INFO) Added: freq=259 size=1760 all=251960 active=15755 piece=▁선택\n",
      "bpe_model_trainer.cc(258) LOG(INFO) Added: freq=257 size=1780 all=252824 active=16619 piece=▁안타까\n",
      "bpe_model_trainer.cc(258) LOG(INFO) Added: freq=254 size=1800 all=253503 active=17298 piece=▁다시봐도\n",
      "bpe_model_trainer.cc(167) LOG(INFO) Updating active symbols. max_freq=253 min_freq=27\n",
      "bpe_model_trainer.cc(258) LOG(INFO) Added: freq=249 size=1820 all=254320 active=13486 piece=이냐\n",
      "bpe_model_trainer.cc(258) LOG(INFO) Added: freq=246 size=1840 all=255491 active=14657 piece=이면\n",
      "bpe_model_trainer.cc(258) LOG(INFO) Added: freq=243 size=1860 all=256747 active=15913 piece=▁초등\n",
      "bpe_model_trainer.cc(258) LOG(INFO) Added: freq=239 size=1880 all=257705 active=16871 piece=▁죽음\n",
      "bpe_model_trainer.cc(258) LOG(INFO) Added: freq=237 size=1900 all=258464 active=17630 piece=보세요\n",
      "bpe_model_trainer.cc(167) LOG(INFO) Updating active symbols. max_freq=237 min_freq=26\n",
      "bpe_model_trainer.cc(258) LOG(INFO) Added: freq=233 size=1920 all=259132 active=13513 piece=내고\n",
      "bpe_model_trainer.cc(258) LOG(INFO) Added: freq=231 size=1940 all=260107 active=14488 piece=▁바보\n",
      "bpe_model_trainer.cc(258) LOG(INFO) Added: freq=228 size=1960 all=261018 active=15399 piece=은데\n",
      "bpe_model_trainer.cc(258) LOG(INFO) Added: freq=226 size=1980 all=261798 active=16179 piece=▁것이다\n",
      "bpe_model_trainer.cc(258) LOG(INFO) Added: freq=224 size=2000 all=262777 active=17158 piece=▁진실\n",
      "bpe_model_trainer.cc(167) LOG(INFO) Updating active symbols. max_freq=224 min_freq=25\n",
      "bpe_model_trainer.cc(258) LOG(INFO) Added: freq=221 size=2020 all=263507 active=13822 piece=▁잊혀\n",
      "bpe_model_trainer.cc(258) LOG(INFO) Added: freq=217 size=2040 all=264158 active=14473 piece=▁핵\n",
      "bpe_model_trainer.cc(258) LOG(INFO) Added: freq=215 size=2060 all=265000 active=15315 piece=▁웃겨\n",
      "bpe_model_trainer.cc(258) LOG(INFO) Added: freq=213 size=2080 all=265594 active=15909 piece=▁부모\n",
      "bpe_model_trainer.cc(258) LOG(INFO) Added: freq=210 size=2100 all=266673 active=16987 piece=▁싫어\n",
      "bpe_model_trainer.cc(167) LOG(INFO) Updating active symbols. max_freq=210 min_freq=25\n",
      "bpe_model_trainer.cc(258) LOG(INFO) Added: freq=207 size=2120 all=267448 active=14073 piece=많이\n",
      "bpe_model_trainer.cc(258) LOG(INFO) Added: freq=204 size=2140 all=268260 active=14885 piece=▁면\n",
      "bpe_model_trainer.cc(258) LOG(INFO) Added: freq=203 size=2160 all=269206 active=15831 piece=▁모습이\n",
      "bpe_model_trainer.cc(258) LOG(INFO) Added: freq=201 size=2180 all=270007 active=16632 piece=▁보여준\n",
      "bpe_model_trainer.cc(258) LOG(INFO) Added: freq=199 size=2200 all=270755 active=17380 piece=▁생각한다\n",
      "bpe_model_trainer.cc(167) LOG(INFO) Updating active symbols. max_freq=198 min_freq=24\n",
      "bpe_model_trainer.cc(258) LOG(INFO) Added: freq=196 size=2220 all=271577 active=14356 piece=▁얻\n",
      "bpe_model_trainer.cc(258) LOG(INFO) Added: freq=195 size=2240 all=272221 active=15000 piece=시간이\n",
      "bpe_model_trainer.cc(258) LOG(INFO) Added: freq=194 size=2260 all=273212 active=15991 piece=▁대단하다\n",
      "bpe_model_trainer.cc(258) LOG(INFO) Added: freq=192 size=2280 all=274034 active=16813 piece=만하면\n",
      "trainer_interface.cc(615) LOG(INFO) Saving model: naver_bpe_4k.model\n",
      "trainer_interface.cc(626) LOG(INFO) Saving vocabs: naver_bpe_4k.vocab\n"
     ]
    }
   ],
   "source": [
    "vocab_size = 8000\n",
    "\n",
    "with open('ratings_doc.txt', 'w') as f:\n",
    "    for row in train_data['document']:\n",
    "      f.write(str(row) + '\\n')\n",
    "\n",
    "spm.SentencePieceTrainer.Train('--input=ratings_doc.txt --model_prefix=naver_4k --vocab_size=4000')\n",
    "spm.SentencePieceTrainer.Train('--input=ratings_doc.txt --model_prefix=naver_8k --vocab_size=8000')\n",
    "spm.SentencePieceTrainer.Train('--input=ratings_doc.txt --model_prefix=naver_16k --vocab_size=16000')\n",
    "spm.SentencePieceTrainer.Train('--input=ratings_doc.txt --model_prefix=naver_bpe_4k --model_type=bpe --vocab_size=4000')\n",
    "# spm.SentencePieceTrainer.Train('--input=ratings_doc.txt --model_prefix=naver_bpe_8k --model_type=bpe --vocab_size=8000')\n",
    "# spm.SentencePieceTrainer.Train('--input=ratings_doc.txt --model_prefix=naver_bpe_16k --model_type=bpe --vocab_size=16000')\n",
    "# 로컬 환경에서 BPE 타입으로 8k, 16k 모델을 학습하고 생성하는 데 한 시간이 넘게 소요\n",
    "\n",
    "# 위 Train에서  --model_type = 'unigram'이 디폴트 적용되어 있습니다. --model_type = 'bpe' 로 옵션을 주어 변경할 수 있습니다."
   ]
  },
  {
   "cell_type": "code",
   "execution_count": 35,
   "id": "55f49266",
   "metadata": {},
   "outputs": [
    {
     "name": "stdout",
     "output_type": "stream",
     "text": [
      "-rw-r--r--  1 sallyride  staff  298357  3 22 13:24 naver_4k.model\n",
      "-rw-r--r--  1 sallyride  staff   64269  3 22 13:24 naver_4k.vocab\n",
      "-rw-r--r--  1 sallyride  staff  374602  3 22 13:24 naver_8k.model\n",
      "-rw-r--r--  1 sallyride  staff  144146  3 22 13:24 naver_8k.vocab\n",
      "-rw-r--r--  1 sallyride  staff  534076  3 22 13:24 naver_16k.model\n",
      "-rw-r--r--  1 sallyride  staff  310619  3 22 13:24 naver_16k.vocab\n",
      "-rw-r--r--  1 sallyride  staff  296990  3 22 13:24 naver_bpe_4k.model\n",
      "-rw-r--r--  1 sallyride  staff   50245  3 22 13:24 naver_bpe_4k.vocab\n"
     ]
    }
   ],
   "source": [
    "! ls -l naver_4k*\n",
    "! ls -l naver_8k*\n",
    "! ls -l naver_16k*\n",
    "! ls -l naver_bpe_4k*"
   ]
  },
  {
   "cell_type": "code",
   "execution_count": 36,
   "id": "e0d1e872",
   "metadata": {},
   "outputs": [
    {
     "name": "stdout",
     "output_type": "stream",
     "text": [
      "subword의 개수 : 4000\n"
     ]
    },
    {
     "data": {
      "text/html": [
       "<div>\n",
       "<style scoped>\n",
       "    .dataframe tbody tr th:only-of-type {\n",
       "        vertical-align: middle;\n",
       "    }\n",
       "\n",
       "    .dataframe tbody tr th {\n",
       "        vertical-align: top;\n",
       "    }\n",
       "\n",
       "    .dataframe thead th {\n",
       "        text-align: right;\n",
       "    }\n",
       "</style>\n",
       "<table border=\"1\" class=\"dataframe\">\n",
       "  <thead>\n",
       "    <tr style=\"text-align: right;\">\n",
       "      <th></th>\n",
       "      <th>0</th>\n",
       "      <th>1</th>\n",
       "    </tr>\n",
       "  </thead>\n",
       "  <tbody>\n",
       "    <tr>\n",
       "      <th>0</th>\n",
       "      <td>&lt;unk&gt;</td>\n",
       "      <td>0.00000</td>\n",
       "    </tr>\n",
       "    <tr>\n",
       "      <th>1</th>\n",
       "      <td>&lt;s&gt;</td>\n",
       "      <td>0.00000</td>\n",
       "    </tr>\n",
       "    <tr>\n",
       "      <th>2</th>\n",
       "      <td>&lt;/s&gt;</td>\n",
       "      <td>0.00000</td>\n",
       "    </tr>\n",
       "    <tr>\n",
       "      <th>3</th>\n",
       "      <td>▁</td>\n",
       "      <td>-2.77002</td>\n",
       "    </tr>\n",
       "    <tr>\n",
       "      <th>4</th>\n",
       "      <td>.</td>\n",
       "      <td>-3.63402</td>\n",
       "    </tr>\n",
       "    <tr>\n",
       "      <th>5</th>\n",
       "      <td>이</td>\n",
       "      <td>-4.14894</td>\n",
       "    </tr>\n",
       "    <tr>\n",
       "      <th>6</th>\n",
       "      <td>가</td>\n",
       "      <td>-4.52020</td>\n",
       "    </tr>\n",
       "    <tr>\n",
       "      <th>7</th>\n",
       "      <td>..</td>\n",
       "      <td>-4.53186</td>\n",
       "    </tr>\n",
       "    <tr>\n",
       "      <th>8</th>\n",
       "      <td>의</td>\n",
       "      <td>-4.64666</td>\n",
       "    </tr>\n",
       "    <tr>\n",
       "      <th>9</th>\n",
       "      <td>▁영화</td>\n",
       "      <td>-4.65459</td>\n",
       "    </tr>\n",
       "  </tbody>\n",
       "</table>\n",
       "</div>"
      ],
      "text/plain": [
       "       0        1\n",
       "0  <unk>  0.00000\n",
       "1    <s>  0.00000\n",
       "2   </s>  0.00000\n",
       "3      ▁ -2.77002\n",
       "4      . -3.63402\n",
       "5      이 -4.14894\n",
       "6      가 -4.52020\n",
       "7     .. -4.53186\n",
       "8      의 -4.64666\n",
       "9    ▁영화 -4.65459"
      ]
     },
     "execution_count": 36,
     "metadata": {},
     "output_type": "execute_result"
    }
   ],
   "source": [
    "vocab_4k_list = pd.read_csv('naver_4k.vocab', sep='\\t', header=None, quoting=csv.QUOTE_NONE)\n",
    "print('subword의 개수 :', len(vocab_4k_list))\n",
    "vocab_4k_list[:10]"
   ]
  },
  {
   "cell_type": "code",
   "execution_count": 37,
   "id": "c8789f19",
   "metadata": {},
   "outputs": [
    {
     "name": "stdout",
     "output_type": "stream",
     "text": [
      "subword의 개수 : 8000\n"
     ]
    },
    {
     "data": {
      "text/html": [
       "<div>\n",
       "<style scoped>\n",
       "    .dataframe tbody tr th:only-of-type {\n",
       "        vertical-align: middle;\n",
       "    }\n",
       "\n",
       "    .dataframe tbody tr th {\n",
       "        vertical-align: top;\n",
       "    }\n",
       "\n",
       "    .dataframe thead th {\n",
       "        text-align: right;\n",
       "    }\n",
       "</style>\n",
       "<table border=\"1\" class=\"dataframe\">\n",
       "  <thead>\n",
       "    <tr style=\"text-align: right;\">\n",
       "      <th></th>\n",
       "      <th>0</th>\n",
       "      <th>1</th>\n",
       "    </tr>\n",
       "  </thead>\n",
       "  <tbody>\n",
       "    <tr>\n",
       "      <th>0</th>\n",
       "      <td>&lt;unk&gt;</td>\n",
       "      <td>0.00000</td>\n",
       "    </tr>\n",
       "    <tr>\n",
       "      <th>1</th>\n",
       "      <td>&lt;s&gt;</td>\n",
       "      <td>0.00000</td>\n",
       "    </tr>\n",
       "    <tr>\n",
       "      <th>2</th>\n",
       "      <td>&lt;/s&gt;</td>\n",
       "      <td>0.00000</td>\n",
       "    </tr>\n",
       "    <tr>\n",
       "      <th>3</th>\n",
       "      <td>▁</td>\n",
       "      <td>-3.23816</td>\n",
       "    </tr>\n",
       "    <tr>\n",
       "      <th>4</th>\n",
       "      <td>.</td>\n",
       "      <td>-3.48155</td>\n",
       "    </tr>\n",
       "    <tr>\n",
       "      <th>5</th>\n",
       "      <td>..</td>\n",
       "      <td>-4.39200</td>\n",
       "    </tr>\n",
       "    <tr>\n",
       "      <th>6</th>\n",
       "      <td>이</td>\n",
       "      <td>-4.41956</td>\n",
       "    </tr>\n",
       "    <tr>\n",
       "      <th>7</th>\n",
       "      <td>▁영화</td>\n",
       "      <td>-4.58614</td>\n",
       "    </tr>\n",
       "    <tr>\n",
       "      <th>8</th>\n",
       "      <td>...</td>\n",
       "      <td>-4.63659</td>\n",
       "    </tr>\n",
       "    <tr>\n",
       "      <th>9</th>\n",
       "      <td>의</td>\n",
       "      <td>-4.69503</td>\n",
       "    </tr>\n",
       "  </tbody>\n",
       "</table>\n",
       "</div>"
      ],
      "text/plain": [
       "       0        1\n",
       "0  <unk>  0.00000\n",
       "1    <s>  0.00000\n",
       "2   </s>  0.00000\n",
       "3      ▁ -3.23816\n",
       "4      . -3.48155\n",
       "5     .. -4.39200\n",
       "6      이 -4.41956\n",
       "7    ▁영화 -4.58614\n",
       "8    ... -4.63659\n",
       "9      의 -4.69503"
      ]
     },
     "execution_count": 37,
     "metadata": {},
     "output_type": "execute_result"
    }
   ],
   "source": [
    "vocab_8k_list = pd.read_csv('naver_8k.vocab', sep='\\t', header=None, quoting=csv.QUOTE_NONE)\n",
    "print('subword의 개수 :', len(vocab_8k_list))\n",
    "vocab_8k_list[:10]"
   ]
  },
  {
   "cell_type": "code",
   "execution_count": 38,
   "id": "e2858c5b",
   "metadata": {},
   "outputs": [
    {
     "name": "stdout",
     "output_type": "stream",
     "text": [
      "subword의 개수 : 16000\n"
     ]
    },
    {
     "data": {
      "text/html": [
       "<div>\n",
       "<style scoped>\n",
       "    .dataframe tbody tr th:only-of-type {\n",
       "        vertical-align: middle;\n",
       "    }\n",
       "\n",
       "    .dataframe tbody tr th {\n",
       "        vertical-align: top;\n",
       "    }\n",
       "\n",
       "    .dataframe thead th {\n",
       "        text-align: right;\n",
       "    }\n",
       "</style>\n",
       "<table border=\"1\" class=\"dataframe\">\n",
       "  <thead>\n",
       "    <tr style=\"text-align: right;\">\n",
       "      <th></th>\n",
       "      <th>0</th>\n",
       "      <th>1</th>\n",
       "    </tr>\n",
       "  </thead>\n",
       "  <tbody>\n",
       "    <tr>\n",
       "      <th>0</th>\n",
       "      <td>&lt;unk&gt;</td>\n",
       "      <td>0.00000</td>\n",
       "    </tr>\n",
       "    <tr>\n",
       "      <th>1</th>\n",
       "      <td>&lt;s&gt;</td>\n",
       "      <td>0.00000</td>\n",
       "    </tr>\n",
       "    <tr>\n",
       "      <th>2</th>\n",
       "      <td>&lt;/s&gt;</td>\n",
       "      <td>0.00000</td>\n",
       "    </tr>\n",
       "    <tr>\n",
       "      <th>3</th>\n",
       "      <td>.</td>\n",
       "      <td>-3.36023</td>\n",
       "    </tr>\n",
       "    <tr>\n",
       "      <th>4</th>\n",
       "      <td>▁</td>\n",
       "      <td>-3.50125</td>\n",
       "    </tr>\n",
       "    <tr>\n",
       "      <th>5</th>\n",
       "      <td>..</td>\n",
       "      <td>-4.28657</td>\n",
       "    </tr>\n",
       "    <tr>\n",
       "      <th>6</th>\n",
       "      <td>▁영화</td>\n",
       "      <td>-4.53487</td>\n",
       "    </tr>\n",
       "    <tr>\n",
       "      <th>7</th>\n",
       "      <td>...</td>\n",
       "      <td>-4.53757</td>\n",
       "    </tr>\n",
       "    <tr>\n",
       "      <th>8</th>\n",
       "      <td>이</td>\n",
       "      <td>-4.64428</td>\n",
       "    </tr>\n",
       "    <tr>\n",
       "      <th>9</th>\n",
       "      <td>의</td>\n",
       "      <td>-4.71977</td>\n",
       "    </tr>\n",
       "  </tbody>\n",
       "</table>\n",
       "</div>"
      ],
      "text/plain": [
       "       0        1\n",
       "0  <unk>  0.00000\n",
       "1    <s>  0.00000\n",
       "2   </s>  0.00000\n",
       "3      . -3.36023\n",
       "4      ▁ -3.50125\n",
       "5     .. -4.28657\n",
       "6    ▁영화 -4.53487\n",
       "7    ... -4.53757\n",
       "8      이 -4.64428\n",
       "9      의 -4.71977"
      ]
     },
     "execution_count": 38,
     "metadata": {},
     "output_type": "execute_result"
    }
   ],
   "source": [
    "vocab_16k_list = pd.read_csv('naver_16k.vocab', sep='\\t', header=None, quoting=csv.QUOTE_NONE)\n",
    "print('subword의 개수 :', len(vocab_16k_list))\n",
    "vocab_16k_list[:10]"
   ]
  },
  {
   "cell_type": "code",
   "execution_count": 39,
   "id": "2e43794a",
   "metadata": {},
   "outputs": [
    {
     "name": "stdout",
     "output_type": "stream",
     "text": [
      "subword의 개수 : 4000\n"
     ]
    },
    {
     "data": {
      "text/html": [
       "<div>\n",
       "<style scoped>\n",
       "    .dataframe tbody tr th:only-of-type {\n",
       "        vertical-align: middle;\n",
       "    }\n",
       "\n",
       "    .dataframe tbody tr th {\n",
       "        vertical-align: top;\n",
       "    }\n",
       "\n",
       "    .dataframe thead th {\n",
       "        text-align: right;\n",
       "    }\n",
       "</style>\n",
       "<table border=\"1\" class=\"dataframe\">\n",
       "  <thead>\n",
       "    <tr style=\"text-align: right;\">\n",
       "      <th></th>\n",
       "      <th>0</th>\n",
       "      <th>1</th>\n",
       "    </tr>\n",
       "  </thead>\n",
       "  <tbody>\n",
       "    <tr>\n",
       "      <th>0</th>\n",
       "      <td>&lt;unk&gt;</td>\n",
       "      <td>0</td>\n",
       "    </tr>\n",
       "    <tr>\n",
       "      <th>1</th>\n",
       "      <td>&lt;s&gt;</td>\n",
       "      <td>0</td>\n",
       "    </tr>\n",
       "    <tr>\n",
       "      <th>2</th>\n",
       "      <td>&lt;/s&gt;</td>\n",
       "      <td>0</td>\n",
       "    </tr>\n",
       "    <tr>\n",
       "      <th>3</th>\n",
       "      <td>..</td>\n",
       "      <td>0</td>\n",
       "    </tr>\n",
       "    <tr>\n",
       "      <th>4</th>\n",
       "      <td>영화</td>\n",
       "      <td>-1</td>\n",
       "    </tr>\n",
       "    <tr>\n",
       "      <th>5</th>\n",
       "      <td>▁영화</td>\n",
       "      <td>-2</td>\n",
       "    </tr>\n",
       "    <tr>\n",
       "      <th>6</th>\n",
       "      <td>▁이</td>\n",
       "      <td>-3</td>\n",
       "    </tr>\n",
       "    <tr>\n",
       "      <th>7</th>\n",
       "      <td>▁아</td>\n",
       "      <td>-4</td>\n",
       "    </tr>\n",
       "    <tr>\n",
       "      <th>8</th>\n",
       "      <td>...</td>\n",
       "      <td>-5</td>\n",
       "    </tr>\n",
       "    <tr>\n",
       "      <th>9</th>\n",
       "      <td>▁그</td>\n",
       "      <td>-6</td>\n",
       "    </tr>\n",
       "  </tbody>\n",
       "</table>\n",
       "</div>"
      ],
      "text/plain": [
       "       0  1\n",
       "0  <unk>  0\n",
       "1    <s>  0\n",
       "2   </s>  0\n",
       "3     ..  0\n",
       "4     영화 -1\n",
       "5    ▁영화 -2\n",
       "6     ▁이 -3\n",
       "7     ▁아 -4\n",
       "8    ... -5\n",
       "9     ▁그 -6"
      ]
     },
     "execution_count": 39,
     "metadata": {},
     "output_type": "execute_result"
    }
   ],
   "source": [
    "vocab_bpe_4k_list = pd.read_csv('naver_bpe_4k.vocab', sep='\\t', header=None, quoting=csv.QUOTE_NONE)\n",
    "print('subword의 개수 :', len(vocab_bpe_4k_list))\n",
    "vocab_bpe_4k_list[:10]"
   ]
  },
  {
   "cell_type": "code",
   "execution_count": 40,
   "id": "db65963a",
   "metadata": {},
   "outputs": [
    {
     "name": "stdout",
     "output_type": "stream",
     "text": [
      "4000\n",
      "8000\n",
      "16000\n",
      "4000\n"
     ]
    }
   ],
   "source": [
    "# 단어 집합의 크기 확인\n",
    "\n",
    "print(len(vocab_4k_list))\n",
    "print(len(vocab_8k_list))\n",
    "print(len(vocab_16k_list))\n",
    "print(len(vocab_bpe_4k_list))"
   ]
  },
  {
   "cell_type": "code",
   "execution_count": 41,
   "id": "2013e920",
   "metadata": {},
   "outputs": [
    {
     "name": "stdout",
     "output_type": "stream",
     "text": [
      "True\n",
      "True\n",
      "True\n",
      "True\n"
     ]
    }
   ],
   "source": [
    "sp_4k = spm.SentencePieceProcessor()\n",
    "vocab_file = \"naver_4k.model\"\n",
    "print(sp_4k.load(vocab_file))\n",
    "sp_8k = spm.SentencePieceProcessor()\n",
    "vocab_file = \"naver_8k.model\"\n",
    "print(sp_8k.load(vocab_file))\n",
    "sp_16k = spm.SentencePieceProcessor()\n",
    "vocab_file = \"naver_16k.model\"\n",
    "print(sp_16k.load(vocab_file))\n",
    "sp_bpe_4k = spm.SentencePieceProcessor()\n",
    "vocab_file = \"naver_bpe_4k.model\"\n",
    "print(sp_bpe_4k.load(vocab_file))"
   ]
  },
  {
   "cell_type": "code",
   "execution_count": 42,
   "id": "661fd53b",
   "metadata": {},
   "outputs": [
    {
     "name": "stdout",
     "output_type": "stream",
     "text": [
      "뭐 이딴 것도 영화냐.\n",
      "['▁뭐', '▁이딴', '▁것도', '▁영화', '냐', '.']\n",
      "[178, 1067, 1789, 9, 135, 4]\n",
      "\n",
      "['▁뭐', '▁이딴', '▁것도', '▁영화냐', '.']\n",
      "[166, 1075, 1250, 3550, 4]\n",
      "\n",
      "['▁뭐', '▁이딴', '▁것도', '▁영화냐', '.']\n",
      "[149, 1098, 908, 2797, 3]\n",
      "\n",
      "['▁뭐', '▁이딴', '▁것도', '▁영화', '냐', '.']\n",
      "[124, 961, 1273, 5, 2502, 2288]\n",
      "진짜 최고의 영화입니다 ㅋㅋ\n",
      "['▁진짜', '▁최고의', '▁영화입니다', '▁ᄏᄏ']\n",
      "[41, 174, 922, 162]\n",
      "\n",
      "['▁진짜', '▁최고의', '▁영화입니다', '▁ᄏᄏ']\n",
      "[31, 118, 668, 111]\n",
      "\n",
      "['▁진짜', '▁최고의', '▁영화입니다', '▁ᄏᄏ']\n",
      "[28, 90, 485, 81]\n",
      "\n",
      "['▁진짜', '▁최고의', '▁영화입니다', '▁ᄏᄏ']\n",
      "[54, 209, 820, 85]\n"
     ]
    }
   ],
   "source": [
    "lines = [\n",
    "         \"뭐 이딴 것도 영화냐.\", \n",
    "         \"진짜 최고의 영화입니다 ㅋㅋ\"\n",
    "         ]\n",
    "\n",
    "for line in lines:\n",
    "  print(line)\n",
    "  print(sp_4k.encode_as_pieces(line))\n",
    "  print(sp_4k.encode_as_ids(line))\n",
    "  print()\n",
    "  print(sp_8k.encode_as_pieces(line))\n",
    "  print(sp_8k.encode_as_ids(line))\n",
    "  print()\n",
    "  print(sp_16k.encode_as_pieces(line))\n",
    "  print(sp_16k.encode_as_ids(line))\n",
    "  print()\n",
    "  print(sp_bpe_4k.encode_as_pieces(line))\n",
    "  print(sp_bpe_4k.encode_as_ids(line))"
   ]
  },
  {
   "cell_type": "code",
   "execution_count": 43,
   "id": "ce802af6",
   "metadata": {},
   "outputs": [
    {
     "name": "stdout",
     "output_type": "stream",
     "text": [
      "28\n",
      "32\n",
      "33\n",
      "4\n"
     ]
    }
   ],
   "source": [
    "# 서브워드로부터 맵핑되는 정수로 변환\n",
    "\n",
    "print(sp_4k.PieceToId('영화'))\n",
    "print(sp_8k.PieceToId('영화'))\n",
    "print(sp_16k.PieceToId('영화'))\n",
    "print(sp_bpe_4k.PieceToId('영화'))"
   ]
  },
  {
   "cell_type": "code",
   "execution_count": 44,
   "id": "d99fb3fe",
   "metadata": {},
   "outputs": [
    {
     "name": "stdout",
     "output_type": "stream",
     "text": [
      "와무 애니할\n",
      "요 생각 보세요하게\n",
      "그냥용봄야\n",
      "진짜 마지막 그저 ᄏᄏ\n"
     ]
    }
   ],
   "source": [
    "# 정수 시퀀스로부터 문장으로 변환\n",
    "\n",
    "print(sp_4k.DecodeIds([54, 200, 821, 85]))\n",
    "print(sp_8k.DecodeIds([54, 200, 821, 85]))\n",
    "print(sp_16k.DecodeIds([54, 200, 821, 85]))\n",
    "print(sp_bpe_4k.DecodeIds([54, 200, 821, 85]))"
   ]
  },
  {
   "cell_type": "code",
   "execution_count": 45,
   "id": "f8febcbc",
   "metadata": {},
   "outputs": [
    {
     "name": "stdout",
     "output_type": "stream",
     "text": [
      "진짜 최고의 영화입니다 ᄏᄏ\n",
      "진짜 최고의 영화입니다 ᄏᄏ\n",
      "진짜 최고의 영화입니다 ᄏᄏ\n",
      "진짜 최고의 영화입니다 ᄏᄏ\n"
     ]
    }
   ],
   "source": [
    "# 서브워드 시퀀스로부터 문장으로 변환\n",
    "print(sp_4k.DecodePieces(['▁진짜', '▁최고의', '▁영화입니다', '▁ᄏᄏ']))\n",
    "print(sp_8k.DecodePieces(['▁진짜', '▁최고의', '▁영화입니다', '▁ᄏᄏ']))\n",
    "print(sp_16k.DecodePieces(['▁진짜', '▁최고의', '▁영화입니다', '▁ᄏᄏ']))\n",
    "print(sp_bpe_4k.DecodePieces(['▁진짜', '▁최고의', '▁영화입니다', '▁ᄏᄏ']))"
   ]
  },
  {
   "cell_type": "code",
   "execution_count": 46,
   "id": "ba359437",
   "metadata": {},
   "outputs": [
    {
     "name": "stdout",
     "output_type": "stream",
     "text": [
      "['▁진짜', '▁최고의', '▁영화입니다', '▁ᄏᄏ']\n",
      "[41, 174, 922, 162]\n",
      "['▁진짜', '▁최고의', '▁영화입니다', '▁ᄏᄏ']\n",
      "[31, 118, 668, 111]\n",
      "['▁진짜', '▁최고의', '▁영화입니다', '▁ᄏᄏ']\n",
      "[28, 90, 485, 81]\n",
      "['▁진짜', '▁최고의', '▁영화입니다', '▁ᄏᄏ']\n",
      "[54, 209, 820, 85]\n"
     ]
    }
   ],
   "source": [
    "# 문장으로부터 인자값에 따라서 정수 시퀀스 또는 서브워드 시퀀스로 변환 가능\n",
    "\n",
    "print(sp_4k.encode('진짜 최고의 영화입니다 ㅋㅋ', out_type=str))\n",
    "print(sp_4k.encode('진짜 최고의 영화입니다 ㅋㅋ', out_type=int))\n",
    "print(sp_8k.encode('진짜 최고의 영화입니다 ㅋㅋ', out_type=str))\n",
    "print(sp_8k.encode('진짜 최고의 영화입니다 ㅋㅋ', out_type=int))\n",
    "print(sp_16k.encode('진짜 최고의 영화입니다 ㅋㅋ', out_type=str))\n",
    "print(sp_16k.encode('진짜 최고의 영화입니다 ㅋㅋ', out_type=int))\n",
    "print(sp_bpe_4k.encode('진짜 최고의 영화입니다 ㅋㅋ', out_type=str))\n",
    "print(sp_bpe_4k.encode('진짜 최고의 영화입니다 ㅋㅋ', out_type=int))"
   ]
  },
  {
   "cell_type": "code",
   "execution_count": 47,
   "id": "5b88572e",
   "metadata": {},
   "outputs": [],
   "source": [
    "def test_performance(model):\n",
    "  s = spm.SentencePieceProcessor()\n",
    "  s.Load(model)\n",
    "  \n",
    "  # SentencePiece를 활용한 sentence -> encoding\n",
    "  tokensIDs = s.EncodeAsIds('아버지가방에들어가신다.')\n",
    "  print(tokensIDs)\n",
    "\n",
    "  # SentencePiece를 활용한 sentence -> encoded pieces\n",
    "  print(s.SampleEncodeAsPieces('아버지가방에들어가신다.',1, 0.0))\n",
    "\n",
    "  # SentencePiece를 활용한 encoding -> sentence 복원\n",
    "  print(s.DecodeIds(tokensIDs))"
   ]
  },
  {
   "cell_type": "code",
   "execution_count": 48,
   "id": "b6c65f47",
   "metadata": {},
   "outputs": [
    {
     "name": "stdout",
     "output_type": "stream",
     "text": [
      "Unigram 4k\n",
      "[1872, 6, 330, 16, 1745, 6, 108, 13, 4]\n",
      "['▁아버지', '가', '방', '에', '들어', '가', '신', '다', '.']\n",
      "아버지가방에들어가신다.\n",
      "None\n",
      "Unigram 8k\n",
      "[1400, 10, 389, 15, 1324, 10, 123, 17, 4]\n",
      "['▁아버지', '가', '방', '에', '들어', '가', '신', '다', '.']\n",
      "아버지가방에들어가신다.\n",
      "None\n",
      "Unigram 16k\n",
      "[7251, 427, 15, 11256, 192, 19, 3]\n",
      "['▁아버지가', '방', '에', '들어가', '신', '다', '.']\n",
      "아버지가방에들어가신다.\n",
      "None\n",
      "Byte Pair Encoding 4k\n",
      "[7, 2473, 879, 2552, 2300, 1404, 2296, 2396, 2290, 2288]\n",
      "['▁아', '버', '지가', '방', '에', '들어', '가', '신', '다', '.']\n",
      "아버지가방에들어가신다.\n",
      "None\n"
     ]
    }
   ],
   "source": [
    "print('Unigram 4k')\n",
    "print(test_performance(model='naver_4k.model'))\n",
    "print('Unigram 8k')\n",
    "print(test_performance(model='naver_8k.model'))\n",
    "print('Unigram 16k')\n",
    "print(test_performance(model='naver_16k.model'))\n",
    "print('Byte Pair Encoding 4k')\n",
    "print(test_performance(model='naver_bpe_4k.model'))"
   ]
  },
  {
   "cell_type": "code",
   "execution_count": 49,
   "id": "815abbdf",
   "metadata": {},
   "outputs": [],
   "source": [
    "def sp_tokenize(s, corpus, spm):\n",
    "\n",
    "    tensor = []\n",
    "\n",
    "    for sen in corpus:\n",
    "        tensor.append(s.EncodeAsIds(sen))\n",
    "\n",
    "    with open(\"./{}.vocab\".format(spm), 'r') as f:\n",
    "        vocab = f.readlines()\n",
    "\n",
    "    word_index = {}\n",
    "    index_word = {}\n",
    "\n",
    "    for idx, line in enumerate(vocab):\n",
    "        word = line.split(\"\\t\")[0]\n",
    "\n",
    "        word_index.update({idx:word})\n",
    "        index_word.update({word:idx})\n",
    "\n",
    "    tensor = tf.keras.preprocessing.sequence.pad_sequences(tensor, padding = 'pre', maxlen = max_len)\n",
    "\n",
    "    return tensor, word_index, index_word"
   ]
  },
  {
   "cell_type": "code",
   "execution_count": 50,
   "id": "dfdaf513",
   "metadata": {},
   "outputs": [
    {
     "name": "stdout",
     "output_type": "stream",
     "text": [
      "[[   0    0    0    0    0    0    0    0    0    0    0    0    0    0\n",
      "     0    0    0    0    0    0    0    0    0    0    0    0    0    0\n",
      "     0    0    0    0    0    0    0    0    0    0    0    0    0    0\n",
      "     0    0    0    0    0    0    0    0    0    0    0    0    0    0\n",
      "     0    0    0    0    0    0    0    0    0    0    0    0    0    0\n",
      "     0    0    0    0    0    0    0    0    0    0    0    0    0    0\n",
      "     0    0    0    0    0    0    0    0    0    0  582 2880   14 1236\n",
      "  1854    4]\n",
      " [   0    0    0    0    0    0    0    0    0    0    0    0    0    0\n",
      "     0    0    0    0    0    0    0    0    0    0    0    0    0    0\n",
      "     0    0    0    0    0    0    0    0    0    0    0    0    0    0\n",
      "     0    0    0    0    0    0    0    0    0    0    0    0    0    0\n",
      "     0    0    0    0    0    0    0    0    0    0    0    0    0    0\n",
      "     0    0    0    0    0    0    0    0    0    0    0    0    0    0\n",
      "     0    0    0    0    0    0 1502 2464  319  572   10    3   16 7940\n",
      "   789    8]]\n"
     ]
    }
   ],
   "source": [
    "# sp_tokenize(s, corpus) 사용 예제\n",
    "\n",
    "s = spm.SentencePieceProcessor()\n",
    "s.Load('naver_8k.model') \n",
    "\n",
    "my_corpus = ['나는 밥을 먹었습니다.', '그러나 여전히 ㅠㅠ 배가 고픕니다...']\n",
    "tensor, word_index, index_word = sp_tokenize(s, my_corpus, 'naver_8k')           \n",
    "print(tensor)"
   ]
  },
  {
   "cell_type": "markdown",
   "id": "fb8909d2",
   "metadata": {},
   "source": [
    "-----\n",
    "\n",
    "## 5. 모델 학습 및 테스트\n",
    "- 우선, 학습 데이터를 불러온 뒤 결측치와 중복을 제거하는 정제 작업 수행\n",
    "- 다음으로 `LSTM` 모델을 사용하여 학습 및 테스트 수행\n",
    "  - `LSTM`이 가진 게이트(`gate`)라는 구조 덕분에 시계열 데이터의 장기 의존 관계를 자동으로 학습할 수 있음\n",
    "    <img src=\"https://i.ibb.co/7jVhg2y/fig-6-13.png\">\n",
    "  - 입력과 가중치를 곱하고 절편을 더해 활성화 함수를 통과시키는 구조를 여러 개 가짐\n",
    "  - 은닉층의 메모리 셀에 입력 게이트, 망각 게이트, 출력 게이트를 추가하여 불필요한 기억을 지우고, 기억해야 할 것들을 결정\n",
    "    <Img src=\"https://wikidocs.net/images/page/22888/vaniila_rnn_and_different_lstm_ver2.PNG\">\n",
    "  - `RNN`과 비교하여 긴 시퀀스의 입력을 처리하는데 탁월한 성능"
   ]
  },
  {
   "cell_type": "code",
   "execution_count": 51,
   "id": "3a2c80ba",
   "metadata": {},
   "outputs": [],
   "source": [
    "tensor, word_index, index_word = sp_tokenize(s, train_data['document'], 'naver_8k')"
   ]
  },
  {
   "cell_type": "code",
   "execution_count": 52,
   "id": "95dc6f6b",
   "metadata": {},
   "outputs": [],
   "source": [
    "filtered_label = np.array(train_data['label'])\n",
    "x_train, x_val, y_train, y_val = train_test_split(tensor, filtered_label, test_size = 0.2, random_state = 42)\n",
    "x_train, x_test, y_train, y_test = train_test_split(x_train, y_train, test_size = 0.2, random_state = 42)"
   ]
  },
  {
   "cell_type": "code",
   "execution_count": 53,
   "id": "6188c38f",
   "metadata": {},
   "outputs": [
    {
     "name": "stdout",
     "output_type": "stream",
     "text": [
      "93556 23389 29237\n",
      "93556 23389 29237\n"
     ]
    }
   ],
   "source": [
    "print(len(x_train), len(x_test), len(x_val))\n",
    "print(len(y_train), len(y_test), len(y_val))"
   ]
  },
  {
   "cell_type": "code",
   "execution_count": 54,
   "id": "696fe005",
   "metadata": {},
   "outputs": [
    {
     "name": "stderr",
     "output_type": "stream",
     "text": [
      "2022-03-22 13:25:40.413035: I tensorflow/core/platform/cpu_feature_guard.cc:142] This TensorFlow binary is optimized with oneAPI Deep Neural Network Library (oneDNN) to use the following CPU instructions in performance-critical operations:  AVX2 FMA\n",
      "To enable them in other operations, rebuild TensorFlow with the appropriate compiler flags.\n",
      "2022-03-22 13:25:40.630910: I tensorflow/compiler/mlir/mlir_graph_optimization_pass.cc:185] None of the MLIR Optimization Passes are enabled (registered 2)\n"
     ]
    },
    {
     "name": "stdout",
     "output_type": "stream",
     "text": [
      "Epoch 1/10\n",
      "1462/1462 [==============================] - 116s 79ms/step - loss: 0.4124 - accuracy: 0.8091 - val_loss: 0.3552 - val_accuracy: 0.8461\n",
      "Epoch 2/10\n",
      "1462/1462 [==============================] - 128s 87ms/step - loss: 0.3270 - accuracy: 0.8603 - val_loss: 0.3509 - val_accuracy: 0.8484\n",
      "Epoch 3/10\n",
      "1462/1462 [==============================] - 134s 92ms/step - loss: 0.2976 - accuracy: 0.8731 - val_loss: 0.3325 - val_accuracy: 0.8552\n",
      "Epoch 4/10\n",
      "1462/1462 [==============================] - 143s 98ms/step - loss: 0.2729 - accuracy: 0.8848 - val_loss: 0.3375 - val_accuracy: 0.8536\n",
      "Epoch 5/10\n",
      "1462/1462 [==============================] - 131s 90ms/step - loss: 0.2517 - accuracy: 0.8938 - val_loss: 0.3495 - val_accuracy: 0.8522\n",
      "Epoch 6/10\n",
      "1462/1462 [==============================] - 133s 91ms/step - loss: 0.2349 - accuracy: 0.9018 - val_loss: 0.3503 - val_accuracy: 0.8547\n",
      "Epoch 7/10\n",
      "1462/1462 [==============================] - 145s 99ms/step - loss: 0.2196 - accuracy: 0.9088 - val_loss: 0.3772 - val_accuracy: 0.8508\n",
      "Epoch 00007: early stopping\n",
      "Model: \"sequential\"\n",
      "_________________________________________________________________\n",
      "Layer (type)                 Output Shape              Param #   \n",
      "=================================================================\n",
      "embedding (Embedding)        (None, None, 32)          256000    \n",
      "_________________________________________________________________\n",
      "lstm (LSTM)                  (None, 128)               82432     \n",
      "_________________________________________________________________\n",
      "dense (Dense)                (None, 1)                 129       \n",
      "=================================================================\n",
      "Total params: 338,561\n",
      "Trainable params: 338,561\n",
      "Non-trainable params: 0\n",
      "_________________________________________________________________\n"
     ]
    }
   ],
   "source": [
    "os.environ['TF_FORCE_GPU_ALLOW_GROWTH'] = 'true'\n",
    "\n",
    "vocab_size = vocab_size\n",
    "word_vector_dim = 32  \n",
    "epochs = 10\n",
    "batch_size = 64\n",
    "\n",
    "cp = tf.keras.callbacks.ModelCheckpoint('best-lstm-model.h5', \n",
    "                                        save_best_only = True)\n",
    "\n",
    "es = tf.keras.callbacks.EarlyStopping(monitor = 'val_loss', mode = 'min', \n",
    "                                      verbose = 1, patience = 4)\n",
    "\n",
    "with tf.device('/device:GPU:0'):\n",
    "  model_LSTM = tf.keras.Sequential()\n",
    "  model_LSTM.add(tf.keras.layers.Embedding(vocab_size, word_vector_dim))\n",
    "  model_LSTM.add(tf.keras.layers.LSTM(128, dropout = 0.3))\n",
    "  model_LSTM.add(tf.keras.layers.Dense(1, activation='sigmoid'))  \n",
    "  model_LSTM.compile(optimizer = 'adam',\n",
    "                     loss = 'binary_crossentropy',\n",
    "                     metrics = ['accuracy'])\n",
    "  history_LSTM = model_LSTM.fit(x_train, y_train,\n",
    "                    epochs = epochs,\n",
    "                    batch_size = batch_size,\n",
    "                    validation_data = (x_val, y_val),\n",
    "                    callbacks = [cp, es],\n",
    "                    verbose = 1)\n",
    "\n",
    "model_LSTM.summary()"
   ]
  },
  {
   "cell_type": "code",
   "execution_count": 55,
   "id": "6360a98a",
   "metadata": {},
   "outputs": [
    {
     "name": "stdout",
     "output_type": "stream",
     "text": [
      "731/731 - 27s - loss: 0.3826 - accuracy: 0.8463\n",
      "[0.3825835585594177, 0.8463380336761475]\n"
     ]
    }
   ],
   "source": [
    "results = model_LSTM.evaluate(x_test, y_test, verbose = 2)\n",
    "print(results)"
   ]
  },
  {
   "cell_type": "code",
   "execution_count": 56,
   "id": "589d177a",
   "metadata": {},
   "outputs": [],
   "source": [
    "def performance_test_spm(spm_model, vocab_size, word_vector_dim):\n",
    "    s = spm.SentencePieceProcessor()\n",
    "    s.Load(\"{}.model\".format(spm_model)) \n",
    "    \n",
    "    tensor, word_index, index_word = sp_tokenize(s, train_data['document'], spm_model)\n",
    "\n",
    "    filtered_label = np.array(train_data['label'])\n",
    "    x_train, x_val, y_train, y_val = train_test_split(tensor, filtered_label, test_size = 0.2, random_state = 42)\n",
    "    x_train, x_test, y_train, y_test = train_test_split(x_train, y_train, test_size = 0.2, random_state = 42)\n",
    "\n",
    "    with tf.device('/device:GPU:0'):\n",
    "      model_LSTM = tf.keras.Sequential()\n",
    "      model_LSTM.add(tf.keras.layers.Embedding(vocab_size, word_vector_dim))\n",
    "      model_LSTM.add(tf.keras.layers.LSTM(128, dropout = 0.3))\n",
    "      model_LSTM.add(tf.keras.layers.Dense(1, activation='sigmoid'))  \n",
    "\n",
    "      model_LSTM.summary()\n",
    "\n",
    "      model_LSTM.compile(optimizer = 'adam',\n",
    "                         loss = 'binary_crossentropy',\n",
    "                         metrics = ['accuracy'])\n",
    "\n",
    "      vocab_size = vocab_size\n",
    "      epochs = 10\n",
    "      batch_size = 64\n",
    "\n",
    "      cp = tf.keras.callbacks.ModelCheckpoint('best-lstm-model.h5', \n",
    "                                              save_best_only = True)\n",
    "\n",
    "      es = tf.keras.callbacks.EarlyStopping(monitor = 'val_loss', mode = 'min', \n",
    "                                            verbose = 1, patience = 4)\n",
    "\n",
    "      history_LSTM = model_LSTM.fit(x_train, y_train,\n",
    "                        epochs = epochs,\n",
    "                        batch_size = batch_size,\n",
    "                        validation_data = (x_val, y_val),\n",
    "                        callbacks = [cp, es],\n",
    "                        verbose = 1)\n",
    "      results = model_LSTM.evaluate(x_test, y_test, verbose = 2)\n",
    "      print(results)\n",
    "\n",
    "      return history_LSTM"
   ]
  },
  {
   "cell_type": "code",
   "execution_count": 57,
   "id": "f16fe021",
   "metadata": {},
   "outputs": [
    {
     "name": "stdout",
     "output_type": "stream",
     "text": [
      "Model: \"sequential_1\"\n",
      "_________________________________________________________________\n",
      "Layer (type)                 Output Shape              Param #   \n",
      "=================================================================\n",
      "embedding_1 (Embedding)      (None, None, 8)           64000     \n",
      "_________________________________________________________________\n",
      "lstm_1 (LSTM)                (None, 128)               70144     \n",
      "_________________________________________________________________\n",
      "dense_1 (Dense)              (None, 1)                 129       \n",
      "=================================================================\n",
      "Total params: 134,273\n",
      "Trainable params: 134,273\n",
      "Non-trainable params: 0\n",
      "_________________________________________________________________\n",
      "Epoch 1/10\n",
      "1462/1462 [==============================] - 128s 87ms/step - loss: 0.4568 - accuracy: 0.7804 - val_loss: 0.3811 - val_accuracy: 0.8303\n",
      "Epoch 2/10\n",
      "1462/1462 [==============================] - 135s 92ms/step - loss: 0.3696 - accuracy: 0.8378 - val_loss: 0.3677 - val_accuracy: 0.8401\n",
      "Epoch 3/10\n",
      "1462/1462 [==============================] - 120s 82ms/step - loss: 0.3568 - accuracy: 0.8433 - val_loss: 0.3623 - val_accuracy: 0.8424\n",
      "Epoch 4/10\n",
      "1462/1462 [==============================] - 124s 85ms/step - loss: 0.3502 - accuracy: 0.8474 - val_loss: 0.3623 - val_accuracy: 0.8403\n",
      "Epoch 5/10\n",
      "1462/1462 [==============================] - 136s 93ms/step - loss: 0.3406 - accuracy: 0.8527 - val_loss: 0.3528 - val_accuracy: 0.8449\n",
      "Epoch 6/10\n",
      "1462/1462 [==============================] - 131s 90ms/step - loss: 0.3322 - accuracy: 0.8560 - val_loss: 0.3516 - val_accuracy: 0.8425\n",
      "Epoch 7/10\n",
      "1462/1462 [==============================] - 129s 88ms/step - loss: 0.3248 - accuracy: 0.8587 - val_loss: 0.3513 - val_accuracy: 0.8471\n",
      "Epoch 8/10\n",
      "1462/1462 [==============================] - 115s 79ms/step - loss: 0.3171 - accuracy: 0.8620 - val_loss: 0.3439 - val_accuracy: 0.8481\n",
      "Epoch 9/10\n",
      "1462/1462 [==============================] - 116s 79ms/step - loss: 0.3120 - accuracy: 0.8645 - val_loss: 0.3445 - val_accuracy: 0.8490\n",
      "Epoch 10/10\n",
      "1462/1462 [==============================] - 128s 88ms/step - loss: 0.3067 - accuracy: 0.8674 - val_loss: 0.3398 - val_accuracy: 0.8500\n",
      "731/731 - 11s - loss: 0.3406 - accuracy: 0.8500\n",
      "[0.3406356871128082, 0.8500149846076965]\n"
     ]
    }
   ],
   "source": [
    "history_unigram_4k_dim_8 = performance_test_spm('naver_4k', vocab_size, word_vector_dim=8)"
   ]
  },
  {
   "cell_type": "code",
   "execution_count": 58,
   "id": "e7c605ab",
   "metadata": {},
   "outputs": [],
   "source": [
    "def visualize_train(train_history, param):\n",
    "    \n",
    "    # summarize history for accuracy\n",
    "    plt.figure(figsize=(10,6))\n",
    "    plt.plot(train_history.history['accuracy'])\n",
    "    plt.plot(train_history.history['val_accuracy'])\n",
    "    plt.title('{}_accuracy'.format(param))\n",
    "    plt.ylabel('accuracy')\n",
    "    plt.xlabel('epoch')\n",
    "    plt.legend(['train', 'val'], loc='upper left')\n",
    "    plt.show()\n",
    "\n",
    "    # summarize history for loss\n",
    "    plt.figure(figsize=(10,6))\n",
    "    plt.plot(train_history.history['loss'])\n",
    "    plt.plot(train_history.history['val_loss'])\n",
    "    plt.title('{}_loss'.format(param))\n",
    "    plt.ylabel('loss')\n",
    "    plt.xlabel('epoch')\n",
    "    plt.legend(['train', 'val'], loc='upper left')\n",
    "    plt.show()"
   ]
  },
  {
   "cell_type": "code",
   "execution_count": 59,
   "id": "f849c9a2",
   "metadata": {},
   "outputs": [
    {
     "data": {
      "image/png": "[encoded data removed]",
      "text/plain": [
       "<Figure size 720x432 with 1 Axes>"
      ]
     },
     "metadata": {
      "needs_background": "light"
     },
     "output_type": "display_data"
    },
    {
     "data": {
      "image/png": "[encoded data removed]",
      "text/plain": [
       "<Figure size 720x432 with 1 Axes>"
      ]
     },
     "metadata": {
      "needs_background": "light"
     },
     "output_type": "display_data"
    }
   ],
   "source": [
    "visualize_train(history_unigram_4k_dim_8, param='unigram_4k_dim_8')"
   ]
  },
  {
   "cell_type": "code",
   "execution_count": 60,
   "id": "cf085a57",
   "metadata": {},
   "outputs": [
    {
     "name": "stdout",
     "output_type": "stream",
     "text": [
      "Model: \"sequential_2\"\n",
      "_________________________________________________________________\n",
      "Layer (type)                 Output Shape              Param #   \n",
      "=================================================================\n",
      "embedding_2 (Embedding)      (None, None, 16)          128000    \n",
      "_________________________________________________________________\n",
      "lstm_2 (LSTM)                (None, 128)               74240     \n",
      "_________________________________________________________________\n",
      "dense_2 (Dense)              (None, 1)                 129       \n",
      "=================================================================\n",
      "Total params: 202,369\n",
      "Trainable params: 202,369\n",
      "Non-trainable params: 0\n",
      "_________________________________________________________________\n",
      "Epoch 1/10\n",
      "1462/1462 [==============================] - 143s 97ms/step - loss: 0.4301 - accuracy: 0.7975 - val_loss: 0.3700 - val_accuracy: 0.8398\n",
      "Epoch 2/10\n",
      "1462/1462 [==============================] - 148s 101ms/step - loss: 0.3590 - accuracy: 0.8429 - val_loss: 0.3613 - val_accuracy: 0.8416\n",
      "Epoch 3/10\n",
      "1462/1462 [==============================] - 143s 98ms/step - loss: 0.3433 - accuracy: 0.8508 - val_loss: 0.3497 - val_accuracy: 0.8462\n",
      "Epoch 4/10\n",
      "1462/1462 [==============================] - 145s 99ms/step - loss: 0.3281 - accuracy: 0.8571 - val_loss: 0.3405 - val_accuracy: 0.8490\n",
      "Epoch 5/10\n",
      "1462/1462 [==============================] - 131s 90ms/step - loss: 0.3131 - accuracy: 0.8641 - val_loss: 0.3409 - val_accuracy: 0.8497\n",
      "Epoch 6/10\n",
      "1462/1462 [==============================] - 134s 92ms/step - loss: 0.3029 - accuracy: 0.8688 - val_loss: 0.3402 - val_accuracy: 0.8521\n",
      "Epoch 7/10\n",
      "1462/1462 [==============================] - 125s 86ms/step - loss: 0.2946 - accuracy: 0.8731 - val_loss: 0.3345 - val_accuracy: 0.8518\n",
      "Epoch 8/10\n",
      "1462/1462 [==============================] - 138s 95ms/step - loss: 0.2869 - accuracy: 0.8769 - val_loss: 0.3428 - val_accuracy: 0.8501\n",
      "Epoch 9/10\n",
      "1462/1462 [==============================] - 143s 98ms/step - loss: 0.2781 - accuracy: 0.8811 - val_loss: 0.3424 - val_accuracy: 0.8538\n",
      "Epoch 10/10\n",
      "1462/1462 [==============================] - 150s 103ms/step - loss: 0.2711 - accuracy: 0.8837 - val_loss: 0.3453 - val_accuracy: 0.8511\n",
      "731/731 - 27s - loss: 0.3517 - accuracy: 0.8495\n",
      "[0.3517334759235382, 0.84950190782547]\n",
      "Model: \"sequential_3\"\n",
      "_________________________________________________________________\n",
      "Layer (type)                 Output Shape              Param #   \n",
      "=================================================================\n",
      "embedding_3 (Embedding)      (None, None, 32)          256000    \n",
      "_________________________________________________________________\n",
      "lstm_3 (LSTM)                (None, 128)               82432     \n",
      "_________________________________________________________________\n",
      "dense_3 (Dense)              (None, 1)                 129       \n",
      "=================================================================\n",
      "Total params: 338,561\n",
      "Trainable params: 338,561\n",
      "Non-trainable params: 0\n",
      "_________________________________________________________________\n",
      "Epoch 1/10\n",
      "1462/1462 [==============================] - 138s 94ms/step - loss: 0.4237 - accuracy: 0.8019 - val_loss: 0.3701 - val_accuracy: 0.8374\n",
      "Epoch 2/10\n",
      "1462/1462 [==============================] - 137s 94ms/step - loss: 0.3528 - accuracy: 0.8446 - val_loss: 0.3522 - val_accuracy: 0.8435\n",
      "Epoch 3/10\n",
      "1462/1462 [==============================] - 134s 92ms/step - loss: 0.3294 - accuracy: 0.8546 - val_loss: 0.3468 - val_accuracy: 0.8474\n",
      "Epoch 4/10\n",
      "1462/1462 [==============================] - 149s 102ms/step - loss: 0.3114 - accuracy: 0.8634 - val_loss: 0.3432 - val_accuracy: 0.8477\n",
      "Epoch 5/10\n",
      "1462/1462 [==============================] - 134s 92ms/step - loss: 0.2969 - accuracy: 0.8703 - val_loss: 0.3511 - val_accuracy: 0.8479\n",
      "Epoch 6/10\n",
      "1462/1462 [==============================] - 145s 99ms/step - loss: 0.2843 - accuracy: 0.8773 - val_loss: 0.3386 - val_accuracy: 0.8522\n",
      "Epoch 7/10\n",
      "1462/1462 [==============================] - 128s 87ms/step - loss: 0.2726 - accuracy: 0.8824 - val_loss: 0.3429 - val_accuracy: 0.8522\n",
      "Epoch 8/10\n",
      "1462/1462 [==============================] - 133s 91ms/step - loss: 0.2624 - accuracy: 0.8885 - val_loss: 0.3478 - val_accuracy: 0.8510\n",
      "Epoch 9/10\n",
      "1462/1462 [==============================] - 135s 92ms/step - loss: 0.2523 - accuracy: 0.8938 - val_loss: 0.3511 - val_accuracy: 0.8514\n",
      "Epoch 10/10\n",
      "1462/1462 [==============================] - 132s 91ms/step - loss: 0.2430 - accuracy: 0.8971 - val_loss: 0.3515 - val_accuracy: 0.8505\n",
      "Epoch 00010: early stopping\n",
      "731/731 - 16s - loss: 0.3553 - accuracy: 0.8499\n",
      "[0.35534611344337463, 0.8499294519424438]\n",
      "Model: \"sequential_4\"\n",
      "_________________________________________________________________\n",
      "Layer (type)                 Output Shape              Param #   \n",
      "=================================================================\n",
      "embedding_4 (Embedding)      (None, None, 64)          512000    \n",
      "_________________________________________________________________\n",
      "lstm_4 (LSTM)                (None, 128)               98816     \n",
      "_________________________________________________________________\n",
      "dense_4 (Dense)              (None, 1)                 129       \n",
      "=================================================================\n",
      "Total params: 610,945\n",
      "Trainable params: 610,945\n",
      "Non-trainable params: 0\n",
      "_________________________________________________________________\n",
      "Epoch 1/10\n",
      "1462/1462 [==============================] - 171s 116ms/step - loss: 0.4182 - accuracy: 0.8083 - val_loss: 0.3638 - val_accuracy: 0.8398\n",
      "Epoch 2/10\n",
      "1462/1462 [==============================] - 203s 139ms/step - loss: 0.3426 - accuracy: 0.8493 - val_loss: 0.3470 - val_accuracy: 0.8464\n",
      "Epoch 3/10\n",
      "1462/1462 [==============================] - 206s 141ms/step - loss: 0.3175 - accuracy: 0.8608 - val_loss: 0.3401 - val_accuracy: 0.8510\n",
      "Epoch 4/10\n",
      "1462/1462 [==============================] - 198s 135ms/step - loss: 0.2965 - accuracy: 0.8704 - val_loss: 0.3423 - val_accuracy: 0.8505\n",
      "Epoch 5/10\n",
      "1462/1462 [==============================] - 197s 135ms/step - loss: 0.2790 - accuracy: 0.8802 - val_loss: 0.3402 - val_accuracy: 0.8526\n",
      "Epoch 6/10\n",
      "1462/1462 [==============================] - 217s 149ms/step - loss: 0.2639 - accuracy: 0.8879 - val_loss: 0.3377 - val_accuracy: 0.8522\n",
      "Epoch 7/10\n",
      "1462/1462 [==============================] - 217s 148ms/step - loss: 0.2497 - accuracy: 0.8943 - val_loss: 0.3554 - val_accuracy: 0.8500\n",
      "Epoch 8/10\n",
      "1462/1462 [==============================] - 190s 130ms/step - loss: 0.2369 - accuracy: 0.9015 - val_loss: 0.3577 - val_accuracy: 0.8507\n",
      "Epoch 9/10\n",
      "1462/1462 [==============================] - 190s 130ms/step - loss: 0.2229 - accuracy: 0.9075 - val_loss: 0.3635 - val_accuracy: 0.8492\n",
      "Epoch 10/10\n",
      "1462/1462 [==============================] - 198s 136ms/step - loss: 0.2121 - accuracy: 0.9117 - val_loss: 0.3679 - val_accuracy: 0.8517\n",
      "Epoch 00010: early stopping\n",
      "731/731 - 80s - loss: 0.3746 - accuracy: 0.8499\n",
      "[0.3745706081390381, 0.8498867154121399]\n"
     ]
    }
   ],
   "source": [
    "history_unigram_4k_dim_16 = performance_test_spm('naver_4k', vocab_size, word_vector_dim=16)\n",
    "history_unigram_4k_dim_32 = performance_test_spm('naver_4k', vocab_size, word_vector_dim=32)\n",
    "history_unigram_4k_dim_64 = performance_test_spm('naver_4k', vocab_size, word_vector_dim=64)"
   ]
  },
  {
   "cell_type": "code",
   "execution_count": 61,
   "id": "c23dfe39",
   "metadata": {},
   "outputs": [
    {
     "data": {
      "image/png": "[encoded data removed]",
      "text/plain": [
       "<Figure size 720x432 with 1 Axes>"
      ]
     },
     "metadata": {
      "needs_background": "light"
     },
     "output_type": "display_data"
    },
    {
     "data": {
      "image/png": "[encoded data removed]",
      "text/plain": [
       "<Figure size 720x432 with 1 Axes>"
      ]
     },
     "metadata": {
      "needs_background": "light"
     },
     "output_type": "display_data"
    }
   ],
   "source": [
    "visualize_train(history_unigram_4k_dim_16, param='unigram_4k_dim_16')"
   ]
  },
  {
   "cell_type": "code",
   "execution_count": 62,
   "id": "4e7c27c5",
   "metadata": {},
   "outputs": [
    {
     "data": {
      "image/png": "[encoded data removed]",
      "text/plain": [
       "<Figure size 720x432 with 1 Axes>"
      ]
     },
     "metadata": {
      "needs_background": "light"
     },
     "output_type": "display_data"
    },
    {
     "data": {
      "image/png": "[encoded data removed]",
      "text/plain": [
       "<Figure size 720x432 with 1 Axes>"
      ]
     },
     "metadata": {
      "needs_background": "light"
     },
     "output_type": "display_data"
    }
   ],
   "source": [
    "visualize_train(history_unigram_4k_dim_32, param='unigram_4k_dim_32')"
   ]
  },
  {
   "cell_type": "code",
   "execution_count": 63,
   "id": "de1e6d43",
   "metadata": {},
   "outputs": [
    {
     "data": {
      "image/png": "[encoded data removed]",
      "text/plain": [
       "<Figure size 720x432 with 1 Axes>"
      ]
     },
     "metadata": {
      "needs_background": "light"
     },
     "output_type": "display_data"
    },
    {
     "data": {
      "image/png": "[encoded data removed]",
      "text/plain": [
       "<Figure size 720x432 with 1 Axes>"
      ]
     },
     "metadata": {
      "needs_background": "light"
     },
     "output_type": "display_data"
    }
   ],
   "source": [
    "visualize_train(history_unigram_4k_dim_64, param='unigram_4k_dim_64')"
   ]
  },
  {
   "cell_type": "code",
   "execution_count": 64,
   "id": "bb3157e0",
   "metadata": {},
   "outputs": [
    {
     "name": "stdout",
     "output_type": "stream",
     "text": [
      "Model: \"sequential_5\"\n",
      "_________________________________________________________________\n",
      "Layer (type)                 Output Shape              Param #   \n",
      "=================================================================\n",
      "embedding_5 (Embedding)      (None, None, 8)           64000     \n",
      "_________________________________________________________________\n",
      "lstm_5 (LSTM)                (None, 128)               70144     \n",
      "_________________________________________________________________\n",
      "dense_5 (Dense)              (None, 1)                 129       \n",
      "=================================================================\n",
      "Total params: 134,273\n",
      "Trainable params: 134,273\n",
      "Non-trainable params: 0\n",
      "_________________________________________________________________\n",
      "Epoch 1/10\n",
      "1462/1462 [==============================] - 176s 119ms/step - loss: 0.4504 - accuracy: 0.7851 - val_loss: 0.3669 - val_accuracy: 0.8373\n",
      "Epoch 2/10\n",
      "1462/1462 [==============================] - 173s 118ms/step - loss: 0.3405 - accuracy: 0.8543 - val_loss: 0.3527 - val_accuracy: 0.8471\n",
      "Epoch 3/10\n",
      "1462/1462 [==============================] - 201s 138ms/step - loss: 0.3227 - accuracy: 0.8621 - val_loss: 0.3498 - val_accuracy: 0.8462\n",
      "Epoch 4/10\n",
      "1462/1462 [==============================] - 180s 123ms/step - loss: 0.3106 - accuracy: 0.8678 - val_loss: 0.3477 - val_accuracy: 0.8468\n",
      "Epoch 5/10\n",
      "1462/1462 [==============================] - 164s 112ms/step - loss: 0.2998 - accuracy: 0.8725 - val_loss: 0.3460 - val_accuracy: 0.8485\n",
      "Epoch 6/10\n",
      "1462/1462 [==============================] - 167s 114ms/step - loss: 0.2897 - accuracy: 0.8771 - val_loss: 0.3415 - val_accuracy: 0.8495\n",
      "Epoch 7/10\n",
      "1462/1462 [==============================] - 189s 129ms/step - loss: 0.2807 - accuracy: 0.8818 - val_loss: 0.3431 - val_accuracy: 0.8510\n",
      "Epoch 8/10\n",
      "1462/1462 [==============================] - 198s 135ms/step - loss: 0.2709 - accuracy: 0.8857 - val_loss: 0.3407 - val_accuracy: 0.8496\n",
      "Epoch 9/10\n",
      "1462/1462 [==============================] - 170s 116ms/step - loss: 0.2643 - accuracy: 0.8889 - val_loss: 0.3446 - val_accuracy: 0.8514\n",
      "Epoch 10/10\n",
      "1462/1462 [==============================] - 149s 102ms/step - loss: 0.2566 - accuracy: 0.8919 - val_loss: 0.3419 - val_accuracy: 0.8528\n",
      "731/731 - 17s - loss: 0.3424 - accuracy: 0.8554\n",
      "[0.34242480993270874, 0.8553593754768372]\n",
      "Model: \"sequential_6\"\n",
      "_________________________________________________________________\n",
      "Layer (type)                 Output Shape              Param #   \n",
      "=================================================================\n",
      "embedding_6 (Embedding)      (None, None, 16)          128000    \n",
      "_________________________________________________________________\n",
      "lstm_6 (LSTM)                (None, 128)               74240     \n",
      "_________________________________________________________________\n",
      "dense_6 (Dense)              (None, 1)                 129       \n",
      "=================================================================\n",
      "Total params: 202,369\n",
      "Trainable params: 202,369\n",
      "Non-trainable params: 0\n",
      "_________________________________________________________________\n",
      "Epoch 1/10\n",
      "1462/1462 [==============================] - 155s 105ms/step - loss: 0.4232 - accuracy: 0.8008 - val_loss: 0.3600 - val_accuracy: 0.8424\n",
      "Epoch 2/10\n",
      "1462/1462 [==============================] - 184s 126ms/step - loss: 0.3316 - accuracy: 0.8564 - val_loss: 0.3522 - val_accuracy: 0.8455\n",
      "Epoch 3/10\n",
      "1462/1462 [==============================] - 200s 137ms/step - loss: 0.3094 - accuracy: 0.8680 - val_loss: 0.3397 - val_accuracy: 0.8503\n",
      "Epoch 4/10\n",
      "1462/1462 [==============================] - 181s 124ms/step - loss: 0.2908 - accuracy: 0.8766 - val_loss: 0.3395 - val_accuracy: 0.8530\n",
      "Epoch 5/10\n",
      "1462/1462 [==============================] - 181s 124ms/step - loss: 0.2720 - accuracy: 0.8852 - val_loss: 0.3419 - val_accuracy: 0.8501\n",
      "Epoch 6/10\n",
      "1462/1462 [==============================] - 159s 109ms/step - loss: 0.2579 - accuracy: 0.8913 - val_loss: 0.3383 - val_accuracy: 0.8542\n",
      "Epoch 7/10\n",
      "1462/1462 [==============================] - 171s 117ms/step - loss: 0.2445 - accuracy: 0.8977 - val_loss: 0.3519 - val_accuracy: 0.8516\n",
      "Epoch 8/10\n",
      "1462/1462 [==============================] - 181s 124ms/step - loss: 0.2341 - accuracy: 0.9026 - val_loss: 0.3654 - val_accuracy: 0.8528\n",
      "Epoch 9/10\n",
      "1462/1462 [==============================] - 198s 136ms/step - loss: 0.2233 - accuracy: 0.9067 - val_loss: 0.3687 - val_accuracy: 0.8506\n",
      "Epoch 10/10\n",
      "1462/1462 [==============================] - 167s 114ms/step - loss: 0.2143 - accuracy: 0.9107 - val_loss: 0.3693 - val_accuracy: 0.8500\n",
      "Epoch 00010: early stopping\n",
      "731/731 - 73s - loss: 0.3700 - accuracy: 0.8485\n",
      "[0.370009183883667, 0.8485185503959656]\n",
      "Model: \"sequential_7\"\n",
      "_________________________________________________________________\n",
      "Layer (type)                 Output Shape              Param #   \n",
      "=================================================================\n",
      "embedding_7 (Embedding)      (None, None, 32)          256000    \n",
      "_________________________________________________________________\n",
      "lstm_7 (LSTM)                (None, 128)               82432     \n",
      "_________________________________________________________________\n",
      "dense_7 (Dense)              (None, 1)                 129       \n",
      "=================================================================\n",
      "Total params: 338,561\n",
      "Trainable params: 338,561\n",
      "Non-trainable params: 0\n",
      "_________________________________________________________________\n",
      "Epoch 1/10\n",
      "1462/1462 [==============================] - 180s 122ms/step - loss: 0.4210 - accuracy: 0.8036 - val_loss: 0.3552 - val_accuracy: 0.8459\n",
      "Epoch 2/10\n",
      "1462/1462 [==============================] - 210s 144ms/step - loss: 0.3240 - accuracy: 0.8611 - val_loss: 0.3451 - val_accuracy: 0.8505\n",
      "Epoch 3/10\n",
      "1462/1462 [==============================] - 211s 144ms/step - loss: 0.2934 - accuracy: 0.8747 - val_loss: 0.3424 - val_accuracy: 0.8508\n",
      "Epoch 4/10\n",
      "1462/1462 [==============================] - 207s 141ms/step - loss: 0.2691 - accuracy: 0.8862 - val_loss: 0.3384 - val_accuracy: 0.8536\n",
      "Epoch 5/10\n",
      "1462/1462 [==============================] - 215s 147ms/step - loss: 0.2487 - accuracy: 0.8949 - val_loss: 0.3568 - val_accuracy: 0.8533\n",
      "Epoch 6/10\n",
      "1462/1462 [==============================] - 204s 140ms/step - loss: 0.2306 - accuracy: 0.9043 - val_loss: 0.3622 - val_accuracy: 0.8516\n",
      "Epoch 7/10\n",
      "1462/1462 [==============================] - 216s 148ms/step - loss: 0.2111 - accuracy: 0.9133 - val_loss: 0.3678 - val_accuracy: 0.8489\n",
      "Epoch 8/10\n",
      "1462/1462 [==============================] - 211s 145ms/step - loss: 0.1954 - accuracy: 0.9200 - val_loss: 0.3865 - val_accuracy: 0.8475\n",
      "Epoch 00008: early stopping\n",
      "731/731 - 41s - loss: 0.3895 - accuracy: 0.8458\n",
      "[0.38945895433425903, 0.8458249568939209]\n",
      "Model: \"sequential_8\"\n",
      "_________________________________________________________________\n",
      "Layer (type)                 Output Shape              Param #   \n",
      "=================================================================\n",
      "embedding_8 (Embedding)      (None, None, 64)          512000    \n",
      "_________________________________________________________________\n",
      "lstm_8 (LSTM)                (None, 128)               98816     \n",
      "_________________________________________________________________\n",
      "dense_8 (Dense)              (None, 1)                 129       \n",
      "=================================================================\n",
      "Total params: 610,945\n",
      "Trainable params: 610,945\n",
      "Non-trainable params: 0\n",
      "_________________________________________________________________\n",
      "Epoch 1/10\n",
      "1462/1462 [==============================] - 191s 130ms/step - loss: 0.4048 - accuracy: 0.8138 - val_loss: 0.3504 - val_accuracy: 0.8471\n",
      "Epoch 2/10\n",
      "1462/1462 [==============================] - 192s 131ms/step - loss: 0.3130 - accuracy: 0.8655 - val_loss: 0.3347 - val_accuracy: 0.8538\n",
      "Epoch 3/10\n",
      "1462/1462 [==============================] - 213s 146ms/step - loss: 0.2775 - accuracy: 0.8812 - val_loss: 0.3362 - val_accuracy: 0.8537\n",
      "Epoch 4/10\n",
      "1462/1462 [==============================] - 242s 165ms/step - loss: 0.2502 - accuracy: 0.8940 - val_loss: 0.3416 - val_accuracy: 0.8551\n",
      "Epoch 5/10\n",
      "1462/1462 [==============================] - 247s 169ms/step - loss: 0.2250 - accuracy: 0.9060 - val_loss: 0.3605 - val_accuracy: 0.8505\n"
     ]
    },
    {
     "name": "stdout",
     "output_type": "stream",
     "text": [
      "Epoch 6/10\n",
      "1462/1462 [==============================] - 229s 157ms/step - loss: 0.2027 - accuracy: 0.9162 - val_loss: 0.3706 - val_accuracy: 0.8497\n",
      "Epoch 00006: early stopping\n",
      "731/731 - 54s - loss: 0.3743 - accuracy: 0.8468\n",
      "[0.3742971420288086, 0.8468083143234253]\n"
     ]
    }
   ],
   "source": [
    "history_unigram_8k_dim_8 = performance_test_spm('naver_8k', vocab_size, word_vector_dim=8)\n",
    "history_unigram_8k_dim_16 = performance_test_spm('naver_8k', vocab_size, word_vector_dim=16)\n",
    "history_unigram_8k_dim_32 = performance_test_spm('naver_8k', vocab_size, word_vector_dim=32)\n",
    "history_unigram_8k_dim_64 = performance_test_spm('naver_8k', vocab_size, word_vector_dim=64)"
   ]
  },
  {
   "cell_type": "code",
   "execution_count": 65,
   "id": "01c8e613",
   "metadata": {},
   "outputs": [
    {
     "data": {
      "image/png": "[encoded data removed]",
      "text/plain": [
       "<Figure size 720x432 with 1 Axes>"
      ]
     },
     "metadata": {
      "needs_background": "light"
     },
     "output_type": "display_data"
    },
    {
     "data": {
      "image/png": "[encoded data removed]",
      "text/plain": [
       "<Figure size 720x432 with 1 Axes>"
      ]
     },
     "metadata": {
      "needs_background": "light"
     },
     "output_type": "display_data"
    }
   ],
   "source": [
    "visualize_train(history_unigram_8k_dim_8, param='unigram_8k_dim_8')"
   ]
  },
  {
   "cell_type": "code",
   "execution_count": 66,
   "id": "58708e37",
   "metadata": {},
   "outputs": [
    {
     "data": {
      "image/png": "[encoded data removed]",
      "text/plain": [
       "<Figure size 720x432 with 1 Axes>"
      ]
     },
     "metadata": {
      "needs_background": "light"
     },
     "output_type": "display_data"
    },
    {
     "data": {
      "image/png": "[encoded data removed]",
      "text/plain": [
       "<Figure size 720x432 with 1 Axes>"
      ]
     },
     "metadata": {
      "needs_background": "light"
     },
     "output_type": "display_data"
    }
   ],
   "source": [
    "visualize_train(history_unigram_8k_dim_16, param='unigram_8k_dim_16')"
   ]
  },
  {
   "cell_type": "code",
   "execution_count": 67,
   "id": "9fbe81c0",
   "metadata": {},
   "outputs": [
    {
     "data": {
      "image/png": "[encoded data removed]",
      "text/plain": [
       "<Figure size 720x432 with 1 Axes>"
      ]
     },
     "metadata": {
      "needs_background": "light"
     },
     "output_type": "display_data"
    },
    {
     "data": {
      "image/png": "[encoded data removed]",
      "text/plain": [
       "<Figure size 720x432 with 1 Axes>"
      ]
     },
     "metadata": {
      "needs_background": "light"
     },
     "output_type": "display_data"
    }
   ],
   "source": [
    "visualize_train(history_unigram_8k_dim_32, param='unigram_8k_dim_32')"
   ]
  },
  {
   "cell_type": "code",
   "execution_count": 68,
   "id": "c52e8ac1",
   "metadata": {},
   "outputs": [
    {
     "data": {
      "image/png": "[encoded data removed]",
      "text/plain": [
       "<Figure size 720x432 with 1 Axes>"
      ]
     },
     "metadata": {
      "needs_background": "light"
     },
     "output_type": "display_data"
    },
    {
     "data": {
      "image/png": "[encoded data removed]",
      "text/plain": [
       "<Figure size 720x432 with 1 Axes>"
      ]
     },
     "metadata": {
      "needs_background": "light"
     },
     "output_type": "display_data"
    }
   ],
   "source": [
    "visualize_train(history_unigram_8k_dim_64, param='unigram_8k_dim_64')"
   ]
  },
  {
   "cell_type": "code",
   "execution_count": 69,
   "id": "174b2148",
   "metadata": {},
   "outputs": [
    {
     "name": "stdout",
     "output_type": "stream",
     "text": [
      "Model: \"sequential_9\"\n",
      "_________________________________________________________________\n",
      "Layer (type)                 Output Shape              Param #   \n",
      "=================================================================\n",
      "embedding_9 (Embedding)      (None, None, 8)           64000     \n",
      "_________________________________________________________________\n",
      "lstm_9 (LSTM)                (None, 128)               70144     \n",
      "_________________________________________________________________\n",
      "dense_9 (Dense)              (None, 1)                 129       \n",
      "=================================================================\n",
      "Total params: 134,273\n",
      "Trainable params: 134,273\n",
      "Non-trainable params: 0\n",
      "_________________________________________________________________\n",
      "Epoch 1/10\n"
     ]
    },
    {
     "ename": "InvalidArgumentError",
     "evalue": " indices[0,86] = 15917 is not in [0, 8000)\n\t [[node sequential_9/embedding_9/embedding_lookup (defined at var/folders/1t/96g5fppx2dxbgy4b2xj6r3pr0000gn/T/ipykernel_97582/605901241.py:33) ]] [Op:__inference_train_function_364922]\n\nErrors may have originated from an input operation.\nInput Source operations connected to node sequential_9/embedding_9/embedding_lookup:\n sequential_9/embedding_9/embedding_lookup/363658 (defined at Users/sallyride/opt/anaconda3/lib/python3.8/contextlib.py:113)\n\nFunction call stack:\ntrain_function\n",
     "output_type": "error",
     "traceback": [
      "\u001b[0;31m---------------------------------------------------------------------------\u001b[0m",
      "\u001b[0;31mInvalidArgumentError\u001b[0m                      Traceback (most recent call last)",
      "Input \u001b[0;32mIn [69]\u001b[0m, in \u001b[0;36m<cell line: 1>\u001b[0;34m()\u001b[0m\n\u001b[0;32m----> 1\u001b[0m history_unigram_16k_dim_8 \u001b[38;5;241m=\u001b[39m \u001b[43mperformance_test_spm\u001b[49m\u001b[43m(\u001b[49m\u001b[38;5;124;43m'\u001b[39;49m\u001b[38;5;124;43mnaver_16k\u001b[39;49m\u001b[38;5;124;43m'\u001b[39;49m\u001b[43m,\u001b[49m\u001b[43m \u001b[49m\u001b[43mvocab_size\u001b[49m\u001b[43m,\u001b[49m\u001b[43m \u001b[49m\u001b[43mword_vector_dim\u001b[49m\u001b[38;5;241;43m=\u001b[39;49m\u001b[38;5;241;43m8\u001b[39;49m\u001b[43m)\u001b[49m\n\u001b[1;32m      2\u001b[0m history_unigram_16k_dim_16 \u001b[38;5;241m=\u001b[39m performance_test_spm(\u001b[38;5;124m'\u001b[39m\u001b[38;5;124mnaver_16k\u001b[39m\u001b[38;5;124m'\u001b[39m, vocab_size, word_vector_dim\u001b[38;5;241m=\u001b[39m\u001b[38;5;241m16\u001b[39m)\n\u001b[1;32m      3\u001b[0m history_unigram_16k_dim_32 \u001b[38;5;241m=\u001b[39m performance_test_spm(\u001b[38;5;124m'\u001b[39m\u001b[38;5;124mnaver_16k\u001b[39m\u001b[38;5;124m'\u001b[39m, vocab_size, word_vector_dim\u001b[38;5;241m=\u001b[39m\u001b[38;5;241m32\u001b[39m)\n",
      "Input \u001b[0;32mIn [56]\u001b[0m, in \u001b[0;36mperformance_test_spm\u001b[0;34m(spm_model, vocab_size, word_vector_dim)\u001b[0m\n\u001b[1;32m     27\u001b[0m cp \u001b[38;5;241m=\u001b[39m tf\u001b[38;5;241m.\u001b[39mkeras\u001b[38;5;241m.\u001b[39mcallbacks\u001b[38;5;241m.\u001b[39mModelCheckpoint(\u001b[38;5;124m'\u001b[39m\u001b[38;5;124mbest-lstm-model.h5\u001b[39m\u001b[38;5;124m'\u001b[39m, \n\u001b[1;32m     28\u001b[0m                                         save_best_only \u001b[38;5;241m=\u001b[39m \u001b[38;5;28;01mTrue\u001b[39;00m)\n\u001b[1;32m     30\u001b[0m es \u001b[38;5;241m=\u001b[39m tf\u001b[38;5;241m.\u001b[39mkeras\u001b[38;5;241m.\u001b[39mcallbacks\u001b[38;5;241m.\u001b[39mEarlyStopping(monitor \u001b[38;5;241m=\u001b[39m \u001b[38;5;124m'\u001b[39m\u001b[38;5;124mval_loss\u001b[39m\u001b[38;5;124m'\u001b[39m, mode \u001b[38;5;241m=\u001b[39m \u001b[38;5;124m'\u001b[39m\u001b[38;5;124mmin\u001b[39m\u001b[38;5;124m'\u001b[39m, \n\u001b[1;32m     31\u001b[0m                                       verbose \u001b[38;5;241m=\u001b[39m \u001b[38;5;241m1\u001b[39m, patience \u001b[38;5;241m=\u001b[39m \u001b[38;5;241m4\u001b[39m)\n\u001b[0;32m---> 33\u001b[0m history_LSTM \u001b[38;5;241m=\u001b[39m \u001b[43mmodel_LSTM\u001b[49m\u001b[38;5;241;43m.\u001b[39;49m\u001b[43mfit\u001b[49m\u001b[43m(\u001b[49m\u001b[43mx_train\u001b[49m\u001b[43m,\u001b[49m\u001b[43m \u001b[49m\u001b[43my_train\u001b[49m\u001b[43m,\u001b[49m\n\u001b[1;32m     34\u001b[0m \u001b[43m                  \u001b[49m\u001b[43mepochs\u001b[49m\u001b[43m \u001b[49m\u001b[38;5;241;43m=\u001b[39;49m\u001b[43m \u001b[49m\u001b[43mepochs\u001b[49m\u001b[43m,\u001b[49m\n\u001b[1;32m     35\u001b[0m \u001b[43m                  \u001b[49m\u001b[43mbatch_size\u001b[49m\u001b[43m \u001b[49m\u001b[38;5;241;43m=\u001b[39;49m\u001b[43m \u001b[49m\u001b[43mbatch_size\u001b[49m\u001b[43m,\u001b[49m\n\u001b[1;32m     36\u001b[0m \u001b[43m                  \u001b[49m\u001b[43mvalidation_data\u001b[49m\u001b[43m \u001b[49m\u001b[38;5;241;43m=\u001b[39;49m\u001b[43m \u001b[49m\u001b[43m(\u001b[49m\u001b[43mx_val\u001b[49m\u001b[43m,\u001b[49m\u001b[43m \u001b[49m\u001b[43my_val\u001b[49m\u001b[43m)\u001b[49m\u001b[43m,\u001b[49m\n\u001b[1;32m     37\u001b[0m \u001b[43m                  \u001b[49m\u001b[43mcallbacks\u001b[49m\u001b[43m \u001b[49m\u001b[38;5;241;43m=\u001b[39;49m\u001b[43m \u001b[49m\u001b[43m[\u001b[49m\u001b[43mcp\u001b[49m\u001b[43m,\u001b[49m\u001b[43m \u001b[49m\u001b[43mes\u001b[49m\u001b[43m]\u001b[49m\u001b[43m,\u001b[49m\n\u001b[1;32m     38\u001b[0m \u001b[43m                  \u001b[49m\u001b[43mverbose\u001b[49m\u001b[43m \u001b[49m\u001b[38;5;241;43m=\u001b[39;49m\u001b[43m \u001b[49m\u001b[38;5;241;43m1\u001b[39;49m\u001b[43m)\u001b[49m\n\u001b[1;32m     39\u001b[0m results \u001b[38;5;241m=\u001b[39m model_LSTM\u001b[38;5;241m.\u001b[39mevaluate(x_test, y_test, verbose \u001b[38;5;241m=\u001b[39m \u001b[38;5;241m2\u001b[39m)\n\u001b[1;32m     40\u001b[0m \u001b[38;5;28mprint\u001b[39m(results)\n",
      "File \u001b[0;32m~/opt/anaconda3/lib/python3.8/site-packages/tensorflow/python/keras/engine/training.py:1193\u001b[0m, in \u001b[0;36mModel.fit\u001b[0;34m(self, x, y, batch_size, epochs, verbose, callbacks, validation_split, validation_data, shuffle, class_weight, sample_weight, initial_epoch, steps_per_epoch, validation_steps, validation_batch_size, validation_freq, max_queue_size, workers, use_multiprocessing)\u001b[0m\n\u001b[1;32m   1186\u001b[0m \u001b[38;5;28;01mwith\u001b[39;00m trace\u001b[38;5;241m.\u001b[39mTrace(\n\u001b[1;32m   1187\u001b[0m     \u001b[38;5;124m'\u001b[39m\u001b[38;5;124mtrain\u001b[39m\u001b[38;5;124m'\u001b[39m,\n\u001b[1;32m   1188\u001b[0m     epoch_num\u001b[38;5;241m=\u001b[39mepoch,\n\u001b[1;32m   1189\u001b[0m     step_num\u001b[38;5;241m=\u001b[39mstep,\n\u001b[1;32m   1190\u001b[0m     batch_size\u001b[38;5;241m=\u001b[39mbatch_size,\n\u001b[1;32m   1191\u001b[0m     _r\u001b[38;5;241m=\u001b[39m\u001b[38;5;241m1\u001b[39m):\n\u001b[1;32m   1192\u001b[0m   callbacks\u001b[38;5;241m.\u001b[39mon_train_batch_begin(step)\n\u001b[0;32m-> 1193\u001b[0m   tmp_logs \u001b[38;5;241m=\u001b[39m \u001b[38;5;28;43mself\u001b[39;49m\u001b[38;5;241;43m.\u001b[39;49m\u001b[43mtrain_function\u001b[49m\u001b[43m(\u001b[49m\u001b[43miterator\u001b[49m\u001b[43m)\u001b[49m\n\u001b[1;32m   1194\u001b[0m   \u001b[38;5;28;01mif\u001b[39;00m data_handler\u001b[38;5;241m.\u001b[39mshould_sync:\n\u001b[1;32m   1195\u001b[0m     context\u001b[38;5;241m.\u001b[39masync_wait()\n",
      "File \u001b[0;32m~/opt/anaconda3/lib/python3.8/site-packages/tensorflow/python/eager/def_function.py:885\u001b[0m, in \u001b[0;36mFunction.__call__\u001b[0;34m(self, *args, **kwds)\u001b[0m\n\u001b[1;32m    882\u001b[0m compiler \u001b[38;5;241m=\u001b[39m \u001b[38;5;124m\"\u001b[39m\u001b[38;5;124mxla\u001b[39m\u001b[38;5;124m\"\u001b[39m \u001b[38;5;28;01mif\u001b[39;00m \u001b[38;5;28mself\u001b[39m\u001b[38;5;241m.\u001b[39m_jit_compile \u001b[38;5;28;01melse\u001b[39;00m \u001b[38;5;124m\"\u001b[39m\u001b[38;5;124mnonXla\u001b[39m\u001b[38;5;124m\"\u001b[39m\n\u001b[1;32m    884\u001b[0m \u001b[38;5;28;01mwith\u001b[39;00m OptionalXlaContext(\u001b[38;5;28mself\u001b[39m\u001b[38;5;241m.\u001b[39m_jit_compile):\n\u001b[0;32m--> 885\u001b[0m   result \u001b[38;5;241m=\u001b[39m \u001b[38;5;28;43mself\u001b[39;49m\u001b[38;5;241;43m.\u001b[39;49m\u001b[43m_call\u001b[49m\u001b[43m(\u001b[49m\u001b[38;5;241;43m*\u001b[39;49m\u001b[43margs\u001b[49m\u001b[43m,\u001b[49m\u001b[43m \u001b[49m\u001b[38;5;241;43m*\u001b[39;49m\u001b[38;5;241;43m*\u001b[39;49m\u001b[43mkwds\u001b[49m\u001b[43m)\u001b[49m\n\u001b[1;32m    887\u001b[0m new_tracing_count \u001b[38;5;241m=\u001b[39m \u001b[38;5;28mself\u001b[39m\u001b[38;5;241m.\u001b[39mexperimental_get_tracing_count()\n\u001b[1;32m    888\u001b[0m without_tracing \u001b[38;5;241m=\u001b[39m (tracing_count \u001b[38;5;241m==\u001b[39m new_tracing_count)\n",
      "File \u001b[0;32m~/opt/anaconda3/lib/python3.8/site-packages/tensorflow/python/eager/def_function.py:950\u001b[0m, in \u001b[0;36mFunction._call\u001b[0;34m(self, *args, **kwds)\u001b[0m\n\u001b[1;32m    946\u001b[0m     \u001b[38;5;28;01mpass\u001b[39;00m  \u001b[38;5;66;03m# Fall through to cond-based initialization.\u001b[39;00m\n\u001b[1;32m    947\u001b[0m   \u001b[38;5;28;01melse\u001b[39;00m:\n\u001b[1;32m    948\u001b[0m     \u001b[38;5;66;03m# Lifting succeeded, so variables are initialized and we can run the\u001b[39;00m\n\u001b[1;32m    949\u001b[0m     \u001b[38;5;66;03m# stateless function.\u001b[39;00m\n\u001b[0;32m--> 950\u001b[0m     \u001b[38;5;28;01mreturn\u001b[39;00m \u001b[38;5;28;43mself\u001b[39;49m\u001b[38;5;241;43m.\u001b[39;49m\u001b[43m_stateless_fn\u001b[49m\u001b[43m(\u001b[49m\u001b[38;5;241;43m*\u001b[39;49m\u001b[43margs\u001b[49m\u001b[43m,\u001b[49m\u001b[43m \u001b[49m\u001b[38;5;241;43m*\u001b[39;49m\u001b[38;5;241;43m*\u001b[39;49m\u001b[43mkwds\u001b[49m\u001b[43m)\u001b[49m\n\u001b[1;32m    951\u001b[0m \u001b[38;5;28;01melse\u001b[39;00m:\n\u001b[1;32m    952\u001b[0m   _, _, _, filtered_flat_args \u001b[38;5;241m=\u001b[39m \\\n\u001b[1;32m    953\u001b[0m       \u001b[38;5;28mself\u001b[39m\u001b[38;5;241m.\u001b[39m_stateful_fn\u001b[38;5;241m.\u001b[39m_function_spec\u001b[38;5;241m.\u001b[39mcanonicalize_function_inputs(  \u001b[38;5;66;03m# pylint: disable=protected-access\u001b[39;00m\n\u001b[1;32m    954\u001b[0m           \u001b[38;5;241m*\u001b[39margs, \u001b[38;5;241m*\u001b[39m\u001b[38;5;241m*\u001b[39mkwds)\n",
      "File \u001b[0;32m~/opt/anaconda3/lib/python3.8/site-packages/tensorflow/python/eager/function.py:3039\u001b[0m, in \u001b[0;36mFunction.__call__\u001b[0;34m(self, *args, **kwargs)\u001b[0m\n\u001b[1;32m   3036\u001b[0m \u001b[38;5;28;01mwith\u001b[39;00m \u001b[38;5;28mself\u001b[39m\u001b[38;5;241m.\u001b[39m_lock:\n\u001b[1;32m   3037\u001b[0m   (graph_function,\n\u001b[1;32m   3038\u001b[0m    filtered_flat_args) \u001b[38;5;241m=\u001b[39m \u001b[38;5;28mself\u001b[39m\u001b[38;5;241m.\u001b[39m_maybe_define_function(args, kwargs)\n\u001b[0;32m-> 3039\u001b[0m \u001b[38;5;28;01mreturn\u001b[39;00m \u001b[43mgraph_function\u001b[49m\u001b[38;5;241;43m.\u001b[39;49m\u001b[43m_call_flat\u001b[49m\u001b[43m(\u001b[49m\n\u001b[1;32m   3040\u001b[0m \u001b[43m    \u001b[49m\u001b[43mfiltered_flat_args\u001b[49m\u001b[43m,\u001b[49m\u001b[43m \u001b[49m\u001b[43mcaptured_inputs\u001b[49m\u001b[38;5;241;43m=\u001b[39;49m\u001b[43mgraph_function\u001b[49m\u001b[38;5;241;43m.\u001b[39;49m\u001b[43mcaptured_inputs\u001b[49m\u001b[43m)\u001b[49m\n",
      "File \u001b[0;32m~/opt/anaconda3/lib/python3.8/site-packages/tensorflow/python/eager/function.py:1963\u001b[0m, in \u001b[0;36mConcreteFunction._call_flat\u001b[0;34m(self, args, captured_inputs, cancellation_manager)\u001b[0m\n\u001b[1;32m   1959\u001b[0m possible_gradient_type \u001b[38;5;241m=\u001b[39m gradients_util\u001b[38;5;241m.\u001b[39mPossibleTapeGradientTypes(args)\n\u001b[1;32m   1960\u001b[0m \u001b[38;5;28;01mif\u001b[39;00m (possible_gradient_type \u001b[38;5;241m==\u001b[39m gradients_util\u001b[38;5;241m.\u001b[39mPOSSIBLE_GRADIENT_TYPES_NONE\n\u001b[1;32m   1961\u001b[0m     \u001b[38;5;129;01mand\u001b[39;00m executing_eagerly):\n\u001b[1;32m   1962\u001b[0m   \u001b[38;5;66;03m# No tape is watching; skip to running the function.\u001b[39;00m\n\u001b[0;32m-> 1963\u001b[0m   \u001b[38;5;28;01mreturn\u001b[39;00m \u001b[38;5;28mself\u001b[39m\u001b[38;5;241m.\u001b[39m_build_call_outputs(\u001b[38;5;28;43mself\u001b[39;49m\u001b[38;5;241;43m.\u001b[39;49m\u001b[43m_inference_function\u001b[49m\u001b[38;5;241;43m.\u001b[39;49m\u001b[43mcall\u001b[49m\u001b[43m(\u001b[49m\n\u001b[1;32m   1964\u001b[0m \u001b[43m      \u001b[49m\u001b[43mctx\u001b[49m\u001b[43m,\u001b[49m\u001b[43m \u001b[49m\u001b[43margs\u001b[49m\u001b[43m,\u001b[49m\u001b[43m \u001b[49m\u001b[43mcancellation_manager\u001b[49m\u001b[38;5;241;43m=\u001b[39;49m\u001b[43mcancellation_manager\u001b[49m\u001b[43m)\u001b[49m)\n\u001b[1;32m   1965\u001b[0m forward_backward \u001b[38;5;241m=\u001b[39m \u001b[38;5;28mself\u001b[39m\u001b[38;5;241m.\u001b[39m_select_forward_and_backward_functions(\n\u001b[1;32m   1966\u001b[0m     args,\n\u001b[1;32m   1967\u001b[0m     possible_gradient_type,\n\u001b[1;32m   1968\u001b[0m     executing_eagerly)\n\u001b[1;32m   1969\u001b[0m forward_function, args_with_tangents \u001b[38;5;241m=\u001b[39m forward_backward\u001b[38;5;241m.\u001b[39mforward()\n",
      "File \u001b[0;32m~/opt/anaconda3/lib/python3.8/site-packages/tensorflow/python/eager/function.py:591\u001b[0m, in \u001b[0;36m_EagerDefinedFunction.call\u001b[0;34m(self, ctx, args, cancellation_manager)\u001b[0m\n\u001b[1;32m    589\u001b[0m \u001b[38;5;28;01mwith\u001b[39;00m _InterpolateFunctionError(\u001b[38;5;28mself\u001b[39m):\n\u001b[1;32m    590\u001b[0m   \u001b[38;5;28;01mif\u001b[39;00m cancellation_manager \u001b[38;5;129;01mis\u001b[39;00m \u001b[38;5;28;01mNone\u001b[39;00m:\n\u001b[0;32m--> 591\u001b[0m     outputs \u001b[38;5;241m=\u001b[39m \u001b[43mexecute\u001b[49m\u001b[38;5;241;43m.\u001b[39;49m\u001b[43mexecute\u001b[49m\u001b[43m(\u001b[49m\n\u001b[1;32m    592\u001b[0m \u001b[43m        \u001b[49m\u001b[38;5;28;43mstr\u001b[39;49m\u001b[43m(\u001b[49m\u001b[38;5;28;43mself\u001b[39;49m\u001b[38;5;241;43m.\u001b[39;49m\u001b[43msignature\u001b[49m\u001b[38;5;241;43m.\u001b[39;49m\u001b[43mname\u001b[49m\u001b[43m)\u001b[49m\u001b[43m,\u001b[49m\n\u001b[1;32m    593\u001b[0m \u001b[43m        \u001b[49m\u001b[43mnum_outputs\u001b[49m\u001b[38;5;241;43m=\u001b[39;49m\u001b[38;5;28;43mself\u001b[39;49m\u001b[38;5;241;43m.\u001b[39;49m\u001b[43m_num_outputs\u001b[49m\u001b[43m,\u001b[49m\n\u001b[1;32m    594\u001b[0m \u001b[43m        \u001b[49m\u001b[43minputs\u001b[49m\u001b[38;5;241;43m=\u001b[39;49m\u001b[43margs\u001b[49m\u001b[43m,\u001b[49m\n\u001b[1;32m    595\u001b[0m \u001b[43m        \u001b[49m\u001b[43mattrs\u001b[49m\u001b[38;5;241;43m=\u001b[39;49m\u001b[43mattrs\u001b[49m\u001b[43m,\u001b[49m\n\u001b[1;32m    596\u001b[0m \u001b[43m        \u001b[49m\u001b[43mctx\u001b[49m\u001b[38;5;241;43m=\u001b[39;49m\u001b[43mctx\u001b[49m\u001b[43m)\u001b[49m\n\u001b[1;32m    597\u001b[0m   \u001b[38;5;28;01melse\u001b[39;00m:\n\u001b[1;32m    598\u001b[0m     outputs \u001b[38;5;241m=\u001b[39m execute\u001b[38;5;241m.\u001b[39mexecute_with_cancellation(\n\u001b[1;32m    599\u001b[0m         \u001b[38;5;28mstr\u001b[39m(\u001b[38;5;28mself\u001b[39m\u001b[38;5;241m.\u001b[39msignature\u001b[38;5;241m.\u001b[39mname),\n\u001b[1;32m    600\u001b[0m         num_outputs\u001b[38;5;241m=\u001b[39m\u001b[38;5;28mself\u001b[39m\u001b[38;5;241m.\u001b[39m_num_outputs,\n\u001b[0;32m   (...)\u001b[0m\n\u001b[1;32m    603\u001b[0m         ctx\u001b[38;5;241m=\u001b[39mctx,\n\u001b[1;32m    604\u001b[0m         cancellation_manager\u001b[38;5;241m=\u001b[39mcancellation_manager)\n",
      "File \u001b[0;32m~/opt/anaconda3/lib/python3.8/site-packages/tensorflow/python/eager/execute.py:59\u001b[0m, in \u001b[0;36mquick_execute\u001b[0;34m(op_name, num_outputs, inputs, attrs, ctx, name)\u001b[0m\n\u001b[1;32m     57\u001b[0m \u001b[38;5;28;01mtry\u001b[39;00m:\n\u001b[1;32m     58\u001b[0m   ctx\u001b[38;5;241m.\u001b[39mensure_initialized()\n\u001b[0;32m---> 59\u001b[0m   tensors \u001b[38;5;241m=\u001b[39m \u001b[43mpywrap_tfe\u001b[49m\u001b[38;5;241;43m.\u001b[39;49m\u001b[43mTFE_Py_Execute\u001b[49m\u001b[43m(\u001b[49m\u001b[43mctx\u001b[49m\u001b[38;5;241;43m.\u001b[39;49m\u001b[43m_handle\u001b[49m\u001b[43m,\u001b[49m\u001b[43m \u001b[49m\u001b[43mdevice_name\u001b[49m\u001b[43m,\u001b[49m\u001b[43m \u001b[49m\u001b[43mop_name\u001b[49m\u001b[43m,\u001b[49m\n\u001b[1;32m     60\u001b[0m \u001b[43m                                      \u001b[49m\u001b[43minputs\u001b[49m\u001b[43m,\u001b[49m\u001b[43m \u001b[49m\u001b[43mattrs\u001b[49m\u001b[43m,\u001b[49m\u001b[43m \u001b[49m\u001b[43mnum_outputs\u001b[49m\u001b[43m)\u001b[49m\n\u001b[1;32m     61\u001b[0m \u001b[38;5;28;01mexcept\u001b[39;00m core\u001b[38;5;241m.\u001b[39m_NotOkStatusException \u001b[38;5;28;01mas\u001b[39;00m e:\n\u001b[1;32m     62\u001b[0m   \u001b[38;5;28;01mif\u001b[39;00m name \u001b[38;5;129;01mis\u001b[39;00m \u001b[38;5;129;01mnot\u001b[39;00m \u001b[38;5;28;01mNone\u001b[39;00m:\n",
      "\u001b[0;31mInvalidArgumentError\u001b[0m:  indices[0,86] = 15917 is not in [0, 8000)\n\t [[node sequential_9/embedding_9/embedding_lookup (defined at var/folders/1t/96g5fppx2dxbgy4b2xj6r3pr0000gn/T/ipykernel_97582/605901241.py:33) ]] [Op:__inference_train_function_364922]\n\nErrors may have originated from an input operation.\nInput Source operations connected to node sequential_9/embedding_9/embedding_lookup:\n sequential_9/embedding_9/embedding_lookup/363658 (defined at Users/sallyride/opt/anaconda3/lib/python3.8/contextlib.py:113)\n\nFunction call stack:\ntrain_function\n"
     ]
    }
   ],
   "source": [
    "history_unigram_16k_dim_8 = performance_test_spm('naver_16k', vocab_size, word_vector_dim=8)\n",
    "history_unigram_16k_dim_16 = performance_test_spm('naver_16k', vocab_size, word_vector_dim=16)\n",
    "history_unigram_16k_dim_32 = performance_test_spm('naver_16k', vocab_size, word_vector_dim=32)\n",
    "history_unigram_16k_dim_64 = performance_test_spm('naver_16k', vocab_size, word_vector_dim=64)"
   ]
  },
  {
   "cell_type": "code",
   "execution_count": 70,
   "id": "281627f3",
   "metadata": {},
   "outputs": [
    {
     "name": "stdout",
     "output_type": "stream",
     "text": [
      "Model: \"sequential_10\"\n",
      "_________________________________________________________________\n",
      "Layer (type)                 Output Shape              Param #   \n",
      "=================================================================\n",
      "embedding_10 (Embedding)     (None, None, 8)           64000     \n",
      "_________________________________________________________________\n",
      "lstm_10 (LSTM)               (None, 128)               70144     \n",
      "_________________________________________________________________\n",
      "dense_10 (Dense)             (None, 1)                 129       \n",
      "=================================================================\n",
      "Total params: 134,273\n",
      "Trainable params: 134,273\n",
      "Non-trainable params: 0\n",
      "_________________________________________________________________\n",
      "Epoch 1/10\n",
      "1462/1462 [==============================] - 142s 96ms/step - loss: 0.4492 - accuracy: 0.7883 - val_loss: 0.3719 - val_accuracy: 0.8378\n",
      "Epoch 2/10\n",
      "1462/1462 [==============================] - 136s 93ms/step - loss: 0.3682 - accuracy: 0.8383 - val_loss: 0.3690 - val_accuracy: 0.8376\n",
      "Epoch 3/10\n",
      "1462/1462 [==============================] - 135s 92ms/step - loss: 0.3581 - accuracy: 0.8425 - val_loss: 0.3620 - val_accuracy: 0.8409\n",
      "Epoch 4/10\n",
      "1462/1462 [==============================] - 138s 95ms/step - loss: 0.3479 - accuracy: 0.8483 - val_loss: 0.3605 - val_accuracy: 0.8399\n",
      "Epoch 5/10\n",
      "1462/1462 [==============================] - 140s 96ms/step - loss: 0.3364 - accuracy: 0.8536 - val_loss: 0.3475 - val_accuracy: 0.8476\n",
      "Epoch 6/10\n",
      "1462/1462 [==============================] - 148s 101ms/step - loss: 0.3275 - accuracy: 0.8560 - val_loss: 0.3454 - val_accuracy: 0.8485\n",
      "Epoch 7/10\n",
      "1462/1462 [==============================] - 144s 98ms/step - loss: 0.3200 - accuracy: 0.8609 - val_loss: 0.3475 - val_accuracy: 0.8482\n",
      "Epoch 8/10\n",
      "1462/1462 [==============================] - 157s 108ms/step - loss: 0.3135 - accuracy: 0.8625 - val_loss: 0.3465 - val_accuracy: 0.8493\n",
      "Epoch 9/10\n",
      "1462/1462 [==============================] - 200s 137ms/step - loss: 0.3086 - accuracy: 0.8660 - val_loss: 0.3436 - val_accuracy: 0.8486\n",
      "Epoch 10/10\n",
      "1462/1462 [==============================] - 192s 131ms/step - loss: 0.3044 - accuracy: 0.8679 - val_loss: 0.3412 - val_accuracy: 0.8489\n",
      "731/731 - 57s - loss: 0.3482 - accuracy: 0.8455\n",
      "[0.34820136427879333, 0.8454829454421997]\n",
      "Model: \"sequential_11\"\n",
      "_________________________________________________________________\n",
      "Layer (type)                 Output Shape              Param #   \n",
      "=================================================================\n",
      "embedding_11 (Embedding)     (None, None, 16)          128000    \n",
      "_________________________________________________________________\n",
      "lstm_11 (LSTM)               (None, 128)               74240     \n",
      "_________________________________________________________________\n",
      "dense_11 (Dense)             (None, 1)                 129       \n",
      "=================================================================\n",
      "Total params: 202,369\n",
      "Trainable params: 202,369\n",
      "Non-trainable params: 0\n",
      "_________________________________________________________________\n",
      "Epoch 1/10\n",
      "1462/1462 [==============================] - 158s 107ms/step - loss: 0.4289 - accuracy: 0.7986 - val_loss: 0.4084 - val_accuracy: 0.8181\n",
      "Epoch 2/10\n",
      "1462/1462 [==============================] - 126s 86ms/step - loss: 0.3632 - accuracy: 0.8407 - val_loss: 0.3650 - val_accuracy: 0.8401\n",
      "Epoch 3/10\n",
      "1462/1462 [==============================] - 119s 81ms/step - loss: 0.3491 - accuracy: 0.8467 - val_loss: 0.3622 - val_accuracy: 0.8391\n",
      "Epoch 4/10\n",
      "1462/1462 [==============================] - 139s 95ms/step - loss: 0.3326 - accuracy: 0.8545 - val_loss: 0.3462 - val_accuracy: 0.8468\n",
      "Epoch 5/10\n",
      "1462/1462 [==============================] - 119s 81ms/step - loss: 0.3173 - accuracy: 0.8620 - val_loss: 0.3372 - val_accuracy: 0.8502\n",
      "Epoch 6/10\n",
      "1462/1462 [==============================] - 115s 79ms/step - loss: 0.3061 - accuracy: 0.8671 - val_loss: 0.3354 - val_accuracy: 0.8515\n",
      "Epoch 7/10\n",
      "1462/1462 [==============================] - 109s 75ms/step - loss: 0.2959 - accuracy: 0.8711 - val_loss: 0.3337 - val_accuracy: 0.8530\n",
      "Epoch 8/10\n",
      "1462/1462 [==============================] - 92s 63ms/step - loss: 0.2860 - accuracy: 0.8771 - val_loss: 0.3394 - val_accuracy: 0.8511\n",
      "Epoch 9/10\n",
      "1462/1462 [==============================] - 128s 87ms/step - loss: 0.2791 - accuracy: 0.8793 - val_loss: 0.3376 - val_accuracy: 0.8534\n",
      "Epoch 10/10\n",
      "1462/1462 [==============================] - 130s 89ms/step - loss: 0.2727 - accuracy: 0.8829 - val_loss: 0.3339 - val_accuracy: 0.8528\n",
      "731/731 - 29s - loss: 0.3453 - accuracy: 0.8493\n",
      "[0.345304399728775, 0.8492881059646606]\n",
      "Model: \"sequential_12\"\n",
      "_________________________________________________________________\n",
      "Layer (type)                 Output Shape              Param #   \n",
      "=================================================================\n",
      "embedding_12 (Embedding)     (None, None, 32)          256000    \n",
      "_________________________________________________________________\n",
      "lstm_12 (LSTM)               (None, 128)               82432     \n",
      "_________________________________________________________________\n",
      "dense_12 (Dense)             (None, 1)                 129       \n",
      "=================================================================\n",
      "Total params: 338,561\n",
      "Trainable params: 338,561\n",
      "Non-trainable params: 0\n",
      "_________________________________________________________________\n",
      "Epoch 1/10\n",
      "1462/1462 [==============================] - 80s 54ms/step - loss: 0.4212 - accuracy: 0.8034 - val_loss: 0.3803 - val_accuracy: 0.8308\n",
      "Epoch 2/10\n",
      "1462/1462 [==============================] - 79s 54ms/step - loss: 0.3534 - accuracy: 0.8452 - val_loss: 0.3555 - val_accuracy: 0.8436\n",
      "Epoch 3/10\n",
      "1462/1462 [==============================] - 89s 61ms/step - loss: 0.3287 - accuracy: 0.8567 - val_loss: 0.3445 - val_accuracy: 0.8457\n",
      "Epoch 4/10\n",
      "1462/1462 [==============================] - 98s 67ms/step - loss: 0.3087 - accuracy: 0.8662 - val_loss: 0.3351 - val_accuracy: 0.8515\n",
      "Epoch 5/10\n",
      "1462/1462 [==============================] - 91s 62ms/step - loss: 0.2932 - accuracy: 0.8725 - val_loss: 0.3466 - val_accuracy: 0.8522\n",
      "Epoch 6/10\n",
      "1462/1462 [==============================] - 90s 61ms/step - loss: 0.2806 - accuracy: 0.8792 - val_loss: 0.3406 - val_accuracy: 0.8520\n",
      "Epoch 7/10\n",
      "1462/1462 [==============================] - 93s 64ms/step - loss: 0.2686 - accuracy: 0.8853 - val_loss: 0.3380 - val_accuracy: 0.8527\n",
      "Epoch 8/10\n",
      "1462/1462 [==============================] - 91s 62ms/step - loss: 0.2574 - accuracy: 0.8909 - val_loss: 0.3449 - val_accuracy: 0.8541\n",
      "Epoch 00008: early stopping\n",
      "731/731 - 10s - loss: 0.3570 - accuracy: 0.8492\n",
      "[0.35702961683273315, 0.8492453694343567]\n",
      "Model: \"sequential_13\"\n",
      "_________________________________________________________________\n",
      "Layer (type)                 Output Shape              Param #   \n",
      "=================================================================\n",
      "embedding_13 (Embedding)     (None, None, 64)          512000    \n",
      "_________________________________________________________________\n",
      "lstm_13 (LSTM)               (None, 128)               98816     \n",
      "_________________________________________________________________\n",
      "dense_13 (Dense)             (None, 1)                 129       \n",
      "=================================================================\n",
      "Total params: 610,945\n",
      "Trainable params: 610,945\n",
      "Non-trainable params: 0\n",
      "_________________________________________________________________\n",
      "Epoch 1/10\n",
      "1462/1462 [==============================] - 130s 88ms/step - loss: 0.4171 - accuracy: 0.8096 - val_loss: 0.3652 - val_accuracy: 0.8401\n",
      "Epoch 2/10\n",
      "1462/1462 [==============================] - 117s 80ms/step - loss: 0.3416 - accuracy: 0.8499 - val_loss: 0.3460 - val_accuracy: 0.8459\n",
      "Epoch 3/10\n",
      "1462/1462 [==============================] - 136s 93ms/step - loss: 0.3142 - accuracy: 0.8620 - val_loss: 0.3361 - val_accuracy: 0.8506\n",
      "Epoch 4/10\n",
      "1462/1462 [==============================] - 122s 83ms/step - loss: 0.2925 - accuracy: 0.8726 - val_loss: 0.3378 - val_accuracy: 0.8514\n",
      "Epoch 5/10\n",
      "1462/1462 [==============================] - 123s 84ms/step - loss: 0.2752 - accuracy: 0.8817 - val_loss: 0.3430 - val_accuracy: 0.8503\n",
      "Epoch 6/10\n",
      "1462/1462 [==============================] - 131s 90ms/step - loss: 0.2602 - accuracy: 0.8890 - val_loss: 0.3455 - val_accuracy: 0.8534\n",
      "Epoch 7/10\n",
      "1462/1462 [==============================] - 146s 100ms/step - loss: 0.2460 - accuracy: 0.8972 - val_loss: 0.3473 - val_accuracy: 0.8518\n",
      "Epoch 00007: early stopping\n",
      "731/731 - 10s - loss: 0.3618 - accuracy: 0.8466\n",
      "[0.3618427813053131, 0.846551775932312]\n"
     ]
    }
   ],
   "source": [
    "history_bpe_4k_dim_8 = performance_test_spm('naver_bpe_4k', vocab_size, word_vector_dim=8)\n",
    "history_bpe_4k_dim_16 = performance_test_spm('naver_bpe_4k', vocab_size, word_vector_dim=16)\n",
    "history_bpe_4k_dim_32 = performance_test_spm('naver_bpe_4k', vocab_size, word_vector_dim=32)\n",
    "history_bpe_4k_dim_64 = performance_test_spm('naver_bpe_4k', vocab_size, word_vector_dim=64)"
   ]
  },
  {
   "cell_type": "code",
   "execution_count": 71,
   "id": "96140e69",
   "metadata": {},
   "outputs": [
    {
     "data": {
      "image/png": "[encoded data removed]",
      "text/plain": [
       "<Figure size 720x432 with 1 Axes>"
      ]
     },
     "metadata": {
      "needs_background": "light"
     },
     "output_type": "display_data"
    },
    {
     "data": {
      "image/png": "[encoded data removed]",
      "text/plain": [
       "<Figure size 720x432 with 1 Axes>"
      ]
     },
     "metadata": {
      "needs_background": "light"
     },
     "output_type": "display_data"
    }
   ],
   "source": [
    "visualize_train(history_bpe_4k_dim_8, param='bpe_4k_dim_8')"
   ]
  },
  {
   "cell_type": "code",
   "execution_count": 72,
   "id": "4fbb7ef7",
   "metadata": {},
   "outputs": [
    {
     "data": {
      "image/png": "[encoded data removed]",
      "text/plain": [
       "<Figure size 720x432 with 1 Axes>"
      ]
     },
     "metadata": {
      "needs_background": "light"
     },
     "output_type": "display_data"
    },
    {
     "data": {
      "image/png": "[encoded data removed]",
      "text/plain": [
       "<Figure size 720x432 with 1 Axes>"
      ]
     },
     "metadata": {
      "needs_background": "light"
     },
     "output_type": "display_data"
    }
   ],
   "source": [
    "visualize_train(history_bpe_4k_dim_16, param='bpe_4k_dim_16')"
   ]
  },
  {
   "cell_type": "code",
   "execution_count": 73,
   "id": "49effd99",
   "metadata": {},
   "outputs": [
    {
     "data": {
      "image/png": "[encoded data removed]",
      "text/plain": [
       "<Figure size 720x432 with 1 Axes>"
      ]
     },
     "metadata": {
      "needs_background": "light"
     },
     "output_type": "display_data"
    },
    {
     "data": {
      "image/png": "[encoded data removed]",
      "text/plain": [
       "<Figure size 720x432 with 1 Axes>"
      ]
     },
     "metadata": {
      "needs_background": "light"
     },
     "output_type": "display_data"
    }
   ],
   "source": [
    "visualize_train(history_bpe_4k_dim_32, param='bpe_4k_dim_32')"
   ]
  },
  {
   "cell_type": "code",
   "execution_count": 74,
   "id": "bde55175",
   "metadata": {},
   "outputs": [
    {
     "data": {
      "image/png": "[encoded data removed]",
      "text/plain": [
       "<Figure size 720x432 with 1 Axes>"
      ]
     },
     "metadata": {
      "needs_background": "light"
     },
     "output_type": "display_data"
    },
    {
     "data": {
      "image/png": "[encoded data removed]",
      "text/plain": [
       "<Figure size 720x432 with 1 Axes>"
      ]
     },
     "metadata": {
      "needs_background": "light"
     },
     "output_type": "display_data"
    }
   ],
   "source": [
    "visualize_train(history_bpe_4k_dim_64, param='bpe_4k_dim_64')"
   ]
  },
  {
   "cell_type": "markdown",
   "id": "5725d11d",
   "metadata": {},
   "source": [
    "-----\n",
    "\n",
    "## 6. 마치며\n",
    "첫 고잉디퍼 프로젝트를 수행하는데 시작부터 오류 때문에 순조롭지 못했던 과정들이었다. 할 말이 많으니 순차적으로 정리를 해 보도록 하자.\n",
    "* `Colab`의 `GPU` 환경에서 모델 학습 시 `Fail to find the dnn implementation.` 오류 발생\n",
    "  <img src=\"https://i.ibb.co/3Y5whXp/2022-03-20-02-24-58.png\"><br>\n",
    "  * `Colab`에서 실습을 할 시에는 `GPU`로 환경을 먼저 설정하고 실습을 하는 것이 좋은데, 이는 모델 학습 및 테스트 시 속도의 차이가 나기 때문이다. 이에 따라서 `GPU`로 환경을 설정하고 모델을 학습시키는 과정에서 위와 같은 오류가 생겼고 아래와 같이 두 가지 방법을 시도했으나 실패했다.<br>\n",
    "    1. 모델의 코드 구조 변경<br>\n",
    "       - `GPU`를 사용할 때 그 환경에 맞는 코드가 따로 있는 것을 확인하였다.<br>\n",
    "       - 아래 링크를 참고하여 코드를 수정하였으나, 역시 오류가 해결되지 않았음<br>\n",
    "         - [구글 코랩(colab) GPU 딥러닝 케라스(keras) 돌리기](https://m.blog.naver.com/demian7607/222043724449)<br>\n",
    "         - [keras LSTM Fail to find the dnn implementation #36508](https://github.com/tensorflow/tensorflow/issues/36508)<br>\n",
    "    2. CUDA 재설치 및 환경 설정<br>\n",
    "       - 근본적인 원인을 찾아보니 `CUDA`, `Tensorflow`, `cuDNN`, `NVIDIA` 버전이 서로 맞지 않거나, 메모리가 부족해서 생기는 문제라고 한다.<br>\n",
    "       - 그래서 `CUDA`를 다시 설치하고 아래 코드처럼 환경을 설정 해 주었으나...<br>\n",
    "         `os.environ['TF_FORCE_GPU_ALLOW_GROWTH'] = 'true'`<br>\n",
    "  * 초반 코랩에서의 라이브러리 오류 때문에 적잖게 스트레스를 받은 상황이었는데 이제 좀 제대로 해 볼까 싶은 타이밍에 생각지도 못한 오류가 해결이 안 되는 상황 자체가 상당한 스트레스로 다가왔다. 결국 이러다 죽을 것 같아 정신건강을 위해 로컬의 `GPU` 환경을 이용해야겠다!고 생각하게 되는데...(클라우드로도 시도를 해 봤으나, 학습이 너무 느렸다)<br>\n",
    "* 로컬에서 `GPU` 환경 세팅하기<br>\n",
    "  * 현재 사용하고 있는 로컬 환경은 아래와 같다.<br>\n",
    "    * Macbook Pro 16-inch 2019 ver.<br>\n",
    "    * 2.4Ghz 8Core Intel Core i9<br>\n",
    "    * 64GB DDR4 RAM<br>\n",
    "    * AMD Radeon Pro 5500M 8GB<br>\n",
    "  * 로컬에서 `GPU` 환경으로 작업하기 전에 `terminal`을 이용한 약간의 환경 설정이 필요하다.<br>\n",
    "    1. `terminal`을 실행 후, `keras` 사용 환경에 `plaidml`을 설치<br>\n",
    "       `pip install -U plaidml-keras`<br>\n",
    "    2. 설치가 끝나면, `plaidml` 관련 설정을 위한 명령어를 입력<br>\n",
    "       `plaidml-setup`<br>\n",
    "    3. `plaidml` 환경 설정 화면이 표시되면 우리가 사용할 그래픽 카드를 선택 해 주자.<br>\n",
    "       <img src=\"https://i.ibb.co/6FmJGzF/2022-03-22-18-50-06.png\"><br>\n",
    "    4. `plaidml` 환경 설정이 끝났으면 잘 돌아가는지 벤치마킹도 해 본다.<br>\n",
    "       ```\n",
    "       pip install plaidbench\n",
    "       plaidbench keras mobilenet\n",
    "       ```\n",
    "    5. 필자는 `Mac`을 사용하고 있으므로, `활성 상태 보기`를 실행 후 `cmd+4` 키를 눌러 `GPU`가 잘 돌아가고 있는지 확인한다.<br>\n",
    "       <img src=\"https://i.ibb.co/G94rkBP/2022-03-22-18-18-30.png\"><br>\n",
    "  * 그래서 이젠 좀 순조롭게 과제를 할 수 있을까 싶었는데....?<br>\n",
    "* 로컬 환경에서 `Sentencepiece` 단어 사전 생성 시 속도 저하<br>\n",
    "  * `BPE` 타입으로 서브워드의 갯수를 8,000개와 16,000개로 지정한 `Sentencepiece` 단어 사전이 1시간이 지나도 생성이 되지 않는 문제가 발생했다. 이 문제에 대한 원인을 구글링을 통해 찾아 보았으나 크게 도움이 되는 내용은 찾지 못하였기 때문에 해당 단어사전은 생성하지 않고 실습을 진행하게 되었다. <br>\n",
    "  * 과제를 마무리하고 이론적인 내용을 보충하면서 내 스스로 생각하게 된 문제의 원인은, `BPE` 모델이 우선적으로 단어를 글자 단위로 분할한 다음 단어의 집합을 찾아내 사전을 만드는 것 자체가 긴 수행 시간을 필요로 하기 떄문이 아닐까 싶다.<br>\n",
    "* 69번째 블록의 `indices[0,86] = 15917 is not in [0, 8000)` 오류<br>\n",
    "  * 모델 학습 및 테스트 중에 발생한 오류인데, 처음에 `Sentencepiece` 단어 사전에서 설정한 단어의 수가 부족해 발생하는 오류라고 한다. 단어의 수를 늘려서 다시 수행하기에는 시간적 한계(`GPU` 환경임에도 모델의 학습과 평가가 드럽게 오래 걸렸다)가 있어 시도하지 못한 부분이 아쉽다.<br>\n",
    "* 아이펠에서 프로젝트 과제 하면서 회고를 이렇게 길게 써 본 건 처음인 것 같은데... 처음엔 여러 오류 때문에 스트레스를 많이 받았고 Exploration 과제와 달리 자발적으로 수행해야 하는 부분들이 생기면서 과제 수행이 더 어렵게 느껴졌던 것 같다. 비록 오류로 많은 고생을 했지만 LMS에서 주어진 코드대로만 실습하다가 다른 환경에서 라이브러리의 버전 관리나 작업 환경 구축을 처음으로 시도하게 되면서 내가 가지고 있는 컴퓨팅 환경을 제대로 활용할 수 있는 계기가 되었다고 본다. <br>\n",
    "-----\n",
    "\n",
    "## 7. References\n",
    "* [[Keras] KoNLPy를 이용한 한국어 영화 리뷰 감정 분석](https://cyc1am3n.github.io/2018/11/10/classifying_korean_movie_review.html)\n",
    "* [tensorflow GPU 지원](https://www.tensorflow.org/install/gpu)\n",
    "* [맥북(AMD 560x)에서 딥러닝훈련 방법](http://machinelearningkorea.com/2019/09/15/%EB%A7%A5%EB%B6%81amd-560x%EC%97%90%EC%84%9C-%EB%94%A5%EB%9F%AC%EB%8B%9D%ED%9B%88%EB%A0%A8-%EB%B0%A9%EB%B2%95/)\n",
    "* [Keras에서 GPU 사용하기 - MacBook 18' pro, Radeon pro 560X 4G](https://kloong.tistory.com/entry/Keras%EC%97%90%EC%84%9C-GPU-%EC%82%AC%EC%9A%A9%ED%95%98%EA%B8%B0-MacBook-18-pro-Radeon-pro-560X-4G?category=1183257)\n",
    "* [언어모델(Language Model)](https://ratsgo.github.io/from%20frequency%20to%20semantics/2017/09/16/LM/)\n",
    "* [InvalidArgumentError: indices[26,0]](https://github.com/tensorflow/tensorflow/issues/23698)\n",
    "* [장단기 메모리(Long Short-Term Memory, LSTM)](https://wikidocs.net/22888)\n",
    "* 밑바닥부터 시작하는 딥러닝 2\n",
    "* 혼자 공부하는 머신러닝 + 딥러닝"
   ]
  }
 ],
 "metadata": {
  "kernelspec": {
   "display_name": "Python 3 (ipykernel)",
   "language": "python",
   "name": "python3"
  },
  "language_info": {
   "codemirror_mode": {
    "name": "ipython",
    "version": 3
   },
   "file_extension": ".py",
   "mimetype": "text/x-python",
   "name": "python",
   "nbconvert_exporter": "python",
   "pygments_lexer": "ipython3",
   "version": "3.8.12"
  }
 },
 "nbformat": 4,
 "nbformat_minor": 5
}
