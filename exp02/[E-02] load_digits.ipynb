{
 "cells": [
  {
   "cell_type": "markdown",
   "id": "3ac33382",
   "metadata": {},
   "source": [
    "# Exploration 과제 2-1. load_digits 데이터셋을 이용한 손글씨 분류 모델\n",
    "본 과제는 MNIST 손글씨 이미지 데이터셋을 0에서 9까지 열 가지 카테고리로 분류하는 모델로써, 다섯 가지 모델 중에서 어느 모델을 사용하는 것이 가장 좋은지를 확인하는 작업이다."
   ]
  },
  {
   "cell_type": "code",
   "execution_count": 2,
   "id": "797635f6",
   "metadata": {},
   "outputs": [],
   "source": [
    "# 모듈 import\n",
    "from sklearn.datasets import load_digits\n",
    "from sklearn.model_selection import train_test_split\n",
    "from sklearn.metrics import classification_report"
   ]
  },
  {
   "cell_type": "markdown",
   "id": "2b67bf86",
   "metadata": {},
   "source": [
    "## 데이터 준비\n",
    "load_digits 메서드를 import하여 손글씨 데이터를 준비한다."
   ]
  },
  {
   "cell_type": "code",
   "execution_count": 3,
   "id": "a6d9eb8f",
   "metadata": {},
   "outputs": [
    {
     "data": {
      "text/plain": [
       "dict_keys(['data', 'target', 'frame', 'feature_names', 'target_names', 'images', 'DESCR'])"
      ]
     },
     "execution_count": 3,
     "metadata": {},
     "output_type": "execute_result"
    }
   ],
   "source": [
    "digits = load_digits() # digits 변수에 손글씨 데이터 저장\n",
    "digits.keys() # 손글씨 데이터의 컬럼 정보 확인"
   ]
  },
  {
   "cell_type": "code",
   "execution_count": 3,
   "id": "13ddc8c1",
   "metadata": {},
   "outputs": [
    {
     "data": {
      "text/plain": [
       "(1797, 64)"
      ]
     },
     "execution_count": 3,
     "metadata": {},
     "output_type": "execute_result"
    }
   ],
   "source": [
    "# 데이터의 구성 확인\n",
    "digits_data = digits.data\n",
    "digits_data.shape"
   ]
  },
  {
   "cell_type": "markdown",
   "id": "4a01eeb1",
   "metadata": {},
   "source": [
    "총 1,797개의 데이터가 존재하며, 각 데이터는 64개의 숫자로 구성되었음을 알 수 있다."
   ]
  },
  {
   "cell_type": "code",
   "execution_count": 4,
   "id": "89f94657",
   "metadata": {},
   "outputs": [
    {
     "data": {
      "text/plain": [
       "array([ 0.,  0.,  5., 13.,  9.,  1.,  0.,  0.,  0.,  0., 13., 15., 10.,\n",
       "       15.,  5.,  0.,  0.,  3., 15.,  2.,  0., 11.,  8.,  0.,  0.,  4.,\n",
       "       12.,  0.,  0.,  8.,  8.,  0.,  0.,  5.,  8.,  0.,  0.,  9.,  8.,\n",
       "        0.,  0.,  4., 11.,  0.,  1., 12.,  7.,  0.,  0.,  2., 14.,  5.,\n",
       "       10., 12.,  0.,  0.,  0.,  0.,  6., 13., 10.,  0.,  0.,  0.])"
      ]
     },
     "execution_count": 4,
     "metadata": {},
     "output_type": "execute_result"
    }
   ],
   "source": [
    "# 첫 번째 데이터의 샘플 확인\n",
    "digits_data[0]"
   ]
  },
  {
   "cell_type": "markdown",
   "id": "180ff211",
   "metadata": {},
   "source": [
    "64개의 숫자 형태로 이루어진 배열(array)이 출력되었으며, 이 숫자 배열은 8x8 크기의 이미지가 가지는 픽셀의 값을 일렬로 펴 놓은 것이다."
   ]
  },
  {
   "cell_type": "code",
   "execution_count": 5,
   "id": "e4995306",
   "metadata": {},
   "outputs": [
    {
     "data": {
      "image/png": "[encoded data removed]",
      "text/plain": [
       "<Figure size 432x288 with 1 Axes>"
      ]
     },
     "metadata": {
      "needs_background": "light"
     },
     "output_type": "display_data"
    }
   ],
   "source": [
    "# 해당 데이터셋의 손글씨 이미지 확인\n",
    "import matplotlib.pyplot as plt\n",
    "%matplotlib inline # 이미지를 현재 화면에 표시\n",
    "\n",
    "plt.imshow(digits.data[0].reshape(8, 8), cmap='gray')\n",
    "# 64개의 데이터를 8*8 크기로 reshape 필요\n",
    "plt.axis('off')\n",
    "plt.show()"
   ]
  },
  {
   "cell_type": "code",
   "execution_count": 6,
   "id": "95afba87",
   "metadata": {},
   "outputs": [
    {
     "data": {
      "image/png": "[encoded data removed]",
      "text/plain": [
       "<Figure size 432x288 with 10 Axes>"
      ]
     },
     "metadata": {
      "needs_background": "light"
     },
     "output_type": "display_data"
    }
   ],
   "source": [
    "# 여러 개의 이미지를 한 번에 확인하기\n",
    "for i in range(10):\n",
    "    plt.subplot(2, 5, i+1)\n",
    "    plt.imshow(digits.data[i].reshape(8, 8), cmap='gray')\n",
    "    plt.axis('off')\n",
    "plt.show()"
   ]
  },
  {
   "cell_type": "code",
   "execution_count": 7,
   "id": "20151612",
   "metadata": {},
   "outputs": [
    {
     "name": "stdout",
     "output_type": "stream",
     "text": [
      "(1797,)\n"
     ]
    },
    {
     "data": {
      "text/plain": [
       "array([0, 1, 2, 3, 4, 5, 6, 7, 8, 9, 0, 1, 2, 3, 4, 5, 6, 7, 8, 9])"
      ]
     },
     "execution_count": 7,
     "metadata": {},
     "output_type": "execute_result"
    }
   ],
   "source": [
    "# 데이터셋의 target 데이터 구하기\n",
    "digits_label = digits.target\n",
    "print(digits_label.shape)\n",
    "digits_label[:20]"
   ]
  },
  {
   "cell_type": "markdown",
   "id": "808d6715",
   "metadata": {},
   "source": [
    "각 이미지 데이터가 어떤 숫자를 나타내는지를 담고 있는지 확인할 수 있다."
   ]
  },
  {
   "cell_type": "markdown",
   "id": "5dde5117",
   "metadata": {},
   "source": [
    "## 학습 데이터와 테스트 데이터 세팅"
   ]
  },
  {
   "cell_type": "code",
   "execution_count": 9,
   "id": "760ba142",
   "metadata": {},
   "outputs": [
    {
     "name": "stdout",
     "output_type": "stream",
     "text": [
      "X_train 개수:  1437 , X_test 개수:  360\n"
     ]
    }
   ],
   "source": [
    "from sklearn.model_selection import train_test_split\n",
    "\n",
    "X_train, X_test, y_train, y_test = train_test_split(digits_data, # 모델이 글씨를 맞추기 위해 입력받는 특징\n",
    "                                                    digits_label, # 모델이 맞추어야 하는 정답값\n",
    "                                                    test_size=0.2, # 테스트 데이터셋의 크기 조절, 여기서는 전체의 20%를 테스트 데이터로 사용\n",
    "                                                    random_state=7) # 학습 데이터와 테스트 데이터를 분리하는 데 적용되는 무작위성을 결정\n",
    "\n",
    "print('X_train 개수: ', len(X_train),', X_test 개수: ', len(X_test))"
   ]
  },
  {
   "cell_type": "code",
   "execution_count": 11,
   "id": "bf7e926d",
   "metadata": {},
   "outputs": [
    {
     "data": {
      "text/plain": [
       "((1437, 64), (1437,))"
      ]
     },
     "execution_count": 11,
     "metadata": {},
     "output_type": "execute_result"
    }
   ],
   "source": [
    "X_train.shape, y_train.shape"
   ]
  },
  {
   "cell_type": "code",
   "execution_count": 12,
   "id": "9aeef5c0",
   "metadata": {},
   "outputs": [
    {
     "data": {
      "text/plain": [
       "((360, 64), (360,))"
      ]
     },
     "execution_count": 12,
     "metadata": {},
     "output_type": "execute_result"
    }
   ],
   "source": [
    "X_test.shape, y_test.shape"
   ]
  },
  {
   "cell_type": "markdown",
   "id": "76e9fb7b",
   "metadata": {},
   "source": [
    "## Decision Tree를 통한 학습 및 예측"
   ]
  },
  {
   "cell_type": "code",
   "execution_count": 18,
   "id": "238add8a",
   "metadata": {},
   "outputs": [
    {
     "name": "stdout",
     "output_type": "stream",
     "text": [
      "              precision    recall  f1-score   support\n",
      "\n",
      "           0       1.00      0.98      0.99        43\n",
      "           1       0.81      0.81      0.81        42\n",
      "           2       0.79      0.82      0.80        40\n",
      "           3       0.79      0.91      0.85        34\n",
      "           4       0.83      0.95      0.89        37\n",
      "           5       0.90      0.96      0.93        28\n",
      "           6       0.84      0.93      0.88        28\n",
      "           7       0.96      0.82      0.89        33\n",
      "           8       0.88      0.65      0.75        43\n",
      "           9       0.78      0.78      0.78        32\n",
      "\n",
      "    accuracy                           0.86       360\n",
      "   macro avg       0.86      0.86      0.86       360\n",
      "weighted avg       0.86      0.86      0.85       360\n",
      "\n"
     ]
    }
   ],
   "source": [
    "from sklearn.tree import DecisionTreeClassifier\n",
    "\n",
    "decision_tree = DecisionTreeClassifier(random_state=32)\n",
    "decision_tree.fit(X_train, y_train)\n",
    "y_pred = decision_tree.predict(X_test)\n",
    "\n",
    "print(classification_report(y_test, y_pred))"
   ]
  },
  {
   "cell_type": "code",
   "execution_count": 19,
   "id": "0217aae4",
   "metadata": {},
   "outputs": [
    {
     "data": {
      "text/plain": [
       "0.8555555555555555"
      ]
     },
     "execution_count": 19,
     "metadata": {},
     "output_type": "execute_result"
    }
   ],
   "source": [
    "# 모델의 정확도 평가\n",
    "\n",
    "from sklearn.metrics import accuracy_score\n",
    "\n",
    "accuracy = accuracy_score(y_test, y_pred)\n",
    "accuracy"
   ]
  },
  {
   "cell_type": "markdown",
   "id": "ccb3b53a",
   "metadata": {},
   "source": [
    "360개의 데이터에 대한 예측 결과, 85%의 정확도를 보여주고 있다. 맞은 데이터의 개수는 360x0.85=306개이며, 틀린 데이터의 개수는 54개로 분류되었다."
   ]
  },
  {
   "cell_type": "markdown",
   "id": "8b64d1e4",
   "metadata": {},
   "source": [
    "## Random Forest를 통한 학습"
   ]
  },
  {
   "cell_type": "code",
   "execution_count": 21,
   "id": "9e54b384",
   "metadata": {},
   "outputs": [
    {
     "name": "stdout",
     "output_type": "stream",
     "text": [
      "              precision    recall  f1-score   support\n",
      "\n",
      "           0       1.00      0.98      0.99        43\n",
      "           1       0.93      1.00      0.97        42\n",
      "           2       1.00      1.00      1.00        40\n",
      "           3       1.00      1.00      1.00        34\n",
      "           4       0.93      1.00      0.96        37\n",
      "           5       0.90      0.96      0.93        28\n",
      "           6       1.00      0.96      0.98        28\n",
      "           7       0.94      0.97      0.96        33\n",
      "           8       1.00      0.84      0.91        43\n",
      "           9       0.94      0.94      0.94        32\n",
      "\n",
      "    accuracy                           0.96       360\n",
      "   macro avg       0.96      0.96      0.96       360\n",
      "weighted avg       0.97      0.96      0.96       360\n",
      "\n"
     ]
    }
   ],
   "source": [
    "from sklearn.ensemble import RandomForestClassifier\n",
    "\n",
    "random_forest = RandomForestClassifier(random_state=32)\n",
    "random_forest.fit(X_train, y_train)\n",
    "y_pred = random_forest.predict(X_test)\n",
    "\n",
    "print(classification_report(y_test, y_pred))"
   ]
  },
  {
   "cell_type": "code",
   "execution_count": 22,
   "id": "f9af1c67",
   "metadata": {},
   "outputs": [
    {
     "data": {
      "text/plain": [
       "0.9638888888888889"
      ]
     },
     "execution_count": 22,
     "metadata": {},
     "output_type": "execute_result"
    }
   ],
   "source": [
    "from sklearn.metrics import accuracy_score\n",
    "\n",
    "accuracy = accuracy_score(y_test, y_pred)\n",
    "accuracy"
   ]
  },
  {
   "cell_type": "markdown",
   "id": "177fb7bb",
   "metadata": {},
   "source": [
    "360개의 데이터에 대한 예측 결과, 97%의 정확도를 보여주고 있다. 맞은 데이터의 개수는 360x0.97=350개이며, 틀린 데이터의 개수는 10개로 분류되었다."
   ]
  },
  {
   "cell_type": "markdown",
   "id": "a9a28be9",
   "metadata": {},
   "source": [
    "## SVM을 통한 학습"
   ]
  },
  {
   "cell_type": "code",
   "execution_count": 23,
   "id": "b7643548",
   "metadata": {},
   "outputs": [
    {
     "name": "stdout",
     "output_type": "stream",
     "text": [
      "              precision    recall  f1-score   support\n",
      "\n",
      "           0       1.00      1.00      1.00        43\n",
      "           1       0.95      1.00      0.98        42\n",
      "           2       1.00      1.00      1.00        40\n",
      "           3       1.00      1.00      1.00        34\n",
      "           4       1.00      1.00      1.00        37\n",
      "           5       0.93      1.00      0.97        28\n",
      "           6       1.00      1.00      1.00        28\n",
      "           7       1.00      1.00      1.00        33\n",
      "           8       1.00      0.93      0.96        43\n",
      "           9       1.00      0.97      0.98        32\n",
      "\n",
      "    accuracy                           0.99       360\n",
      "   macro avg       0.99      0.99      0.99       360\n",
      "weighted avg       0.99      0.99      0.99       360\n",
      "\n"
     ]
    }
   ],
   "source": [
    "from sklearn import svm\n",
    "svm_model = svm.SVC()\n",
    "\n",
    "svm_model.fit(X_train, y_train)\n",
    "y_pred = svm_model.predict(X_test)\n",
    "\n",
    "print(classification_report(y_test, y_pred))"
   ]
  },
  {
   "cell_type": "code",
   "execution_count": 24,
   "id": "aa7cae5d",
   "metadata": {},
   "outputs": [
    {
     "data": {
      "text/plain": [
       "0.9888888888888889"
      ]
     },
     "execution_count": 24,
     "metadata": {},
     "output_type": "execute_result"
    }
   ],
   "source": [
    "from sklearn.metrics import accuracy_score\n",
    "\n",
    "accuracy = accuracy_score(y_test, y_pred)\n",
    "accuracy"
   ]
  },
  {
   "cell_type": "markdown",
   "id": "3df0cdbf",
   "metadata": {},
   "source": [
    "360개의 데이터에 대한 예측 결과, 99%의 정확도를 보여주고 있다. 맞은 데이터의 개수는 360x0.99=357개이며, 틀린 데이터의 개수는 3개로 분류되었다."
   ]
  },
  {
   "cell_type": "markdown",
   "id": "0defa18b",
   "metadata": {},
   "source": [
    "## SGD Classifier를 통한 학습"
   ]
  },
  {
   "cell_type": "code",
   "execution_count": 25,
   "id": "6ae77d30",
   "metadata": {},
   "outputs": [
    {
     "name": "stdout",
     "output_type": "stream",
     "text": [
      "              precision    recall  f1-score   support\n",
      "\n",
      "           0       1.00      0.95      0.98        43\n",
      "           1       0.90      0.86      0.88        42\n",
      "           2       0.97      0.97      0.97        40\n",
      "           3       0.87      0.97      0.92        34\n",
      "           4       0.95      1.00      0.97        37\n",
      "           5       0.87      0.96      0.92        28\n",
      "           6       1.00      0.93      0.96        28\n",
      "           7       0.94      0.97      0.96        33\n",
      "           8       0.97      0.81      0.89        43\n",
      "           9       0.86      0.94      0.90        32\n",
      "\n",
      "    accuracy                           0.93       360\n",
      "   macro avg       0.93      0.94      0.93       360\n",
      "weighted avg       0.94      0.93      0.93       360\n",
      "\n"
     ]
    }
   ],
   "source": [
    "from sklearn.linear_model import SGDClassifier\n",
    "sgd_model = SGDClassifier()\n",
    "\n",
    "sgd_model.fit(X_train, y_train)\n",
    "y_pred = sgd_model.predict(X_test)\n",
    "\n",
    "print(classification_report(y_test, y_pred))"
   ]
  },
  {
   "cell_type": "code",
   "execution_count": 26,
   "id": "498268d1",
   "metadata": {},
   "outputs": [
    {
     "data": {
      "text/plain": [
       "0.9333333333333333"
      ]
     },
     "execution_count": 26,
     "metadata": {},
     "output_type": "execute_result"
    }
   ],
   "source": [
    "from sklearn.metrics import accuracy_score\n",
    "\n",
    "accuracy = accuracy_score(y_test, y_pred)\n",
    "accuracy"
   ]
  },
  {
   "cell_type": "markdown",
   "id": "34b9d88d",
   "metadata": {},
   "source": [
    "360개의 데이터에 대한 예측 결과, 94%의 정확도를 보여주고 있다. 맞은 데이터의 개수는 360x0.94=339개이며, 틀린 데이터의 개수는 21개로 분류되었다."
   ]
  },
  {
   "cell_type": "markdown",
   "id": "3769ed9b",
   "metadata": {},
   "source": [
    "## Logistic Regression를 통한 학습"
   ]
  },
  {
   "cell_type": "code",
   "execution_count": 28,
   "id": "87a756aa",
   "metadata": {},
   "outputs": [
    {
     "name": "stdout",
     "output_type": "stream",
     "text": [
      "              precision    recall  f1-score   support\n",
      "\n",
      "           0       1.00      1.00      1.00        43\n",
      "           1       0.95      0.95      0.95        42\n",
      "           2       0.98      1.00      0.99        40\n",
      "           3       0.94      0.97      0.96        34\n",
      "           4       0.97      1.00      0.99        37\n",
      "           5       0.82      0.96      0.89        28\n",
      "           6       1.00      0.96      0.98        28\n",
      "           7       0.97      0.97      0.97        33\n",
      "           8       0.92      0.81      0.86        43\n",
      "           9       0.97      0.91      0.94        32\n",
      "\n",
      "    accuracy                           0.95       360\n",
      "   macro avg       0.95      0.95      0.95       360\n",
      "weighted avg       0.95      0.95      0.95       360\n",
      "\n"
     ]
    },
    {
     "name": "stderr",
     "output_type": "stream",
     "text": [
      "/opt/conda/lib/python3.9/site-packages/sklearn/linear_model/_logistic.py:814: ConvergenceWarning: lbfgs failed to converge (status=1):\n",
      "STOP: TOTAL NO. of ITERATIONS REACHED LIMIT.\n",
      "\n",
      "Increase the number of iterations (max_iter) or scale the data as shown in:\n",
      "    https://scikit-learn.org/stable/modules/preprocessing.html\n",
      "Please also refer to the documentation for alternative solver options:\n",
      "    https://scikit-learn.org/stable/modules/linear_model.html#logistic-regression\n",
      "  n_iter_i = _check_optimize_result(\n"
     ]
    }
   ],
   "source": [
    "from sklearn.linear_model import LogisticRegression\n",
    "logistic_model = LogisticRegression()\n",
    "\n",
    "logistic_model.fit(X_train, y_train)\n",
    "y_pred = logistic_model.predict(X_test)\n",
    "\n",
    "print(classification_report(y_test, y_pred))"
   ]
  },
  {
   "cell_type": "markdown",
   "id": "4409e9d0",
   "metadata": {},
   "source": [
    "숫자의 폭이 부족"
   ]
  },
  {
   "cell_type": "code",
   "execution_count": 29,
   "id": "4f1aaef9",
   "metadata": {},
   "outputs": [
    {
     "data": {
      "text/plain": [
       "0.9527777777777777"
      ]
     },
     "execution_count": 29,
     "metadata": {},
     "output_type": "execute_result"
    }
   ],
   "source": [
    "from sklearn.metrics import accuracy_score\n",
    "\n",
    "accuracy = accuracy_score(y_test, y_pred)\n",
    "accuracy"
   ]
  },
  {
   "cell_type": "markdown",
   "id": "ba7edc8d",
   "metadata": {},
   "source": [
    "360개의 데이터에 대한 예측 결과, 96%의 정확도를 보여주고 있다. 맞은 데이터의 개수는 360x0.96=346개이며, 틀린 데이터의 개수는 14개로 분류되었다."
   ]
  }
 ],
 "metadata": {
  "kernelspec": {
   "display_name": "Python 3 (ipykernel)",
   "language": "python",
   "name": "python3"
  },
  "language_info": {
   "codemirror_mode": {
    "name": "ipython",
    "version": 3
   },
   "file_extension": ".py",
   "mimetype": "text/x-python",
   "name": "python",
   "nbconvert_exporter": "python",
   "pygments_lexer": "ipython3",
   "version": "3.9.7"
  }
 },
 "nbformat": 4,
 "nbformat_minor": 5
}
